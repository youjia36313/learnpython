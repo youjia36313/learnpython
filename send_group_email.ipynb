{
 "cells": [
  {
   "cell_type": "code",
   "execution_count": null,
   "metadata": {},
   "outputs": [],
   "source": [
    "#send group email using smtplib,email module\n",
    "#群发邮件\n",
    "#方法是smtplib，email这两个模块。\n",
    "#smtplib是用来发送邮件用的，email是用来构建邮件内容的。这两个都是Python内置模块。"
   ]
  },
  {
   "cell_type": "code",
   "execution_count": null,
   "metadata": {},
   "outputs": [],
   "source": [
    "#smtplib\n",
    "#import smtplib\n",
    "\n",
    "#server = smtplib.SMTP()#建立SMTP的实例\n",
    "#server.connect(host, port)#连接（connect）指定的服务器。调用类方法\n",
    "                           #host是指定连接的邮箱服务器，你可以指定服务器的域名。port 是“端口”的意思，整数\n",
    "                           #需要指定SMTP服务使用的端口号，一般情况下SMTP默认端口号为25。\n",
    "如果25行不通，你可以通过搜索或者去邮箱设置里面查看端口。\n",
    "#server.login(username, password) \n",
    "#server.sendmail(sender, to_addr, msg.as_string()) \n",
    "#server.quit()"
   ]
  },
  {
   "cell_type": "code",
   "execution_count": null,
   "metadata": {},
   "outputs": [],
   "source": [
    "#SMTP (Simple Mail Transfer Protocol)\n",
    "#“简单邮件传输协议”的意思，SMTP 协议是由源服务器到目的地服务器传送邮件的一组规则。\n",
    "#要通过SMTP指定一个服务器，这样才能把邮件送到另一个服务器"
   ]
  },
  {
   "cell_type": "code",
   "execution_count": 8,
   "metadata": {},
   "outputs": [
    {
     "data": {
      "text/plain": [
       "(221, b'2.0.0 closing connection t7sm11032880pgp.68 - gsmtp')"
      ]
     },
     "execution_count": 8,
     "metadata": {},
     "output_type": "execute_result"
    }
   ],
   "source": [
    "import smtplib\n",
    "from email.mime.text import MIMEText # 引入email包中构建文本内容的方法\n",
    "from email.header import Header # 用于构建邮件头\n",
    "\n",
    "username='youjiajia2011@gmail.com'\n",
    "password='hjlsfrjcdupbbxnh'\n",
    "from_addr='youjiajia2011@gmail.com'\n",
    "to_addr=['youjia.36313@163.com','871552857@qq.com']\n",
    "smtp_server='smtp.gmail.com'\n",
    "\n",
    "text='''亲爱的学员，你好！\n",
    "我是吴枫老师，能遇见你很开心。\n",
    "希望学习Python对你不是一件困难的事情！\n",
    "人生苦短，我用Python'''\n",
    "\n",
    "msg = MIMEText(text,'plain','utf-8')\n",
    "#Header接受的第一个参数的数据类型必须要是字符串或者字节，列表不能解码。\n",
    "#所以不能把to_addr作为header的参数\n",
    "msg['From'] = Header(from_addr)\n",
    "msg['To'] = Header(','.join(to_addr))\n",
    "msg['Subject'] = Header('python-test')\n",
    "\n",
    "server = smtplib.SMTP_SSL(smtp_server)\n",
    "server.connect(smtp_server,465)\n",
    "server.login(username, password)\n",
    "server.sendmail(from_addr,to_addr, msg.as_string())\n",
    "server.quit()\n",
    "\n"
   ]
  },
  {
   "cell_type": "code",
   "execution_count": 10,
   "metadata": {},
   "outputs": [
    {
     "name": "stdout",
     "output_type": "stream",
     "text": [
      "youjia.36313@163.com,871552857@qq.com\n",
      "<class 'str'>\n"
     ]
    }
   ],
   "source": [
    "to_addr=['youjia.36313@163.com','871552857@qq.com']\n",
    "b=','.join(to_addr)\n",
    "print(b)\n",
    "print(type(b))"
   ]
  },
  {
   "cell_type": "code",
   "execution_count": 1,
   "metadata": {},
   "outputs": [
    {
     "name": "stdin",
     "output_type": "stream",
     "text": [
      "请输入登录邮箱： youjiajia2011@gmail.com\n",
      "请输入邮箱授权码： hjlsfrjcdupbbxnh\n"
     ]
    },
    {
     "name": "stdout",
     "output_type": "stream",
     "text": [
      "恭喜，发送成功\n",
      "恭喜，发送成功\n"
     ]
    }
   ],
   "source": [
    "import smtplib\n",
    "# smtplib 用于邮件的发信动作\n",
    "from email.mime.text import MIMEText\n",
    "# email 用于构建邮件内容\n",
    "from email.header import Header\n",
    "# 用于构建邮件头\n",
    "import csv\n",
    "# 引用csv模块，用于读取邮箱信息\n",
    "\n",
    "from_addr = input('请输入登录邮箱：')\n",
    "password = input('请输入邮箱授权码：')\n",
    "# 发信服务器\n",
    "smtp_server='smtp.gmail.com'\n",
    "# username='youjiajia2011@gmail.com'\n",
    "# password='hjlsfrjcdupbbxnh'\n",
    "# from_addr='youjiajia2011@gmail.com'\n",
    "\n",
    "# 邮件内容\n",
    "text='''亲爱的学员，你好！\n",
    "我是吴枫老师，能遇见你很开心。\n",
    "希望学习python对你不是一件困难的事情！\n",
    "\n",
    "人生苦短，我用Python\n",
    "'''\n",
    "\n",
    "# 待写入csv文件的收件人数据：人名+邮箱\n",
    "# 记得替换成你要发送的名字和邮箱\n",
    "data = [['youyou', '871552857@qq.com'],['kaka', 'youjia.36313@163.com']]\n",
    "with open('mailcsv.csv','w',newline='') as f:\n",
    "    writer=csv.writer(f)\n",
    "    for row in data:\n",
    "        writer.writerow(row)\n",
    "with open('mailcsv.csv','r',newline='') as f1:\n",
    "    reader=csv.reader(f1)\n",
    "    for line in reader:\n",
    "        to_addrs=row[1]\n",
    "        msg = MIMEText(text,'plain','utf-8')\n",
    "        msg['From'] = Header(from_addr)\n",
    "        msg['To'] = Header(to_addrs)\n",
    "        msg['Subject'] = Header('python-test')\n",
    "        server = smtplib.SMTP_SSL(smtp_server)\n",
    "        server.connect(smtp_server,465)\n",
    "        server.login(from_addr, password)   \n",
    "\n",
    "        try:\n",
    "            server.sendmail(from_addr, to_addrs, msg.as_string())\n",
    "            print('恭喜，发送成功')\n",
    "        except:\n",
    "            print('发送失败，请重试')"
   ]
  },
  {
   "cell_type": "code",
   "execution_count": 3,
   "metadata": {},
   "outputs": [
    {
     "name": "stdout",
     "output_type": "stream",
     "text": [
      "['youyou', '871552857@qq.com']\n",
      "['kaka', 'youjia.36313@163.com']\n"
     ]
    }
   ],
   "source": [
    "with open('mailcsv.csv','r',newline='') as f1:\n",
    "    reader=csv.reader(f1)\n",
    "    for line in reader:\n",
    "        print(line)"
   ]
  },
  {
   "cell_type": "code",
   "execution_count": null,
   "metadata": {},
   "outputs": [],
   "source": []
  }
 ],
 "metadata": {
  "kernelspec": {
   "display_name": "Python 3",
   "language": "python",
   "name": "python3"
  },
  "language_info": {
   "codemirror_mode": {
    "name": "ipython",
    "version": 3
   },
   "file_extension": ".py",
   "mimetype": "text/x-python",
   "name": "python",
   "nbconvert_exporter": "python",
   "pygments_lexer": "ipython3",
   "version": "3.7.3"
  }
 },
 "nbformat": 4,
 "nbformat_minor": 2
}
