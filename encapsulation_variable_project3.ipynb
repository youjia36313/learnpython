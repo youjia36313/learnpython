{
 "cells": [
  {
   "cell_type": "code",
   "execution_count": null,
   "metadata": {},
   "outputs": [],
   "source": [
    "#make a programme to calculate the estimated work time and labor of each project"
   ]
  },
  {
   "cell_type": "code",
   "execution_count": null,
   "metadata": {},
   "outputs": [],
   "source": [
    "#project2（def）\n",
    "#产品工作量计算器\n",
    "#功能简介:\n",
    "#1.已知项目大小、工作人数，计算需要多少工时才能完成\n",
    "#2.或者已知项目大小、总工时，计算要在这样的工时内完成工作，至少需要的工作人数已知信息:\n",
    "#标准大小的项目，需要1个人用80个工时完成(也就是1个人做10天)\n",
    "#功能演示:\n",
    "#1.5倍标准大小的项目，一共有2个人》》》程序》》》需要60.0个工时\n",
    "#0.8倍标准大小的项目，需要在25个工时内完成》》》程序》》》需要2.0个人力"
   ]
  },
  {
   "cell_type": "code",
   "execution_count": null,
   "metadata": {},
   "outputs": [],
   "source": [
    "#产品工作量计算器\n",
    "#已知信息:标准大小的项目，需要1个人用80个工时完成(也就是1个人做10天)\n",
    "#计算方式1:工时计算\n",
    "#输入:项目大小(浮点型，代表标准大小的倍数)、人数(整数)\n",
    "#输出:工时数量(浮点型)\n",
    "#案例: 1.5倍标准大小的项目，-共有2个人》》》程序》》》需要60.0个工时\n",
    "#计算方式2:人力计算\n",
    "#输入:项目大小(浮点型，代表标准大小的倍数)、工时数量(浮 点型) \n",
    "#输出:人数(整数)\n",
    "#案例: 0.5倍标准大小的项目，需要在20.0个工时内完成》》》程序》》》需要2个人力"
   ]
  },
  {
   "cell_type": "code",
   "execution_count": null,
   "metadata": {},
   "outputs": [],
   "source": [
    "#1*1*80=80\n",
    "#1.5*1*80/2=60 TimeNum=size*80/personNum\n",
    "#0.5*1*80/2=20 personNum=size*80/timeNum\n",
    "# 工时计算公式\n",
    "size = 1.5\n",
    "number = 2\n",
    "time = size * 80 / number\n",
    "\n",
    "# 人力计算公式\n",
    "size = 0.5\n",
    "time = 20.0\n",
    "number = size * 80 / time"
   ]
  },
  {
   "cell_type": "code",
   "execution_count": 9,
   "metadata": {},
   "outputs": [
    {
     "name": "stdout",
     "output_type": "stream",
     "text": [
      "1.5倍标准项目2个人，需要60小时\n",
      "0.5倍标准项目在20个工时内完成，需要2个人\n"
     ]
    }
   ],
   "source": [
    "def estimated_time(size,number):\n",
    "    time = size *80/number\n",
    "    print('%.1f倍标准项目%d个人，需要%d小时'%(size,number,time))\n",
    "def estimated_personnum(size,time):\n",
    "    number = size*80/time\n",
    "    print('%.1f倍标准项目在%d个工时内完成，需要%d个人'%(size,time,number))\n",
    "estimated_time(1.5,2)\n",
    "estimated_personnum(0.5,20)   "
   ]
  },
  {
   "cell_type": "code",
   "execution_count": 12,
   "metadata": {},
   "outputs": [
    {
     "name": "stdout",
     "output_type": "stream",
     "text": [
      "项目大小为1.5个标准项目，使用2个人力完成，则需要工时数量为：60.0个\n",
      "项目大小为0.5个标准项目，如果需要在20.0个工时完成，则需要人力数量为：2人\n"
     ]
    }
   ],
   "source": [
    "#sample\n",
    "# 工时计算\n",
    "def estimated_time(size,number):\n",
    "    time = size * 80 / number\n",
    "    print('项目大小为%.1f个标准项目，使用%d个人力完成，则需要工时数量为：%.1f个' %(size,number,time))\n",
    "\n",
    "# 人力计算\n",
    "def estimated_numbeer(size,time):\n",
    "    number = size * 80 / time\n",
    "    print('项目大小为%.1f个标准项目，如果需要在%.1f个工时完成，则需要人力数量为：%d人' %(size,time,number))\n",
    "\n",
    "# 调用工时计算函数\n",
    "estimated_time(1.5,2)\n",
    "# 调用人力计算函数\n",
    "estimated_numbeer(0.5,20)"
   ]
  },
  {
   "cell_type": "code",
   "execution_count": 14,
   "metadata": {},
   "outputs": [
    {
     "name": "stdout",
     "output_type": "stream",
     "text": [
      "1.5倍大小的项目，需要人数2，需要工时60.0\n",
      "0.5倍大小的项目,需要在20个工时完成,需要人数2.0\n"
     ]
    }
   ],
   "source": [
    "#sample\n",
    "# 工时计算\n",
    "def estimated_time(size,number):\n",
    "    time = size * 80 / number\n",
    "    print('{}倍大小的项目，需要人数{}，需要工时{}'.format(size,number,time))\n",
    "# 人力计算\n",
    "def estimated_numbeer(size,time):\n",
    "    number = size * 80 / time\n",
    "    print('{}倍大小的项目,需要在{}个工时完成,需要人数{}'.format(size,time,number))\n",
    "# 调用工时计算函数\n",
    "estimated_time(1.5,2)\n",
    "# 调用人力计算函数\n",
    "estimated_numbeer(0.5,20)"
   ]
  },
  {
   "cell_type": "code",
   "execution_count": 16,
   "metadata": {},
   "outputs": [
    {
     "name": "stdout",
     "output_type": "stream",
     "text": [
      "项目大小为1.5个标准项目，使用2个人力完成，则需要工时数量为：60.0个\n",
      "项目大小为1.0个标准项目，如果需要在60.0个工时完成，则需要人力数量为：2人\n"
     ]
    }
   ],
   "source": [
    "#向上取整数math库\n",
    "import math\n",
    "\n",
    "# 工时计算\n",
    "def estimated_time(size,number):\n",
    "    time = size * 80 / number\n",
    "    int_num=math.ceil(number)\n",
    "    print('项目大小为%.1f个标准项目，使用%d个人力完成，则需要工时数量为：%.1f个' %(size,int_num,time))\n",
    "\n",
    "# 人力计算\n",
    "def estimated_numbeer(size,time):\n",
    "    number = size * 80 / time\n",
    "    int_num=math.ceil(number)\n",
    "    print('项目大小为%.1f个标准项目，如果需要在%.1f个工时完成，则需要人力数量为：%d人' %(size,time,int_num))\n",
    "\n",
    "# 调用工时计算函数\n",
    "estimated_time(1.5,2)\n",
    "# 调用人力计算函数\n",
    "estimated_numbeer(1,60)\n"
   ]
  },
  {
   "cell_type": "code",
   "execution_count": 17,
   "metadata": {},
   "outputs": [
    {
     "name": "stdout",
     "output_type": "stream",
     "text": [
      "项目大小为1.0个标准项目，如果需要在60.0个工时完成，则需要人力数量为：2人\n"
     ]
    }
   ],
   "source": [
    "#sample\n",
    "import math\n",
    "# 人力计算\n",
    "\n",
    "def estimated_numbeer(size,time):\n",
    "    number = size * 80 / time\n",
    "    print('项目大小为%.1f个标准项目，如果需要在%.1f个工时完成，则需要人力数量为：%d人' %(size,time,math.ceil(number)))\n",
    "\n",
    "# 调用人力计算函数\n",
    "estimated_numbeer(1,60)"
   ]
  },
  {
   "cell_type": "code",
   "execution_count": 18,
   "metadata": {},
   "outputs": [
    {
     "name": "stdout",
     "output_type": "stream",
     "text": [
      "项目大小为1.0个标准项目，如果需要在60.0个工时完成，则需要人力数量为：2人\n"
     ]
    }
   ],
   "source": [
    "#sample\n",
    "# 人力计算\n",
    "def estimated_numbeer(size,time):\n",
    "    number = math.ceil(size * 80 / time)\n",
    "    print('项目大小为%.1f个标准项目，如果需要在%.1f个工时完成，则需要人力数量为：%d人' %(size,time,number))\n",
    "\n",
    "# 调用人力计算函数\n",
    "estimated_numbeer(1,60)"
   ]
  },
  {
   "cell_type": "code",
   "execution_count": 19,
   "metadata": {},
   "outputs": [
    {
     "name": "stdout",
     "output_type": "stream",
     "text": [
      "项目大小为1.0个标准项目，如果需要在60.0个工时完成，则需要人力数量为：2人\n"
     ]
    }
   ],
   "source": [
    "#sample 取余数的方法\n",
    "import math\n",
    "\n",
    "# 人力计算\n",
    "def estimated_numbeer(size,time):\n",
    "    if (size * 80 % time) != 0:\n",
    "        number = int(size * 80 / time) + 1\n",
    "    else:\n",
    "        number = size * 80 / time\n",
    "    print('项目大小为%.1f个标准项目，如果需要在%.1f个工时完成，则需要人力数量为：%d人' %(size,time,number))\n",
    "\n",
    "# 调用人力计算函数\n",
    "estimated_numbeer(1,60)"
   ]
  },
  {
   "cell_type": "code",
   "execution_count": 20,
   "metadata": {},
   "outputs": [
    {
     "name": "stdout",
     "output_type": "stream",
     "text": [
      "项目大小为1.5个标准项目，使用2个人力完成，则需要工时数量为：60.0个\n",
      "项目大小为1.0个标准项目，如果需要在60.0个工时完成，则需要人力数量为：2人\n"
     ]
    }
   ],
   "source": [
    "import math\n",
    "\n",
    "# 工时计算\n",
    "def estimated_time(size,number):\n",
    "    time = size * 80 / number\n",
    "    print('项目大小为%.1f个标准项目，使用%d个人力完成，则需要工时数量为：%.1f个' %(size,number,time))\n",
    "\n",
    "# 人力计算\n",
    "def estimated_numbeer(size,time):\n",
    "    number = math.ceil(size * 80 / time)\n",
    "    print('项目大小为%.1f个标准项目，如果需要在%.1f个工时完成，则需要人力数量为：%d人' %(size,time,number))\n",
    "\n",
    "# 调用工时计算函数\n",
    "estimated_time(1.5,2)\n",
    "# 调用人力计算函数\n",
    "estimated_numbeer(1,60)"
   ]
  },
  {
   "cell_type": "code",
   "execution_count": 21,
   "metadata": {},
   "outputs": [
    {
     "name": "stdout",
     "output_type": "stream",
     "text": [
      "项目大小为1.5个标准项目，使用2个人力完成，则需要工时数量为：60.0个\n",
      "项目大小为0.5个标准项目，如果需要在20.0个工时完成，则需要人力数量为：2人\n"
     ]
    }
   ],
   "source": [
    "import math\n",
    "\n",
    "# 为函数设置了三个参数，并都带有默认参数）\n",
    "def estimated(size=1,number=None,time=None):\n",
    "    # 人力计算：如果参数中填了时间，没填人数，就计算人力\n",
    "    if (number == None) and (time != None):\n",
    "        number = math.ceil(size * 80 / time)\n",
    "        print('项目大小为%.1f个标准项目，如果需要在%.1f个工时完成，则需要人力数量为：%d人' %(size,time,number))  \n",
    "    # 工时计算：如果参数中填了人数，没填时间，就计算工时\n",
    "    elif (number != None) and (time == None):\n",
    "        time = size * 80 / number\n",
    "        print('项目大小为%.1f个标准项目，使用%d个人力完成，则需要工时数量为：%.1f个' %(size,number,time))  \n",
    "\n",
    "# 调用函数的时候，传递两个参数，会自动计算出第三个参数\n",
    "estimated(size=1.5,number=2)\n",
    "estimated(size=0.5,time=20.0)"
   ]
  },
  {
   "cell_type": "code",
   "execution_count": 23,
   "metadata": {},
   "outputs": [
    {
     "name": "stdout",
     "output_type": "stream",
     "text": [
      "项目大小为1.5个标准项目，使用2个人力完成，则需要工时数量为：60.0个\n",
      "项目大小为0.5个标准项目，如果需要在20.0个工时完成，则需要人力数量为：2人\n",
      "项目大小为1.0个标准项目，如果需要在70.0个工时完成，则需要人力数量为：2人\n"
     ]
    }
   ],
   "source": [
    "#sample\n",
    "import math\n",
    "\n",
    "# 为函数设置了三个参数，并都带有默认参数\n",
    "def estimated(size=1,number=None,time=None):\n",
    "    # 人力计算：如果参数中填了时间，没填人数，就计算人力\n",
    "    if (number == None) and (time != None):\n",
    "        number = math.ceil(size * 80 / time)\n",
    "        print('项目大小为%.1f个标准项目，如果需要在%.1f个工时完成，则需要人力数量为：%d人' %(size,time,number))  \n",
    "    # 工时计算：如果参数中填了人数，没填时间，就计算工时\n",
    "    elif (number != None) and (time == None):\n",
    "        time = size * 80 / number\n",
    "        print('项目大小为%.1f个标准项目，使用%d个人力完成，则需要工时数量为：%.1f个' %(size,number,time))  \n",
    "\n",
    "# 调用函数的时候，传递两个参数，会自动计算出第三个参数\n",
    "estimated(size=1.5,number=2)\n",
    "estimated(size=0.5,time=20.0)\n",
    "estimated(time=70.0)"
   ]
  },
  {
   "cell_type": "code",
   "execution_count": 24,
   "metadata": {},
   "outputs": [
    {
     "name": "stdout",
     "output_type": "stream",
     "text": [
      "项目大小为1.5个标准项目，如果需要在2.0个工时完成，则需要人力数量为：60人\n",
      "项目大小为1.5个标准项目，使用2个人力完成，则需要工时数量为：60.0个\n"
     ]
    }
   ],
   "source": [
    "#sample 分为两个类型的计算\n",
    "import math\n",
    "\n",
    "def estimated(types,size,other):\n",
    "    # 人力计算\n",
    "    if types == 1:\n",
    "        number = math.ceil(size * 80 / other)\n",
    "        print('项目大小为%.1f个标准项目，如果需要在%.1f个工时完成，则需要人力数量为：%d人' %(size,other,number)) \n",
    "    # 工时计算\n",
    "    elif types == 2:\n",
    "        time = size * 80 / other\n",
    "        print('项目大小为%.1f个标准项目，使用%d个人力完成，则需要工时数量为：%.1f个' %(size,other,time))  \n",
    "\n",
    "estimated(1, 1.5, 2)\n",
    "# 结果：项目大小为1.5个标准项目，如果需要在2.0个工时完成，则需要人力数量为：60人\n",
    "estimated(2, 1.5, 2)\n",
    "# 结果：项目大小为1.5个标准项目，使用2个人力完成，则需要工时数量为：60.0个\n",
    "\n",
    "#estimated( types ,size，other)\n",
    "#types: 用1代表人力计算，用2代表工时计算,size:代表项目大小,other:代表已知限定的时间或人数(根据type的类型决定)"
   ]
  },
  {
   "cell_type": "code",
   "execution_count": 30,
   "metadata": {},
   "outputs": [
    {
     "name": "stdin",
     "output_type": "stream",
     "text": [
      "请选择计算类型：（1-人力计算，2-工时计算） 1\n",
      "请输入项目大小：（1代表标准大小，可以输入小数） 1.5\n",
      "请输入工时数量：（请输入小数） 20.0\n"
     ]
    },
    {
     "name": "stdout",
     "output_type": "stream",
     "text": [
      "项目大小为1.5个标准项目，如果需要在20.0个工时完成，则需要人力数量为：6人\n"
     ]
    }
   ],
   "source": [
    "#mycoding\n",
    "import math\n",
    "\n",
    "def estimated1():\n",
    "    number = math.ceil(size * 80 / time)\n",
    "    print('项目大小为%.1f个标准项目，如果需要在%.1f个工时完成，则需要人力数量为：%d人' %(size,time,number)) \n",
    "def estimated2():\n",
    "    time = size * 80 / number\n",
    "    print('项目大小为%.1f个标准项目，使用%d个人力完成，则需要工时数量为：%.1f个' %(size,number,time)) \n",
    "\n",
    "types=int(input('请选择计算类型：（1-人力计算，2-工时计算）'))\n",
    "if types == 1:\n",
    "    size=float(input('请输入项目大小：（1代表标准大小，可以输入小数）'))\n",
    "    time=float(input('请输入工时数量：（请输入小数）'))\n",
    "    estimated1()\n",
    "elif types == 2:\n",
    "    size=float(input('请输入项目大小：（1代表标准大小，可以输入小数）'))\n",
    "    number=int(input('请输入人力数量：（请输入整数）'))\n",
    "    estimated2()"
   ]
  },
  {
   "cell_type": "code",
   "execution_count": 42,
   "metadata": {},
   "outputs": [
    {
     "name": "stdin",
     "output_type": "stream",
     "text": [
      "请选择计算类型：（1-人力计算，2-工时计算） 2\n",
      "请输入项目大小：（1代表标准大小，可以输入小数） 2\n",
      "请输入人力数量：（请输入整数） 6\n"
     ]
    },
    {
     "name": "stdout",
     "output_type": "stream",
     "text": [
      "项目大小为2.0个标准项目，使用6个人力完成，则需要工时数量为：26.7个\n"
     ]
    }
   ],
   "source": [
    "#sample\n",
    "import math\n",
    "\n",
    "def estimated(size=1,number=None,time=None):\n",
    "    if (number == None) and (time != None):\n",
    "        number = math.ceil(size * 80 / time)\n",
    "        print('项目大小为%.1f个标准项目，如果需要在%.1f个工时完成，则需要人力数量为：%d人' %(size,time,number))  \n",
    "    elif (number != None) and (time == None):\n",
    "        time = size * 80 / number\n",
    "        print('项目大小为%.1f个标准项目，使用%d个人力完成，则需要工时数量为：%.1f个' %(size,number,time))  \n",
    "\n",
    "choice = input('请选择计算类型：（1-人力计算，2-工时计算）')\n",
    "if choice == '1':\n",
    "    size = float(input('请输入项目大小：（1代表标准大小，可以输入小数）'))\n",
    "    number = None\n",
    "    time = float(input('请输入工时数量：（可以输入小数）'))\n",
    "    estimated(size,number,time)\n",
    "elif choice == '2':\n",
    "    size = float(input('请输入项目大小：（1代表标准大小，可以输入小数）'))\n",
    "    number = int(input('请输入人力数量：（请输入整数）'))\n",
    "    time = None\n",
    "    estimated(size,number,time)"
   ]
  },
  {
   "cell_type": "code",
   "execution_count": 57,
   "metadata": {},
   "outputs": [
    {
     "name": "stdin",
     "output_type": "stream",
     "text": [
      "请选择计算类型：（1-人力计算，2-工时计算） 2\n",
      "请输入项目大小：（1代表标准大小，可以输入小数） 2\n",
      "请输入人力数量：（请输入整数） 6\n"
     ]
    },
    {
     "name": "stdout",
     "output_type": "stream",
     "text": [
      "项目大小为1.0个标准项目，如果需要在6个人完成，则需要工时间为：13.3小时\n"
     ]
    }
   ],
   "source": [
    "#mychoding\n",
    "#1*1*80=80\n",
    "#1.5*1*80/2=60 TimeNum=size*80/personNum\n",
    "#0.5*1*80/2=20 personNum=size*80/timeNum\n",
    "import math\n",
    "def estimated(size=1,worktime=None,personNum=None):#设置默认参数\n",
    "    if type_choice==1:#用type来判断函数计算类型\n",
    "        person = math.ceil(size*80/worktime)\n",
    "        print('项目大小为%.1f个标准项目，如果需要在%1.f个工时完成，则需要人力数量为：%d人'%(size,worktime,person))\n",
    "    elif type_choice == 2:\n",
    "        time = size*80/personNum\n",
    "        print('项目大小为%.1f个标准项目，如果需要在%d个人完成，则需要工时间为：%.1f小时'%(size,personNum,time))\n",
    "\n",
    "type_choice=int(input('请选择计算类型：（1-人力计算，2-工时计算）'))\n",
    "size=float(input('请输入项目大小：（1代表标准大小，可以输入小数）'))\n",
    "if type_choice==1:\n",
    "    worktime=float(input('请输入工时数量：（可以输入小数）'))\n",
    "    estimated(size,worktime,personNum)\n",
    "elif type_choice==2:\n",
    "    personNum=int(input('请输入人力数量：（请输入整数）'))\n",
    "    estimated(size,worktime,personNum)"
   ]
  },
  {
   "cell_type": "code",
   "execution_count": 61,
   "metadata": {},
   "outputs": [
    {
     "name": "stdin",
     "output_type": "stream",
     "text": [
      "请选择计算类型：（1-人力计算，2-工时计算） 1\n",
      "请输入项目大小：（1代表标准大小，可以输入小数） 2.5\n",
      "请输入工时数量：（可以输入小数） 80\n"
     ]
    },
    {
     "name": "stdout",
     "output_type": "stream",
     "text": [
      "项目大小为2.5个标准项目，如果需要在80个工时完成，则需要人力数量为：3人\n"
     ]
    }
   ],
   "source": [
    "#mycoding\n",
    "import math\n",
    "def estimated(size=1,worktime=None,personNum=None):#设置默认参数\n",
    "    if (worktime!=None) and (personNum==None):#用参数的逻辑值来判断计算类型\n",
    "        person = math.ceil(size*80/worktime)\n",
    "        print('项目大小为%.1f个标准项目，如果需要在%1.f个工时完成，则需要人力数量为：%d人'%(size,worktime,person))\n",
    "    elif (personNum!=None) and (worktime==None):\n",
    "        time = size*80/personNum\n",
    "        print('项目大小为%.1f个标准项目，如果需要在%d个人完成，则需要工时间为：%.1f小时'%(size,personNum,time))\n",
    "\n",
    "type_choice=int(input('请选择计算类型：（1-人力计算，2-工时计算）'))\n",
    "size=float(input('请输入项目大小：（1代表标准大小，可以输入小数）'))\n",
    "if type_choice==1:\n",
    "    worktime=float(input('请输入工时数量：（可以输入小数）'))\n",
    "    personNum=None #勿忘\n",
    "    estimated(size,worktime,personNum)\n",
    "elif type_choice==2:\n",
    "    personNum=int(input('请输入人力数量：（请输入整数）'))\n",
    "    worktime=None #勿忘\n",
    "    estimated(size,worktime,personNum)"
   ]
  },
  {
   "cell_type": "code",
   "execution_count": 59,
   "metadata": {},
   "outputs": [
    {
     "name": "stdin",
     "output_type": "stream",
     "text": [
      "请选择计算类型：（1-人力计算，2-工时计算） 1\n",
      "请输入项目大小：（1代表标准大小，可以输入小数） 2.5\n",
      "请输入工时数量：（可以输入小数） 80\n"
     ]
    },
    {
     "name": "stdout",
     "output_type": "stream",
     "text": [
      "项目大小为2.5个标准项目，如果需要在80个工时完成，则需要人力数量为：3人\n"
     ]
    }
   ],
   "source": [
    "#mycoding\n",
    "import math\n",
    "def estimated(size,worktime,personNum):#没设置默认参数\n",
    "    if (worktime!=None) and (personNum==None):#用参数的逻辑值来判断计算类型\n",
    "        person = math.ceil(size*80/worktime)\n",
    "        print('项目大小为%.1f个标准项目，如果需要在%1.f个工时完成，则需要人力数量为：%d人'%(size,worktime,person))\n",
    "    elif (personNum!=None) and (worktime==None):\n",
    "        time = size*80/personNum\n",
    "        print('项目大小为%.1f个标准项目，如果需要在%d个人完成，则需要工时间为：%.1f小时'%(size,personNum,time))\n",
    "\n",
    "type_choice=int(input('请选择计算类型：（1-人力计算，2-工时计算）'))\n",
    "size=float(input('请输入项目大小：（1代表标准大小，可以输入小数）'))\n",
    "if type_choice==1:\n",
    "    worktime=float(input('请输入工时数量：（可以输入小数）'))\n",
    "    personNum=None #勿忘\n",
    "    estimated(size,worktime,personNum)\n",
    "elif type_choice==2:\n",
    "    personNum=int(input('请输入人力数量：（请输入整数）'))\n",
    "    worktime=None #勿忘\n",
    "    estimated(size,worktime,personNum)"
   ]
  },
  {
   "cell_type": "code",
   "execution_count": 67,
   "metadata": {},
   "outputs": [
    {
     "name": "stdin",
     "output_type": "stream",
     "text": [
      "请选择计算类型：（1-人力计算，2-工时计算） 2\n",
      "请输入项目大小：（1代表标准大小，请输入小数） 2\n",
      "请输入人力数量：（请输入整数） 3\n"
     ]
    },
    {
     "name": "stdout",
     "output_type": "stream",
     "text": [
      "项目大小为2.0个标准项目，使用3个人力完成，则需要工时数量为：53.3个\n"
     ]
    }
   ],
   "source": [
    "import math\n",
    "\n",
    "# 采集信息的函数\n",
    "def myinput():\n",
    "    choice = input('请选择计算类型：（1-人力计算，2-工时计算）')\n",
    "    if choice == '1':\n",
    "        size = float(input('请输入项目大小：（1代表标准大小，请输入小数）'))\n",
    "        number = None\n",
    "        time = float(input('请输入工时数量：（请输入小数）'))\n",
    "        return size,number,time\n",
    "        # 这里返回的是一个元组\n",
    "    elif choice == '2':\n",
    "        size = float(input('请输入项目大小：（1代表标准大小，请输入小数）'))\n",
    "        number = int(input('请输入人力数量：（请输入整数）'))\n",
    "        time = None\n",
    "        return size,number,time\n",
    "        # 这里返回的数据是一个元组\n",
    "\n",
    "# 完成计算的函数\n",
    "def estimated(my_input):\n",
    "    # 把元组中的数据取出来\n",
    "    size = my_input[0]\n",
    "    number = my_input[1]\n",
    "    time = my_input[2]\n",
    "    # 人力计算\n",
    "    if (number == None) and (time != None):\n",
    "        number = math.ceil(size * 80 / time)\n",
    "        print('项目大小为%.1f个标准项目，如果需要在%.1f个工时完成，则需要人力数量为：%d人' %(size,time,number)) \n",
    "    # 工时计算\n",
    "    elif (number != None) and (time == None):\n",
    "        time = size * 80 / number\n",
    "        print('项目大小为%.1f个标准项目，使用%d个人力完成，则需要工时数量为：%.1f个' %(size,number,time))  \n",
    "\n",
    "# 主函数\n",
    "def main():\n",
    "    my_input = myinput()\n",
    "    estimated(my_input)\n",
    "\n",
    "# 调用主函数\n",
    "main()\n",
    "\n",
    "#用函数封装代码\n",
    "#myinput()函数负责跟用户采集信息，\n",
    "#estimated()函数负责完成计算，\n",
    "#main()函数把其他两个函数打包放在一起并传递了参数。只要调用main()函数即可"
   ]
  },
  {
   "cell_type": "code",
   "execution_count": 75,
   "metadata": {},
   "outputs": [
    {
     "name": "stdin",
     "output_type": "stream",
     "text": [
      "请选择计算类型：（1-人力计算，2-工时计算） 2\n",
      "请输入项目大小：（1代表标准大小，可以输入小数） 2\n",
      "请输入人力数量：（请输入整数） 3\n"
     ]
    },
    {
     "name": "stdout",
     "output_type": "stream",
     "text": [
      "项目大小为2.0个标准项目，如果需要在3个人完成，则需要工时间为：53.3小时\n"
     ]
    }
   ],
   "source": [
    "#mycode\n",
    "def inputinfor():\n",
    "    global type_choice,size,worktime,personNum#必须为全局变量\n",
    "    type_choice=int(input('请选择计算类型：（1-人力计算，2-工时计算）'))\n",
    "    size=float(input('请输入项目大小：（1代表标准大小，可以输入小数）'))\n",
    "    if type_choice==1:\n",
    "        worktime=float(input('请输入工时数量：（可以输入小数）'))\n",
    "        #personNum=None #有无均可\n",
    "    elif type_choice==2:\n",
    "        personNum=int(input('请输入人力数量：（请输入整数）'))\n",
    "        #worktime=None #有无均可\n",
    "def calcu(size=1,worktime=None,personNum=None):\n",
    "    if type_choice==1:#用type来判断函数计算类型\n",
    "        person = math.ceil(size*80/worktime)\n",
    "        print('项目大小为%.1f个标准项目，如果需要在%1.f个工时完成，则需要人力数量为：%d人'%(size,worktime,person))\n",
    "    elif type_choice == 2:\n",
    "        time = size*80/personNum\n",
    "        print('项目大小为%.1f个标准项目，如果需要在%d个人完成，则需要工时间为：%.1f小时'%(size,personNum,time))\n",
    "\n",
    "\n",
    "def main():\n",
    "    inputinfor()\n",
    "    calcu(size,worktime,personNum)    \n",
    "main()"
   ]
  },
  {
   "cell_type": "code",
   "execution_count": 90,
   "metadata": {},
   "outputs": [
    {
     "name": "stdin",
     "output_type": "stream",
     "text": [
      "请选择计算类型：（1-人力计算，2-工时计算） 1\n",
      "请输入项目大小：（1代表标准大小，可以输入小数） 2\n",
      "请输入工时数量：（可以输入小数） 60\n"
     ]
    },
    {
     "name": "stdout",
     "output_type": "stream",
     "text": [
      "项目大小为2.0个标准项目，如果需要在60个工时完成，则需要人力数量为：3人\n"
     ]
    }
   ],
   "source": [
    "#mycode\n",
    "def inputinfor():\n",
    "    global type_choice,size,worktime,personNum#必须为全局变量\n",
    "    type_choice=int(input('请选择计算类型：（1-人力计算，2-工时计算）'))\n",
    "    size=float(input('请输入项目大小：（1代表标准大小，可以输入小数）'))\n",
    "    if type_choice==1:\n",
    "        worktime=float(input('请输入工时数量：（可以输入小数）'))\n",
    "        personNum=None #勿忘\n",
    "    elif type_choice==2:\n",
    "        personNum=int(input('请输入人力数量：（请输入整数）'))\n",
    "        worktime=None #勿忘\n",
    "def estimated(size,worktime,personNum):#没设置默认参数\n",
    "    if (worktime!=None) and (personNum==None):#用参数的逻辑值来判断计算类型\n",
    "        person = math.ceil(size*80/worktime)\n",
    "        print('项目大小为%.1f个标准项目，如果需要在%1.f个工时完成，则需要人力数量为：%d人'%(size,worktime,person))\n",
    "    elif (personNum!=None) and (worktime==None):\n",
    "        time = size*80/personNum\n",
    "        print('项目大小为%.1f个标准项目，如果需要在%d个人完成，则需要工时间为：%.1f小时'%(size,personNum,time))\n",
    "\n",
    "def main():\n",
    "    inputinfor()\n",
    "    estimated(size,worktime,personNum)\n",
    "main()"
   ]
  },
  {
   "cell_type": "code",
   "execution_count": 89,
   "metadata": {},
   "outputs": [
    {
     "name": "stdin",
     "output_type": "stream",
     "text": [
      "请选择计算类型：（1-人力计算，2-工时计算） 1\n",
      "请输入项目大小：（1代表标准大小，可以输入小数） 2\n",
      "请输入工时数量：（可以输入小数） 60\n"
     ]
    },
    {
     "name": "stdout",
     "output_type": "stream",
     "text": [
      "项目大小为2.0个标准项目，如果需要在60个工时完成，则需要人力数量为：3人\n"
     ]
    }
   ],
   "source": [
    "#mycode \n",
    "#无需命名全局变量，把输入函数的返回值元组作为一个变量，作为参数引入下一个函数，并且调用\n",
    "import math\n",
    "def inputinfor():\n",
    "    type_choice=int(input('请选择计算类型：（1-人力计算，2-工时计算）'))\n",
    "    size=float(input('请输入项目大小：（1代表标准大小，可以输入小数）'))\n",
    "    if type_choice==1:\n",
    "        worktime=float(input('请输入工时数量：（可以输入小数）'))\n",
    "        personNum=None\n",
    "    elif type_choice==2:\n",
    "        personNum=int(input('请输入人力数量：（请输入整数）'))\n",
    "        worktime=None\n",
    "    return size,worktime,personNum#返回一个元组\n",
    "def calculation(input_infor):\n",
    "    size=input_infor[0]\n",
    "    worktime=input_infor[1]\n",
    "    personNum=input_infor[2]\n",
    "    if (worktime!=None) and (personNum==None):#用参数的逻辑值来判断计算类型\n",
    "        person = math.ceil(size*80/worktime)\n",
    "        print('项目大小为%.1f个标准项目，如果需要在%1.f个工时完成，则需要人力数量为：%d人'%(size,worktime,person))\n",
    "    elif (personNum!=None) and (worktime==None):\n",
    "        time = size*80/personNum\n",
    "        print('项目大小为%.1f个标准项目，如果需要在%d个人完成，则需要工时间为：%.1f小时'%(size,personNum,time))\n",
    "\n",
    "def main():\n",
    "    input_infor=inputinfor()#命名一个新的变量等于元组\n",
    "    calculation(input_infor)#调用计算函数，并且把等于一个元组的新变量，引入计算函数\n",
    "    \n",
    "main()    "
   ]
  },
  {
   "cell_type": "code",
   "execution_count": 84,
   "metadata": {},
   "outputs": [
    {
     "name": "stdin",
     "output_type": "stream",
     "text": [
      "请选择计算类型：（1-人力计算，2-工时计算） 2\n",
      "请输入项目大小：（1代表标准大小，请输入小数） 2\n",
      "请输入人力数量：（请输入整数） 3\n"
     ]
    },
    {
     "name": "stdout",
     "output_type": "stream",
     "text": [
      "项目大小为2.0个标准项目，使用3个人力完成，则需要工时数量为：53.3个\n"
     ]
    }
   ],
   "source": [
    "#sample\n",
    "import math\n",
    "\n",
    "# 采集信息的函数\n",
    "def myinput():\n",
    "    choice = input('请选择计算类型：（1-人力计算，2-工时计算）')\n",
    "    if choice == '1':\n",
    "        size = float(input('请输入项目大小：（1代表标准大小，请输入小数）'))\n",
    "        number = None\n",
    "        time = float(input('请输入工时数量：（请输入小数）'))\n",
    "        return size,number,time\n",
    "        # 这里返回的是一个元组\n",
    "    elif choice == '2':\n",
    "        size = float(input('请输入项目大小：（1代表标准大小，请输入小数）'))\n",
    "        number = int(input('请输入人力数量：（请输入整数）'))\n",
    "        time = None\n",
    "        return size,number,time\n",
    "        # 这里返回的数据是一个元组\n",
    "\n",
    "# 完成计算的函数\n",
    "def estimated(my_input):\n",
    "    # 把元组中的数据取出来\n",
    "    size = my_input[0]\n",
    "    number = my_input[1]\n",
    "    time = my_input[2]\n",
    "    # 人力计算\n",
    "    if (number == None) and (time != None):\n",
    "        number = math.ceil(size * 80 / time)\n",
    "        print('项目大小为%.1f个标准项目，如果需要在%.1f个工时完成，则需要人力数量为：%d人' %(size,time,number)) \n",
    "    # 工时计算\n",
    "    elif (number != None) and (time == None):\n",
    "        time = size * 80 / number\n",
    "        print('项目大小为%.1f个标准项目，使用%d个人力完成，则需要工时数量为：%.1f个' %(size,number,time))  \n",
    "\n",
    "# 主函数\n",
    "def main():\n",
    "    my_input = myinput()\n",
    "    estimated(my_input)\n",
    "\n",
    "# 调用主函数\n",
    "main()\n",
    "\n",
    "#用函数封装代码\n",
    "#myinput()函数负责跟用户采集信息，\n",
    "#estimated()函数负责完成计算，\n",
    "#main()函数把其他两个函数打包放在一起并传递了参数。只要调用main()函数即可"
   ]
  },
  {
   "cell_type": "code",
   "execution_count": null,
   "metadata": {},
   "outputs": [],
   "source": [
    "#子函数+主函数”的代码结构，也是因为每个不同的功能封装在单独的函数代码中，方便后续修改、增删。\n",
    "#比如我们想要加一个功能“让程序循环运行，直到用户选择结束”。那么，就可以在程序中加上一个again函数。"
   ]
  },
  {
   "cell_type": "code",
   "execution_count": 1,
   "metadata": {},
   "outputs": [
    {
     "name": "stdout",
     "output_type": "stream",
     "text": [
      "欢迎使用工作量计算小程序！\n"
     ]
    },
    {
     "name": "stdin",
     "output_type": "stream",
     "text": [
      "请选择计算类型：（1-人力计算，2-工时计算） 1\n",
      "请输入项目大小：（1代表标准大小，可以输入小数） 2\n",
      "请输入工时数量：（可以输入小数） 80\n"
     ]
    },
    {
     "name": "stdout",
     "output_type": "stream",
     "text": [
      "项目大小为2.0个标准项目，如果需要在80个工时完成，则需要人力数量为：2人\n"
     ]
    },
    {
     "name": "stdin",
     "output_type": "stream",
     "text": [
      "是否继续计算？继续请输入y，输入其他键将结束程序。 y\n"
     ]
    },
    {
     "name": "stdout",
     "output_type": "stream",
     "text": [
      "欢迎使用工作量计算小程序！\n"
     ]
    },
    {
     "name": "stdin",
     "output_type": "stream",
     "text": [
      "请选择计算类型：（1-人力计算，2-工时计算） 1\n",
      "请输入项目大小：（1代表标准大小，可以输入小数） 1.5\n",
      "请输入工时数量：（可以输入小数） 80\n"
     ]
    },
    {
     "name": "stdout",
     "output_type": "stream",
     "text": [
      "项目大小为1.5个标准项目，如果需要在80个工时完成，则需要人力数量为：2人\n"
     ]
    },
    {
     "name": "stdin",
     "output_type": "stream",
     "text": [
      "是否继续计算？继续请输入y，输入其他键将结束程序。 0\n"
     ]
    },
    {
     "name": "stdout",
     "output_type": "stream",
     "text": [
      "感谢使用工作量计算小程序！\n"
     ]
    }
   ],
   "source": [
    "import math\n",
    "key = 1\n",
    "print('欢迎使用工作量计算小程序！')\n",
    "def inputinfor():\n",
    "    type_choice=int(input('请选择计算类型：（1-人力计算，2-工时计算）'))\n",
    "    size=float(input('请输入项目大小：（1代表标准大小，可以输入小数）'))\n",
    "    if type_choice==1:\n",
    "        worktime=float(input('请输入工时数量：（可以输入小数）'))\n",
    "        personNum=None\n",
    "    elif type_choice==2:\n",
    "        personNum=int(input('请输入人力数量：（请输入整数）'))\n",
    "        worktime=None\n",
    "    return size,worktime,personNum#返回一个元组\n",
    "\n",
    "def calculation(input_infor):\n",
    "    size=input_infor[0]\n",
    "    worktime=input_infor[1]\n",
    "    personNum=input_infor[2]\n",
    "    if (worktime!=None) and (personNum==None):#用参数的逻辑值来判断计算类型\n",
    "        person = math.ceil(size*80/worktime)\n",
    "        print('项目大小为%.1f个标准项目，如果需要在%1.f个工时完成，则需要人力数量为：%d人'%(size,worktime,person))\n",
    "    elif (personNum!=None) and (worktime==None):\n",
    "        time = size*80/personNum\n",
    "        print('项目大小为%.1f个标准项目，如果需要在%d个人完成，则需要工时间为：%.1f小时'%(size,personNum,time))\n",
    "def again():\n",
    "    global key#要命名为全局变量才能覆盖掉key的初始化数值\n",
    "    askagain=input('是否继续计算？继续请输入y，输入其他键将结束程序。')\n",
    "    if askagain!='y':\n",
    "        key=0\n",
    "    else:\n",
    "        key=1\n",
    "\n",
    "def main():\n",
    "    while key ==1:\n",
    "        input_infor=inputinfor()#命名一个新的变量等于元组\n",
    "        calculation(input_infor)#调用计算函数，并且把等于一个元组的新变量，引入计算函数\n",
    "        again()\n",
    "    else:\n",
    "        print('感谢使用工作量计算小程序！')\n",
    "main()"
   ]
  },
  {
   "cell_type": "code",
   "execution_count": null,
   "metadata": {},
   "outputs": [],
   "source": [
    "import math\n",
    "\n",
    "# 变量key代表循环运行程序的开关\n",
    "key = 1\n",
    "\n",
    "# 采集信息的函数\n",
    "def myinput():\n",
    "    choice = input('请选择计算类型：（1-工时计算，2-人力计算）')\n",
    "    if choice == '1':\n",
    "        size = float(input('请输入项目大小：（1代表标准大小，请输入小数）'))\n",
    "        number = int(input('请输入人力数量：（请输入整数）'))\n",
    "        time = None\n",
    "        return size,number,time\n",
    "        # 这里返回的数据是一个元组\n",
    "    if choice == '2':\n",
    "        size = float(input('请输入项目大小：（1代表标准大小，请输入小数）'))\n",
    "        number = None\n",
    "        time = float(input('请输入工时数量：（请输入小数）'))\n",
    "        return size,number,time\n",
    "        # 这里返回的是一个元组\n",
    "\n",
    "# 完成计算的函数\n",
    "def estimated(my_input):\n",
    "    # 把元组中的数据取出来\n",
    "    size = my_input[0]\n",
    "    number = my_input[1]\n",
    "    time = my_input[2]\n",
    "    # 人力计算\n",
    "    if (number == None) and (time != None):\n",
    "        number = math.ceil(size * 80 / time)\n",
    "        print('项目大小为%.1f个标准项目，如果需要在%.1f个工时完成，则需要人力数量为：%d人' %(size,time,number)) \n",
    "    # 工时计算\n",
    "    elif (number != None) and (time == None):\n",
    "        time = size * 80 / number\n",
    "        print('项目大小为%.1f个标准项目，使用%d个人力完成，则需要工时数量为：%.1f个' %(size,number,time))  \n",
    "\n",
    "# 询问是否继续的函数\n",
    "def again():\n",
    "    # 声明全局变量key，以便修改该变量\n",
    "    global key\n",
    "    a = input('是否继续计算？继续请输入y，输入其他键将结束程序。')\n",
    "    if a != 'y':\n",
    "        # 如果用户不输入'y'，则把key赋值为0\n",
    "        key = 0  \n",
    "\n",
    "# 主函数\n",
    "def main():\n",
    "    print('欢迎使用工作量计算小程序！')\n",
    "    while key == 1:\n",
    "        my_input = myinput()\n",
    "        estimated(my_input)\n",
    "        again()\n",
    "    print('感谢使用工作量计算小程序！')\n",
    "\n",
    "main()"
   ]
  },
  {
   "cell_type": "code",
   "execution_count": null,
   "metadata": {},
   "outputs": [],
   "source": [
    "#<<欢迎使用工作量计算小程序！\n",
    "#<<请选择计算类型：（1-工时计算，2-人力计算）1\n",
    "#<<请输入项目大小：（1代表标准大小，请输入小数）1\n",
    "#<<请输入人力数量：（请输入整数）1\n",
    "#<<项目大小为1.0个标准项目，使用1个人力完成，则需要工时数量为：80.0个\n",
    "#<<是否继续计算？继续请输入y，输入其他键将结束程序。y\n",
    "#<<请选择计算类型：（1-工时计算，2-人力计算）1\n",
    "#<<请输入项目大小：（1代表标准大小，请输入小数）1\n",
    "#<<请输入人力数量：（请输入整数）1\n",
    "#<<项目大小为1.0个标准项目，使用1个人力完成，则需要工时数量为：80.0个\n",
    "#<<是否继续计算？继续请输入y，输入其他键将结束程序。1\n",
    "#<<感谢使用工作量计算小程序！"
   ]
  },
  {
   "cell_type": "code",
   "execution_count": 18,
   "metadata": {},
   "outputs": [
    {
     "name": "stdin",
     "output_type": "stream",
     "text": [
      "请你出剪刀，石头，还是布 布\n"
     ]
    },
    {
     "name": "stdout",
     "output_type": "stream",
     "text": [
      "你出了布\n",
      "电脑出了石头\n",
      "你赢了\n"
     ]
    }
   ],
   "source": [
    "#pracitice1\n",
    "#和电脑玩一个剪刀石头布的游戏：电脑随机出拳，我们可选择出什么。\n",
    "#当输入的内容不是石头剪刀布时，电脑会提醒'输入有误，请重新出拳'，并重新出拳。\n",
    "#mycode version1\n",
    "import random\n",
    "def twosidechoice():\n",
    "    global my_input,pc_input\n",
    "    list1=['剪刀','石头','布']\n",
    "    my_input=input('请你出剪刀，石头，还是布')\n",
    "    while my_input not in list1:#要用while循环，如果输入错误要循环\n",
    "        print('输入有误，请重新出')\n",
    "        my_input('请你出剪刀，石头，还是布')#输入错误要重新再次输入input里提示的话语可有可无\n",
    "    pc_input=random.choice(list1)\n",
    "\n",
    "def outputchoice():\n",
    "    print('你出了'+my_input)\n",
    "    print('电脑出了'+pc_input)\n",
    "\n",
    "    \n",
    "def comparision():\n",
    "    if my_input==pc_input:\n",
    "        print('平局')\n",
    "    elif (my_input == '剪刀') and (pc_input == '石头'):\n",
    "        print('你输了')\n",
    "    elif (my_input == '石头') and (pc_input == '布'):\n",
    "        print('你输了')\n",
    "    elif (my_input == '布') and (pc_input == '剪刀'):\n",
    "        print('你输了')\n",
    "    elif (my_input == '剪刀') and (pc_input == '布'):\n",
    "        print('你赢了')\n",
    "    elif (my_input== '石头') and (pc_input == '剪刀'):\n",
    "        print('你赢了')\n",
    "    elif (my_input == '布') and (pc_input == '石头'):\n",
    "        print('你赢了')\n",
    "def main():\n",
    "    twosidechoice()\n",
    "    outputchoice()\n",
    "    comparision()\n",
    "main()"
   ]
  },
  {
   "cell_type": "code",
   "execution_count": 55,
   "metadata": {},
   "outputs": [
    {
     "name": "stdin",
     "output_type": "stream",
     "text": [
      "请你出剪刀，石头，还是布 shi\n"
     ]
    },
    {
     "name": "stdout",
     "output_type": "stream",
     "text": [
      "输入有误，请重新出\n"
     ]
    },
    {
     "name": "stdin",
     "output_type": "stream",
     "text": [
      " tou\n"
     ]
    },
    {
     "name": "stdout",
     "output_type": "stream",
     "text": [
      "输入有误，请重新出\n"
     ]
    },
    {
     "name": "stdin",
     "output_type": "stream",
     "text": [
      " jian\n"
     ]
    },
    {
     "name": "stdout",
     "output_type": "stream",
     "text": [
      "输入有误，请重新出\n"
     ]
    },
    {
     "name": "stdin",
     "output_type": "stream",
     "text": [
      " 剪刀\n"
     ]
    },
    {
     "name": "stdout",
     "output_type": "stream",
     "text": [
      "你出了剪刀\n",
      "电脑出了剪刀\n",
      "平局\n"
     ]
    }
   ],
   "source": [
    "#mycode version1\n",
    "import random\n",
    "def twosidechoice():\n",
    "    global my_input,pc_input\n",
    "    list1=['剪刀','石头','布']\n",
    "    my_input=input('请你出剪刀，石头，还是布')\n",
    "    while (my_input != '剪刀') and (my_input != '布') and (my_input !='石头'):#要用while输入错误要循环\n",
    "        print('输入有误，请重新出')\n",
    "        my_input=input('请出拳:(石头、剪刀、布)')#不要忘记让对方重新输入input里提示的话语可有可无\n",
    "    pc_input=random.choice(list1)\n",
    "\n",
    "def outputchoice():\n",
    "    print('你出了'+my_input)\n",
    "    print('电脑出了'+pc_input)\n",
    "\n",
    "    \n",
    "def comparision():\n",
    "    if my_input==pc_input:\n",
    "        print('平局')\n",
    "    elif (my_input == '剪刀') and (pc_input == '石头'):\n",
    "        print('你输了')\n",
    "    elif (my_input == '石头') and (pc_input == '布'):\n",
    "        print('你输了')\n",
    "    elif (my_input == '布') and (pc_input == '剪刀'):\n",
    "        print('你输了')\n",
    "    elif (my_input == '剪刀') and (pc_input == '布'):\n",
    "        print('你赢了')\n",
    "    elif (my_input== '石头') and (pc_input == '剪刀'):\n",
    "        print('你赢了')\n",
    "    elif (my_input == '布') and (pc_input == '石头'):\n",
    "        print('你赢了')\n",
    "def main():\n",
    "    twosidechoice()\n",
    "    outputchoice()\n",
    "    comparision()\n",
    "main()"
   ]
  },
  {
   "cell_type": "code",
   "execution_count": null,
   "metadata": {},
   "outputs": [],
   "source": [
    "#sample version1\n",
    "#计算方法\n",
    "if user_choice == computer_choice:\n",
    "    print('平局!')\n",
    "elif user_choice == punches[punches.index(computer_choice)-1]:\n",
    "    print('你赢了!')\n",
    "else:\n",
    "    print('你输了!')"
   ]
  },
  {
   "cell_type": "code",
   "execution_count": null,
   "metadata": {},
   "outputs": [],
   "source": [
    "#sample version1\n",
    "# 出拳\n",
    "punches = ['石头','剪刀','布']\n",
    "computer_choice = random.choice(punches)\n",
    "user_choice = ''\n",
    "user_choice = input('请出拳:(石头、剪刀、布)') # 请用户输入选择 \n",
    "while user_choice not in punches: # 当用户输入错误，提示错误，重新输入\n",
    "    print('输入有误，请重新出拳')\n",
    "    user_choice = input()\n",
    "# 亮拳\n",
    "print('————战斗过程————')\n",
    "print('电脑出了:%s' %(computer_choice))\n",
    "print('你出了:%s' %(user_choice))"
   ]
  },
  {
   "cell_type": "code",
   "execution_count": null,
   "metadata": {},
   "outputs": [],
   "source": [
    "#sample version2\n",
    "import random\n",
    "# 出拳\n",
    "punches = ['石头','剪刀','布']\n",
    "computer_choice = random.choice(punches)\n",
    "user_choice = ''\n",
    "user_choice = input('请出拳:(石头、剪刀、布)')\n",
    "# 请用户输入选择\n",
    "while user_choice not in punches: # 当用户输入错误，提示错误，重新输入\n",
    "    print('输入有误，请重新出拳')\n",
    "    user_choice = input()\n",
    "# 亮拳\n",
    "print('————战斗过程————')\n",
    "print('电脑出了:%s' %(computer_choice))\n",
    "print('你出了:%s' %(user_choice))\n",
    "# 胜负 print('—————结果—————')\n",
    "punches = ['石头','剪刀','布']\n",
    "computer_choice = random.choice(punches)\n",
    "user_choice = ''\n",
    "user_choice = input('请出拳:(石头、剪刀、布)') \n",
    "# 请用户输入选择 \n",
    "while user_choice not in punches: # 当用户输入错误，提示错误，重新输入\n",
    "    print('输入有误，请重新出拳')\n",
    "    user_choice = input()\n",
    "# 亮拳\n",
    "print('————战斗过程————')\n",
    "print('电脑出了:%s' %(computer_choice))\n",
    "print('你出了:%s' %(user_choice))\n",
    "# 胜负\n",
    "print('—————结果—————')\n",
    "if user_choice == computer_choice: # 使用if进行条件判断，判断赢的三种条件，其他else\n",
    "    print('平局!')\n",
    "elif (user_choice == '石头' and computer_choice == '剪刀') or (user_choice == '剪刀' and computer_choice == '布') or (user_choice == '布' and computer_choice == '石头'):\n",
    "    print('你赢了!')#\n",
    "else:\n",
    "    print('你输了!')"
   ]
  },
  {
   "cell_type": "code",
   "execution_count": null,
   "metadata": {},
   "outputs": [],
   "source": [
    "#简化version2，可以用index函数来代替复杂的if从句\n",
    "#index()函数\n",
    "#index() 函数用于找出列表中某个元素第一次出现的索引位置。 语法为:list .index(obj)，obj为object (对象)的缩写。"
   ]
  },
  {
   "cell_type": "code",
   "execution_count": 28,
   "metadata": {},
   "outputs": [
    {
     "name": "stdout",
     "output_type": "stream",
     "text": [
      "-1\n",
      "布\n",
      "0\n",
      "石头\n",
      "1\n",
      "剪刀\n"
     ]
    }
   ],
   "source": [
    "#算法\n",
    "punches = ['石头','剪刀','布']\n",
    "\n",
    "computer_choice = '石头' \n",
    "print(punches.index(computer_choice)-1)\n",
    "print(punches[punches.index(computer_choice)-1])\n",
    "#如果电脑是石头，用户是布才能赢即用户等于index[-1]的元素\n",
    "\n",
    "computer_choice = '剪刀' \n",
    "print(punches.index(computer_choice)-1)\n",
    "print(punches[punches.index(computer_choice)-1])\n",
    "#如果电脑是剪刀，用户要是石头才能赢，index[0]\n",
    "computer_choice = '布' \n",
    "print(punches.index(computer_choice)-1)\n",
    "print(punches[punches.index(computer_choice)-1])\n",
    "#如果电脑是布，用户要是剪刀才能赢，index[1]"
   ]
  },
  {
   "cell_type": "code",
   "execution_count": 54,
   "metadata": {},
   "outputs": [
    {
     "name": "stdin",
     "output_type": "stream",
     "text": [
      "请出拳:(石头、剪刀、布) shi\n"
     ]
    },
    {
     "name": "stdout",
     "output_type": "stream",
     "text": [
      "输入有误，请重新出拳\n"
     ]
    },
    {
     "name": "stdin",
     "output_type": "stream",
     "text": [
      " tou\n"
     ]
    },
    {
     "name": "stdout",
     "output_type": "stream",
     "text": [
      "输入有误，请重新出拳\n"
     ]
    },
    {
     "name": "stdin",
     "output_type": "stream",
     "text": [
      " jian\n"
     ]
    },
    {
     "name": "stdout",
     "output_type": "stream",
     "text": [
      "输入有误，请重新出拳\n"
     ]
    },
    {
     "name": "stdin",
     "output_type": "stream",
     "text": [
      " 剪刀\n"
     ]
    },
    {
     "name": "stdout",
     "output_type": "stream",
     "text": [
      "————战斗过程————\n",
      "电脑出了:剪刀\n",
      "你出了:剪刀\n",
      "—————结果—————\n",
      "平局!\n"
     ]
    }
   ],
   "source": [
    "#sample version3\n",
    "\n",
    "import random\n",
    "punches = ['石头','剪刀','布']\n",
    "computer_choice = random.choice(punches) \n",
    "user_choice = ''\n",
    "user_choice = input('请出拳:(石头、剪刀、布)') \n",
    "while user_choice not in punches:\n",
    "    print('输入有误，请重新出拳') \n",
    "    user_choice = input()\n",
    "print('————战斗过程————') \n",
    "print('电脑出了:%s' % computer_choice) \n",
    "print('你出了:%s' % user_choice)\n",
    "print('—————结果—————')\n",
    "if user_choice == computer_choice:\n",
    "    print('平局!')\n",
    "elif user_choice == punches[punches.index(computer_choice)-1]:\n",
    "    print('你赢了!')\n",
    "else:\n",
    "    print('你输了!')"
   ]
  },
  {
   "cell_type": "code",
   "execution_count": 52,
   "metadata": {},
   "outputs": [
    {
     "name": "stdout",
     "output_type": "stream",
     "text": [
      "—————第1局—————\n"
     ]
    },
    {
     "name": "stdin",
     "output_type": "stream",
     "text": [
      "请出拳:(石头、剪刀、布) jian\n"
     ]
    },
    {
     "name": "stdout",
     "output_type": "stream",
     "text": [
      "输入有误，请重新出\n"
     ]
    },
    {
     "name": "stdin",
     "output_type": "stream",
     "text": [
      "请出拳:(石头、剪刀、布) dao\n"
     ]
    },
    {
     "name": "stdout",
     "output_type": "stream",
     "text": [
      "输入有误，请重新出\n"
     ]
    },
    {
     "name": "stdin",
     "output_type": "stream",
     "text": [
      "请出拳:(石头、剪刀、布) jiandao\n"
     ]
    },
    {
     "name": "stdout",
     "output_type": "stream",
     "text": [
      "输入有误，请重新出\n"
     ]
    },
    {
     "name": "stdin",
     "output_type": "stream",
     "text": [
      "请出拳:(石头、剪刀、布) shitou\n"
     ]
    },
    {
     "name": "stdout",
     "output_type": "stream",
     "text": [
      "输入有误，请重新出\n"
     ]
    },
    {
     "name": "stdin",
     "output_type": "stream",
     "text": [
      "请出拳:(石头、剪刀、布) 剪刀\n"
     ]
    },
    {
     "name": "stdout",
     "output_type": "stream",
     "text": [
      "你出了:剪刀\n",
      "电脑出了:剪刀\n",
      "平局\n",
      "—————第2局—————\n"
     ]
    },
    {
     "name": "stdin",
     "output_type": "stream",
     "text": [
      "请出拳:(石头、剪刀、布) 石头\n"
     ]
    },
    {
     "name": "stdout",
     "output_type": "stream",
     "text": [
      "你出了:石头\n",
      "电脑出了:剪刀\n",
      "你输了!\n",
      "—————第3局—————\n"
     ]
    },
    {
     "name": "stdin",
     "output_type": "stream",
     "text": [
      "请出拳:(石头、剪刀、布) 布\n"
     ]
    },
    {
     "name": "stdout",
     "output_type": "stream",
     "text": [
      "你出了:布\n",
      "电脑出了:布\n",
      "平局\n",
      "————最终结果————\n",
      "你得了0分\n",
      "电脑得了1\n",
      "你输了\n",
      "Game Over\n"
     ]
    },
    {
     "name": "stdin",
     "output_type": "stream",
     "text": [
      "是否再来一局，如果是请输入Y,其他任意键将结束游戏 0\n"
     ]
    },
    {
     "name": "stdout",
     "output_type": "stream",
     "text": [
      "退出游戏\n"
     ]
    }
   ],
   "source": [
    "#mycode version2\n",
    "#添加三局两胜功能\n",
    "#添加可以重新再玩儿一次功能\n",
    "import random\n",
    "pointme=0\n",
    "pointpc=0\n",
    "key = 1\n",
    "\n",
    "#输入双方出拳选择\n",
    "def twosidechoice():\n",
    "    global punches\n",
    "    punches=['剪刀','石头','布']\n",
    "    my_input=input('请出拳:(石头、剪刀、布)')\n",
    "    while my_input not in punches:#此处要用while循环语句，对方输入错误要不断循环\n",
    "        print('输入有误，请重新出')\n",
    "        my_input=input('请出拳:(石头、剪刀、布)')#不要忘记让对方重新输入，input里提示的话语可有可无\n",
    "    pc_input=random.choice(punches)\n",
    "    return my_input,pc_input\n",
    "#打印双方出拳选择\n",
    "def outputchoice(twoside_choice):\n",
    "    print('你出了:'+twoside_choice[0])\n",
    "    print('电脑出了:'+twoside_choice[1])\n",
    "#比较双方输赢，并且计分   \n",
    "def comparision(twoside_choice):\n",
    "    global pointme,pointpc\n",
    "    if twoside_choice[0]==twoside_choice[1]:\n",
    "        print('平局')\n",
    "    elif twoside_choice[0]==punches[punches.index(computer_choice)-1]:\n",
    "        print('你输了!')\n",
    "        pointpc+=1\n",
    "    else:\n",
    "        print('你赢了!')\n",
    "        pointme+=1\n",
    "#判断三局两胜\n",
    "def winning():\n",
    "    print('————最终结果————')\n",
    "    print('你得了%s分'%pointme)\n",
    "    print('电脑得了%s'%pointpc)\n",
    "    if pointme==pointpc:\n",
    "        print('你和电脑打成了平手')\n",
    "    if pointme > pointpc:\n",
    "        print('你获得了最终胜利')\n",
    "    else:\n",
    "        print('你输了')\n",
    "    print('Game Over')\n",
    "\n",
    "def again():\n",
    "    global key\n",
    "    askagain=input(('是否再来一局，如果是请输入Y,其他任意键将结束游戏'))\n",
    "    if askagain != 'Y':\n",
    "        key = 0\n",
    "    \n",
    "def main():\n",
    "    while key == 1:\n",
    "        for i in range(3):\n",
    "            print('—————第%s局—————'%(i+1))\n",
    "            twoside_choice=twosidechoice()\n",
    "            outputchoice(twoside_choice)\n",
    "            comparision(twoside_choice)\n",
    "        winning()\n",
    "        again()\n",
    "    else:\n",
    "        print('退出游戏')\n",
    "main()"
   ]
  },
  {
   "cell_type": "code",
   "execution_count": 29,
   "metadata": {},
   "outputs": [
    {
     "name": "stdin",
     "output_type": "stream",
     "text": [
      "请你出剪刀，石头，还是布 剪刀\n"
     ]
    },
    {
     "name": "stdout",
     "output_type": "stream",
     "text": [
      "继续\n"
     ]
    }
   ],
   "source": [
    "#if条件嵌套错误，以下修正过了\n",
    "my_input=input('请你出剪刀，石头，还是布')\n",
    "if (my_input != '剪刀') and (my_input != '布') and (my_input !='石头'):\n",
    "        print('输入有误，请重新出')\n",
    "else:\n",
    "    print('请继续')"
   ]
  },
  {
   "cell_type": "code",
   "execution_count": 32,
   "metadata": {},
   "outputs": [
    {
     "name": "stdin",
     "output_type": "stream",
     "text": [
      "请你出剪刀，石头，还是布 剪刀\n"
     ]
    },
    {
     "name": "stdout",
     "output_type": "stream",
     "text": [
      "输入有误，请重新出\n"
     ]
    }
   ],
   "source": [
    "#与上面比较，此为错误代码\n",
    "my_input=input('请你出剪刀，石头，还是布')\n",
    "if (my_input != '剪刀') or (my_input != '布') or (my_input !='石头'):\n",
    "        print('输入有误，请重新出')\n",
    "else:\n",
    "    print('请继续')"
   ]
  },
  {
   "cell_type": "code",
   "execution_count": null,
   "metadata": {},
   "outputs": [],
   "source": [
    "#面向对象编程\n",
    "class Project:\n",
    "    \n",
    "    def __init__(self):\n",
    "        self.key = 1\n",
    "\n",
    "    def input(self):\n",
    "        choice = input('请选择计算类型：（1-工时计算，2-人力计算）')\n",
    "        if choice == '1':\n",
    "            self.size = float(input('请输入项目大小：（1代表标准大小，请输入小数）'))\n",
    "            self.number = int(input('请输入人力数量：（请输入整数）'))\n",
    "            self.time = None\n",
    "        if choice == '2':\n",
    "            self.size = float(input('请输入项目大小：（1代表标准大小，请输入小数）'))\n",
    "            self.number = None\n",
    "            self.time = float(input('请输入工时数量：（请输入小数）'))\n",
    "\n",
    "    def estimated(self):\n",
    "        # 人力计算\n",
    "        if (self.number == None) and (self.time != None):\n",
    "            self.number = math.ceil(self.size * 80 / self.time)\n",
    "            print('项目大小为%.1f个标准项目，如果需要在%.1f个工时完成，则需要人力数量为：%d人' %(self.size,self.time,self.number)) \n",
    "        # 工时计算\n",
    "        elif (self.number != None) and (self.time == None):\n",
    "            self.time = self.size * 80 / self.number\n",
    "            print('项目大小为%.1f个标准项目，使用%d个人力完成，则需要工时数量为：%.1f个' %(self.size,self.number,self.time))  \n",
    "    \n",
    "    def again(self):\n",
    "        a = input('是否继续计算？继续请输入y，输入其他键将结束程序。')\n",
    "        if a != 'y':\n",
    "            # 如果用户不输入'y'，则把key赋值为0\n",
    "            self.key = 0  \n",
    "\n",
    "    # 主函数\n",
    "    def main(self):\n",
    "        print('欢迎使用工作量计算小程序！')\n",
    "        while self.key == 1:\n",
    "            self.input()\n",
    "            self.estimated()\n",
    "            self.again()\n",
    "        print('感谢使用工作量计算小程序！')\n",
    "\n",
    "project1 = Project()\n",
    "#创建实例\n",
    "project1.main()"
   ]
  }
 ],
 "metadata": {
  "kernelspec": {
   "display_name": "Python 3",
   "language": "python",
   "name": "python3"
  },
  "language_info": {
   "codemirror_mode": {
    "name": "ipython",
    "version": 3
   },
   "file_extension": ".py",
   "mimetype": "text/x-python",
   "name": "python",
   "nbconvert_exporter": "python",
   "pygments_lexer": "ipython3",
   "version": "3.7.3"
  }
 },
 "nbformat": 4,
 "nbformat_minor": 2
}
