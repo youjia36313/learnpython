{
 "cells": [
  {
   "cell_type": "code",
   "execution_count": null,
   "metadata": {},
   "outputs": [],
   "source": [
    "#index\n",
    "#转义字符\n",
    "#print\n",
    "#变量命名规范，赋值\n",
    "#字符串，整数，浮点数\n",
    "#运算符\n",
    "#input\n",
    "#list,\n",
    "#if\n",
    "#for\n",
    "#while\n",
    "#append，pop\n",
    "#布尔运算\n",
    "#bool()\n",
    "#and, or, in, not in,not True,not False\n",
    "#break，continue，pass\n",
    "#else\n",
    "#random"
   ]
  },
  {
   "cell_type": "code",
   "execution_count": null,
   "metadata": {},
   "outputs": [],
   "source": [
    "#在终端里能看到的最常见的符号报错提示就是【syntaxError:invalid syntax】（语法错误：无效语法）。\n",
    "#标点符号用对了吗？是英文输入法吗？然后再去检查自己语法有没有写对。函数嵌套是否括号正确"
   ]
  },
  {
   "cell_type": "code",
   "execution_count": null,
   "metadata": {},
   "outputs": [],
   "source": [
    "#在print内部使用三引号'''（连续输入三个单引号）来实现自动换行。\n",
    "#或者转义字符，来“换行”的转义字符是\\n。"
   ]
  },
  {
   "cell_type": "code",
   "execution_count": 1,
   "metadata": {},
   "outputs": [
    {
     "name": "stdout",
     "output_type": "stream",
     "text": [
      "我愿意留在汤婆婆的澡堂里工作两年，\n",
      "第一年在锅炉房和锅炉爷爷一起烧锅炉水，\n",
      "第二年在澡堂给客人搓背，\n",
      "如果我违背工作内容的话，\n",
      "将在这个世界变成一头猪。\n",
      "\n"
     ]
    }
   ],
   "source": [
    "print('''我愿意留在汤婆婆的澡堂里工作两年，\n",
    "第一年在锅炉房和锅炉爷爷一起烧锅炉水，\n",
    "第二年在澡堂给客人搓背，\n",
    "如果我违背工作内容的话，\n",
    "将在这个世界变成一头猪。\n",
    "''')"
   ]
  },
  {
   "cell_type": "code",
   "execution_count": 2,
   "metadata": {},
   "outputs": [
    {
     "name": "stdout",
     "output_type": "stream",
     "text": [
      "我愿意留在汤婆婆的澡堂里工作两年，\n",
      "第一年在锅炉房和锅炉爷爷一起烧锅炉水，\n",
      "第二年在澡堂给客人搓背，\n",
      "如果我违背工作内容的话，\n",
      "将在这个世界变成一头猪。\n"
     ]
    }
   ],
   "source": [
    "print('我愿意留在汤婆婆的澡堂里工作两年，\\n第一年在锅炉房和锅炉爷爷一起烧锅炉水，\\n第二年在澡堂给客人搓背，\\n如果我违背工作内容的话，\\n将在这个世界变成一头猪。')"
   ]
  },
  {
   "cell_type": "code",
   "execution_count": null,
   "metadata": {},
   "outputs": [],
   "source": [
    "#转义字符总结\n",
    "# \\a　响铃(BEL)\n",
    "# \\b　退格(BS),将当前位置移到前一列\n",
    "# \\f　换页(FF),将当前位置移到下页开头\n",
    "# \\n　换行(LF),将当前位置移到下一行开头\n",
    "# \\r　回车(CR),将当前位置移到本行开头\n",
    "# \\t　水平制表(HT) (跳到下一个TAB位置)\n",
    "# \\v　垂直制表(VT)\n",
    "# \\\\ 代表一个反斜线字符\"\\”\n",
    "# \\' 代表一个单引号(撇号)字符\n",
    "# \\”　代表一个双引号字符\n",
    "# \\?　代表一个问号\n",
    "# \\0　空字符(NUL)\n",
    "# \\ddd　1到3位八进制所代表的任意字符\n",
    "# \\xhh　1到2位十六进制所代表的任意字符"
   ]
  },
  {
   "cell_type": "code",
   "execution_count": 4,
   "metadata": {},
   "outputs": [
    {
     "name": "stdout",
     "output_type": "stream",
     "text": [
      "let's go\n",
      "let's go\n"
     ]
    }
   ],
   "source": [
    "#转义字符\\\n",
    "print('let\\'s go')\n",
    "print(\"let's go\")"
   ]
  },
  {
   "cell_type": "code",
   "execution_count": null,
   "metadata": {},
   "outputs": [],
   "source": [
    "#变量命名规范\n",
    "# 1.只能是一个词。\n",
    "# 2.只能包含字母、数字和下划线。\n",
    "3.不能以数字开头。\n",
    "# 4.尽量描述包含的数据内容。"
   ]
  },
  {
   "cell_type": "code",
   "execution_count": null,
   "metadata": {},
   "outputs": [],
   "source": [
    "#赋值=\n",
    "#注意在代码世界中，赋值符号=不是左边等于右边的意思。仅仅表示赋值动作：把右边的内容放到了左边的盒子中。\n",
    "#代表左右两边相等的符号，是比较运算符=="
   ]
  },
  {
   "cell_type": "code",
   "execution_count": 5,
   "metadata": {},
   "outputs": [
    {
     "name": "stdout",
     "output_type": "stream",
     "text": [
      "千寻\n"
     ]
    }
   ],
   "source": [
    "name='魔法少女千酱'\n",
    "name='夏目千千'\n",
    "name='千寻'\n",
    "print(name)"
   ]
  },
  {
   "cell_type": "code",
   "execution_count": null,
   "metadata": {},
   "outputs": [],
   "source": [
    "import time,random\n",
    "print('''============================\n",
    "          埋める年齢\n",
    "======================''')\n",
    "time.sleep(2)\n",
    "print('你好呀ヽ✿゜▽゜)ノ我叫小埋~想和我玩吗？先猜对我的年龄吧~~')\n",
    "time.sleep(2)\n",
    "user_guess=int(input('我的年龄在1-10岁之间，请输入你猜的答案吧(◆◡◆)（必须是整数1-10哦）'))\n",
    "print('哦~~你猜我'+str(user_guess)+'岁呀，来看看你猜的对不对……')\n",
    "time.sleep(2)\n",
    "age=random.randint(1,10)\n",
    "if user_guess==age:\n",
    "    print('嘻嘻！猜对啦！我们做好朋友吧（￣︶￣）↗再见啦！')\n",
    "elif user_guess<age:\n",
    "    print('猜错啦！我才没有那么小呢(＞﹏＜)不和你玩了！')\n",
    "else:\n",
    "    print('猜错啊！我才没有那么老呢（；´д｀）ゞ不和你玩了！')"
   ]
  },
  {
   "cell_type": "code",
   "execution_count": 6,
   "metadata": {},
   "outputs": [
    {
     "name": "stdout",
     "output_type": "stream",
     "text": [
      "命运！不配做我的对手！\n",
      "308\n",
      "48g\n",
      "+101\n",
      "First Blood!\n"
     ]
    }
   ],
   "source": [
    "#1关\n",
    "#字符串，引号括起来的文本\n",
    "slogan = '命运！不配做我的对手！'\n",
    "attack = \"308\"\n",
    "gold = \"48g\"\n",
    "blood = '''+101'''\n",
    "achieve = \"First Blood!\"\n",
    "print(slogan)\n",
    "print(attack)\n",
    "print(gold)\n",
    "print(blood)\n",
    "print(achieve)"
   ]
  },
  {
   "cell_type": "code",
   "execution_count": 7,
   "metadata": {},
   "outputs": [
    {
     "name": "stdout",
     "output_type": "stream",
     "text": [
      "290194\n",
      "351.0\n"
     ]
    }
   ],
   "source": [
    "#整数计算\n",
    "print(499*561+10620-365)\n",
    "print((5025-525)/100+18*17)"
   ]
  },
  {
   "cell_type": "code",
   "execution_count": null,
   "metadata": {},
   "outputs": [],
   "source": [
    "#运算符\n",
    "+加 2+1输出结果3\n",
    "-减 1-2输出结果-1\n",
    "*乘 1*2输出结果2\n",
    "/除 1/2输出结果0.5\n",
    "%取模 返回除法的余数 5%2输出结果1\n",
    "** 幂 返回x的y次幂 2**3为2的3次方\n",
    "// 取整除一返回商的整数部分 11//2输出结果5，11.0//2.0输出结果5.0"
   ]
  },
  {
   "cell_type": "code",
   "execution_count": 8,
   "metadata": {},
   "outputs": [
    {
     "name": "stdout",
     "output_type": "stream",
     "text": [
      "0.8500000000000001\n"
     ]
    }
   ],
   "source": [
    "print(0.55+0.3)\n",
    "#Python计算浮点数时，会先把0.55和0.3转化成二进制数【注：二进制数由0和1表示，逢二进一】如下\n",
    "\n",
    "##进制转换\n",
    "#0.55(十进制) = 0.1000110011001100110011001100110011001100110011001101(二进制)\n",
    "#0.3(十进制) = 0.0100110011001100110011001100110011001100110011001101(二进制)\n",
    "\n",
    "#这俩二进制数通过二进制法则运算后，再通过复杂的计算公式，将二进制结果转成十进制小数。\n",
    "#经过这两次转换，小数点后面就产生了多余的“尾巴”。这样，就造成了我们与程序计算结果的差异。"
   ]
  },
  {
   "cell_type": "code",
   "execution_count": 9,
   "metadata": {},
   "outputs": [
    {
     "name": "stdout",
     "output_type": "stream",
     "text": [
      "亚瑟秒掉李白获得First Blood\n",
      "李白秒掉亚瑟获得First Blood\n"
     ]
    }
   ],
   "source": [
    "#字符串拼接，注意数据类型都是str才可以\n",
    "hero1 = '亚瑟' \n",
    "hero2 = '李白'\n",
    "action = '秒掉'\n",
    "gain = '获得'\n",
    "achieve = 'First Blood'\n",
    "print(hero1+action+hero2+gain+achieve)\n",
    "print(hero2+action+hero1+gain+achieve)"
   ]
  },
  {
   "cell_type": "code",
   "execution_count": 10,
   "metadata": {},
   "outputs": [
    {
     "name": "stdout",
     "output_type": "stream",
     "text": [
      "<class 'str'>\n",
      "<class 'str'>\n",
      "<class 'str'>\n",
      "<class 'str'>\n",
      "<class 'int'>\n",
      "<class 'str'>\n"
     ]
    }
   ],
   "source": [
    "hero = '亚瑟' \n",
    "enemy = '敌方'\n",
    "action = '秒杀'\n",
    "gain = '获得'\n",
    "number = 5\n",
    "achieve = 'Penta Kill'\n",
    "print(type(hero))\n",
    "print(type(enemy))\n",
    "print(type(action))\n",
    "print(type(gain))\n",
    "print(type(number))\n",
    "print(type(achieve))"
   ]
  },
  {
   "cell_type": "code",
   "execution_count": 11,
   "metadata": {},
   "outputs": [
    {
     "name": "stdout",
     "output_type": "stream",
     "text": [
      "我一个电话立马有10000只山兔在你家楼下hola hola\n"
     ]
    }
   ],
   "source": [
    "slogan = '我一个电话立马有'\n",
    "character = '山兔'\n",
    "unit = '只'\n",
    "place = '在你家楼下'\n",
    "action = 'hola hola'\n",
    "number = 10000\n",
    "print(slogan+str(number)+unit+character+place+action)"
   ]
  },
  {
   "cell_type": "code",
   "execution_count": 12,
   "metadata": {},
   "outputs": [
    {
     "name": "stdout",
     "output_type": "stream",
     "text": [
      "我一个电话立马有500个吴亦凡在你家楼下skr skr\n",
      "我一个电话立马有500个吴亦凡在你家楼下skr skr\n"
     ]
    }
   ],
   "source": [
    "slogan = '我一个电话立马有'\n",
    "character = '吴亦凡'\n",
    "unit = '个'\n",
    "place = '在你家楼下'\n",
    "action = 'skr skr'\n",
    "number = 500\n",
    "print(slogan+str(number)+unit+character+place+action)\n",
    "print(slogan+'500'+unit+character+place+action)"
   ]
  },
  {
   "cell_type": "code",
   "execution_count": 13,
   "metadata": {},
   "outputs": [
    {
     "name": "stdout",
     "output_type": "stream",
     "text": [
      "666\n"
     ]
    }
   ],
   "source": [
    "bug = '666'\n",
    "hair = '0'\n",
    "print(int(bug)+int(hair))"
   ]
  },
  {
   "cell_type": "code",
   "execution_count": 14,
   "metadata": {},
   "outputs": [
    {
     "ename": "ValueError",
     "evalue": "invalid literal for int() with base 10: '3.8'",
     "output_type": "error",
     "traceback": [
      "\u001b[0;31m---------------------------------------------------------------------------\u001b[0m",
      "\u001b[0;31mValueError\u001b[0m                                Traceback (most recent call last)",
      "\u001b[0;32m<ipython-input-14-a432ed29b760>\u001b[0m in \u001b[0;36m<module>\u001b[0;34m\u001b[0m\n\u001b[1;32m      3\u001b[0m \u001b[0;31m# 其次，文字形式，比如中文、火星文或者标点符号，不可以被int()函数强制转换。\u001b[0m\u001b[0;34m\u001b[0m\u001b[0;34m\u001b[0m\u001b[0;34m\u001b[0m\u001b[0m\n\u001b[1;32m      4\u001b[0m \u001b[0;31m# 最后，小数形式的字符串，由于Python的语法规则，也不能使用int()函数强制转换。\u001b[0m\u001b[0;34m\u001b[0m\u001b[0;34m\u001b[0m\u001b[0;34m\u001b[0m\u001b[0m\n\u001b[0;32m----> 5\u001b[0;31m \u001b[0mprint\u001b[0m\u001b[0;34m(\u001b[0m\u001b[0mint\u001b[0m\u001b[0;34m(\u001b[0m\u001b[0;34m'3.8'\u001b[0m\u001b[0;34m)\u001b[0m\u001b[0;34m)\u001b[0m\u001b[0;34m\u001b[0m\u001b[0;34m\u001b[0m\u001b[0m\n\u001b[0m",
      "\u001b[0;31mValueError\u001b[0m: invalid literal for int() with base 10: '3.8'"
     ]
    }
   ],
   "source": [
    "#int()函数的使用，要注意一点：只有符合整数规范的字符串类数据，才能被int()强制转换。\n",
    "# 首先，整数形式的字符串比如'666'和'0'，可以被int()函数强制转换。\n",
    "# 其次，文字形式，比如中文、火星文或者标点符号，不可以被int()函数强制转换。\n",
    "# 最后，小数形式的字符串，由于Python的语法规则，也不能使用int()函数强制转换。\n",
    "print(int('3.8'))"
   ]
  },
  {
   "cell_type": "code",
   "execution_count": 15,
   "metadata": {},
   "outputs": [
    {
     "name": "stdout",
     "output_type": "stream",
     "text": [
      "3\n"
     ]
    }
   ],
   "source": [
    "#但是浮点数是可以被int()函数强制转换的。\n",
    "print(int(3.8))"
   ]
  },
  {
   "cell_type": "code",
   "execution_count": 16,
   "metadata": {},
   "outputs": [
    {
     "name": "stdout",
     "output_type": "stream",
     "text": [
      "3.8\n"
     ]
    }
   ],
   "source": [
    "print(str(3.8))"
   ]
  },
  {
   "cell_type": "code",
   "execution_count": 17,
   "metadata": {},
   "outputs": [
    {
     "name": "stdout",
     "output_type": "stream",
     "text": [
      "3.0\n"
     ]
    }
   ],
   "source": [
    "#字符串类型的整数可以被强制转换为浮点数\n",
    "print(float('3'))"
   ]
  },
  {
   "cell_type": "code",
   "execution_count": 18,
   "metadata": {},
   "outputs": [
    {
     "name": "stdout",
     "output_type": "stream",
     "text": [
      "3.0\n"
     ]
    }
   ],
   "source": [
    "#整数可以被强制转换为浮点数\n",
    "print(float(3))"
   ]
  },
  {
   "cell_type": "code",
   "execution_count": 19,
   "metadata": {},
   "outputs": [
    {
     "name": "stdout",
     "output_type": "stream",
     "text": [
      "183.5\n",
      "79.0\n",
      "30.0\n"
     ]
    }
   ],
   "source": [
    "height = 183.5\n",
    "weight = 79\n",
    "age = '30'\n",
    "print(float(height))\n",
    "print(float(weight))\n",
    "print(float(age))"
   ]
  },
  {
   "cell_type": "code",
   "execution_count": 20,
   "metadata": {},
   "outputs": [
    {
     "name": "stdout",
     "output_type": "stream",
     "text": [
      "4.8\n"
     ]
    }
   ],
   "source": [
    "word = '3.8'\n",
    "number = 1\n",
    "sentence = '人工智障说：3.8+1等于'\n",
    "\n",
    "print(float(word)+number)"
   ]
  },
  {
   "cell_type": "code",
   "execution_count": 21,
   "metadata": {},
   "outputs": [
    {
     "name": "stdout",
     "output_type": "stream",
     "text": [
      "人工智障说：3.8+1等于4\n"
     ]
    }
   ],
   "source": [
    "word = '3.8'\n",
    "number = 1\n",
    "sentence = '人工智障说：3.8+1等于'\n",
    "print(sentence+str(int(float(word)+number)))"
   ]
  },
  {
   "cell_type": "code",
   "execution_count": 4,
   "metadata": {},
   "outputs": [
    {
     "name": "stdin",
     "output_type": "stream",
     "text": [
      "how much score did you get? 30\n"
     ]
    },
    {
     "name": "stdout",
     "output_type": "stream",
     "text": [
      "fail\n",
      "please work hard\n"
     ]
    }
   ],
   "source": [
    "#注意缩进，缩进错误\n",
    "#IndentationError: expected an indented block（缩进错误：期望一个缩进块）\n",
    "historyscore=int(input('how much score did you get?'))\n",
    "if historyscore>=60:\n",
    "    print('pass')\n",
    "    if historyscore >=80:\n",
    "        print('well done')\n",
    "    else:\n",
    "        print('not bad')\n",
    "else:\n",
    "    print('fail')\n",
    "    if historyscore < 30:\n",
    "        print('no one can rescue you')\n",
    "    else:\n",
    "        print('please work hard')"
   ]
  },
  {
   "cell_type": "code",
   "execution_count": null,
   "metadata": {},
   "outputs": [],
   "source": [
    "#注意input的数据类型\n",
    "#input()函数的输入值（搜集到的回答），永远会被强制性地转换为字符串类型。（Python3固定规则）"
   ]
  },
  {
   "cell_type": "code",
   "execution_count": 5,
   "metadata": {},
   "outputs": [
    {
     "name": "stdout",
     "output_type": "stream",
     "text": [
      "脸黑怪我咯7蓝票一个SSR都没有\n"
     ]
    }
   ],
   "source": [
    "slogan = '脸黑怪我咯'\n",
    "number = '7.8'\n",
    "unit = '张'\n",
    "sentence = '蓝票一个SSR都没有'\n",
    "word = slogan + str(int(float(number))) + sentence \n",
    "print(word)"
   ]
  },
  {
   "cell_type": "code",
   "execution_count": null,
   "metadata": {},
   "outputs": [],
   "source": [
    "#以下为答案示例(stonenumber=0/1/2/3/4/5/6都是对的) \n",
    "stonenumber=5\n",
    "#偷回宝石数量赋值\n",
    "if stonenumber >= 4:#条件:如果你拥有的宝石数量大于等于4个 \n",
    "    print('获取打败灭霸的力量') #结果:显示‘获取打败灭霸的力量’的结果\n",
    "elif 1 < stonenumber <= 3:#条件:如果想让宝石数量停留在4至5个 \n",
    "    print('可以全员出动，殊死一搏')\n",
    "#结果:显示‘可以全员出动，殊死一搏’的结果 \n",
    "else:\n",
    "    print('没办法了，只能尝试呼叫惊奇队长')"
   ]
  },
  {
   "cell_type": "code",
   "execution_count": 7,
   "metadata": {},
   "outputs": [
    {
     "name": "stdin",
     "output_type": "stream",
     "text": [
      "您好，欢迎古灵阁，请问需要帮助吗?需要or不需要? 需要\n",
      "请问您需要什么帮助呢?1 存取款;2 货币兑换;3 咨询 1\n"
     ]
    },
    {
     "name": "stdout",
     "output_type": "stream",
     "text": [
      "请到存取款窗口办理\n"
     ]
    }
   ],
   "source": [
    "chioce = input('您好，欢迎古灵阁，请问需要帮助吗?需要or不需要?') \n",
    "if chioce == '需要':\n",
    "    number = input('请问您需要什么帮助呢?1 存取款;2 货币兑换;3 咨询')\n",
    "    if number == '2':\n",
    "        print('金加隆和人民币的兑换率为1:51.3，即一金加隆=51.3人民币')\n",
    "        print('请问您需要兑换多少金加隆呢?')\n",
    "        money = input('请输入你需要兑换的金加隆')\n",
    "        print('好的，我知道了，您需要兑换' + money + '金加隆。')\n",
    "        print('那么，您需要付给我'+str(int(money)*51.3)+'人民币。')\n",
    "    elif number == '1': \n",
    "        print('请到存取款窗口办理')\n",
    "    elif number == '3': \n",
    "        print('请到咨询窗口咨询')\n",
    "    else:\n",
    "        print('输入错误，没有你需要的服务')\n",
    "elif chioce == '不需要':\n",
    "    print('好的，再见')\n",
    "else:\n",
    "    print('输入错误')"
   ]
  },
  {
   "cell_type": "code",
   "execution_count": 8,
   "metadata": {},
   "outputs": [
    {
     "name": "stdout",
     "output_type": "stream",
     "text": [
      "[5, 6, 7, 8, 9]\n",
      "[7, 8, 9]\n",
      "[5, 6]\n",
      "[6, 7]\n",
      "[7, 8]\n"
     ]
    }
   ],
   "source": [
    "#左右空,取到头;左要取，右不取。\n",
    "list2 = [5,6,7,8,9]\n",
    "print(list2[:])\n",
    "print(list2[2:])\n",
    "#7,8,9\n",
    "print(list2[:2])\n",
    "#5,6\n",
    "print(list2[1:3])\n",
    "#6,7\n",
    "print(list2[2:4])\n",
    "#7,8"
   ]
  },
  {
   "cell_type": "code",
   "execution_count": null,
   "metadata": {},
   "outputs": [],
   "source": [
    "#append\n",
    "#TypeError\n",
    "#append() takes exactly one argument (2 given)\n",
    "#append后的括号里只能接受一个参数\n",
    "students = ['小明','小红','小刚']\n",
    "students.append('小美')\n",
    "print(students)"
   ]
  },
  {
   "cell_type": "code",
   "execution_count": 9,
   "metadata": {},
   "outputs": [
    {
     "name": "stdout",
     "output_type": "stream",
     "text": [
      "['小明', '小刚', '小美']\n"
     ]
    }
   ],
   "source": [
    "students = ['小明','小红','小刚','小美']\n",
    "del students[1]\n",
    "print(students)\n",
    "#del语句非常方便，既能删除一个元素，也能一次删除多个元素（原理和切片类似，左取右不取）"
   ]
  },
  {
   "cell_type": "code",
   "execution_count": 10,
   "metadata": {},
   "outputs": [
    {
     "name": "stdout",
     "output_type": "stream",
     "text": [
      "3\n",
      "3\n"
     ]
    }
   ],
   "source": [
    "students = ['小明','小红','小刚']\n",
    "scores = {'小明':95,'小红':90,'小刚':90}\n",
    "print(len(students))\n",
    "print(len(scores))"
   ]
  },
  {
   "cell_type": "code",
   "execution_count": 11,
   "metadata": {},
   "outputs": [
    {
     "name": "stdout",
     "output_type": "stream",
     "text": [
      "{'王力宏': '心中的日月'}\n",
      "{'王力宏': '心中的日月', '周杰伦': '十一月的萧邦'}\n",
      "十一月的萧邦\n"
     ]
    }
   ],
   "source": [
    "album = {'周杰伦':'七里香','王力宏':'心中的日月'}\n",
    "del album['周杰伦']\n",
    "print(album)\n",
    "album['周杰伦'] = '十一月的萧邦'\n",
    "print(album)\n",
    "print(album['周杰伦'])"
   ]
  },
  {
   "cell_type": "code",
   "execution_count": 12,
   "metadata": {},
   "outputs": [
    {
     "name": "stdout",
     "output_type": "stream",
     "text": [
      "['小明', '小蓝', '小刚', '小美']\n",
      "{'小明': '女'}\n"
     ]
    }
   ],
   "source": [
    "#列表中的数据是有序排列的，而字典中的数据是随机排列的。\n",
    "list1 = ['小明','小红','小刚','小美']\n",
    "list1[1] = '小蓝'\n",
    "print(list1)\n",
    "dict1 = {'小明':'男'}\n",
    "dict1['小明'] = '女'\n",
    "print(dict1)"
   ]
  },
  {
   "cell_type": "code",
   "execution_count": 13,
   "metadata": {},
   "outputs": [
    {
     "name": "stdout",
     "output_type": "stream",
     "text": [
      "小芳\n"
     ]
    }
   ],
   "source": [
    "students = [['小明','小红','小刚','小美'],['小强','小兰','小伟','小芳']]\n",
    "print(students[1][3])"
   ]
  },
  {
   "cell_type": "code",
   "execution_count": 14,
   "metadata": {},
   "outputs": [
    {
     "name": "stdout",
     "output_type": "stream",
     "text": [
      "100\n"
     ]
    }
   ],
   "source": [
    "scores = {\n",
    "    '第一组':{'小明':95,'小红':90,'小刚':100,'小美':85},\n",
    "    '第二组':{'小强':99,'小兰':89,'小伟':93,'小芳':88}\n",
    "    }\n",
    "print(scores['第一组']['小刚'])"
   ]
  },
  {
   "cell_type": "code",
   "execution_count": 15,
   "metadata": {},
   "outputs": [
    {
     "name": "stdout",
     "output_type": "stream",
     "text": [
      "love\n"
     ]
    }
   ],
   "source": [
    "dict1 = {1:['cake','scone','puff'],2:['London','Bristol','Bath'],3: ['love','hatred','envy']}\n",
    "print(dict1[3][0])"
   ]
  },
  {
   "cell_type": "code",
   "execution_count": 16,
   "metadata": {},
   "outputs": [
    {
     "name": "stdout",
     "output_type": "stream",
     "text": [
      "love\n"
     ]
    }
   ],
   "source": [
    "dict1 = {1:['cake','scone','puff'],2:['London','Bristol','Bath'],3: ['love','hatred','envy']}\n",
    "print(dict1[3][0])"
   ]
  },
  {
   "cell_type": "code",
   "execution_count": 17,
   "metadata": {},
   "outputs": [
    {
     "name": "stdout",
     "output_type": "stream",
     "text": [
      "1\n",
      "2\n",
      "3\n",
      "4\n",
      "5\n",
      "事情全部办完了！现在留在空房间里的人是谁？\n",
      "5\n"
     ]
    }
   ],
   "source": [
    "#for循环，遍历\n",
    "for i in [1,2,3,4,5]:\n",
    "    print(i)\n",
    "print('事情全部办完了！现在留在空房间里的人是谁？')\n",
    "print(i)"
   ]
  },
  {
   "cell_type": "code",
   "execution_count": 18,
   "metadata": {},
   "outputs": [
    {
     "name": "stdout",
     "output_type": "stream",
     "text": [
      "日本\n",
      "英国\n",
      "法国\n"
     ]
    }
   ],
   "source": [
    "dict1 = {'日本':'东京','英国':'伦敦','法国':'巴黎'}\n",
    "for i in dict1:\n",
    "    print(i)"
   ]
  },
  {
   "cell_type": "code",
   "execution_count": 19,
   "metadata": {},
   "outputs": [
    {
     "name": "stdout",
     "output_type": "stream",
     "text": [
      "0\n",
      "3\n",
      "6\n",
      "9\n"
     ]
    }
   ],
   "source": [
    "for i in range(0,10,3):\n",
    "    print(i)"
   ]
  },
  {
   "cell_type": "code",
   "execution_count": 20,
   "metadata": {},
   "outputs": [
    {
     "name": "stdout",
     "output_type": "stream",
     "text": [
      "醋\n",
      "油\n",
      "盐\n",
      "米\n"
     ]
    }
   ],
   "source": [
    "d = {'小明':'醋','小红':'油','小白':'盐','小张':'米'}\n",
    "for i in d:\n",
    "    print(d[i])"
   ]
  },
  {
   "cell_type": "code",
   "execution_count": 21,
   "metadata": {},
   "outputs": [
    {
     "name": "stdin",
     "output_type": "stream",
     "text": [
      "有没有愿意为小龙女死的男人？没有的话就不能出古墓。 有\n"
     ]
    },
    {
     "name": "stdout",
     "output_type": "stream",
     "text": [
      "小龙女可以出古墓门下山啦~\n"
     ]
    }
   ],
   "source": [
    "man = ''  # 注：''代表空字符串\n",
    "while man != '有':\n",
    "    #注：!=代表不等于\n",
    "    man = input('有没有愿意为小龙女死的男人？没有的话就不能出古墓。')\n",
    "print('小龙女可以出古墓门下山啦~')"
   ]
  },
  {
   "cell_type": "code",
   "execution_count": 24,
   "metadata": {},
   "outputs": [
    {
     "name": "stdout",
     "output_type": "stream",
     "text": [
      "5\n"
     ]
    }
   ],
   "source": [
    "a = 0\n",
    "while a < 5:\n",
    "    a = a + 1\n",
    "print(a)"
   ]
  },
  {
   "cell_type": "code",
   "execution_count": 25,
   "metadata": {},
   "outputs": [
    {
     "name": "stdout",
     "output_type": "stream",
     "text": [
      "1\n",
      "2\n",
      "3\n",
      "4\n",
      "5\n"
     ]
    }
   ],
   "source": [
    "a = 0\n",
    "while a < 5:\n",
    "    a = a + 1\n",
    "    print(a)"
   ]
  },
  {
   "cell_type": "code",
   "execution_count": 26,
   "metadata": {},
   "outputs": [
    {
     "name": "stdout",
     "output_type": "stream",
     "text": [
      "现在a的值是：0\n",
      "加1后a的值是：1\n",
      "现在a的值是：1\n",
      "加1后a的值是：2\n",
      "现在a的值是：2\n",
      "加1后a的值是：3\n",
      "现在a的值是：3\n",
      "加1后a的值是：4\n",
      "现在a的值是：4\n",
      "加1后a的值是：5\n",
      "5\n"
     ]
    }
   ],
   "source": [
    "a = 0  # 定义了一个变量a\n",
    "while a < 5:  # 当a小于5的时候，就自动执行后续缩进部分的语句\n",
    "    print('现在a的值是：' + str(a)) #加一个print看看现在的a是多少\n",
    "    a = a + 1  # 每执行一次循环，变量a的值都加1\n",
    "    print('加1后a的值是：' + str(a)) #加一个print看看加1后的a是多少\n",
    "print(a)"
   ]
  },
  {
   "cell_type": "code",
   "execution_count": null,
   "metadata": {},
   "outputs": [],
   "source": [
    "#当我们【工作量确定】的时候，我们就可以让for循环来完成重复性工作。反之，要【工作量不确定时】可以让while循环来工作"
   ]
  },
  {
   "cell_type": "code",
   "execution_count": 29,
   "metadata": {},
   "outputs": [
    {
     "name": "stdout",
     "output_type": "stream",
     "text": [
      "1\n",
      "2\n",
      "3\n",
      "5\n",
      "6\n",
      "7\n"
     ]
    }
   ],
   "source": [
    "# while 循环 \n",
    "n=0\n",
    "while n < 7:\n",
    "    n = n+1\n",
    "    if n != 4: # 当num != 4，执行打印语句;等于4时不打印。\n",
    "        print(n)"
   ]
  },
  {
   "cell_type": "code",
   "execution_count": 30,
   "metadata": {},
   "outputs": [
    {
     "name": "stdout",
     "output_type": "stream",
     "text": [
      "1\n",
      "2\n",
      "3\n",
      "5\n",
      "6\n",
      "7\n"
     ]
    }
   ],
   "source": [
    "# for 循环\n",
    "for num in range(1,8): # 为同时能运行两个循环，新取参数 num。\n",
    "    if num != 4: # 当num != 4，执行打印语句;等于4时不打印。 \n",
    "        print(num)"
   ]
  },
  {
   "cell_type": "code",
   "execution_count": 33,
   "metadata": {},
   "outputs": [
    {
     "name": "stdout",
     "output_type": "stream",
     "text": [
      "['小红', '小刚', '小明']\n",
      "['小刚', '小明', '小红']\n",
      "['小明', '小红', '小刚']\n"
     ]
    }
   ],
   "source": [
    "#轮流做前排\n",
    "students = ['小明','小红','小刚'] \n",
    "for i in range(3):\n",
    "    student1 = students[0] \n",
    "    students = students[1:] \n",
    "    students.append(student1) \n",
    "    print(students)"
   ]
  },
  {
   "cell_type": "code",
   "execution_count": 34,
   "metadata": {},
   "outputs": [
    {
     "name": "stdout",
     "output_type": "stream",
     "text": [
      "['小红', '小刚', '小明']\n",
      "['小刚', '小明', '小红']\n",
      "['小明', '小红', '小刚']\n"
     ]
    }
   ],
   "source": [
    "#轮流做前排\n",
    "#pop()函数，用于移除列表中的一个元素(默认最后一个元素)，并且返回该元素的值。 \n",
    "#可以将其理解为提取和删除的融合:1提取:取到元素，对列表没有影响;2删除:删除列表 的元素。\n",
    "而移除，则是同时做到取到元素，并且删除列表中的元素。\n",
    "students = ['小明','小红','小刚'] \n",
    "for i in range(3):\n",
    "    student1 = students.pop(0) \n",
    "    students.append(student1) \n",
    "    print(students)"
   ]
  },
  {
   "cell_type": "code",
   "execution_count": 35,
   "metadata": {},
   "outputs": [
    {
     "name": "stdout",
     "output_type": "stream",
     "text": [
      "True\n",
      "False\n",
      "True\n",
      "True\n"
     ]
    }
   ],
   "source": [
    "#布尔运算\n",
    "print(3<5)\n",
    "print(3>5)\n",
    "print('长安'=='长安')  \n",
    "print('长安'!='金陵')"
   ]
  },
  {
   "cell_type": "code",
   "execution_count": 36,
   "metadata": {},
   "outputs": [],
   "source": [
    "while False:\n",
    "    print('while False')\n",
    "#while循环执行，必须要while后的条件为“真”，而【布尔值】False本身就是“假”，所以这个循环一次都没运行就结束了。"
   ]
  },
  {
   "cell_type": "code",
   "execution_count": 37,
   "metadata": {},
   "outputs": [
    {
     "name": "stdout",
     "output_type": "stream",
     "text": [
      "if True\n"
     ]
    }
   ],
   "source": [
    "if False:\n",
    "    print('if False')\n",
    "if True:\n",
    "    print('if True')"
   ]
  },
  {
   "cell_type": "code",
   "execution_count": null,
   "metadata": {},
   "outputs": [],
   "source": [
    "# 计算机用数据做判断的过程\n",
    "# 1.用数据做逻辑判断的过程叫做[布尔运算]\n",
    "# 2. [布尔运算]会产生[布尔值]\n",
    "# 3. [布尔值]分为True (判断为真)和False (判断为假)\n",
    "# 4. True和False就像[开关]一样，决定if语句和while循环语句是否运行"
   ]
  },
  {
   "cell_type": "code",
   "execution_count": 38,
   "metadata": {},
   "outputs": [
    {
     "name": "stdout",
     "output_type": "stream",
     "text": [
      "熊猫\n"
     ]
    }
   ],
   "source": [
    "if 1:\n",
    "    print('熊猫')"
   ]
  },
  {
   "cell_type": "code",
   "execution_count": null,
   "metadata": {},
   "outputs": [],
   "source": [
    "# 假的 \n",
    "# False 整数0 空字符串''空列表[] 空字典{}None\n",
    "# 真的\n",
    "# True 任意整数 任意浮点数 非空字符串 非空列表[1,2,3] 非空字典{1:'春风' ,2:'秋分'}\n",
    "#None，它代表的是【空值】，自成一派，数据类型是NoneType。要注意它和0的区别，0是整数0，可并非什么都没有。"
   ]
  },
  {
   "cell_type": "code",
   "execution_count": 46,
   "metadata": {},
   "outputs": [
    {
     "name": "stdout",
     "output_type": "stream",
     "text": [
      "以下数据判断结果都是【假】：\n",
      "False\n",
      "False\n",
      "False\n",
      "False\n",
      "False\n",
      "False\n",
      "以下数据判断结果都是【真】：\n",
      "True\n",
      "True\n",
      "True\n",
      "True\n",
      "True\n"
     ]
    }
   ],
   "source": [
    "#bool()函数来查看一个数据会被判断为真还是假。\n",
    "print('以下数据判断结果都是【假】：')\n",
    "print(bool(False))\n",
    "print(bool(0))\n",
    "print(bool(''))\n",
    "print(bool(None))\n",
    "print(bool([]))\n",
    "print(bool({}))\n",
    "\n",
    "print('以下数据判断结果都是【真】：')\n",
    "print(bool(True))\n",
    "print(bool(1))\n",
    "print(bool('abc'))\n",
    "print (bool([1,2,3]))\n",
    "print (bool({1:1 ,2:2}))"
   ]
  },
  {
   "cell_type": "code",
   "execution_count": 40,
   "metadata": {},
   "outputs": [
    {
     "name": "stdout",
     "output_type": "stream",
     "text": [
      "以下是and运算\n",
      "False\n",
      "以下是or运算\n",
      "True\n"
     ]
    }
   ],
   "source": [
    "#布尔值之间的运算\n",
    "# True and True 为真\n",
    "# True and False 为假\n",
    "# False and True 为假\n",
    "# False and False 为假\n",
    "# True or True 为真\n",
    "# True or False 为真\n",
    "# False or True 为真\n",
    "# False or False 为假\n",
    "a = 1\n",
    "b = -1\n",
    "print('以下是and运算')\n",
    "if a==1 and b==1:    # 【b实际上是-1】\n",
    "    print('True')\n",
    "else:\n",
    "    print('False')\n",
    "print('以下是or运算')\n",
    "if a==1 or b==1:  # 【b实际上是-1】\n",
    "    print('True')\n",
    "else:\n",
    "    print('False')"
   ]
  },
  {
   "cell_type": "code",
   "execution_count": 41,
   "metadata": {},
   "outputs": [
    {
     "name": "stdout",
     "output_type": "stream",
     "text": [
      "True\n",
      "False\n"
     ]
    }
   ],
   "source": [
    "# not True 为假\n",
    "# not False 为真\n",
    "#【in】的意思是“判断一个元素是否在一堆数据之中”，【not in】反之。这个超简单的\n",
    "list = [1,2,3,4,5]\n",
    "a = 1\n",
    "# 做一次布尔运算，判断“a是否在列表list之中”\n",
    "print(bool(a in list))\n",
    "print(bool(a not in list))"
   ]
  },
  {
   "cell_type": "code",
   "execution_count": 42,
   "metadata": {},
   "outputs": [
    {
     "name": "stdout",
     "output_type": "stream",
     "text": [
      "True\n"
     ]
    }
   ],
   "source": [
    "dict2 = {'法国':'巴黎','日本':'东京','中国':'北京'}\n",
    "a = '法国'\n",
    "print(bool(a in dict2))"
   ]
  },
  {
   "cell_type": "code",
   "execution_count": 43,
   "metadata": {},
   "outputs": [
    {
     "name": "stdout",
     "output_type": "stream",
     "text": [
      "True\n",
      "False\n",
      "False\n",
      "True\n",
      "False\n",
      "True\n"
     ]
    }
   ],
   "source": [
    "# [第一种计算:两个数值做比较]\n",
    "#一共有6种比较方式: ==、!=、>、<、>=、<=\n",
    "print(3==3.0)\n",
    "#判断为真\n",
    "print('a'!='a')\n",
    "#判断为假\n",
    "print(3>5)\n",
    "#判断为假\n",
    "print(3<5)\n",
    "#判断为真\n",
    "print(100>=101)\n",
    "#判断为假\n",
    "print(100<=101)\n",
    "#判断为真"
   ]
  },
  {
   "cell_type": "code",
   "execution_count": 48,
   "metadata": {},
   "outputs": [
    {
     "name": "stdout",
     "output_type": "stream",
     "text": [
      "把这句话打印10遍\n",
      "把这句话打印10遍\n",
      "把这句话打印10遍\n",
      "把这句话打印10遍\n",
      "把这句话打印10遍\n",
      "把这句话打印10遍\n",
      "把这句话打印10遍\n",
      "把这句话打印10遍\n",
      "把这句话打印10遍\n",
      "把这句话打印10遍\n"
     ]
    }
   ],
   "source": [
    "i = 10\n",
    "while i:\n",
    "    print('把这句话打印10遍')\n",
    "    i = i-1"
   ]
  },
  {
   "cell_type": "code",
   "execution_count": 49,
   "metadata": {},
   "outputs": [
    {
     "name": "stdout",
     "output_type": "stream",
     "text": [
      "明日复明日\n",
      "明日复明日\n",
      "明日复明日\n",
      "明日复明日\n"
     ]
    }
   ],
   "source": [
    "#if...break的意思是如果满足了某一个条件，就提前结束循环。记住，这个只能在循环内部使用。\n",
    "#就是说在for，和while等循环体里面写\n",
    "for i in range(5):\n",
    "    print('明日复明日')\n",
    "    if i==3:  # 当i等于3的时候触发\n",
    "        break # 结束循环，i=4不再有"
   ]
  },
  {
   "cell_type": "code",
   "execution_count": 50,
   "metadata": {},
   "outputs": [
    {
     "name": "stdout",
     "output_type": "stream",
     "text": [
      "明日复明日\n",
      "明日复明日\n",
      "明日复明日\n"
     ]
    }
   ],
   "source": [
    "i = 0\n",
    "while i<5:\n",
    "    print('明日复明日')\n",
    "    i = i+1\n",
    "    if i==3:  # 当i等于3的时候触发\n",
    "        break # 结束循环"
   ]
  },
  {
   "cell_type": "code",
   "execution_count": 51,
   "metadata": {},
   "outputs": [
    {
     "name": "stdout",
     "output_type": "stream",
     "text": [
      "上供一对童男童女\n"
     ]
    },
    {
     "name": "stdin",
     "output_type": "stream",
     "text": [
      "孙悟空来了吗 没来\n"
     ]
    },
    {
     "name": "stdout",
     "output_type": "stream",
     "text": [
      "上供一对童男童女\n"
     ]
    },
    {
     "name": "stdin",
     "output_type": "stream",
     "text": [
      "孙悟空来了吗 来了\n"
     ]
    },
    {
     "name": "stdout",
     "output_type": "stream",
     "text": [
      "孙悟空制服了鲤鱼精，陈家庄再也不用上供童男童女了\n"
     ]
    }
   ],
   "source": [
    "#while True常和if，break语句搭配使用\n",
    "while True:    \n",
    "    print('上供一对童男童女')\n",
    "    t = input('孙悟空来了吗')\n",
    "    if t == '来了':\n",
    "        break\n",
    "print('孙悟空制服了鲤鱼精，陈家庄再也不用上供童男童女了')"
   ]
  },
  {
   "cell_type": "code",
   "execution_count": 52,
   "metadata": {},
   "outputs": [
    {
     "name": "stdout",
     "output_type": "stream",
     "text": [
      "明日复明日\n",
      "这句话在i等于3的时候打印不出来\n",
      "明日复明日\n",
      "这句话在i等于3的时候打印不出来\n",
      "明日复明日\n",
      "这句话在i等于3的时候打印不出来\n",
      "明日复明日\n",
      "明日复明日\n",
      "这句话在i等于3的时候打印不出来\n"
     ]
    }
   ],
   "source": [
    "#continue的意思是“继续”。这个子句也是在循环内部使用的。常常是if，continue\n",
    "#当某个条件被满足的时候，触发continue语句，将跳过之后的代码，直接回到循环的开始。\n",
    "for i in range(5):\n",
    "    print('明日复明日')\n",
    "    if i==3:  # 当i等于3的时候触发\n",
    "        continue # 回到循环开头\n",
    "    print('这句话在i等于3的时候打印不出来')\n",
    "# continue语句搭配while循环"
   ]
  },
  {
   "cell_type": "code",
   "execution_count": 53,
   "metadata": {},
   "outputs": [
    {
     "name": "stdout",
     "output_type": "stream",
     "text": [
      "明日复明日\n",
      "这句话在i等于3的时候打印不出来\n",
      "明日复明日\n",
      "这句话在i等于3的时候打印不出来\n",
      "明日复明日\n",
      "明日复明日\n",
      "这句话在i等于3的时候打印不出来\n",
      "明日复明日\n",
      "这句话在i等于3的时候打印不出来\n"
     ]
    }
   ],
   "source": [
    "i = 0\n",
    "while i<5:\n",
    "    print('明日复明日')\n",
    "    i = i+1\n",
    "    if i==3:  # 当i等于3的时候触发\n",
    "        continue # 回到循环开头\n",
    "    print('这句话在i等于3的时候打印不出来')"
   ]
  },
  {
   "cell_type": "code",
   "execution_count": 54,
   "metadata": {},
   "outputs": [
    {
     "name": "stdin",
     "output_type": "stream",
     "text": [
      "第一问：你一生之中，在什么地方最是快乐逍遥？ 黑暗的冰窖\n"
     ]
    },
    {
     "name": "stdout",
     "output_type": "stream",
     "text": [
      "答对了，下面是第二问：\n"
     ]
    },
    {
     "name": "stdin",
     "output_type": "stream",
     "text": [
      "你生平最爱之人，叫什么名字？ 梦姑\n"
     ]
    },
    {
     "name": "stdout",
     "output_type": "stream",
     "text": [
      "答对了，下面是第三问：\n"
     ]
    },
    {
     "name": "stdin",
     "output_type": "stream",
     "text": [
      "你最爱的这个人相貌如何？ 不知道\n"
     ]
    },
    {
     "name": "stdout",
     "output_type": "stream",
     "text": [
      "都答对了，你是虚竹。\n"
     ]
    }
   ],
   "source": [
    "while True:\n",
    "    q1 = input('第一问：你一生之中，在什么地方最是快乐逍遥？')\n",
    "    if q1 != '黑暗的冰窖':\n",
    "        continue\n",
    "    print('答对了，下面是第二问：')\n",
    "    q2 = input('你生平最爱之人，叫什么名字？')\n",
    "    if q2 != '梦姑':\n",
    "        continue\n",
    "    print('答对了，下面是第三问：')\n",
    "    q3 = input('你最爱的这个人相貌如何？')\n",
    "    if q3 == '不知道':\n",
    "        break\n",
    "print('都答对了，你是虚竹。')"
   ]
  },
  {
   "cell_type": "code",
   "execution_count": 55,
   "metadata": {},
   "outputs": [
    {
     "name": "stdin",
     "output_type": "stream",
     "text": [
      "请输入一个整数: 2\n"
     ]
    },
    {
     "name": "stdout",
     "output_type": "stream",
     "text": [
      "你输入了一个小于100的数字\n"
     ]
    }
   ],
   "source": [
    "#pass语句\n",
    "a = int(input('请输入一个整数:'))\n",
    "if a > 100:\n",
    "    pass\n",
    "else:\n",
    "    print('你输入了一个小于100的数字')"
   ]
  },
  {
   "cell_type": "code",
   "execution_count": null,
   "metadata": {},
   "outputs": [],
   "source": [
    "#else不但可以和if配合使用，它还能跟for循环和while循环配合使用。"
   ]
  },
  {
   "cell_type": "code",
   "execution_count": 56,
   "metadata": {},
   "outputs": [
    {
     "name": "stdin",
     "output_type": "stream",
     "text": [
      "请输入0来结束循环，你有5次机会: 1\n",
      "请输入0来结束循环，你有5次机会: 2\n",
      "请输入0来结束循环，你有5次机会: 3\n",
      "请输入0来结束循环，你有5次机会: 4\n",
      "请输入0来结束循环，你有5次机会: 5\n"
     ]
    },
    {
     "name": "stdout",
     "output_type": "stream",
     "text": [
      "5次循环你都错过了，else语句生效了。\n"
     ]
    }
   ],
   "source": [
    "for i in range(5):\n",
    "    a = int(input('请输入0来结束循环，你有5次机会:'))\n",
    "    if a == 0:\n",
    "        print('你触发了break语句，循环结束，导致else语句不会生效。')    \n",
    "        break\n",
    "else:\n",
    "    print('5次循环你都错过了，else语句生效了。')"
   ]
  },
  {
   "cell_type": "code",
   "execution_count": 57,
   "metadata": {},
   "outputs": [
    {
     "name": "stdin",
     "output_type": "stream",
     "text": [
      "请输入0结束循环，你有5次机会: 1\n",
      "请输入0结束循环，你有5次机会: 0\n"
     ]
    },
    {
     "name": "stdout",
     "output_type": "stream",
     "text": [
      "你触发了break语句，导致else语句不会生效。\n"
     ]
    }
   ],
   "source": [
    "i = 0\n",
    "while i<5: \n",
    "    a = int(input('请输入0结束循环，你有5次机会:'))\n",
    "    i = i+1\n",
    "    if a == 0:\n",
    "        print('你触发了break语句，导致else语句不会生效。')    \n",
    "        break\n",
    "else:\n",
    "    print('5次循环你都错过了，else语句生效了。')"
   ]
  },
  {
   "cell_type": "code",
   "execution_count": null,
   "metadata": {},
   "outputs": [],
   "source": [
    "# 四种语句\n",
    "# break语句，从循环内跳出(必须和f语句连用)\n",
    "# continue语句，跳跃到循环开头(必须和If语句连用)\n",
    "# pass语句，什么都不做(常用在if语句下)\n",
    "# else语句，用在循环语句后，如果正常结束循环就执行else语句(没有遇到break)"
   ]
  },
  {
   "cell_type": "code",
   "execution_count": 64,
   "metadata": {},
   "outputs": [
    {
     "name": "stdin",
     "output_type": "stream",
     "text": [
      "can you guess the num? 32\n"
     ]
    },
    {
     "name": "stdout",
     "output_type": "stream",
     "text": [
      "you are wrong\n",
      "it is too big\n"
     ]
    },
    {
     "name": "stdin",
     "output_type": "stream",
     "text": [
      "can you guess the num? 21\n"
     ]
    },
    {
     "name": "stdout",
     "output_type": "stream",
     "text": [
      "you are wrong\n",
      "it is too small\n"
     ]
    },
    {
     "name": "stdin",
     "output_type": "stream",
     "text": [
      "can you guess the num? 24\n"
     ]
    },
    {
     "name": "stdout",
     "output_type": "stream",
     "text": [
      "you are right\n"
     ]
    }
   ],
   "source": [
    "#mycode\n",
    "import time\n",
    "guessnum=24\n",
    "while True:\n",
    "    input_num=int(input('can you guess the num?'))\n",
    "    if input_num==24:\n",
    "        print('you are right')\n",
    "        break\n",
    "    else:\n",
    "        print('you are wrong')\n",
    "        time.sleep(1)\n",
    "        if input_num<24:\n",
    "            print('it is too small')\n",
    "            time.sleep(1)\n",
    "#             continue\n",
    "        else:\n",
    "            print('it is too big')\n",
    "            time.sleep(1)\n",
    "#             continue"
   ]
  },
  {
   "cell_type": "code",
   "execution_count": 63,
   "metadata": {},
   "outputs": [
    {
     "name": "stdin",
     "output_type": "stream",
     "text": [
      "你来猜猜我的秘密数字是多少: 21\n"
     ]
    },
    {
     "name": "stdout",
     "output_type": "stream",
     "text": [
      "你猜的太小了，请重新猜猜~\n"
     ]
    },
    {
     "name": "stdin",
     "output_type": "stream",
     "text": [
      "你来猜猜我的秘密数字是多少: 24\n"
     ]
    },
    {
     "name": "stdout",
     "output_type": "stream",
     "text": [
      "正确！你很棒哦。\n"
     ]
    }
   ],
   "source": [
    "#sample\n",
    "secret = 24  #设定秘密数字\n",
    "while True:       \n",
    "    guess = input('你来猜猜我的秘密数字是多少:')   #输入猜测数字\n",
    "    if int(guess)==secret:  #数字对比\n",
    "        print('正确！你很棒哦。') \n",
    "        break\n",
    "    elif int(guess)>secret:\n",
    "        print('你猜的太大了，请重新猜猜~')\n",
    "    else:\n",
    "        print('你猜的太小了，请重新猜猜~')"
   ]
  },
  {
   "cell_type": "code",
   "execution_count": 68,
   "metadata": {},
   "outputs": [
    {
     "name": "stdin",
     "output_type": "stream",
     "text": [
      "can you guess the num? 34\n"
     ]
    },
    {
     "name": "stdout",
     "output_type": "stream",
     "text": [
      "it is too big\n"
     ]
    },
    {
     "name": "stdin",
     "output_type": "stream",
     "text": [
      "can you guess the num? 21\n"
     ]
    },
    {
     "name": "stdout",
     "output_type": "stream",
     "text": [
      "it is too small\n"
     ]
    },
    {
     "name": "stdin",
     "output_type": "stream",
     "text": [
      "can you guess the num? 46\n"
     ]
    },
    {
     "name": "stdout",
     "output_type": "stream",
     "text": [
      "it is too big\n",
      "you has used up 3 times!\n"
     ]
    }
   ],
   "source": [
    "#mycode\n",
    "i=0\n",
    "guess=24\n",
    "while i <3:\n",
    "    input_num=int(input('can you guess the num?'))\n",
    "    if input_num==guess:\n",
    "        print('you are right')\n",
    "        break\n",
    "    elif input_num<24:\n",
    "        print('it is too small')\n",
    "        i+=1\n",
    "    elif input_num>24:\n",
    "        print('it is too big')\n",
    "        i+=1\n",
    "else:\n",
    "    print('you has used up 3 times!')"
   ]
  },
  {
   "cell_type": "code",
   "execution_count": 65,
   "metadata": {},
   "outputs": [
    {
     "name": "stdin",
     "output_type": "stream",
     "text": [
      "guess which number is my secret: 34\n"
     ]
    },
    {
     "name": "stdout",
     "output_type": "stream",
     "text": [
      "你猜的太大了，请重新猜猜~\n"
     ]
    },
    {
     "name": "stdin",
     "output_type": "stream",
     "text": [
      "guess which number is my secret: 45\n"
     ]
    },
    {
     "name": "stdout",
     "output_type": "stream",
     "text": [
      "你猜的太大了，请重新猜猜~\n"
     ]
    },
    {
     "name": "stdin",
     "output_type": "stream",
     "text": [
      "guess which number is my secret: 24\n"
     ]
    },
    {
     "name": "stdout",
     "output_type": "stream",
     "text": [
      "正确！你很棒哦。\n"
     ]
    }
   ],
   "source": [
    "#sample\n",
    "secret = 24\n",
    "for i in range(3):\n",
    "    guess = input('guess which number is my secret:')\n",
    "    if  int(guess) ==secret:\n",
    "        print('正确！你很棒哦。')  #输出结果\n",
    "        break\n",
    "    elif int(guess)>secret:\n",
    "        print('你猜的太大了，请重新猜猜~')\n",
    "    else:\n",
    "        print('你猜的太小了，请重新猜猜~')\n",
    "else:\n",
    "    print('给你3次机会都猜不到，你失败了。')"
   ]
  },
  {
   "cell_type": "code",
   "execution_count": null,
   "metadata": {},
   "outputs": [],
   "source": [
    "#sample\n",
    "while True:\n",
    "    a = input('A，你认罪吗?请回答认罪或者不认') \n",
    "    b = input('B，你认罪吗?请回答认罪或者不认') \n",
    "    if a == '认罪' and b == '认罪':\n",
    "        print('两人都得判10年，唉') \n",
    "    elif a == '不认' and b == '认罪':\n",
    "        print('A判20年，B判1年，唉') \n",
    "    elif a == '认罪' and b == '不认':\n",
    "        print('A判1年，B判20年') \n",
    "    else:\n",
    "        print('都判3年，太棒了')\n",
    "        break # 当满足开头提到的条件时，跳出循环。"
   ]
  },
  {
   "cell_type": "code",
   "execution_count": 69,
   "metadata": {},
   "outputs": [
    {
     "name": "stdin",
     "output_type": "stream",
     "text": [
      "A认罪吗 认罪\n",
      "B认罪吗 不认罪\n"
     ]
    },
    {
     "name": "stdout",
     "output_type": "stream",
     "text": [
      "A判20年,B判1年\n"
     ]
    },
    {
     "name": "stdin",
     "output_type": "stream",
     "text": [
      "A认罪吗 不认罪\n",
      "B认罪吗 认罪\n"
     ]
    },
    {
     "name": "stdout",
     "output_type": "stream",
     "text": [
      "A判1年,B判20年\n"
     ]
    },
    {
     "name": "stdin",
     "output_type": "stream",
     "text": [
      "A认罪吗 不认罪\n",
      "B认罪吗 不认罪\n"
     ]
    },
    {
     "name": "stdout",
     "output_type": "stream",
     "text": [
      "都判3年，太棒了\n",
      "第1组是: ['A认罪', 'B不认罪']\n",
      "第2组是: ['A不认罪', 'B认罪']\n",
      "第3组是: ['A不认罪', 'B不认罪']\n",
      "第3组是最优解\n"
     ]
    }
   ],
   "source": [
    "#mycode\n",
    "i=0\n",
    "dict1={}\n",
    "\n",
    "while True:\n",
    "    ask1 = input('A认罪吗')\n",
    "    ask2 = input('B认罪吗')\n",
    "    dict1['第'+str(i+1)+'组']=['A'+ask1,'B'+ask2]\n",
    "    i = i+1\n",
    "    if ask1 == '认罪' and ask2 =='认罪':\n",
    "        print('各判10年')\n",
    "    elif ask1 == '不认罪' and ask2 =='认罪':\n",
    "        print('A判1年,B判20年')\n",
    "    elif ask1 == '认罪' and ask2 == '不认罪':\n",
    "        print('A判20年,B判1年')\n",
    "    else:\n",
    "        print('都判3年，太棒了')\n",
    "        break\n",
    "for m in range(i):\n",
    "    print('第'+str(m+1)+'组是:',dict1['第'+str(m+1)+'组'])\n",
    "print('第'+str(i)+'组是最优解')"
   ]
  },
  {
   "cell_type": "code",
   "execution_count": 70,
   "metadata": {},
   "outputs": [
    {
     "name": "stdin",
     "output_type": "stream",
     "text": [
      "A认罪吗 认罪\n",
      "B认罪吗 不认罪\n"
     ]
    },
    {
     "name": "stdout",
     "output_type": "stream",
     "text": [
      "A判20年,B判1年\n"
     ]
    },
    {
     "name": "stdin",
     "output_type": "stream",
     "text": [
      "A认罪吗 不认罪\n",
      "B认罪吗 认罪\n"
     ]
    },
    {
     "name": "stdout",
     "output_type": "stream",
     "text": [
      "A判1年,B判20年\n"
     ]
    },
    {
     "name": "stdin",
     "output_type": "stream",
     "text": [
      "A认罪吗 认罪\n",
      "B认罪吗 认罪\n"
     ]
    },
    {
     "name": "stdout",
     "output_type": "stream",
     "text": [
      "各判10年\n"
     ]
    },
    {
     "name": "stdin",
     "output_type": "stream",
     "text": [
      "A认罪吗 认罪\n",
      "B认罪吗 认罪\n"
     ]
    },
    {
     "name": "stdout",
     "output_type": "stream",
     "text": [
      "各判10年\n"
     ]
    },
    {
     "name": "stdin",
     "output_type": "stream",
     "text": [
      "A认罪吗 不认罪\n",
      "B认罪吗 不认罪\n"
     ]
    },
    {
     "name": "stdout",
     "output_type": "stream",
     "text": [
      "都判3年，太棒了\n",
      "第5对实验者选了最优解。\n",
      "第1对实验者的选择是:['认罪', '不认罪']\n",
      "第2对实验者的选择是:['不认罪', '认罪']\n",
      "第3对实验者的选择是:['认罪', '认罪']\n",
      "第4对实验者的选择是:['认罪', '认罪']\n",
      "第5对实验者的选择是:['不认罪', '不认罪']\n"
     ]
    }
   ],
   "source": [
    "#sample\n",
    "n = 0\n",
    "list_answer =[]\n",
    "\n",
    "while True:\n",
    "    n+=1\n",
    "    ask1 = input('A认罪吗')\n",
    "    ask2 = input('B认罪吗')\n",
    "    list_answer.append([ask1,ask2])\n",
    "    if ask1 == '认罪' and ask2 =='认罪':\n",
    "        print('各判10年')\n",
    "    elif ask1 == '不认罪' and ask2 =='认罪':\n",
    "        print('A判1年,B判20年')\n",
    "    elif ask1 == '认罪' and ask2 == '不认罪':\n",
    "        print('A判20年,B判1年')\n",
    "    else:\n",
    "        print('都判3年，太棒了')\n",
    "        break\n",
    "print('第'+str(n)+'对实验者选了最优解。')\n",
    "for i in range(n):\n",
    "    print('第' + str(i+1) + '对实验者的选择是:' + str(list_answer[i]))"
   ]
  },
  {
   "cell_type": "code",
   "execution_count": 72,
   "metadata": {},
   "outputs": [
    {
     "name": "stdin",
     "output_type": "stream",
     "text": [
      "你想查询哪个演员? 章子怡\n"
     ]
    },
    {
     "name": "stdout",
     "output_type": "stream",
     "text": [
      "章子怡出演了电影无问西东\n"
     ]
    }
   ],
   "source": [
    "movies = {\n",
    "'妖猫传':['黄轩','染谷将太'],\n",
    "'无问西东':['章子怡','王力宏','祖峰'],\n",
    "'超时空同居':['雷佳音','佟丽娅'],\n",
    "}\n",
    "\n",
    "actor = input('你想查询哪个演员?')\n",
    "for movie in movies:\n",
    "    actors = movies[movie]\n",
    "    #print(actors)\n",
    "    if actor in actors:\n",
    "        print(actor+'出演了电影'+movie)\n",
    "        break\n",
    "    else:\n",
    "        continue\n",
    "else:\n",
    "    print('暂时未收录该演员')"
   ]
  },
  {
   "cell_type": "code",
   "execution_count": 74,
   "metadata": {},
   "outputs": [
    {
     "name": "stdout",
     "output_type": "stream",
     "text": [
      "148\n",
      "49\n"
     ]
    }
   ],
   "source": [
    "#random\n",
    "import random\n",
    "a=random.randint(100,150)\n",
    "b=random.randint(30,50)\n",
    "print(a)\n",
    "print(b)"
   ]
  },
  {
   "cell_type": "code",
   "execution_count": null,
   "metadata": {},
   "outputs": [],
   "source": [
    "#变量命名网站\n",
    "#CODELF（https://unbug.github.io/codelf），输入中文就可以看到别人是怎么命名的。"
   ]
  },
  {
   "cell_type": "code",
   "execution_count": null,
   "metadata": {},
   "outputs": [],
   "source": [
    "#and两边的条件分别用括号括起，是一种习惯，方便阅读\n",
    "#while (player_life >= 0) and (enemy_life >= 0):"
   ]
  },
  {
   "cell_type": "code",
   "execution_count": null,
   "metadata": {},
   "outputs": [],
   "source": [
    "print('血量：%d 攻击：%d' % (100,50))\n",
    "print('血量：%d 攻击：%d' % (100,50))\n",
    "#%后面的类型码用什么，取决于你希望这个%占住的这个位置的数据以什么类型展示出来，\n",
    "#如果你希望它以字符串形式展示，那就写%s，如果你希望它以整数形式展示，那就写%d。"
   ]
  },
  {
   "cell_type": "code",
   "execution_count": null,
   "metadata": {},
   "outputs": [],
   "source": [
    "print('我的幸运数字是%d，而且我不知道%d' % (8,16))  #8以整数展示\n",
    "print('我的幸运数字是%s' % 8)  #8以字符串展示\n",
    "print(8) #整数8与字符串'8'打印出来的结果是一样的\n",
    "print('8')"
   ]
  },
  {
   "cell_type": "code",
   "execution_count": 75,
   "metadata": {},
   "outputs": [
    {
     "name": "stdout",
     "output_type": "stream",
     "text": [
      "helloworld\n",
      "--------------\n",
      "hello  world\n",
      "--------------\n",
      "hello!world\n",
      "--------------\n"
     ]
    }
   ],
   "source": [
    "print('hello',end='')\n",
    "print('world')\n",
    "print('--------------')\n",
    "print('hello',end='  ')\n",
    "print('world')\n",
    "print('--------------')\n",
    "print('hello',end='!')\n",
    "print('world')\n",
    "print('--------------')\n",
    "#参数'end'是用来控制换行行数和结尾字符"
   ]
  },
  {
   "cell_type": "code",
   "execution_count": null,
   "metadata": {},
   "outputs": [],
   "source": [
    "#format ()函数。\n",
    "# format ()函数用来占位的是大括号{}，不用区分类型码(%+类型码)。 \n",
    "# 具体的语法是:'str.format()'，而不是课堂上提到的'str % ()'。 \n",
    "# 而且，它对后面数据的引用更灵活，不限次数，也可指定对应关系。"
   ]
  }
 ],
 "metadata": {
  "kernelspec": {
   "display_name": "Python 3",
   "language": "python",
   "name": "python3"
  },
  "language_info": {
   "codemirror_mode": {
    "name": "ipython",
    "version": 3
   },
   "file_extension": ".py",
   "mimetype": "text/x-python",
   "name": "python",
   "nbconvert_exporter": "python",
   "pygments_lexer": "ipython3",
   "version": "3.7.3"
  }
 },
 "nbformat": 4,
 "nbformat_minor": 2
}
