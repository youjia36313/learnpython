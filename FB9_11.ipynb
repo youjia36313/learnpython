{
 "cells": [
  {
   "cell_type": "code",
   "execution_count": 2,
   "metadata": {},
   "outputs": [
    {
     "name": "stdout",
     "output_type": "stream",
     "text": [
      "youjia早上好\n"
     ]
    }
   ],
   "source": [
    "#index 9th-11st\n",
    "\n",
    "#main def\n",
    "#1.def 自定义函数:三段式，输入：参数，执行过程：函数体，输出：return语句\n",
    "#2.自定义函数参数\n",
    "#3.自定义函数参数的传递(pass)\n",
    "#4.函数的参数类型\n",
    "#5.return返回值\n",
    "#6.变量作用域，局部还是全局\n",
    "#7.函数的嵌套和封装\n",
    "#8.如何Debug\n",
    "#9.try，except#所有报错类型https://www.runoob.com/python/python-exceptions.html\n",
    "#10.可变参数，关键参数，\n",
    "\n",
    "#other\n",
    "#len的用法（列表和字典也可以用）\n",
    "#print的完整参数形式\n",
    "#元组的元素两种取出方式\n",
    "#占位符\n",
    "#random.randint(a,b)\n",
    "#random.choice(list1)"
   ]
  },
  {
   "cell_type": "code",
   "execution_count": 131,
   "metadata": {},
   "outputs": [
    {
     "name": "stdout",
     "output_type": "stream",
     "text": [
      "youjia早上好\n"
     ]
    }
   ],
   "source": [
    "#def 自定义函数 basic\n",
    "#函数名：最好是取体现函数功能的名字，一般用小写字母和单下划线、数字等组合\n",
    "#参数：根据函数功能，括号里可以有多个参数，也可以不带参数，命名规则与函数名相同\n",
    "#规范：括号是英文括号，后面的冒号不能丢\n",
    "#函数体：函数的执行过程，体现函数功能的语句，要缩进，一般是四个空格\n",
    "#return语句：后面可以接多种数据类型，如果函数不需要返回值的话，可以省略\n",
    "\n",
    "def greet(name):\n",
    "    print(name+'早上好')#函数体：函数体就是体现函数功能的语句，要缩进，一般是四个空格\n",
    "    return \n",
    "#def的意思是定义(define)，greet是自己取的【函数名】，再加一个括号和冒号，括号里面的name是自己取的【参数】。\n",
    "#def下一行开始缩进的代码是函数要实现的功能，即【函数体】。功能是：打印出“name+ 早上好”。\n",
    "#return：函数内部一旦遇到return语句，就会停止执行并返回结果。\n",
    "#没有return语句的函数，Python也会在末尾隐性地加上return None，即返回None值（return None可以简写为return。）\n",
    "\n",
    "#调用自定义函数\n",
    "greet('youjia')\n",
    "#<< youjia早上好"
   ]
  },
  {
   "cell_type": "code",
   "execution_count": 25,
   "metadata": {},
   "outputs": [
    {
     "name": "stdout",
     "output_type": "stream",
     "text": [
      "110\n"
     ]
    },
    {
     "data": {
      "text/plain": [
       "9"
      ]
     },
     "execution_count": 25,
     "metadata": {},
     "output_type": "execute_result"
    }
   ],
   "source": [
    "#定义函数来计算y = x² + x\n",
    "def math(x):\n",
    "    y=x**2+x\n",
    "    return y\n",
    "#调用自定义函数\n",
    "math(5)\n",
    "#<< 30\n",
    "print(math(10))\n",
    "#<< 110\n",
    "#定义函数来计算字符串长度，len\n",
    "def length(string1):\n",
    "    counter = 0 #设置一个初始为0的计数器\n",
    "    for i in string1:\n",
    "        counter+=1#遍历字符串，每遍历一次，计数器加一\n",
    "    return counter#返回计数器的值\n",
    "length('三根皮带，四斤大豆')\n",
    "#<< 9"
   ]
  },
  {
   "cell_type": "code",
   "execution_count": 11,
   "metadata": {},
   "outputs": [
    {
     "name": "stdout",
     "output_type": "stream",
     "text": [
      "我最喜爱的神奇宝贝是皮卡丘\n",
      "我最喜爱的神奇宝贝是345\n",
      "我最喜爱的神奇宝贝是567\n",
      "我最喜爱的驯兽师是890\n",
      "我最喜爱的神奇宝贝是可达鸭\n",
      "我最喜爱的驯兽师是小霞\n"
     ]
    }
   ],
   "source": [
    "#def 参数的数量需要视函数想要实现什么功能来设置。\n",
    "\n",
    "#无参数\n",
    "def pika1():\n",
    "    print('我最喜爱的神奇宝贝是皮卡丘')\n",
    "\n",
    "#一个参数\n",
    "def pika2(name):\n",
    "    print('我最喜爱的神奇宝贝是'+name)\n",
    "    \n",
    "#两个参数\n",
    "def pika3(name,person):\n",
    "    print('我最喜爱的神奇宝贝是'+name)\n",
    "    print('我最喜爱的驯兽师是'+person)\n",
    "\n",
    "#调用这三个函数\n",
    "pika1() #不需要输入任何参数,注意调用时候，括号()要有\n",
    "#<<我最喜爱的神奇宝贝是皮卡丘\n",
    "pika2('345')#输入参数要是字符串\n",
    "#<<我最喜爱的神奇宝贝是345\n",
    "pika3('567','890')\n",
    "#<<我最喜爱的神奇宝贝是567\n",
    "#<<我最喜爱的驯兽师是890\n",
    "\n",
    "#这几个函数的功能都是打印出句式相同的话，第一个函数总是输出固定的一句话，不需要带参数。\n",
    "#第二个函数需要参数name的参与，第三个函数则需要两个参数\n",
    "pika3('可达鸭','小霞')"
   ]
  },
  {
   "cell_type": "code",
   "execution_count": 27,
   "metadata": {},
   "outputs": [
    {
     "name": "stdout",
     "output_type": "stream",
     "text": [
      "总有一种味道能温暖你～\n",
      "深夜食堂正式开业啦！\n",
      "欢迎来自五湖四海的你前来品尝!\n"
     ]
    }
   ],
   "source": [
    "def opening():\n",
    "    print('总有一种味道能温暖你～')\n",
    "    print('深夜食堂正式开业啦！')\n",
    "    print('欢迎来自五湖四海的你前来品尝!')\n",
    "#不需要return语句，这个函数直接在屏幕打印出内容，不需要返回值\n",
    "\n",
    "#调用函数\n",
    "opening()\n",
    "#<<总有一种味道能温暖你～\n",
    "#<<深夜食堂正式开业啦！\n",
    "#<<欢迎来自五湖四海的你前来品尝!"
   ]
  },
  {
   "cell_type": "code",
   "execution_count": 12,
   "metadata": {},
   "outputs": [
    {
     "name": "stdout",
     "output_type": "stream",
     "text": [
      "Merry Christmas!\n",
      "        o\n",
      "       /|\\\n",
      "      o~x~o\n",
      "     ///|\\\\\\\n",
      "    o~x~o~x~o\n",
      "   /////|\\\\\\\\\\\n",
      "  o~x~o~x~o~x~o\n",
      " ///////|\\\\\\\\\\\\\\\n",
      "Merry Christmas!\n",
      "                o\n",
      "               /|\\\n",
      "              o~x~o\n",
      "             ///|\\\\\\\n",
      "            o~x~o~x~o\n",
      "           /////|\\\\\\\\\\\n",
      "          o~x~o~x~o~x~o\n",
      "         ///////|\\\\\\\\\\\\\\\n",
      "        o~x~o~x~o~x~o~x~o\n",
      "       /////////|\\\\\\\\\\\\\\\\\\\n",
      "      o~x~o~x~o~x~o~x~o~x~o\n",
      "     ///////////|\\\\\\\\\\\\\\\\\\\\\\\n",
      "    o~x~o~x~o~x~o~x~o~x~o~x~o\n",
      "   /////////////|\\\\\\\\\\\\\\\\\\\\\\\\\\\n",
      "  o~x~o~x~o~x~o~x~o~x~o~x~o~x~o\n",
      " ///////////////|\\\\\\\\\\\\\\\\\\\\\\\\\\\\\\\n"
     ]
    }
   ],
   "source": [
    "#调用函数\n",
    "#调用函数最关键的是：弄清楚这个函数有多少个参数，如何给参数赋值，这个过程在函数里叫做参数的传递(pass)。\n",
    "def tree(Height):\n",
    "    print('Merry Christmas!')\n",
    "    for i in range(Height):\n",
    "        print((Height-i)*2*' '+'o'+ i*'~x~o')\n",
    "        print(((Height-i)*2-1)*' '+(i*2+1)*'/'+'|'+(i*2+1)*'\\\\')\n",
    "tree(4)\n",
    "tree(8)"
   ]
  },
  {
   "cell_type": "code",
   "execution_count": 29,
   "metadata": {},
   "outputs": [
    {
     "name": "stdout",
     "output_type": "stream",
     "text": [
      "menu 一份开胃菜：话梅花生\n",
      "menu 一份主食：牛肉拉面\n",
      "\n",
      "menu 一份开胃菜：花生绵绵冰\n",
      "menu 一份主食：酸辣粉\n",
      "\n",
      "menu2 一份开胃菜：话梅花生\n",
      "menu2 一份主食：牛肉拉面\n",
      "menu2 一份甜品：绿豆沙\n",
      "\n",
      "menu3 一份开胃菜：话梅花生\n",
      "menu3 一份主食：牛肉拉面\n",
      "menu3 一份甜品：绿豆沙\n",
      "\n",
      "menu3 一份开胃菜：话梅花生\n",
      "menu3 一份主食：牛肉拉面\n",
      "menu3 一份甜品：银耳羹\n",
      "\n"
     ]
    }
   ],
   "source": [
    "#参数类型：位置参数、默认参数、不定长参数\n",
    "#若一个参数的值是相对固定的，那么可以设置默认参数无需每次传递。\n",
    "\n",
    "#按位置传递参数\n",
    "def  menu(appetizer,course):\n",
    "    print('menu','一份开胃菜：'+appetizer)\n",
    "    print('menu','一份主食：'+course+'\\n')\n",
    "menu('话梅花生','牛肉拉面')\n",
    "#'话梅花生'和'牛肉拉面'是位置参数，对应参数appetizer和course的位置顺序传递的\n",
    "\n",
    "#不需要理会位置传递\n",
    "menu(course='酸辣粉',appetizer='花生绵绵冰')\n",
    "\n",
    "#定义函数menu3，同时设定默认参数，默认参数必须放在位置参数之后\n",
    "def menu2(appetizer,course,dessert='绿豆沙'):\n",
    "    print('menu2','一份开胃菜：'+appetizer)\n",
    "    print('menu2','一份主食：'+course)\n",
    "    print('menu2','一份甜品：'+dessert+'\\n')\n",
    "menu2('话梅花生','牛肉拉面')\n",
    "#已经默认将'绿豆沙'传递给dessert，调用时无须再传递。\n",
    "\n",
    "#定义函数menu3，同时设定默认参数\n",
    "def menu3(appetizer,course,dessert='绿豆沙'):\n",
    "    print('menu3','一份开胃菜：'+appetizer)\n",
    "    print('menu3','一份主食：'+course)\n",
    "    print('menu3','一份甜品：'+dessert+'\\n')\n",
    "\n",
    "#调用函数menu3，使用默认参数\n",
    "menu3('话梅花生','牛肉拉面')\n",
    "#<< menu3 一份开胃菜：话梅花生\n",
    "#<< menu3 一份主食：牛肉拉面\n",
    "#<< menu3 一份甜品：绿豆沙\n",
    "#调用函数menu3，并且改变默认参数\n",
    "menu3('话梅花生','牛肉拉面','银耳羹')#银耳羹对应参数dessert\n",
    "#<< menu3 一份开胃菜：话梅花生\n",
    "#<< menu3 一份主食：牛肉拉面\n",
    "#<< menu3 一份甜品：银耳羹"
   ]
  },
  {
   "cell_type": "code",
   "execution_count": 18,
   "metadata": {},
   "outputs": [
    {
     "name": "stdout",
     "output_type": "stream",
     "text": [
      "('烤鸡翅', '烤茄子', '烤玉米')\n"
     ]
    }
   ],
   "source": [
    "#不定长参数，即不确定传递参数的数量。格式比较特殊，是一个星号*加上参数名\n",
    "def menu4(*barbeque):\n",
    "    print(barbeque)\n",
    "menu4('烤鸡翅','烤茄子','烤玉米')#这几个值都会传递给参数barbeque\n",
    "#输出的数据类型是元组(tuple)"
   ]
  },
  {
   "cell_type": "code",
   "execution_count": 19,
   "metadata": {},
   "outputs": [
    {
     "name": "stdout",
     "output_type": "stream",
     "text": [
      "10\n",
      "3\n"
     ]
    }
   ],
   "source": [
    "#len()函数\n",
    "a = len('万物的终极答案是42')#输出汉字的长度加上两个数字的长度\n",
    "print(a)\n",
    "#<< 10\n",
    "b = len(['海伯利安','基地','三体'])#输出list里的元素个数\n",
    "print(b)\n",
    "#<< 3"
   ]
  },
  {
   "cell_type": "code",
   "execution_count": 30,
   "metadata": {},
   "outputs": [
    {
     "name": "stdout",
     "output_type": "stream",
     "text": [
      "金枪鱼 三文鱼 鲷鱼\n",
      "金枪鱼+三文鱼+鲷鱼\n",
      "金枪鱼+三文鱼+鲷鱼=?"
     ]
    }
   ],
   "source": [
    "#print函数完整参数形式\n",
    "#print(*objects, sep = ' ', end = '\\n', file = sys.stdout, flush = False)\n",
    "#objects带了*号，为不定长参数，可以传递任意数量的参数。其余四个为默认参数，可以通过修改默认值来改变参数\n",
    "# sep控制多个值之间的分隔符，默认是空格\n",
    "# end控制打印结果的结尾，默认是换行\n",
    "\n",
    "print('金枪鱼', '三文鱼', '鲷鱼')#默认参数,空格作为分隔符，end是换行\n",
    "#<<金枪鱼 三文鱼 鲷鱼\n",
    "print('金枪鱼', '三文鱼', '鲷鱼', sep = '+')#加号作为分隔符，end是换行\n",
    "#<<金枪鱼+三文鱼+鲷鱼\n",
    "print('金枪鱼', '三文鱼', '鲷鱼', sep = '+', end = '=?'))#加号作为分隔符，end是=?\n",
    "#<<金枪鱼+三文鱼+鲷鱼=?\n"
   ]
  },
  {
   "cell_type": "code",
   "execution_count": 44,
   "metadata": {},
   "outputs": [
    {
     "name": "stdout",
     "output_type": "stream",
     "text": [
      "拍黄瓜 溏心蛋\n"
     ]
    }
   ],
   "source": [
    "#函数参数的练习\n",
    "#推出不定额的优惠券，到店顾客均可参与抽奖：5元以下随机赠送一碟小菜，5-10元随机赠送一碟餐前小菜和一个溏心蛋。\n",
    "#定义一个函数，根据输入数字的大小，任意取出list中的某个元素，打印出该元素\n",
    "\n",
    "#mycoding\n",
    "import random\n",
    "appetizer=['话梅花生','拍黄瓜','凉拌三丝']\n",
    "def coupon(money):\n",
    "    if money < 5:\n",
    "        b = random.choice(appetizer)\n",
    "        c = print(b)\n",
    "    elif 5< money < 10:\n",
    "        b = random.choice(appetizer)\n",
    "        c = print(b,'溏心蛋')\n",
    "    return c\n",
    "\n",
    "coupon(8)          "
   ]
  },
  {
   "cell_type": "code",
   "execution_count": 48,
   "metadata": {},
   "outputs": [
    {
     "name": "stdout",
     "output_type": "stream",
     "text": [
      "拍黄瓜\n",
      "('凉拌三丝', '溏心蛋')\n",
      "<class 'tuple'>\n"
     ]
    }
   ],
   "source": [
    "#函数参数的练习\n",
    "import random \n",
    "#引入random模块\n",
    "\n",
    "appetizer = ['话梅花生','拍黄瓜','凉拌三丝']\n",
    "def coupon(money):\n",
    "    if money < 5:\n",
    "        a = random.choice(appetizer)\n",
    "        return a\n",
    "    elif 5 < money < 10:\n",
    "        b = random.choice (appetizer)\n",
    "        return b, '溏心蛋'\n",
    "#每个if语句里可以接着一个return返回值\n",
    "#return可以是一个返回的函数值，也可以是字符串\n",
    "#return可以返回好多个值，用逗号隔开，这几个值共同构成一个元组\n",
    "\n",
    "#调用函数，并打印出来\n",
    "print(coupon(3))\n",
    "#<<拍黄瓜\n",
    "print(coupon(6))\n",
    "#<<('凉拌三丝', '溏心蛋')\n",
    "print(type(coupon(6)))\n",
    "#<< < class 'tuple'>\n",
    "#返回值是元组"
   ]
  },
  {
   "cell_type": "code",
   "execution_count": 51,
   "metadata": {},
   "outputs": [
    {
     "name": "stdout",
     "output_type": "stream",
     "text": [
      "话梅花生\n",
      "溏心蛋\n",
      "凉拌三丝\n",
      "溏心蛋\n"
     ]
    }
   ],
   "source": [
    "#return 回来的元组可以切片取出，也可以定义多个变量取出\n",
    "import random \n",
    "appetizer = ['话梅花生','拍黄瓜','凉拌三丝']\n",
    "def coupon(money):\n",
    "    if money < 5:\n",
    "        a = random.choice(appetizer)\n",
    "        return a\n",
    "    elif 5 < money <10:\n",
    "        b = random.choice (appetizer)\n",
    "        return b, '溏心蛋'\n",
    "\n",
    "#第一次调用函数\n",
    "dish, egg = coupon (7)\n",
    "# 元组的两个元素分别赋值给变量dish和egg\n",
    "print(dish)\n",
    "print(egg)\n",
    "#第二次调用函数\n",
    "result = coupon(7)\n",
    "#用切片取出\n",
    "print(result[0])\n",
    "print(result[1])"
   ]
  },
  {
   "cell_type": "code",
   "execution_count": null,
   "metadata": {},
   "outputs": [],
   "source": [
    "#return 返回值\n",
    "#len（），type()函数、数据类型转换函数，还有我们之前学过的bool()都会返回一个值。\n",
    "#print()函数本身比较特殊，它在屏幕上显示完相关的文本内容就没了，并不会返回一个值给我们，返回的是空值（None）"
   ]
  },
  {
   "cell_type": "code",
   "execution_count": 60,
   "metadata": {},
   "outputs": [
    {
     "name": "stdout",
     "output_type": "stream",
     "text": [
      "我希望我的梦中情人拥有刘亦菲的脸蛋和林志玲的身材\n"
     ]
    }
   ],
   "source": [
    "#我希望我的梦中情人拥有XXX的脸蛋和XXX的身材\n",
    "#mycode\n",
    "\n",
    "def dreamperson(name1,name2):\n",
    "    print('我希望我的梦中情人拥有%s的脸蛋和%s的身材'%(name1,name2))\n",
    "    \n",
    "dreamperson('刘亦菲','林志玲')"
   ]
  },
  {
   "cell_type": "code",
   "execution_count": 59,
   "metadata": {},
   "outputs": [
    {
     "name": "stdout",
     "output_type": "stream",
     "text": [
      "刘亦菲的脸蛋和林志玲的身材\n",
      "刘亦菲的脸蛋 和林志玲的身材\n",
      "刘亦菲的脸蛋和林志玲的身材\n"
     ]
    }
   ],
   "source": [
    "#warning 占位符，注意%前面不要随意加逗号，各个参数自己分别用%\n",
    "print('%s的脸蛋和%s的身材'%('刘亦菲','林志玲'))\n",
    "#一个参数里跟着一个%替换\n",
    "print('%s的脸蛋'%'刘亦菲','和%s的身材'%'林志玲')\n",
    "#两个参数，分别用%替换，但是中间出现了空格\n",
    "print('%s的脸蛋'%'刘亦菲','和%s的身材'%'林志玲',sep='')\n",
    "#两个参数，分别用%替换，去掉空格"
   ]
  },
  {
   "cell_type": "code",
   "execution_count": 89,
   "metadata": {},
   "outputs": [
    {
     "name": "stdout",
     "output_type": "stream",
     "text": [
      "('李若彤的脸蛋', '林志玲的身材')\n",
      "<class 'tuple'>\n"
     ]
    }
   ],
   "source": [
    "#sample\n",
    "def lover(name1,name2):\n",
    "    face = name1 + '的脸蛋'\n",
    "    body = name2 + '的身材'\n",
    "    return face,body\n",
    "#调用函数\n",
    "a=lover('李若彤','林志玲')\n",
    "print(a)\n",
    "print(type(a))"
   ]
  },
  {
   "cell_type": "code",
   "execution_count": 133,
   "metadata": {},
   "outputs": [
    {
     "name": "stdout",
     "output_type": "stream",
     "text": [
      "我的梦中情人：李若彤的脸蛋 + 林志玲的身材\n",
      "李若彤的脸蛋\n",
      "<class 'str'>\n"
     ]
    }
   ],
   "source": [
    "#sample1\n",
    "def face(name):\n",
    "    return name + '的脸蛋'\n",
    "#该函数返回字符串'XXX的脸蛋'\n",
    "def body(name):\n",
    "    return name + '的身材'\n",
    "#该函数返回字符串'XXX的身材'\n",
    "\n",
    "face('李若彤') \n",
    "body('林志玲')\n",
    "#分别调用face()和body()函数\n",
    "print('我的梦中情人：'+face('李若彤') +' + ' + body('林志玲'))\n",
    "print(face('李若彤') )\n",
    "print(type(face('李若彤')))"
   ]
  },
  {
   "cell_type": "code",
   "execution_count": null,
   "metadata": {},
   "outputs": [],
   "source": [
    "#return\n",
    "#如果不是立即要对函数返回值做操作，那么可以使用return语句保留返回值。\n",
    "#需要多次调用函数时，可以再定义一个主函数main(),调用非主函数的返回值。即函数的嵌套\n",
    "#Python的函数返回值可以是多个，而其他语言都不行，一次接受多个返回值的数据类型就是元组。"
   ]
  },
  {
   "cell_type": "code",
   "execution_count": 134,
   "metadata": {},
   "outputs": [
    {
     "name": "stdout",
     "output_type": "stream",
     "text": [
      "None\n",
      "I am coding\n"
     ]
    }
   ],
   "source": [
    "#第一个函数,没有return\n",
    "def fun1():\n",
    "    a ='I am coding'\n",
    "#调用函数\n",
    "print(fun1())\n",
    "#第二个函数，有return\n",
    "def fun2():\n",
    "    a='I am coding'\n",
    "    return a\n",
    "#调用函数\n",
    "fun2\n",
    "print(fun2())"
   ]
  },
  {
   "cell_type": "code",
   "execution_count": 135,
   "metadata": {},
   "outputs": [
    {
     "name": "stdout",
     "output_type": "stream",
     "text": [
      "I am coding\n",
      "None\n"
     ]
    }
   ],
   "source": [
    "#测试有无return值\n",
    "def fun1():\n",
    "    a ='I am coding'\n",
    "    print(a)#打印a的字符串\n",
    "\n",
    "print(fun1())#打印返回值"
   ]
  },
  {
   "cell_type": "code",
   "execution_count": 136,
   "metadata": {},
   "outputs": [
    {
     "name": "stdout",
     "output_type": "stream",
     "text": [
      "I am coding\n",
      "I am coding\n"
     ]
    }
   ],
   "source": [
    "def fun2():\n",
    "    a ='I am coding'\n",
    "    print(a)#打印a的字符串\n",
    "    return a#返回值\n",
    "\n",
    "print(fun2())#打印返回值"
   ]
  },
  {
   "cell_type": "code",
   "execution_count": 124,
   "metadata": {},
   "outputs": [
    {
     "name": "stdout",
     "output_type": "stream",
     "text": [
      "I am coding\n",
      "None\n"
     ]
    }
   ],
   "source": [
    "def fun3():\n",
    "    print('I am coding')\n",
    "print(fun3())"
   ]
  },
  {
   "cell_type": "code",
   "execution_count": 137,
   "metadata": {},
   "outputs": [
    {
     "name": "stdin",
     "output_type": "stream",
     "text": [
      "本月房租多少钱 100\n",
      "本月水电费多少钱？ 100\n",
      "本月食材多少钱 100\n"
     ]
    },
    {
     "name": "stdout",
     "output_type": "stream",
     "text": [
      "本月的变动成本费用是200\n",
      "本月的总成本是300\n"
     ]
    }
   ],
   "source": [
    "#餐馆的成本是由固定成本（租金）和变动成本（水电费 + 食材成本）构成的。编写一个计算变动成本的函数和一个计算总成本的函数\n",
    "#mycodding\n",
    "renting=int(input('本月房租多少钱'))\n",
    "fees=int(input('本月水电费多少钱？'))\n",
    "foodcost=int(input('本月食材多少钱'))\n",
    "def totalcost():\n",
    "    total = renting + fees + foodcost\n",
    "    print('本月的变动成本费用是'+str(fees+foodcost))\n",
    "    print('本月的总成本是'+str(total))\n",
    "totalcost()"
   ]
  },
  {
   "cell_type": "code",
   "execution_count": 73,
   "metadata": {},
   "outputs": [
    {
     "name": "stdin",
     "output_type": "stream",
     "text": [
      "请输入本月的水电费用 1000\n",
      "请输入本月的食材费用 200\n"
     ]
    },
    {
     "name": "stdout",
     "output_type": "stream",
     "text": [
      "本月的变动成本费用是1200\n"
     ]
    },
    {
     "ename": "NameError",
     "evalue": "name 'variable_cost' is not defined",
     "output_type": "error",
     "traceback": [
      "\u001b[0;31m---------------------------------------------------------------------------\u001b[0m",
      "\u001b[0;31mNameError\u001b[0m                                 Traceback (most recent call last)",
      "\u001b[0;32m<ipython-input-73-551b6ec0925e>\u001b[0m in \u001b[0;36m<module>\u001b[0;34m\u001b[0m\n\u001b[1;32m     12\u001b[0m \u001b[0;34m\u001b[0m\u001b[0m\n\u001b[1;32m     13\u001b[0m \u001b[0mcost\u001b[0m\u001b[0;34m(\u001b[0m\u001b[0;34m)\u001b[0m\u001b[0;34m\u001b[0m\u001b[0;34m\u001b[0m\u001b[0m\n\u001b[0;32m---> 14\u001b[0;31m \u001b[0msum_cost\u001b[0m\u001b[0;34m(\u001b[0m\u001b[0;34m)\u001b[0m\u001b[0;34m\u001b[0m\u001b[0;34m\u001b[0m\u001b[0m\n\u001b[0m",
      "\u001b[0;32m<ipython-input-73-551b6ec0925e>\u001b[0m in \u001b[0;36msum_cost\u001b[0;34m()\u001b[0m\n\u001b[1;32m      8\u001b[0m \u001b[0;34m\u001b[0m\u001b[0m\n\u001b[1;32m      9\u001b[0m \u001b[0;32mdef\u001b[0m \u001b[0msum_cost\u001b[0m\u001b[0;34m(\u001b[0m\u001b[0;34m)\u001b[0m\u001b[0;34m:\u001b[0m\u001b[0;34m\u001b[0m\u001b[0;34m\u001b[0m\u001b[0m\n\u001b[0;32m---> 10\u001b[0;31m     \u001b[0msum\u001b[0m \u001b[0;34m=\u001b[0m \u001b[0mrent\u001b[0m \u001b[0;34m+\u001b[0m \u001b[0mvariable_cost\u001b[0m\u001b[0;34m\u001b[0m\u001b[0;34m\u001b[0m\u001b[0m\n\u001b[0m\u001b[1;32m     11\u001b[0m     \u001b[0mprint\u001b[0m\u001b[0;34m(\u001b[0m\u001b[0;34m'本月的总成本是'\u001b[0m \u001b[0;34m+\u001b[0m \u001b[0mstr\u001b[0m\u001b[0;34m(\u001b[0m\u001b[0msum\u001b[0m\u001b[0;34m)\u001b[0m\u001b[0;34m)\u001b[0m\u001b[0;34m\u001b[0m\u001b[0;34m\u001b[0m\u001b[0m\n\u001b[1;32m     12\u001b[0m \u001b[0;34m\u001b[0m\u001b[0m\n",
      "\u001b[0;31mNameError\u001b[0m: name 'variable_cost' is not defined"
     ]
    }
   ],
   "source": [
    "#sample1 局部变量error\n",
    "rent = 3000\n",
    "\n",
    "def cost():\n",
    "    utilities = int(input('请输入本月的水电费用'))\n",
    "    food_cost = int(input('请输入本月的食材费用'))\n",
    "    variable_cost = utilities + food_cost\n",
    "    print('本月的变动成本费用是' + str(variable_cost))\n",
    "\n",
    "def sum_cost():\n",
    "    sum = rent + variable_cost\n",
    "    print('本月的总成本是' + str(sum))\n",
    "\n",
    "cost()\n",
    "sum_cost()"
   ]
  },
  {
   "cell_type": "code",
   "execution_count": null,
   "metadata": {},
   "outputs": [],
   "source": [
    "#变量作用域\n",
    "#变量并不是在哪个位置都可以被使用的，使用权限决定于这个变量是在哪里赋值的。\n",
    "#一个在函数内部赋值的变量仅能在该函数内部使用（局部作用域），它们被称作【局部变量】，如cost()函数里的variable_cost。\n",
    "#在所有函数之外赋值的变量，可以在程序的任何位置使用（全局作用域），它们被称作【全局变量】，如第一行的rent。"
   ]
  },
  {
   "cell_type": "code",
   "execution_count": 75,
   "metadata": {},
   "outputs": [
    {
     "name": "stdin",
     "output_type": "stream",
     "text": [
      "请输入本月的水电费用 1000\n",
      "请输入本月的食材费用 300\n"
     ]
    },
    {
     "name": "stdout",
     "output_type": "stream",
     "text": [
      "本月的变动成本是1300\n",
      "本月的总成本是4300\n"
     ]
    }
   ],
   "source": [
    "#error solution1\n",
    "#把局部变量都放在函数外，变成全局变量。\n",
    "rent = 3000\n",
    "utilities = int(input('请输入本月的水电费用'))\n",
    "food_cost = int(input('请输入本月的食材费用'))\n",
    "variable_cost = utilities + food_cost \n",
    "# 以上均为全局变量\n",
    "print('本月的变动成本是' + str(variable_cost))\n",
    "\n",
    "def sum_cost():\n",
    "    sum = rent + variable_cost\n",
    "    print('本月的总成本是' + str(sum))\n",
    "\n",
    "sum_cost()"
   ]
  },
  {
   "cell_type": "code",
   "execution_count": 80,
   "metadata": {},
   "outputs": [
    {
     "name": "stdin",
     "output_type": "stream",
     "text": [
      "请输入本月的水电费用 1000\n",
      "请输入本月的食材费用 200\n"
     ]
    },
    {
     "name": "stdout",
     "output_type": "stream",
     "text": [
      "本月的变动成本是1200\n",
      "本月的总成本是4200\n"
     ]
    }
   ],
   "source": [
    "#error solution2\n",
    "#global 语句\n",
    "#global语句一般写在函数体的第一行，它会告诉Python,variable_cost是个全局变量\n",
    "\n",
    "rent = 3000\n",
    "\n",
    "def cost():\n",
    "    global variable_cost\n",
    "    utilities = int(input('请输入本月的水电费用'))\n",
    "    food_cost = int(input('请输入本月的食材费用'))\n",
    "    variable_cost = utilities + food_cost\n",
    "    print('本月的变动成本是' + str(variable_cost))\n",
    "\n",
    "def sum_cost():\n",
    "    sum = rent + variable_cost\n",
    "    print('本月的总成本是' + str(sum))\n",
    "\n",
    "cost()\n",
    "sum_cost()"
   ]
  },
  {
   "cell_type": "code",
   "execution_count": 84,
   "metadata": {},
   "outputs": [
    {
     "name": "stdout",
     "output_type": "stream",
     "text": [
      "108\n"
     ]
    }
   ],
   "source": [
    "#global 练习\n",
    "def egg():\n",
    "    global quantity\n",
    "    quantity =108\n",
    "egg()#调用函数，才能出现全局变量quantity\n",
    "print(quantity)#在函数体外可以使用"
   ]
  },
  {
   "cell_type": "code",
   "execution_count": 138,
   "metadata": {},
   "outputs": [
    {
     "name": "stdin",
     "output_type": "stream",
     "text": [
      "请输入本月的水电费用 100\n",
      "请输入本月的食材费用 100\n"
     ]
    },
    {
     "name": "stdout",
     "output_type": "stream",
     "text": [
      "本月的变动成本是200\n",
      "本月的总成本是3200\n"
     ]
    }
   ],
   "source": [
    "#函数的嵌套\n",
    "#sample\n",
    "rent = 3000\n",
    "\n",
    "def cost():\n",
    "    utilities = int(input('请输入本月的水电费用'))\n",
    "    food_cost = int(input('请输入本月的食材费用'))\n",
    "    variable_cost = utilities + food_cost\n",
    "    print('本月的变动成本是' + str(variable_cost))\n",
    "    return variable_cost\n",
    "\n",
    "def sum_cost():\n",
    "    sum = rent + cost()#调用上一个函数cost，首先触发cost，然后再计算sum\n",
    "    print('本月的总成本是' + str(sum))\n",
    "\n",
    "sum_cost()"
   ]
  },
  {
   "cell_type": "code",
   "execution_count": 141,
   "metadata": {},
   "outputs": [
    {
     "name": "stdin",
     "output_type": "stream",
     "text": [
      "请输入本月所获利润 100\n",
      "请输入上月所获利润 300\n"
     ]
    },
    {
     "name": "stdout",
     "output_type": "stream",
     "text": [
      "本月的利润增长率：-66.66666666666666%\n"
     ]
    }
   ],
   "source": [
    "#计算增长率：本月利润增长额 / 上月利润 * 100%，当除数为0的时候重新输入数值。\n",
    "#sample\n",
    "#定义计算公式\n",
    "def div(num1, num2):\n",
    "    growth = (num1 - num2) / num2\n",
    "    percent = str(growth * 100) + '%'\n",
    "    return percent\n",
    "#定义除数为0的时候报错函数\n",
    "def warning():\n",
    "    print('Error: 你确定上个月一毛钱都不赚不亏吗？')\n",
    "#定义主题函数，包括报错以及计算\n",
    "def main():\n",
    "    while True:\n",
    "        num1 = float(input('请输入本月所获利润'))\n",
    "        num2 = float(input('请输入上月所获利润'))\n",
    "        if num2 == 0:\n",
    "            warning()\n",
    "            continue\n",
    "        else:\n",
    "            print('本月的利润增长率：' + div(num1,num2))\n",
    "            break\n",
    "\n",
    "main()\n",
    "#所以虽然定义了三个函数，但最后只需调用main()函数即可。\n",
    "#def语句后的代码块只是封装了函数的功能，如果没有被调用，那么def语句后面的代码永远不会被执行。所以不会从上到下执行代码"
   ]
  },
  {
   "cell_type": "code",
   "execution_count": 145,
   "metadata": {},
   "outputs": [
    {
     "name": "stdin",
     "output_type": "stream",
     "text": [
      "请输入本月利润 100\n",
      "请输入上个月利润 300\n"
     ]
    },
    {
     "name": "stdout",
     "output_type": "stream",
     "text": [
      "本月利润增长率-66.66666666666666%\n"
     ]
    }
   ],
   "source": [
    "#mycoding1 全局变量\n",
    "\n",
    "def profit():\n",
    "    global profitnumber\n",
    "    profitnumber = (thismonth-lastmonth)/lastmonth\n",
    "    return profitnumber\n",
    "def warning():\n",
    "    print('上个月的利润为0吗')\n",
    "def main():\n",
    "    global thismonth,lastmonth\n",
    "    while True:\n",
    "        thismonth = int(input('请输入本月利润'))\n",
    "        lastmonth = int(input('请输入上个月利润'))#注意input的位置，continue跳出if和else，重新从whiletrue开始，所以要重新input新的值\n",
    "        if lastmonth == 0:\n",
    "            warning()\n",
    "            continue#上个月如果为0，跳出从头执行\n",
    "        else:\n",
    "            profit()\n",
    "            print('本月利润增长率'+str(profitnumber*100)+'%')\n",
    "            break#计算完毕\n",
    "main()"
   ]
  },
  {
   "cell_type": "code",
   "execution_count": 140,
   "metadata": {},
   "outputs": [
    {
     "name": "stdin",
     "output_type": "stream",
     "text": [
      "请输入本月利润 100\n",
      "请输入上个月利润 0\n"
     ]
    },
    {
     "name": "stdout",
     "output_type": "stream",
     "text": [
      "上个月的利润为0吗\n"
     ]
    },
    {
     "name": "stdin",
     "output_type": "stream",
     "text": [
      "请输入本月利润 100\n",
      "请输入上个月利润 300\n"
     ]
    },
    {
     "name": "stdout",
     "output_type": "stream",
     "text": [
      "本月的利润是 -66.66666666666666%\n"
     ]
    }
   ],
   "source": [
    "#mycoding2 局部变量，其实这里写个input的自定义函数更好\n",
    "def profit(thismonth,lastmonth):\n",
    "    profitnumber = (thismonth-lastmonth)/lastmonth\n",
    "    percent = str(profitnumber*100)+'%'\n",
    "    return percent\n",
    "#profit(100,200)\n",
    "\n",
    "def warning():\n",
    "    print('上个月的利润为0吗')\n",
    "\n",
    "def main():\n",
    "    while True:\n",
    "        thismonth = int(input('请输入本月利润'))\n",
    "        lastmonth = int(input('请输入上个月利润'))#注意input的位置，continue跳出if和else，重新从whiletrue开始，所以要重新input新的值\n",
    "        if lastmonth == 0:\n",
    "            warning()\n",
    "            continue\n",
    "        else:\n",
    "            print('本月的利润是',profit(thismonth,lastmonth))#thismonth,lasmonth已经赋值可以调用\n",
    "            break   \n",
    "main()"
   ]
  },
  {
   "cell_type": "code",
   "execution_count": 150,
   "metadata": {},
   "outputs": [
    {
     "name": "stdin",
     "output_type": "stream",
     "text": [
      "请输入本月利润 100\n",
      "请输入上个月利润 300\n"
     ]
    },
    {
     "name": "stdout",
     "output_type": "stream",
     "text": [
      "本月的利润是-66.66666666666666%\n"
     ]
    }
   ],
   "source": [
    "#mycoding3\n",
    "def profit(thismonth,lastmonth):\n",
    "    profitnumber = (thismonth-lastmonth)/lastmonth\n",
    "    percent = str(profitnumber*100)+'%'\n",
    "    return percent\n",
    "def warning():\n",
    "    print('上个月的利润为0吗')\n",
    "\n",
    "def main():\n",
    "    while True:\n",
    "        thismonth = int(input('请输入本月利润'))\n",
    "        lastmonth = int(input('请输入上个月利润'))\n",
    "        if lastmonth == 0:\n",
    "            warning()\n",
    "            continue\n",
    "        else:\n",
    "            print('本月的利润是%s'%profit(thismonth,lastmonth))#profit(thismonth,lastmont）其实就是return的percent值\n",
    "            break\n",
    "main()"
   ]
  },
  {
   "cell_type": "code",
   "execution_count": 153,
   "metadata": {},
   "outputs": [
    {
     "name": "stdin",
     "output_type": "stream",
     "text": [
      "请输入本月利润 100\n",
      "请输入上个月利润 300\n"
     ]
    },
    {
     "ename": "NameError",
     "evalue": "name 'percent' is not defined",
     "output_type": "error",
     "traceback": [
      "\u001b[0;31m---------------------------------------------------------------------------\u001b[0m",
      "\u001b[0;31mNameError\u001b[0m                                 Traceback (most recent call last)",
      "\u001b[0;32m<ipython-input-153-280221164721>\u001b[0m in \u001b[0;36m<module>\u001b[0;34m\u001b[0m\n\u001b[1;32m     18\u001b[0m             \u001b[0mprint\u001b[0m\u001b[0;34m(\u001b[0m\u001b[0;34m'本月的利润是%s'\u001b[0m\u001b[0;34m%\u001b[0m\u001b[0mpercent\u001b[0m\u001b[0;34m)\u001b[0m\u001b[0;34m\u001b[0m\u001b[0;34m\u001b[0m\u001b[0m\n\u001b[1;32m     19\u001b[0m             \u001b[0;32mbreak\u001b[0m\u001b[0;34m\u001b[0m\u001b[0;34m\u001b[0m\u001b[0m\n\u001b[0;32m---> 20\u001b[0;31m \u001b[0mmain\u001b[0m\u001b[0;34m(\u001b[0m\u001b[0;34m)\u001b[0m\u001b[0;34m\u001b[0m\u001b[0;34m\u001b[0m\u001b[0m\n\u001b[0m",
      "\u001b[0;32m<ipython-input-153-280221164721>\u001b[0m in \u001b[0;36mmain\u001b[0;34m()\u001b[0m\n\u001b[1;32m     16\u001b[0m         \u001b[0;32melse\u001b[0m\u001b[0;34m:\u001b[0m\u001b[0;34m\u001b[0m\u001b[0;34m\u001b[0m\u001b[0m\n\u001b[1;32m     17\u001b[0m             \u001b[0mprofit\u001b[0m\u001b[0;34m(\u001b[0m\u001b[0mthismonth\u001b[0m\u001b[0;34m,\u001b[0m\u001b[0mlastmonth\u001b[0m\u001b[0;34m)\u001b[0m\u001b[0;34m\u001b[0m\u001b[0;34m\u001b[0m\u001b[0m\n\u001b[0;32m---> 18\u001b[0;31m             \u001b[0mprint\u001b[0m\u001b[0;34m(\u001b[0m\u001b[0;34m'本月的利润是%s'\u001b[0m\u001b[0;34m%\u001b[0m\u001b[0mpercent\u001b[0m\u001b[0;34m)\u001b[0m\u001b[0;34m\u001b[0m\u001b[0;34m\u001b[0m\u001b[0m\n\u001b[0m\u001b[1;32m     19\u001b[0m             \u001b[0;32mbreak\u001b[0m\u001b[0;34m\u001b[0m\u001b[0;34m\u001b[0m\u001b[0m\n\u001b[1;32m     20\u001b[0m \u001b[0mmain\u001b[0m\u001b[0;34m(\u001b[0m\u001b[0;34m)\u001b[0m\u001b[0;34m\u001b[0m\u001b[0;34m\u001b[0m\u001b[0m\n",
      "\u001b[0;31mNameError\u001b[0m: name 'percent' is not defined"
     ]
    }
   ],
   "source": [
    "#mycoding4 error虽然调用子函数，但是无法调用子函数的局部变量\n",
    "def profit(thismonth,lastmonth):\n",
    "    profitnumber = (thismonth-lastmonth)/lastmonth\n",
    "    percent = str(profitnumber*100)+'%'\n",
    "    return percent\n",
    "def warning():\n",
    "    print('上个月的利润为0吗')\n",
    "\n",
    "def main():\n",
    "    while True:\n",
    "        thismonth = int(input('请输入本月利润'))\n",
    "        lastmonth = int(input('请输入上个月利润'))\n",
    "        if lastmonth == 0:\n",
    "            warning()\n",
    "            continue\n",
    "        else:\n",
    "            profit(thismonth,lastmonth)\n",
    "            print('本月的利润是%s'%percent)#无法调用子函数的局部变量\n",
    "            break\n",
    "main()"
   ]
  },
  {
   "cell_type": "code",
   "execution_count": 12,
   "metadata": {},
   "outputs": [
    {
     "name": "stdin",
     "output_type": "stream",
     "text": [
      "请输入你的名字 youyou\n",
      "请输入你在本公司的工作月数 24\n"
     ]
    },
    {
     "name": "stdout",
     "output_type": "stream",
     "text": [
      "youyou的奖金是4320元\n"
     ]
    }
   ],
   "source": [
    "#给员工发奖金，输入员工姓名和工作时长两个参数，可打印出该员工获得多少奖金。\n",
    "#发放奖金的要求如下：\n",
    "#工作时长不满六个月，发放固定奖金500元。\n",
    "#工作时长在六个月和一年之间(含一年)，发放奖金120元*月数（如8个月为960元）\n",
    "#工作时长在一年以上，发放奖金180元*月数 （如20个月为3600元）\n",
    "\n",
    "#mycode,input名字和工作月数，输出奖金\n",
    "def bonous():\n",
    "    name = input('请输入你的名字')\n",
    "    worktime = int(input('请输入你在本公司的工作月数'))\n",
    "    if worktime <= 6:\n",
    "        bononusnumber = 500\n",
    "    elif 6 < worktime <= 12:\n",
    "        bonousnumber = 120*worktime\n",
    "    else:\n",
    "        bonousnumber = 180*worktime\n",
    "    print('%s的奖金是%s元'%(name,bonousnumber))\n",
    "bonous()"
   ]
  },
  {
   "cell_type": "code",
   "execution_count": 6,
   "metadata": {},
   "outputs": [
    {
     "name": "stdin",
     "output_type": "stream",
     "text": [
      "请输入你的名字 youyou\n",
      "请输入你在本公司的工作月数 24\n"
     ]
    },
    {
     "name": "stdout",
     "output_type": "stream",
     "text": [
      "youyou的奖金是4320元\n"
     ]
    }
   ],
   "source": [
    "#mycode,input名字和工作月数，输出奖金，拆分成两个函数嵌套，三个条件语句三个return\n",
    "name = input('请输入你的名字')\n",
    "worktime = int(input('请输入你在本公司的工作月数'))\n",
    "def bonousnumber(worktime):\n",
    "    if worktime <= 6:\n",
    "        bononusnumber = 500\n",
    "        return bonousnumber\n",
    "    elif 6 < worktime <= 12:\n",
    "        bonousnumber = 120*worktime\n",
    "        return bonousnumber\n",
    "    else:\n",
    "        bonousnumber = 180*worktime\n",
    "        return bonousnumber\n",
    "def info():\n",
    "    print('%s的奖金是%s元'%(name,bonousnumber(worktime)))\n",
    "\n",
    "info()"
   ]
  },
  {
   "cell_type": "code",
   "execution_count": 7,
   "metadata": {},
   "outputs": [
    {
     "name": "stdin",
     "output_type": "stream",
     "text": [
      "请输入你的名字 youyou\n",
      "请输入你在本公司的工作月数 24\n"
     ]
    },
    {
     "name": "stdout",
     "output_type": "stream",
     "text": [
      "youyou的奖金是4320元\n"
     ]
    }
   ],
   "source": [
    "#mycode,input名字和工作月数，输出奖金，拆分成两个函数嵌套，三个条件语句，一个return\n",
    "name = input('请输入你的名字')\n",
    "worktime = int(input('请输入你在本公司的工作月数'))\n",
    "def bonousnumber(worktime):\n",
    "    if worktime <= 6:\n",
    "        bononusnumber = 500\n",
    "    elif 6 < worktime <= 12:\n",
    "        bonousnumber = 120*worktime\n",
    "        return bonousnumber\n",
    "    else:\n",
    "        bonousnumber = 180*worktime\n",
    "    return bonousnumber#可以每一个if条件一个return，也可以和if并列一个return\n",
    "def info():\n",
    "    print('%s的奖金是%s元'%(name,bonousnumber(worktime)))\n",
    "\n",
    "info()"
   ]
  },
  {
   "cell_type": "code",
   "execution_count": 8,
   "metadata": {},
   "outputs": [
    {
     "name": "stdout",
     "output_type": "stream",
     "text": [
      "youyou的奖金是4320元\n"
     ]
    }
   ],
   "source": [
    "#mycode,工作月数作为函数参数进行输入\n",
    "def bonousnumber(worktime):\n",
    "    if worktime <= 6:\n",
    "        bononusnumber = 500\n",
    "    elif 6 < worktime <= 12:\n",
    "        bonousnumber = 120*worktime\n",
    "        return bonousnumber\n",
    "    else:\n",
    "        bonousnumber = 180*worktime\n",
    "    return bonousnumber#可以每一个if条件一个return，也可以和if并列一个return\n",
    "def info(name,worktime):\n",
    "    print('%s的奖金是%s元'%(name,bonousnumber(worktime)))\n",
    "\n",
    "info(name='youyou',worktime=24)"
   ]
  },
  {
   "cell_type": "code",
   "execution_count": 173,
   "metadata": {},
   "outputs": [
    {
     "name": "stdin",
     "output_type": "stream",
     "text": [
      "请输入你的名字 lily\n"
     ]
    },
    {
     "name": "stdout",
     "output_type": "stream",
     "text": [
      "lily的工作时间是56个月,奖金是10080元\n"
     ]
    }
   ],
   "source": [
    "#mycode只需要输入名字即可输出奖金\n",
    "name = input('请输入你的名字')\n",
    "dic1={'john':12,'lucy':5,'lily':56}\n",
    "while name not in dic1:\n",
    "    print('查无此人')\n",
    "    name = input('请重新输入你的名字')\n",
    "else:\n",
    "    worktime=dic1[name]\n",
    "def bonousnumber(worktime):    \n",
    "    if worktime <= 6:\n",
    "        bnumber = 500\n",
    "        return bnumber\n",
    "    elif 6 < worktime <= 12:\n",
    "        bnumber = 120*worktime\n",
    "        return bnumber\n",
    "    else:\n",
    "        bnumber = 180*worktime\n",
    "        return bnumber\n",
    "def info():\n",
    "    mybonous=bonousnumber(worktime)\n",
    "    print('%s的工作时间是%s个月,奖金是%s元'%(name,worktime,mybonous))\n",
    "\n",
    "info()\n",
    "#调试用\n",
    "#name = input('请输入你的名字')\n",
    "#dic1={'john':12,'lucy':5,'lily':56}\n",
    "#if name in dic1:\n",
    "#    print(dic1[name])"
   ]
  },
  {
   "cell_type": "code",
   "execution_count": null,
   "metadata": {},
   "outputs": [],
   "source": [
    "#sample:\n",
    "def bonus(month):\n",
    "    if month < 6:\n",
    "        money = 500\n",
    "        return money\n",
    "    elif 6 <= month <= 12:\n",
    "        money = 120 * month\n",
    "        return money\n",
    "    else:\n",
    "        money = 180 * month\n",
    "        return money\n",
    "\n",
    "def info(name, month):#用name这个参数引入一个变量\n",
    "    gain = bonus(month)\n",
    "    print('%s来了%s个月，获得奖金%s元' % (name, month, gain)) \n",
    "\n",
    "info('大聪',14)"
   ]
  },
  {
   "cell_type": "code",
   "execution_count": 4,
   "metadata": {},
   "outputs": [
    {
     "name": "stdout",
     "output_type": "stream",
     "text": [
      "开奖倒计时 3\n",
      "开奖倒计时 2\n",
      "开奖倒计时 1\n",
      "\n",
      "    /\\_)o<\n",
      "    |      \\\n",
      "    | O . O|\n",
      "    \\_____/\n",
      "    \n",
      "恭喜段誉中奖！\n"
     ]
    }
   ],
   "source": [
    "# sample\n",
    "#hellokitty抽奖\n",
    "#输入三个参数，随机任何一个参数中奖\n",
    "#倒计时3秒后显示hellokitty图案\n",
    "#打印出谁中奖\n",
    "import random\n",
    "import time\n",
    "\n",
    "# 将抽奖程序封装成函数\n",
    "def choujiang(q,w,e):  # 定义一个抽奖函数，带有3个参数，也就是3位候选人\n",
    "    luckylist = [q,w,e]  # 定义一个中奖名单的列表\n",
    "    a = random.choice(luckylist)  # 在中奖名单里面随机选择,random.choice(list1)函数\n",
    "    print('开奖倒计时',3)\n",
    "    time.sleep(1)\n",
    "    print('开奖倒计时',2)\n",
    "    time.sleep(1)\n",
    "    print('开奖倒计时',1)\n",
    "    time.sleep(1)\n",
    "    image = '''\n",
    "    /\\_)o<\n",
    "    |      \\\\\n",
    "    | O . O|\n",
    "    \\_____/\n",
    "    '''\n",
    "    print(image)\n",
    "    print('恭喜'+a+'中奖！')\n",
    "    \n",
    "choujiang('虚竹','萧峰','段誉')  # 调用函数"
   ]
  },
  {
   "cell_type": "code",
   "execution_count": 9,
   "metadata": {},
   "outputs": [
    {
     "name": "stdout",
     "output_type": "stream",
     "text": [
      "开奖倒计时 3\n",
      "开奖倒计时 2\n",
      "开奖倒计时 1\n",
      "\n",
      "    /\\_)o<\n",
      "    |      \\\n",
      "    | O . O|\n",
      "    \\_____/\n",
      "    \n",
      "获奖者是 youyoukaka\n"
     ]
    }
   ],
   "source": [
    "#mycode:\n",
    "import random\n",
    "import time\n",
    "\n",
    "def lottery(name1,name2,name3):\n",
    "    Namelist=[name1,name2,name3]\n",
    "    winningname = random.choice(Namelist)\n",
    "    print('开奖倒计时 3')\n",
    "    time.sleep(1)\n",
    "    print('开奖倒计时 2')\n",
    "    time.sleep(1)\n",
    "    print('开奖倒计时 1')\n",
    "    time.sleep(1)\n",
    "    image = '''\n",
    "    /\\_)o<\n",
    "    |      \\\\\n",
    "    | O . O|\n",
    "    \\_____/\n",
    "    '''\n",
    "    print(image)\n",
    "    print('获奖者是',winningname) \n",
    "\n",
    "lottery('youyou','kaka','youyoukaka')\n",
    "    "
   ]
  },
  {
   "cell_type": "code",
   "execution_count": 11,
   "metadata": {},
   "outputs": [
    {
     "name": "stdout",
     "output_type": "stream",
     "text": [
      "0\n",
      "1\n",
      "2\n",
      "3\n",
      "4\n",
      "5\n",
      "6\n",
      "7\n",
      "8\n",
      "9\n"
     ]
    }
   ],
   "source": [
    "#Debug 符号全角半角，冒号是否忘记，缩进是否正确\n",
    "for x in range(10):\n",
    "    print(x)  "
   ]
  },
  {
   "cell_type": "code",
   "execution_count": 1,
   "metadata": {},
   "outputs": [
    {
     "name": "stdin",
     "output_type": "stream",
     "text": [
      "请输入你的名字 abc\n",
      "请输入密码 345\n"
     ]
    },
    {
     "name": "stdout",
     "output_type": "stream",
     "text": [
      "failed\n"
     ]
    },
    {
     "name": "stdin",
     "output_type": "stream",
     "text": [
      "请输入你的名字 abc\n",
      "请输入密码 678\n"
     ]
    },
    {
     "name": "stdout",
     "output_type": "stream",
     "text": [
      "failed\n"
     ]
    },
    {
     "name": "stdin",
     "output_type": "stream",
     "text": [
      "请输入你的名字 thn\n",
      "请输入密码 567\n"
     ]
    },
    {
     "name": "stdout",
     "output_type": "stream",
     "text": [
      "failed\n",
      "你输错了三次，登录失败\n"
     ]
    }
   ],
   "source": [
    "#用户输入用户名和密码，当用户名为abc且密码为123时，显示登录成功，否则登录失败。用户最多可以尝试输入3次。\n",
    "i = 0\n",
    "while i < 3:\n",
    "    name = input('请输入你的名字')\n",
    "    password = int(input('请输入密码'))\n",
    "    \n",
    "    if password == 123 and name == 'abc':\n",
    "        print('passed')\n",
    "        break\n",
    "    else:\n",
    "        print('failed')\n",
    "    i+=1\n",
    "else:\n",
    "     print(\"你输错了三次，登录失败\")"
   ]
  },
  {
   "cell_type": "code",
   "execution_count": 179,
   "metadata": {},
   "outputs": [
    {
     "ename": "SyntaxError",
     "evalue": "'break' outside loop (<ipython-input-179-152163108a85>, line 8)",
     "output_type": "error",
     "traceback": [
      "\u001b[0;36m  File \u001b[0;32m\"<ipython-input-179-152163108a85>\"\u001b[0;36m, line \u001b[0;32m8\u001b[0m\n\u001b[0;31m    print('nihaonihao')\u001b[0m\n\u001b[0m               ^\u001b[0m\n\u001b[0;31mSyntaxError\u001b[0m\u001b[0;31m:\u001b[0m 'break' outside loop\n"
     ]
    }
   ],
   "source": [
    "#break,continue不可以用在if从句中，但是和while嵌套可以用\n",
    "i=6\n",
    "if i >3:\n",
    "    print('abc')\n",
    "    break\n",
    "else:\n",
    "    print('cde')\n",
    "print('nihaonihao')"
   ]
  },
  {
   "cell_type": "code",
   "execution_count": 8,
   "metadata": {},
   "outputs": [
    {
     "name": "stdin",
     "output_type": "stream",
     "text": [
      "请输入用户名： rty\n",
      "请输入密码： 345\n"
     ]
    },
    {
     "name": "stdout",
     "output_type": "stream",
     "text": [
      "输入有误\n"
     ]
    },
    {
     "name": "stdin",
     "output_type": "stream",
     "text": [
      "请输入用户名： iop\n",
      "请输入密码： 908\n"
     ]
    },
    {
     "name": "stdout",
     "output_type": "stream",
     "text": [
      "输入有误\n"
     ]
    },
    {
     "name": "stdin",
     "output_type": "stream",
     "text": [
      "请输入用户名： ghn\n",
      "请输入密码： 456\n"
     ]
    },
    {
     "name": "stdout",
     "output_type": "stream",
     "text": [
      "输入有误\n",
      "你输错了三次，登录失败\n"
     ]
    }
   ],
   "source": [
    "#sample\n",
    "n = 0\n",
    "while n<3:\n",
    "    username = input(\"请输入用户名：\")\n",
    "    password = input(\"请输入密码：\")\n",
    "    if username == 'abc' and password == '123':\n",
    "        print(\"登录成功\")\n",
    "        break\n",
    "    else:\n",
    "        n=n+1\n",
    "        print(\"输入有误\")\n",
    "else:\n",
    "    print(\"你输错了三次，登录失败\")"
   ]
  },
  {
   "cell_type": "code",
   "execution_count": null,
   "metadata": {},
   "outputs": [],
   "source": [
    "#常见错误\n",
    "#1.漏了末尾的冒号，如if语句、循环语句、定义函数\n",
    "#2.缩进错误，该缩进的时候没缩进，不该缩进的时候缩进了\n",
    "#3.把英文符号写成中文符号，如: ，: ()\n",
    "#4.字符串拼接的时候，把字符串和数字拼在一起\n",
    "#5.没有定义变量\n",
    "#6. '=='和'='混用\n",
    "#7.空格和tab混用\n",
    "#8.import库"
   ]
  },
  {
   "cell_type": "code",
   "execution_count": null,
   "metadata": {},
   "outputs": [],
   "source": [
    "#debug 时候，用print打印逐步结果看哪里出错，还可以command加/来注释掉几行代码，逐步运行\n",
    "#多行注释有两种快捷操作：\n",
    "# 1、在需要注释的多行代码块前后加一组三引号''' \n",
    "# 2、选中代码后使用快捷键操作：Windows快捷键是ctrl+/，Mac为cmd+/，适用于本地编辑器"
   ]
  },
  {
   "cell_type": "code",
   "execution_count": 10,
   "metadata": {},
   "outputs": [
    {
     "name": "stdin",
     "output_type": "stream",
     "text": [
      "你查询的演员是？ 章子怡\n"
     ]
    },
    {
     "name": "stdout",
     "output_type": "stream",
     "text": [
      "章子怡出演了无问西东\n"
     ]
    }
   ],
   "source": [
    "#根据演员查询演过电影\n",
    "movies = {\n",
    "    '妖猫传':['黄轩','染谷将太'],\n",
    "    '无问西东':['章子怡','王力宏','祖峰'],\n",
    "    '超时空同居':['雷佳音','佟丽娅']\n",
    "}\n",
    "name=input('你查询的演员是？')\n",
    "for movie in movies:\n",
    "    actors=movies[movie]\n",
    "    #print(actors)\n",
    "    if name in actors:\n",
    "        print(name+'出演了'+movie)"
   ]
  },
  {
   "cell_type": "code",
   "execution_count": 43,
   "metadata": {},
   "outputs": [
    {
     "name": "stdin",
     "output_type": "stream",
     "text": [
      "你查询的电影是？ 妖猫传\n"
     ]
    },
    {
     "name": "stdout",
     "output_type": "stream",
     "text": [
      "黄轩,染谷将太,主演了妖猫传\n"
     ]
    }
   ],
   "source": [
    "#根据电影查询主要演员\n",
    "movies = {\n",
    "    '妖猫传':['黄轩','染谷将太'],\n",
    "    '无问西东':['章子怡','王力宏','祖峰'],\n",
    "    '超时空同居':['雷佳音','佟丽娅']\n",
    "}\n",
    "\n",
    "moviename=input('你查询的电影是？')\n",
    "if moviename in movies:\n",
    "    for i in range(len(movies[moviename])):\n",
    "        #print(movies[moviename[i]])\n",
    "        print(movies[moviename][i],end = ',')\n",
    "    print('主演了',moviename,sep='')\n",
    "#注意movies[moviename]是一个列表，无法和字符串拼接打印\n",
    "#注意取切片的格式movies[moviename][i]"
   ]
  },
  {
   "cell_type": "code",
   "execution_count": null,
   "metadata": {},
   "outputs": [],
   "source": [
    "#猜硬币游戏，你猜的正反面，和系统随机生成的正反面一样就赢了\n",
    "#正面可以等于0，反面可以等于1，这样就转化为猜数字的游戏了\n",
    "#random.randint(0,1)，任意生成0或者1\n",
    "#random.randint(a,b)：用于生成一个指定范围内的整数。其中参数a是下限，参数b是上限，生成的随机数n：a<=n<=b"
   ]
  },
  {
   "cell_type": "code",
   "execution_count": 185,
   "metadata": {},
   "outputs": [
    {
     "name": "stdout",
     "output_type": "stream",
     "text": [
      "------猜硬币游戏------\n",
      "猜一猜硬币是正面还是反面？\n"
     ]
    },
    {
     "name": "stdin",
     "output_type": "stream",
     "text": [
      "请输入“正面”或“反面”： 反面\n"
     ]
    },
    {
     "name": "stdout",
     "output_type": "stream",
     "text": [
      "没猜对，再给你一次机会。\n"
     ]
    },
    {
     "name": "stdin",
     "output_type": "stream",
     "text": [
      "请输入“正面”或“反面”： 反面\n"
     ]
    },
    {
     "name": "stdout",
     "output_type": "stream",
     "text": [
      "大失败！\n"
     ]
    }
   ],
   "source": [
    "#猜硬币游戏\n",
    "#给两次机会猜\n",
    "#mycode\n",
    "import random\n",
    "\n",
    "print('------猜硬币游戏------')\n",
    "guess = ''\n",
    "\n",
    "while guess not in ['正面','反面']:\n",
    "    print('猜一猜硬币是正面还是反面？')\n",
    "    guess = input('请输入“正面”或“反面”：')\n",
    "\n",
    "if guess == '正面':\n",
    "    guessnum=0\n",
    "else:\n",
    "    guessnum=1\n",
    "toss = random.randint(0,1) \n",
    "\n",
    "if toss == guessnum:\n",
    "    print('猜对了！你真棒')\n",
    "else:\n",
    "    print('没猜对，再给你一次机会。')\n",
    "    guess = input('请输入“正面”或“反面”：')\n",
    "    toss = all[random.randint(0,1)]#我认为此处toss应该重新赋值\n",
    "    if guess == '正面':\n",
    "        guessnum=0\n",
    "    else:\n",
    "        guessnum=1\n",
    "    if toss == guessnum:\n",
    "        print('你终于猜对了！')\n",
    "    else:\n",
    "        print('大失败！')"
   ]
  },
  {
   "cell_type": "code",
   "execution_count": 184,
   "metadata": {},
   "outputs": [
    {
     "name": "stdout",
     "output_type": "stream",
     "text": [
      "------猜硬币游戏------\n",
      "猜一猜硬币是正面还是反面？\n"
     ]
    },
    {
     "name": "stdin",
     "output_type": "stream",
     "text": [
      "请输入“正面”或“反面”： 正面\n"
     ]
    },
    {
     "name": "stdout",
     "output_type": "stream",
     "text": [
      "没猜对，再给你一次机会。\n"
     ]
    },
    {
     "name": "stdin",
     "output_type": "stream",
     "text": [
      "再输一次“正面”或“反面”： 正面\n"
     ]
    },
    {
     "name": "stdout",
     "output_type": "stream",
     "text": [
      "你终于猜对了！\n"
     ]
    }
   ],
   "source": [
    "#sample1\n",
    "#先创建一个列表，包括正面[0]和反面[1]，然后用系统随机生成0，1，切片取出，是否与input输入信息比对\n",
    "#两次机会\n",
    "import random\n",
    "\n",
    "all = ['正面','反面']\n",
    "guess = ''\n",
    "\n",
    "while guess not in all:\n",
    "    print('------猜硬币游戏------')\n",
    "    print('猜一猜硬币是正面还是反面？')\n",
    "    guess = input('请输入“正面”或“反面”：')\n",
    "\n",
    "toss = all[random.randint(0,1)]\n",
    "# 随机抛硬币，all[0]取出正面，all[1]取出反面\n",
    "\n",
    "if toss == guess:\n",
    "    print('猜对了！你真棒')\n",
    "else:\n",
    "    print('没猜对，再给你一次机会。')\n",
    "    guess = input('再输一次“正面”或“反面”：')\n",
    "    toss = all[random.randint(0,1)]#我认为此处toss应该重新赋值\n",
    "    if toss == guess:\n",
    "        print('你终于猜对了！')\n",
    "    else:\n",
    "        print('大失败！')"
   ]
  },
  {
   "cell_type": "code",
   "execution_count": 187,
   "metadata": {},
   "outputs": [
    {
     "name": "stdout",
     "output_type": "stream",
     "text": [
      "------猜硬币游戏------\n",
      "猜一猜硬币是正面还是反面？\n"
     ]
    },
    {
     "name": "stdin",
     "output_type": "stream",
     "text": [
      "“正面”请输入0,“反面”请输入1： 正面\n",
      "“正面”请输入0,“反面”请输入1： 0\n"
     ]
    },
    {
     "name": "stdout",
     "output_type": "stream",
     "text": [
      "没猜对，再给你一次机会。\n"
     ]
    },
    {
     "name": "stdin",
     "output_type": "stream",
     "text": [
      "再输一次（“正面”请输入0,“反面”请输入1）： 0\n"
     ]
    },
    {
     "name": "stdout",
     "output_type": "stream",
     "text": [
      "你终于猜对了！\n"
     ]
    }
   ],
   "source": [
    "#sample2\n",
    "#直接把input输入的信息限定为'0'或'1'。\n",
    "import random\n",
    "\n",
    "guess = ''\n",
    "\n",
    "while guess not in [0,1]:\n",
    "    print('------猜硬币游戏------')\n",
    "    print('猜一猜硬币是正面还是反面？')\n",
    "    try:\n",
    "        guess = int(input('“正面”请输入0,“反面”请输入1：'))\n",
    "    #注意要用int()将字符串类型转换为数字类型\n",
    "    except Exception:\n",
    "        guess = int(input('“正面”请输入0,“反面”请输入1：'))#我认为此处应该考虑ValueError\n",
    "        \n",
    "toss = random.randint(0,1)\n",
    "\n",
    "if toss == guess:\n",
    "    print('猜对了！你真棒')\n",
    "else:\n",
    "    print('没猜对，再给你一次机会。')\n",
    "    guess = int(input('再输一次（“正面”请输入0,“反面”请输入1）：'))值\n",
    "    toss = random.randint(0,1)#我认为此处toss应该重新赋\n",
    "    if toss == guess:\n",
    "        print('你终于猜对了！')\n",
    "    else:\n",
    "        print('大失败！')"
   ]
  },
  {
   "cell_type": "code",
   "execution_count": 71,
   "metadata": {},
   "outputs": [
    {
     "name": "stdout",
     "output_type": "stream",
     "text": [
      "猜一猜硬币是正面还是反面？\n"
     ]
    },
    {
     "name": "stdin",
     "output_type": "stream",
     "text": [
      "请输入正面还是反面 fan\n"
     ]
    },
    {
     "name": "stdout",
     "output_type": "stream",
     "text": [
      "请重新输入\n"
     ]
    },
    {
     "name": "stdin",
     "output_type": "stream",
     "text": [
      " 正面\n"
     ]
    },
    {
     "name": "stdout",
     "output_type": "stream",
     "text": [
      "没猜对，再给你一次机会。\n"
     ]
    },
    {
     "name": "stdin",
     "output_type": "stream",
     "text": [
      "再输一次“正面”或“反面”： 反面\n"
     ]
    },
    {
     "name": "stdout",
     "output_type": "stream",
     "text": [
      "你终于猜对了\n"
     ]
    }
   ],
   "source": [
    "#mycode 用函数封装\n",
    "import random\n",
    "print('猜一猜硬币是正面还是反面？')\n",
    "coin_list=['正面','反面']\n",
    "\n",
    "def inputcoin():\n",
    "    input_coin = input('请输入正面还是反面')\n",
    "    while input_coin not in coin_list:\n",
    "        print('请重新输入')\n",
    "        input_coin = input()\n",
    "    pc_coin=coin_list[random.randint(0,1)]\n",
    "    return input_coin,pc_coin\n",
    "    \n",
    "\n",
    "def comparisoncoin(myinput_coin):\n",
    "    myguess=myinput_coin[0]\n",
    "    answer=myinput_coin[1]\n",
    "    if myguess == answer:\n",
    "        print('猜对了！你真棒')\n",
    "    else:\n",
    "        print('没猜对，再给你一次机会。')\n",
    "        myguess = input('再输一次“正面”或“反面”：')\n",
    "        if myguess == answer:\n",
    "            print('你终于猜对了')\n",
    "        else:\n",
    "            print('又错了，大失败!')\n",
    "def main():\n",
    "    myinput_coin=inputcoin()\n",
    "    comparisoncoin(myinput_coin)\n",
    "    \n",
    "main()   "
   ]
  },
  {
   "cell_type": "code",
   "execution_count": 188,
   "metadata": {},
   "outputs": [
    {
     "name": "stdin",
     "output_type": "stream",
     "text": [
      "你今年几岁 2.0\n"
     ]
    },
    {
     "name": "stdout",
     "output_type": "stream",
     "text": [
      "请输入整数\n"
     ]
    }
   ],
   "source": [
    "#SyntaxError指的是语法错误\n",
    "#“ValueError”的意思是“传入无效的参数”\n",
    "#int()函数不能接受非数字的字符串，“ValueError”\n",
    "#try…except 错误类型…语句\n",
    "#try except Exception\n",
    "#mycoding\n",
    "try:\n",
    "    age = int(input('你今年几岁'))#此处只能输入整数，否则报错\n",
    "    if age < 18:\n",
    "        print('不可以喝酒噢')\n",
    "    else:\n",
    "        print('你成年了')\n",
    "except ValueError:\n",
    "    print('请输入整数')"
   ]
  },
  {
   "cell_type": "code",
   "execution_count": 189,
   "metadata": {},
   "outputs": [
    {
     "name": "stdin",
     "output_type": "stream",
     "text": [
      "你今年几岁了？ abc\n"
     ]
    },
    {
     "name": "stdout",
     "output_type": "stream",
     "text": [
      "你输入的不是数字！\n"
     ]
    },
    {
     "name": "stdin",
     "output_type": "stream",
     "text": [
      "你今年几岁了？ 10\n"
     ]
    },
    {
     "name": "stdout",
     "output_type": "stream",
     "text": [
      "不可以喝酒噢\n"
     ]
    }
   ],
   "source": [
    "#sample\n",
    "#设置while循环来接受输入，只要用户输入不是数字就会一直循环，输入了数字就break跳出循环。\n",
    "#使用try……except……语句，当用户输错的时候会给予提示\n",
    "while True:\n",
    "    try:\n",
    "        age = int(input('你今年几岁了？'))#此处只能输入整数，否则报错\n",
    "        break\n",
    "    except ValueError:\n",
    "        print('你输入的不是数字！')\n",
    "\n",
    "if age < 18:\n",
    "    print('不可以喝酒噢')"
   ]
  },
  {
   "cell_type": "code",
   "execution_count": 76,
   "metadata": {},
   "outputs": [
    {
     "name": "stdin",
     "output_type": "stream",
     "text": [
      "你今年几岁了？ 6.0\n"
     ]
    },
    {
     "name": "stdout",
     "output_type": "stream",
     "text": [
      "你输入的不是数字！\n"
     ]
    },
    {
     "name": "stdin",
     "output_type": "stream",
     "text": [
      "你今年几岁了？ 8.0\n"
     ]
    },
    {
     "name": "stdout",
     "output_type": "stream",
     "text": [
      "你输入的不是数字！\n"
     ]
    },
    {
     "name": "stdin",
     "output_type": "stream",
     "text": [
      "你今年几岁了？ 90\n"
     ]
    }
   ],
   "source": [
    "#sample\n",
    "while True:\n",
    "    try:\n",
    "        age = int(input('你今年几岁了？'))#此处只能输入整数，否则报错\n",
    "        break\n",
    "    except ValueError:\n",
    "        print('你输入的不是数字！')\n",
    "\n",
    "if age < 18:\n",
    "    print('不可以喝酒噢')"
   ]
  },
  {
   "cell_type": "code",
   "execution_count": 41,
   "metadata": {},
   "outputs": [
    {
     "name": "stdout",
     "output_type": "stream",
     "text": [
      "6.0\n",
      "3.0\n",
      ".\n",
      "2.0\n"
     ]
    }
   ],
   "source": [
    "#报错类型ZeroDivisionError,0是不可以做除数\n",
    "#sample\n",
    "num = [1,2,0,3]\n",
    "for x in num:\n",
    "    try:\n",
    "        print (6/x)\n",
    "    except ZeroDivisionError:\n",
    "        print('.')"
   ]
  },
  {
   "cell_type": "code",
   "execution_count": null,
   "metadata": {},
   "outputs": [],
   "source": [
    "#所有报错类型https://www.runoob.com/python/python-exceptions.html"
   ]
  },
  {
   "cell_type": "code",
   "execution_count": 81,
   "metadata": {},
   "outputs": [
    {
     "name": "stdout",
     "output_type": "stream",
     "text": [
      "Total scores are 264\n",
      "the average value of total scores are 88\n"
     ]
    }
   ],
   "source": [
    "#语文':89, '数学':95, '英语':80 计算平均分\n",
    "#mycode\n",
    "#注意算法\n",
    "scoredict={'语文':89, '数学':95, '英语':80}\n",
    "\n",
    "def averagescore():\n",
    "    sum_score=0\n",
    "    for course in scoredict:\n",
    "        score=scoredict[course]\n",
    "        sum_score+=score#注意此算法\n",
    "    print('Total scores are %d'%sum_score)\n",
    "    averagescore=sum_score/len(scoredict)\n",
    "    print('The average value of total scores are %d'%averagescore)\n",
    "averagescore()              "
   ]
  },
  {
   "cell_type": "code",
   "execution_count": 92,
   "metadata": {},
   "outputs": [
    {
     "name": "stdout",
     "output_type": "stream",
     "text": [
      "现在的总分是264\n",
      "平均分是88\n"
     ]
    }
   ],
   "source": [
    "#sample\n",
    "scores = {'语文':89, '数学':95, '英语':80}\n",
    "def get_average(scores):\n",
    "    sum_score = 0\n",
    "    for subject, score in scores.items():\n",
    "        sum_score += score\n",
    "    print('现在的总分是%d'%sum_score)\n",
    "    ave_score = sum_score/len(scores)\n",
    "    print('平均分是%d'%ave_score)\n",
    "get_average(scores)"
   ]
  },
  {
   "cell_type": "code",
   "execution_count": 88,
   "metadata": {},
   "outputs": [
    {
     "name": "stdin",
     "output_type": "stream",
     "text": [
      "请给旺财取个外号: 狗狗\n",
      "请给旺财取个外号: 溜溜\n",
      "请给旺财取个外号: 发发\n",
      "请给旺财取个外号: 小狗\n"
     ]
    },
    {
     "name": "stdout",
     "output_type": "stream",
     "text": [
      "我生气了，不想理你了!\n",
      "对不起，以后我不会这么叫你了\n"
     ]
    }
   ],
   "source": [
    "#sample\n",
    "\n",
    "not_bad_word = True \n",
    "while not_bad_word:\n",
    "    x = input('请给旺财取个外号:')\n",
    "    if x == '小狗' or x =='汪汪': # 只要外号是两个中的一个，就会生气。\n",
    "        not_bad_word = False #和break的作用一样\n",
    "        print('我生气了，不想理你了!')\n",
    "print('对不起，以后我不会这么叫你了')"
   ]
  },
  {
   "cell_type": "code",
   "execution_count": 91,
   "metadata": {},
   "outputs": [
    {
     "name": "stdin",
     "output_type": "stream",
     "text": [
      "请给旺财取个外号: 狗狗\n",
      "请给旺财取个外号: 溜溜\n",
      "请给旺财取个外号: 发发\n",
      "请给旺财取个外号: 小狗\n"
     ]
    },
    {
     "name": "stdout",
     "output_type": "stream",
     "text": [
      "我生气了，不想理你了!\n",
      "对不起，以后我不会这么叫你了\n"
     ]
    }
   ],
   "source": [
    "#mycode\n",
    "nicknamelist=['小狗','汪汪']\n",
    "while True:\n",
    "    nickname = input('请给旺财取个外号:')\n",
    "    if nickname in nicknamelist:# 只要外号是两个中的一个，就会生气。\n",
    "        print('我生气了，不想理你了!')\n",
    "        break\n",
    "print('对不起，以后我不会这么叫你了')"
   ]
  },
  {
   "cell_type": "code",
   "execution_count": 94,
   "metadata": {},
   "outputs": [
    {
     "name": "stdout",
     "output_type": "stream",
     "text": [
      "你的存款涨了3.000000倍\n",
      "你的存款涨了3.000000倍\n",
      "你的存款涨了2.222222倍\n",
      "你的存款涨了2.500000倍\n",
      "你的存款涨了0.000000倍\n",
      "你上次存款为 0 哦!\n",
      "你的存款涨了2.250000倍\n"
     ]
    }
   ],
   "source": [
    "#sample\n",
    "deposit = [100,300,900,2000,5000,0,2000,4500]\n",
    "for i in range(1, len(deposit)):\n",
    "    if deposit[i-1] == 0: # 判断被除数等于0时，特殊处理。\n",
    "        print('你上次存款为 0 哦!') \n",
    "    else:\n",
    "        times = deposit[i]/deposit[i-1]\n",
    "        print('你的存款涨了%f倍'%times)"
   ]
  },
  {
   "cell_type": "code",
   "execution_count": 96,
   "metadata": {},
   "outputs": [
    {
     "name": "stdout",
     "output_type": "stream",
     "text": [
      "你的存款涨了3.0倍\n",
      "你的存款涨了3.0倍\n",
      "你的存款涨了2.2倍\n",
      "你的存款涨了2.5倍\n",
      "你的存款涨了0.0倍\n",
      "你上次存款为0\n",
      "你的存款涨了2.2倍\n"
     ]
    }
   ],
   "source": [
    "#mycode\n",
    "deposit = [100,300,900,2000,5000,0,2000,4500]\n",
    "for i in range(1,len(deposit)):\n",
    "    try:\n",
    "        times=deposit[i]/deposit[i-1]\n",
    "        print('你的存款涨了%.1f倍'%times)\n",
    "    except ZeroDivisionError:\n",
    "        print('你上次存款为0')       "
   ]
  },
  {
   "cell_type": "code",
   "execution_count": 111,
   "metadata": {},
   "outputs": [
    {
     "name": "stdout",
     "output_type": "stream",
     "text": [
      "\n",
      "欢迎使用除法计算器！\n",
      "\n"
     ]
    },
    {
     "name": "stdin",
     "output_type": "stream",
     "text": [
      "请你输入被除数： 10\n",
      "请你输入除数： 5\n"
     ]
    },
    {
     "name": "stdout",
     "output_type": "stream",
     "text": [
      "10 / 5 = 2.0\n"
     ]
    }
   ],
   "source": [
    "#sample\n",
    "#这个除法计算器需要包含的报错信息有:输入了非数值(即不属于整数和浮点数)、被除数为零以及变量不存在。\n",
    "print('\\n欢迎使用除法计算器！\\n')\n",
    "while True:\n",
    "    try:\n",
    "        x = input('请你输入被除数：')\n",
    "        y = input('请你输入除数：')\n",
    "        z = float(x)/float(y)\n",
    "        print(x,'/',y,'=',z)\n",
    "        break  # 默认每次只计算一次，所以在这里写了 break。\n",
    "    except ZeroDivisionError:  # 当被除数为0时，跳出提示，重新输入。\n",
    "        print('0是不能做除数的！')\n",
    "    except ValueError:  # 当除数或被除数中有一个无法转换成浮点数时，跳出提示，重新输入。\n",
    "        print('除数和被除数都应该是整值或浮点数！')\n",
    "# 方式2：将两个（或多个）异常放在一起，只要触发其中一个，就执行所包含的代码。\n",
    "# except(ZeroDivisionError,ValueError):\n",
    "#     print('你的输入有误，请重新输入！')\n",
    "# 方式3：常规错误的基类，假设不想提供很精细的提示，可以用这个语句响应常规错误。\n",
    "# except Exception:\n",
    "#     print('你的输入有误，请重新输入！')\n"
   ]
  },
  {
   "cell_type": "code",
   "execution_count": 116,
   "metadata": {},
   "outputs": [
    {
     "name": "stdout",
     "output_type": "stream",
     "text": [
      "\n",
      "欢迎使用除法计算器!\n",
      "\n"
     ]
    },
    {
     "name": "stdin",
     "output_type": "stream",
     "text": [
      "请你输入被除数: 10\n",
      "请你输入除数: 5\n"
     ]
    },
    {
     "name": "stdout",
     "output_type": "stream",
     "text": [
      "10 / 5 = 2.0\n"
     ]
    }
   ],
   "source": [
    "#sample\n",
    "print('\\n欢迎使用除法计算器!\\n')\n",
    "while True:\n",
    "    try:\n",
    "        x = input('请你输入被除数:')\n",
    "        y = input('请你输入除数:')\n",
    "        z = float(x)/float(y)\n",
    "    except ZeroDivisionError:\n",
    "        print('0是不能做除数的!')\n",
    "    except ValueError:\n",
    "        print('除数和被除数都应该是整值或浮点数!')\n",
    "    else:\n",
    "        print(x,'/',y,'=',z)\n",
    "        break"
   ]
  },
  {
   "cell_type": "code",
   "execution_count": 115,
   "metadata": {},
   "outputs": [
    {
     "name": "stdout",
     "output_type": "stream",
     "text": [
      "欢迎使用除法计算器\n"
     ]
    },
    {
     "name": "stdin",
     "output_type": "stream",
     "text": [
      "请输入被除数 10\n",
      "请输入除数 0\n"
     ]
    },
    {
     "name": "stdout",
     "output_type": "stream",
     "text": [
      "除数不能为0\n"
     ]
    },
    {
     "name": "stdin",
     "output_type": "stream",
     "text": [
      "请输入被除数 a\n",
      "请输入除数 b\n"
     ]
    },
    {
     "name": "stdout",
     "output_type": "stream",
     "text": [
      "请输入数字\n"
     ]
    },
    {
     "name": "stdin",
     "output_type": "stream",
     "text": [
      "请输入被除数 1\n",
      "请输入除数 5\n"
     ]
    },
    {
     "name": "stdout",
     "output_type": "stream",
     "text": [
      "1除以5等于0.2\n"
     ]
    }
   ],
   "source": [
    "#mycode\n",
    "print('欢迎使用除法计算器')\n",
    "\n",
    "while True:\n",
    "    try:\n",
    "        x=input('请输入被除数')\n",
    "        y=input('请输入除数')\n",
    "        z=float(x)/float(y)\n",
    "        print('%s除以%s等于%s'%(x,y,z))\n",
    "        break\n",
    "    except ValueError:\n",
    "        print('请输入数字')\n",
    "    except ZeroDivisionError:\n",
    "        print('除数不能为0') "
   ]
  },
  {
   "cell_type": "code",
   "execution_count": 117,
   "metadata": {},
   "outputs": [
    {
     "name": "stdout",
     "output_type": "stream",
     "text": [
      "欢迎使用除法计算器\n"
     ]
    },
    {
     "name": "stdin",
     "output_type": "stream",
     "text": [
      "请输入被除数 a\n",
      "请输入除数 b\n"
     ]
    },
    {
     "name": "stdout",
     "output_type": "stream",
     "text": [
      "输入有误，请重新输入\n"
     ]
    },
    {
     "name": "stdin",
     "output_type": "stream",
     "text": [
      "请输入被除数 9\n",
      "请输入除数 0\n"
     ]
    },
    {
     "name": "stdout",
     "output_type": "stream",
     "text": [
      "输入有误，请重新输入\n"
     ]
    },
    {
     "name": "stdin",
     "output_type": "stream",
     "text": [
      "请输入被除数 5\n",
      "请输入除数 2\n"
     ]
    },
    {
     "name": "stdout",
     "output_type": "stream",
     "text": [
      "5除以2等于2.5\n"
     ]
    }
   ],
   "source": [
    "#mycode\n",
    "print('欢迎使用除法计算器')\n",
    "\n",
    "while True:\n",
    "    try:\n",
    "        x=input('请输入被除数')\n",
    "        y=input('请输入除数')\n",
    "        z=float(x)/float(y)\n",
    "        print('%s除以%s等于%s'%(x,y,z))\n",
    "        break\n",
    "    except Exception:\n",
    "        print('输入有误，请重新输入')"
   ]
  },
  {
   "cell_type": "code",
   "execution_count": 119,
   "metadata": {},
   "outputs": [
    {
     "name": "stdout",
     "output_type": "stream",
     "text": [
      "欢迎使用除法计算器\n"
     ]
    },
    {
     "name": "stdin",
     "output_type": "stream",
     "text": [
      "请输入被除数 10\n",
      "请输入除数 0\n"
     ]
    },
    {
     "name": "stdout",
     "output_type": "stream",
     "text": [
      "输入有误，请重新输入\n"
     ]
    },
    {
     "name": "stdin",
     "output_type": "stream",
     "text": [
      "请输入被除数 a\n",
      "请输入除数 b\n"
     ]
    },
    {
     "name": "stdout",
     "output_type": "stream",
     "text": [
      "输入有误，请重新输入\n"
     ]
    },
    {
     "name": "stdin",
     "output_type": "stream",
     "text": [
      "请输入被除数 10\n",
      "请输入除数 5\n"
     ]
    },
    {
     "name": "stdout",
     "output_type": "stream",
     "text": [
      "10除以5等于2.0\n"
     ]
    }
   ],
   "source": [
    "#mycode\n",
    "print('欢迎使用除法计算器')\n",
    "\n",
    "while True:\n",
    "    try:\n",
    "        x=input('请输入被除数')\n",
    "        y=input('请输入除数')\n",
    "        z=float(x)/float(y)\n",
    "        print('%s除以%s等于%s'%(x,y,z))\n",
    "        break\n",
    "    except (ZeroDivisionError,ValueError):\n",
    "        print('输入有误，请重新输入')"
   ]
  },
  {
   "cell_type": "code",
   "execution_count": 108,
   "metadata": {},
   "outputs": [
    {
     "name": "stdout",
     "output_type": "stream",
     "text": [
      "0.5\n",
      "0.2\n"
     ]
    }
   ],
   "source": [
    "#不要搞错除数和被除数的位置\n",
    "x=1\n",
    "y=2\n",
    "z = float(x)/float(y)\n",
    "print(z)\n",
    "\n",
    "a=5\n",
    "b=1\n",
    "c=b/a\n",
    "print(c)"
   ]
  },
  {
   "cell_type": "code",
   "execution_count": 1,
   "metadata": {},
   "outputs": [
    {
     "data": {
      "text/plain": [
       "25"
      ]
     },
     "execution_count": 1,
     "metadata": {},
     "output_type": "execute_result"
    }
   ],
   "source": [
    "#函数的参数\n",
    "#默认参数\n",
    "def power(x, n=2):\n",
    "    s = 1\n",
    "    while n > 0:\n",
    "        n = n - 1\n",
    "        s = s * x\n",
    "    return s\n",
    "power(5)\n",
    "#默认参数可以简化函数的调用。设置默认参数时，有几点要注意：\n",
    "# 必选参数在前，默认参数在后，否则Python的解释器会报错\n",
    "# 当函数有多个参数时，把变化大的参数放前面，变化小的参数放后面。变化小的参数就可以作为默认参数。\n",
    "# 默认参数最大的好处是能降低调用函数的难度。"
   ]
  },
  {
   "cell_type": "code",
   "execution_count": 4,
   "metadata": {},
   "outputs": [
    {
     "name": "stdout",
     "output_type": "stream",
     "text": [
      "name: Sarah\n",
      "gender: F\n",
      "age: 6\n",
      "city: Beijing\n",
      "-----改变城市的默认参数---------\n",
      "name: Adam\n",
      "gender: M\n",
      "age: 6\n",
      "city: Tianjin\n"
     ]
    }
   ],
   "source": [
    "def enroll(name, gender, age=6, city='Beijing'):\n",
    "    print('name:', name)\n",
    "    print('gender:', gender)\n",
    "    print('age:', age)\n",
    "    print('city:', city)\n",
    "enroll('Sarah', 'F')\n",
    "#只需要两个参数\n",
    "print('-----改变城市的默认参数---------')\n",
    "enroll('Adam', 'M', city='Tianjin')"
   ]
  },
  {
   "cell_type": "code",
   "execution_count": 17,
   "metadata": {},
   "outputs": [
    {
     "name": "stdout",
     "output_type": "stream",
     "text": [
      "[1, 2, 3, 'END']\n",
      "['x', 'y', 'z', 'END']\n",
      "[5, 6, 7, 'END']\n",
      "-------以下有问题-------\n",
      "['END']\n",
      "['END', 'END']\n",
      "['END', 'END', 'END']\n"
     ]
    }
   ],
   "source": [
    "#默认参数的陷阱\n",
    "def add_end(L=[]):\n",
    "    L.append('END')\n",
    "    return L\n",
    "print(add_end([1, 2, 3]))\n",
    "print(add_end(['x', 'y', 'z']))\n",
    "print(add_end([5,6,7]))\n",
    "print('-------以下有问题-------')\n",
    "print(add_end())\n",
    "print(add_end())\n",
    "print(add_end())"
   ]
  },
  {
   "cell_type": "code",
   "execution_count": 21,
   "metadata": {},
   "outputs": [
    {
     "name": "stdout",
     "output_type": "stream",
     "text": [
      "[1, 2, 3, 1]\n",
      "--------------\n",
      "3\n",
      "2\n"
     ]
    }
   ],
   "source": [
    "#可变对象（列表，字典），不可变对象（元组，字符串，整数等）\n",
    "#可变对象作为参数传入时，在函数中对其本身进行修改，是会影响到全局中的这个变量值的，因为函数直接对该地址的值进行了修改。\n",
    "#函数默认参数一定要设定为不可变参数，\n",
    "def myfunc(l):\n",
    "    l.append(1)\n",
    "    print(l)\n",
    "l = [1, 2, 3]\n",
    "myfunc(l)\n",
    "print('--------------')\n",
    "def myfunc1(a):\n",
    "    a += 1\n",
    "    print(a)\n",
    "a=2\n",
    "myfunc1(a)\n",
    "print(a)"
   ]
  },
  {
   "cell_type": "code",
   "execution_count": null,
   "metadata": {},
   "outputs": [],
   "source": [
    "# Python函数在定义的时候，默认参数L的值就被计算出来了，即[]，\n",
    "# 因为默认参数L也是一个变量，它指向对象[]，每次调用该函数，如果改变了L的内容，则下次调用时，默认参数的内容就变了\n",
    "# 不再是函数定义时的[]了。\n",
    "# 要修改上面的例子，我们可以用None这个不变对象来实现\n",
    "def add_end(L=None):\n",
    "    if L is None:\n",
    "        L = []\n",
    "    L.append('END')\n",
    "    return L\n",
    "\n",
    "#为什么要设计str、None这样的不变对象呢？\n",
    "# 因为不变对象一旦创建，对象内部的数据就不能修改，这样就减少了由于修改数据导致的错误。\n",
    "# 此外，由于对象不变，多任务环境下同时读取对象不需要加锁，同时读一点问题都没有。\n",
    "# 如果可以设计一个不变对象，那就尽量设计成不变对象。"
   ]
  },
  {
   "cell_type": "code",
   "execution_count": 8,
   "metadata": {},
   "outputs": [
    {
     "data": {
      "text/plain": [
       "14"
      ]
     },
     "execution_count": 8,
     "metadata": {},
     "output_type": "execute_result"
    }
   ],
   "source": [
    "#可变参数\n",
    "def calc(*numbers):\n",
    "    sum = 0\n",
    "    for n in numbers:\n",
    "        sum = sum + n * n\n",
    "    return sum\n",
    "nums = [1, 2, 3]\n",
    "calc(nums[0], nums[1], nums[2])"
   ]
  },
  {
   "cell_type": "code",
   "execution_count": 10,
   "metadata": {},
   "outputs": [
    {
     "name": "stdout",
     "output_type": "stream",
     "text": [
      "name: Adam age: 45 other: {'gender': 'M', 'job': 'Engineer'}\n",
      "None\n",
      "name: Jack age: 24 other: {'city': 'Beijing', 'job': 'Engineer'}\n",
      "None\n"
     ]
    }
   ],
   "source": [
    "#关键字参数\n",
    "def person(name, age, **kw):\n",
    "    print('name:', name, 'age:', age, 'other:', kw)\n",
    "print(person('Adam', 45, gender='M', job='Engineer'))\n",
    "#关键字参数有什么用？它可以扩展函数的功能。\n",
    "# 比如，在person函数里，我们保证能接收到name和age这两个参数\n",
    "# 如果调用者愿意提供更多的参数，我们也能收到。\n",
    "# 做一个用户注册的功能，除了用户名和年龄是必填项外，其他都是可选项，利用关键字参数来定义这个函数就能满足注册的需求。\n",
    "extra = {'city': 'Beijing', 'job': 'Engineer'}\n",
    "print(person('Jack', 24, city=extra['city'], job=extra['job']))\n"
   ]
  },
  {
   "cell_type": "code",
   "execution_count": 11,
   "metadata": {},
   "outputs": [
    {
     "name": "stdout",
     "output_type": "stream",
     "text": [
      "name: Jack age: 24 other: {'city': 'Beijing', 'addr': 'Chaoyang', 'zipcode': 123456}\n",
      "None\n"
     ]
    }
   ],
   "source": [
    "#命名关键字参数\n",
    "#对于关键字参数，函数的调用者可以传入任意不受限制的关键字参数。至于到底传入了哪些，就需要在函数内部通过kw检查。\n",
    "def person(name, age, **kw):\n",
    "    if 'city' in kw:\n",
    "        # 有city参数\n",
    "        pass\n",
    "    if 'job' in kw:\n",
    "        # 有job参数\n",
    "        pass\n",
    "    print('name:', name, 'age:', age, 'other:', kw)\n",
    "print(person('Jack', 24, city='Beijing', addr='Chaoyang', zipcode=123456))\n",
    "\n"
   ]
  },
  {
   "cell_type": "code",
   "execution_count": 13,
   "metadata": {},
   "outputs": [
    {
     "name": "stdout",
     "output_type": "stream",
     "text": [
      "Jack 24 Beijing Engineer\n",
      "None\n"
     ]
    }
   ],
   "source": [
    "# 如果要限制关键字参数的名字，就可以用命名关键字参数，例如，只接收city和job作为关键字参数。\n",
    "def person(name, age, *, city, job):\n",
    "    print(name, age, city, job)\n",
    "print(person('Jack', 24, city='Beijing', job='Engineer'))"
   ]
  },
  {
   "cell_type": "code",
   "execution_count": 24,
   "metadata": {},
   "outputs": [
    {
     "ename": "NameError",
     "evalue": "name 'job' is not defined",
     "output_type": "error",
     "traceback": [
      "\u001b[0;31m---------------------------------------------------------------------------\u001b[0m",
      "\u001b[0;31mNameError\u001b[0m                                 Traceback (most recent call last)",
      "\u001b[0;32m<ipython-input-24-67d0596a917e>\u001b[0m in \u001b[0;36m<module>\u001b[0;34m\u001b[0m\n\u001b[1;32m      3\u001b[0m \u001b[0;32mdef\u001b[0m \u001b[0mperson\u001b[0m\u001b[0;34m(\u001b[0m\u001b[0mname\u001b[0m\u001b[0;34m,\u001b[0m \u001b[0mage\u001b[0m\u001b[0;34m,\u001b[0m \u001b[0;34m*\u001b[0m\u001b[0margs\u001b[0m\u001b[0;34m,\u001b[0m \u001b[0;34m**\u001b[0m\u001b[0mcity\u001b[0m\u001b[0;34m)\u001b[0m\u001b[0;34m:\u001b[0m\u001b[0;34m\u001b[0m\u001b[0;34m\u001b[0m\u001b[0m\n\u001b[1;32m      4\u001b[0m     \u001b[0mprint\u001b[0m\u001b[0;34m(\u001b[0m\u001b[0mname\u001b[0m\u001b[0;34m,\u001b[0m \u001b[0mage\u001b[0m\u001b[0;34m,\u001b[0m \u001b[0margs\u001b[0m\u001b[0;34m,\u001b[0m \u001b[0mcity\u001b[0m\u001b[0;34m,\u001b[0m \u001b[0mjob\u001b[0m\u001b[0;34m)\u001b[0m\u001b[0;34m\u001b[0m\u001b[0;34m\u001b[0m\u001b[0m\n\u001b[0;32m----> 5\u001b[0;31m \u001b[0mprint\u001b[0m\u001b[0;34m(\u001b[0m\u001b[0mperson\u001b[0m\u001b[0;34m(\u001b[0m\u001b[0;34m'Jack'\u001b[0m\u001b[0;34m,\u001b[0m \u001b[0;36m24\u001b[0m\u001b[0;34m,\u001b[0m \u001b[0;36m56\u001b[0m\u001b[0;34m,\u001b[0m\u001b[0mcity\u001b[0m\u001b[0;34m=\u001b[0m\u001b[0;34m'Beijing'\u001b[0m\u001b[0;34m,\u001b[0m \u001b[0mjob\u001b[0m\u001b[0;34m=\u001b[0m\u001b[0;34m'Engineer'\u001b[0m\u001b[0;34m)\u001b[0m\u001b[0;34m)\u001b[0m\u001b[0;34m\u001b[0m\u001b[0;34m\u001b[0m\u001b[0m\n\u001b[0m\u001b[1;32m      6\u001b[0m \u001b[0mprint\u001b[0m\u001b[0;34m(\u001b[0m\u001b[0mperson\u001b[0m\u001b[0;34m(\u001b[0m\u001b[0;34m'Jack'\u001b[0m\u001b[0;34m,\u001b[0m \u001b[0;36m24\u001b[0m\u001b[0;34m,\u001b[0m \u001b[0;34m'Beijing'\u001b[0m\u001b[0;34m,\u001b[0m \u001b[0;34m'Engineer'\u001b[0m\u001b[0;34m)\u001b[0m\u001b[0;34m)\u001b[0m\u001b[0;34m\u001b[0m\u001b[0;34m\u001b[0m\u001b[0m\n\u001b[1;32m      7\u001b[0m \u001b[0;31m#由于调用时缺少参数名city和job，Python解释器把这4个参数均视为位置参数，但person()函数仅接受2个位置参数。\u001b[0m\u001b[0;34m\u001b[0m\u001b[0;34m\u001b[0m\u001b[0;34m\u001b[0m\u001b[0m\n",
      "\u001b[0;32m<ipython-input-24-67d0596a917e>\u001b[0m in \u001b[0;36mperson\u001b[0;34m(name, age, *args, **city)\u001b[0m\n\u001b[1;32m      2\u001b[0m \u001b[0;31m# 命名关键字参数必须传入参数名，这和位置参数不同。如果没有传入参数名，调用将报错：\u001b[0m\u001b[0;34m\u001b[0m\u001b[0;34m\u001b[0m\u001b[0;34m\u001b[0m\u001b[0m\n\u001b[1;32m      3\u001b[0m \u001b[0;32mdef\u001b[0m \u001b[0mperson\u001b[0m\u001b[0;34m(\u001b[0m\u001b[0mname\u001b[0m\u001b[0;34m,\u001b[0m \u001b[0mage\u001b[0m\u001b[0;34m,\u001b[0m \u001b[0;34m*\u001b[0m\u001b[0margs\u001b[0m\u001b[0;34m,\u001b[0m \u001b[0;34m**\u001b[0m\u001b[0mcity\u001b[0m\u001b[0;34m)\u001b[0m\u001b[0;34m:\u001b[0m\u001b[0;34m\u001b[0m\u001b[0;34m\u001b[0m\u001b[0m\n\u001b[0;32m----> 4\u001b[0;31m     \u001b[0mprint\u001b[0m\u001b[0;34m(\u001b[0m\u001b[0mname\u001b[0m\u001b[0;34m,\u001b[0m \u001b[0mage\u001b[0m\u001b[0;34m,\u001b[0m \u001b[0margs\u001b[0m\u001b[0;34m,\u001b[0m \u001b[0mcity\u001b[0m\u001b[0;34m,\u001b[0m \u001b[0mjob\u001b[0m\u001b[0;34m)\u001b[0m\u001b[0;34m\u001b[0m\u001b[0;34m\u001b[0m\u001b[0m\n\u001b[0m\u001b[1;32m      5\u001b[0m \u001b[0mprint\u001b[0m\u001b[0;34m(\u001b[0m\u001b[0mperson\u001b[0m\u001b[0;34m(\u001b[0m\u001b[0;34m'Jack'\u001b[0m\u001b[0;34m,\u001b[0m \u001b[0;36m24\u001b[0m\u001b[0;34m,\u001b[0m \u001b[0;36m56\u001b[0m\u001b[0;34m,\u001b[0m\u001b[0mcity\u001b[0m\u001b[0;34m=\u001b[0m\u001b[0;34m'Beijing'\u001b[0m\u001b[0;34m,\u001b[0m \u001b[0mjob\u001b[0m\u001b[0;34m=\u001b[0m\u001b[0;34m'Engineer'\u001b[0m\u001b[0;34m)\u001b[0m\u001b[0;34m)\u001b[0m\u001b[0;34m\u001b[0m\u001b[0;34m\u001b[0m\u001b[0m\n\u001b[1;32m      6\u001b[0m \u001b[0mprint\u001b[0m\u001b[0;34m(\u001b[0m\u001b[0mperson\u001b[0m\u001b[0;34m(\u001b[0m\u001b[0;34m'Jack'\u001b[0m\u001b[0;34m,\u001b[0m \u001b[0;36m24\u001b[0m\u001b[0;34m,\u001b[0m \u001b[0;34m'Beijing'\u001b[0m\u001b[0;34m,\u001b[0m \u001b[0;34m'Engineer'\u001b[0m\u001b[0;34m)\u001b[0m\u001b[0;34m)\u001b[0m\u001b[0;34m\u001b[0m\u001b[0;34m\u001b[0m\u001b[0m\n",
      "\u001b[0;31mNameError\u001b[0m: name 'job' is not defined"
     ]
    }
   ],
   "source": [
    "# 如果函数定义中已经有了一个可变参数，后面跟着的命名关键字参数就不再需要一个特殊分隔符*了：\n",
    "# 命名关键字参数必须传入参数名，这和位置参数不同。如果没有传入参数名，调用将报错：\n",
    "def person(name, age, *args, city, job):\n",
    "    print(name, age, args, city, job)\n",
    "print(person('Jack', 24, 56,city='Beijing', job='Engineer'))\n",
    "print(person('Jack', 24, 'Beijing', 'Engineer'))\n",
    "#由于调用时缺少参数名city和job，Python解释器把这4个参数均视为位置参数，但person()函数仅接受2个位置参数。"
   ]
  },
  {
   "cell_type": "code",
   "execution_count": 22,
   "metadata": {},
   "outputs": [
    {
     "name": "stdout",
     "output_type": "stream",
     "text": [
      "a = 1 b = 2 c = 0 args = () kw = {}\n",
      "None\n",
      "a = 1 b = 2 c = 3 args = () kw = {}\n",
      "None\n",
      "a = 1 b = 2 c = 3 args = ('a', 'b') kw = {}\n",
      "None\n",
      "a = 1 b = 2 c = 3 args = ('a', 'b') kw = {'x': 99}\n",
      "None\n",
      "a = 1 b = 2 c = 0 d = 99 kw = {'ext': None}\n",
      "None\n",
      "a = 1 b = 2 c = 3 args = (4,) kw = {'d': 99, 'x': '#'}\n",
      "None\n"
     ]
    }
   ],
   "source": [
    "# 在Python中定义函数，可以用必选参数、默认参数、可变参数、关键字参数和命名关键字参数，这5种参数都可以组合使用。\n",
    "# 但是请注意，参数定义的顺序必须是：必选参数、默认参数、可变参数、命名关键字参数和关键字参数。\n",
    "def f1(a, b, c=0, *args, **kw):\n",
    "    print('a =', a, 'b =', b, 'c =', c, 'args =', args, 'kw =', kw)\n",
    "\n",
    "def f2(a, b, c=0, *, d, **kw):\n",
    "    print('a =', a, 'b =', b, 'c =', c, 'd =', d, 'kw =', kw)\n",
    "\n",
    "print(f1(1, 2))\n",
    "print(f1(1, 2, c=3))\n",
    "print(f1(1, 2, 3, 'a', 'b'))\n",
    "print(f1(1, 2, 3, 'a', 'b', x=99))\n",
    "print(f2(1, 2, d=99, ext=None))\n",
    "args = (1, 2, 3, 4)\n",
    "kw = {'d': 99, 'x': '#'}\n",
    "print( f1(*args, **kw))\n",
    "#虽然可以组合多达5种参数，但不要同时使用太多的组合，否则函数接口的可理解性很差。\n",
    "#*args是可变参数，args接收的是一个tuple；\n",
    "#**kw是关键字参数，kw接收的是一个dict\n",
    "# 可变参数既可以直接传入：func(1, 2, 3)，又可以先组装list或tuple，再通过*args传入：func(*(1, 2, 3))；\n",
    "# 关键字参数既可以直接传入：func(a=1, b=2)，又可以先组装dict，再通过**kw传入：func(**{'a': 1, 'b': 2})。\n",
    "# 使用*args和**kw是Python的习惯写法，当然也可以用其他参数名，但最好使用习惯用法。\n",
    "# 命名的关键字参数是为了限制调用者可以传入的参数名，同时可以提供默认值。\n",
    "# 定义命名的关键字参数在没有可变参数的情况下不要忘了写分隔符*，否则定义的将是位置参数。"
   ]
  },
  {
   "cell_type": "code",
   "execution_count": null,
   "metadata": {},
   "outputs": [],
   "source": [
    "# 在函数内部，可以调用其他函数。如果一个函数在内部调用自身本身，这个函数就是递归函数。\n",
    "# 理论上，所有的递归函数都可以写成循环的方式，但循环的逻辑不如递归清晰。\n",
    "# 使用递归函数需要注意防止栈溢出。\n",
    "# 在计算机中，函数调用是通过栈（stack）这种数据结构实现的，每当进入一个函数调用，栈就会加一层栈帧，每当函数返回，栈就会减一层栈帧。\n",
    "# 由于栈的大小不是无限的，所以，递归调用的次数过多，会导致栈溢出。\n",
    "def fact_iter(num, product):\n",
    "    if num == 1:\n",
    "        return product\n",
    "    return fact_iter(num - 1, num * product)"
   ]
  }
 ],
 "metadata": {
  "kernelspec": {
   "display_name": "Python 3",
   "language": "python",
   "name": "python3"
  },
  "language_info": {
   "codemirror_mode": {
    "name": "ipython",
    "version": 3
   },
   "file_extension": ".py",
   "mimetype": "text/x-python",
   "name": "python",
   "nbconvert_exporter": "python",
   "pygments_lexer": "ipython3",
   "version": "3.7.3"
  }
 },
 "nbformat": 4,
 "nbformat_minor": 2
}
