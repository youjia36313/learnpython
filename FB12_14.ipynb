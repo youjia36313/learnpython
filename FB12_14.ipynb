{
 "cells": [
  {
   "cell_type": "code",
   "execution_count": null,
   "metadata": {},
   "outputs": [],
   "source": [
    "#index\n",
    "\n",
    "#类，实例，对象\n",
    "#类属性，方法\n",
    "#面向对象编程\n",
    "#类的继承\n",
    "#类，属性和方法的增删\n",
    "\n",
    "\n",
    "#other\n",
    "#生成器\n",
    "#迭代器\n",
    "#列表生成式\n",
    "#random.sample(list,n)\n"
   ]
  },
  {
   "cell_type": "code",
   "execution_count": null,
   "metadata": {},
   "outputs": [],
   "source": [
    "#(Object Oriented Programming)面向对象编程\n",
    "#小游戏https://github.com/CharlesPikachu/Games/tree/master/Game4\n",
    "\n",
    "#类（class），比如整数、字符串、浮点数等，不同的数据类型就属于不同的类。\n",
    "#全名是整数类、字符串类、浮点数类。可以用type()函数来验证\n",
    "# <class 'str'>\n",
    "# <class 'int'>\n",
    "# <class 'list'>\n",
    "# 类的个例就叫做实例 (instance)，可理解为“实际的例子，eg：1，2都是整数类的实例\n",
    "\n",
    "# object\n",
    "# Python中的对象等于类和实例的集合\n",
    "# 类可以看作是对象，实例也可以看作是对象，eg：list是个类对象，[1,2]是个实例对象，它们都是对象。\n",
    "\n",
    "# 属性（what）和方法（how），eg：列表的属性：外层有中括号，元素间用英文逗号隔开，方法：都可以做增删改操作（如 append、del等）。\n",
    "#每个类都有自己独特的属性(attribute)和方法(method)，是这个类的所有实例都共享的。\n",
    "# 每个实例都可以调用类中所有的属性和方法。\n",
    "\n",
    "# 注:\n",
    "# 1.在类中赋值的变量叫作属性，类中定义的函数叫作方法(以此和普通函数区分)\n",
    "# 2.实例方法是指类中参数带self的函数，是类方法的一种形式，也是最常用的用法。\n",
    "# 3.课堂中所讲“类的方法”，均指实例方法，想了解其他方法，可自行查询相关文档。\n",
    "# 实例方法的创建语句，和函数的定义语句很类似，唯一不同的是：实例方法中有个必须放在首位的参数self\n",
    "#类名的首字母要大写，以便让我们轻松地辨认出“哦！这个是类！”"
   ]
  },
  {
   "cell_type": "code",
   "execution_count": 1,
   "metadata": {},
   "outputs": [
    {
     "name": "stdout",
     "output_type": "stream",
     "text": [
      "True\n",
      "电脑正在开机中……\n"
     ]
    }
   ],
   "source": [
    "#sample1 创建一个电脑类，并调用\n",
    "class Computer:#大写\n",
    "    screen = True#属性\n",
    "\n",
    "    def start(self):#实例方法\n",
    "        print('电脑正在开机中……')\n",
    "\n",
    "my_computer = Computer()#类的实例化，即在某个类下创建一个实例对象。\n",
    "print(my_computer.screen)\n",
    "my_computer.start()\n",
    "\n",
    "# 类的实例化\n",
    "# 语法:实例名=类名() eg：my_ computer = Computer()\n",
    "# 意义:我们有了一个实例，一个“可调用所属类的所有属性和方法”的实例。\n",
    "# 当实例my_computer一被创建出来，就可以调用类中的属性和方法。调用的语法是:实例名.属性,实例名.方法\n",
    "\n",
    "#参数self的特殊之处：在定义时不能丢，在调用时要忽略。"
   ]
  },
  {
   "cell_type": "code",
   "execution_count": 2,
   "metadata": {},
   "outputs": [
    {
     "name": "stdout",
     "output_type": "stream",
     "text": [
      "<class '__main__.Computer'>\n",
      "<__main__.Computer object at 0x106f8d630>\n"
     ]
    }
   ],
   "source": [
    "#sample2\n",
    "class Computer:\n",
    "    screen = True\n",
    "\n",
    "    def start(self):\n",
    "        print('电脑正在开机中……')\n",
    "\n",
    "my_computer = Computer()\n",
    "print(type(my_computer))#验证了my_computer属于Computer这个类\n",
    "#<< <class '__main__.Computer'>\n",
    "print(my_computer)#Computer类的一个实例对象(object)，后面的一串字符表示这个对象的内存地址。\n",
    "#<< <__main__.Computer object at 0x106f8d630>"
   ]
  },
  {
   "cell_type": "code",
   "execution_count": 11,
   "metadata": {},
   "outputs": [
    {
     "name": "stdout",
     "output_type": "stream",
     "text": [
      "True\n",
      "电脑正在开机中……\n"
     ]
    }
   ],
   "source": [
    "#sample3 创建的实例调用类的属性和方法\n",
    "class Computer:\n",
    "\n",
    "    screen = True\n",
    "\n",
    "    def start(self):\n",
    "        print('电脑正在开机中……')\n",
    "\n",
    "my_computer = Computer()\n",
    "print(my_computer.screen)\n",
    "my_computer.start()"
   ]
  },
  {
   "cell_type": "code",
   "execution_count": 13,
   "metadata": {},
   "outputs": [
    {
     "name": "stdout",
     "output_type": "stream",
     "text": [
      "吃饭用筷子\n",
      "---------------\n",
      "black\n",
      "吃饭用筷子\n",
      "None\n",
      "---------------\n",
      "black\n",
      "吃饭用筷子\n"
     ]
    }
   ],
   "source": [
    "#mycode\n",
    "\n",
    "class Chinese:#大写\n",
    "    eye = 'black'#属性，注意缩进\n",
    "    \n",
    "    def eating(self):#方法，注意缩进以及self\n",
    "        print('吃饭用筷子')\n",
    "\n",
    "        youyou=Chinese()\n",
    "youyou.eye\n",
    "youyou.eating()#注意括号\n",
    "print('---------------')\n",
    "\n",
    "print(youyou.eye)\n",
    "print(youyou.eating())#注意括号\n",
    "print('---------------')\n",
    "\n",
    "print(youyou.eye)\n",
    "youyou.eating()"
   ]
  },
  {
   "cell_type": "code",
   "execution_count": 12,
   "metadata": {},
   "outputs": [
    {
     "name": "stdout",
     "output_type": "stream",
     "text": [
      "black\n",
      "吃饭，选择用筷子。\n"
     ]
    }
   ],
   "source": [
    "#sample\n",
    "class Chinese:      # 创建一个类\n",
    "    eye = 'black'\n",
    "\n",
    "    def eat(self):\n",
    "        print('吃饭，选择用筷子。')\n",
    "\n",
    "wufeng = Chinese()   # 类的实例化\n",
    "print(wufeng.eye)   # 实例调用类属性\n",
    "wufeng.eat()  # 调用类中的方法（传参不用管self）"
   ]
  },
  {
   "cell_type": "code",
   "execution_count": null,
   "metadata": {},
   "outputs": [],
   "source": [
    "#summary,类的创建和调用\n",
    "# 类的创建: class 语句 注意大写\n",
    "# 类的属性创建:赋值语句 注意赋值是什么类型（str，逻辑值等等）\n",
    "# 实例方法的创建: def method1 (self):\n",
    "\n",
    "#类的实例化:实例名=类名() 注意括号\n",
    "# 调用类的属性:实例名.属性\n",
    "# 调用类的方法:实例名.方法()\n",
    "\n",
    "#类中创建的属性和方法可以被其所有的实例调用，\n",
    "#实例的数目在理论上是无限的。我们可以同时“新建”多个实例\n",
    "#类也被称为“实例工厂”，因其为所有实例提供了一套蓝图（即预先设定好有什么属性和方法）。"
   ]
  },
  {
   "cell_type": "code",
   "execution_count": 21,
   "metadata": {},
   "outputs": [
    {
     "name": "stdout",
     "output_type": "stream",
     "text": [
      "程序持续更新....\n",
      "black\n",
      "我生在广东\n"
     ]
    }
   ],
   "source": [
    "#summary\n",
    "class Chinese: #类的创建\n",
    "    eye='black'#类属性的创建\n",
    "    def __init__(self,hometown):#类的初始化函数\n",
    "        self.hometown = hometown #实例属性的创建\n",
    "        print('程序持续更新....')# 初始化中的语句\n",
    "    def born(self):#实例方法的创建\n",
    "        print('我生在%s'%self.hometown)# 方法的具体语句\n",
    "wufeng = Chinese('广东') # 类的实例化\n",
    "print(wufeng.eye)# 打印实例的属性(从类传递的)\n",
    "wufeng.born()#实例方法的调用"
   ]
  },
  {
   "cell_type": "code",
   "execution_count": 14,
   "metadata": {},
   "outputs": [
    {
     "name": "stdout",
     "output_type": "stream",
     "text": [
      "black\n",
      "吃饭，选择用筷子。\n",
      "吃饭，选择用筷子。\n"
     ]
    }
   ],
   "source": [
    "#sample\n",
    "class Chinese:\n",
    "    eye = 'black'\n",
    "\n",
    "    def eat(self):\n",
    "        print('吃饭，选择用筷子。')\n",
    "\n",
    "# 类的实例化：创建多个实例\n",
    "wufeng = Chinese()\n",
    "jiangjiang = Chinese()\n",
    "kaxi = Chinese()\n",
    "\n",
    "print(jiangjiang.eye)\n",
    "wufeng.eat()\n",
    "kaxi.eat()"
   ]
  },
  {
   "cell_type": "code",
   "execution_count": null,
   "metadata": {},
   "outputs": [],
   "source": [
    "#类的方法，self参数\n",
    "#self会接收实例化过程中传入的数据，当实例对象创建后，实例便会代替 self，在代码中运行。\n",
    "#和一般函数一样，类的方法也可以设置多个参数"
   ]
  },
  {
   "cell_type": "code",
   "execution_count": 15,
   "metadata": {},
   "outputs": [
    {
     "name": "stdout",
     "output_type": "stream",
     "text": [
      "吴枫\n",
      "吴枫是中国人\n"
     ]
    }
   ],
   "source": [
    "#sample\n",
    "class Chinese:\n",
    "\n",
    "    name = '吴枫'  # 类属性name\n",
    "\n",
    "    def say(self, someone):  # 带有两个参数的方法\n",
    "        print(someone + '是中国人')\n",
    "\n",
    "person = Chinese()\n",
    "print(person.name)\n",
    "person.say('吴枫') \n",
    "# self调用时要忽略，'吴枫'传给参数someone\n",
    "# 实际上是多此一举，因为只要在say方法内部调用类属性'吴枫'，就可以实现同样的功能，不必重复传参。"
   ]
  },
  {
   "cell_type": "code",
   "execution_count": 16,
   "metadata": {},
   "outputs": [
    {
     "ename": "NameError",
     "evalue": "name 'name' is not defined",
     "output_type": "error",
     "traceback": [
      "\u001b[0;31m---------------------------------------------------------------------------\u001b[0m",
      "\u001b[0;31mNameError\u001b[0m                                 Traceback (most recent call last)",
      "\u001b[0;32m<ipython-input-16-10eed05bf419>\u001b[0m in \u001b[0;36m<module>\u001b[0;34m\u001b[0m\n\u001b[1;32m      8\u001b[0m         \u001b[0;31m# 打印出'吴枫是中国人'\u001b[0m\u001b[0;34m\u001b[0m\u001b[0;34m\u001b[0m\u001b[0;34m\u001b[0m\u001b[0m\n\u001b[1;32m      9\u001b[0m \u001b[0mperson\u001b[0m \u001b[0;34m=\u001b[0m \u001b[0mChinese\u001b[0m\u001b[0;34m(\u001b[0m\u001b[0;34m)\u001b[0m\u001b[0;34m\u001b[0m\u001b[0;34m\u001b[0m\u001b[0m\n\u001b[0;32m---> 10\u001b[0;31m \u001b[0mperson\u001b[0m\u001b[0;34m.\u001b[0m\u001b[0msay\u001b[0m\u001b[0;34m(\u001b[0m\u001b[0;34m)\u001b[0m\u001b[0;34m\u001b[0m\u001b[0;34m\u001b[0m\u001b[0m\n\u001b[0m",
      "\u001b[0;32m<ipython-input-16-10eed05bf419>\u001b[0m in \u001b[0;36msay\u001b[0;34m(self)\u001b[0m\n\u001b[1;32m      5\u001b[0m \u001b[0;34m\u001b[0m\u001b[0m\n\u001b[1;32m      6\u001b[0m     \u001b[0;32mdef\u001b[0m \u001b[0msay\u001b[0m\u001b[0;34m(\u001b[0m\u001b[0mself\u001b[0m\u001b[0;34m)\u001b[0m\u001b[0;34m:\u001b[0m\u001b[0;34m\u001b[0m\u001b[0;34m\u001b[0m\u001b[0m\n\u001b[0;32m----> 7\u001b[0;31m         \u001b[0mprint\u001b[0m\u001b[0;34m(\u001b[0m\u001b[0mname\u001b[0m \u001b[0;34m+\u001b[0m \u001b[0;34m'是中国人'\u001b[0m\u001b[0;34m)\u001b[0m\u001b[0;34m\u001b[0m\u001b[0;34m\u001b[0m\u001b[0m\n\u001b[0m\u001b[1;32m      8\u001b[0m         \u001b[0;31m# 打印出'吴枫是中国人'\u001b[0m\u001b[0;34m\u001b[0m\u001b[0;34m\u001b[0m\u001b[0;34m\u001b[0m\u001b[0m\n\u001b[1;32m      9\u001b[0m \u001b[0mperson\u001b[0m \u001b[0;34m=\u001b[0m \u001b[0mChinese\u001b[0m\u001b[0;34m(\u001b[0m\u001b[0;34m)\u001b[0m\u001b[0;34m\u001b[0m\u001b[0;34m\u001b[0m\u001b[0m\n",
      "\u001b[0;31mNameError\u001b[0m: name 'name' is not defined"
     ]
    }
   ],
   "source": [
    "#sample error 内部调用参数\n",
    "class Chinese:\n",
    "\n",
    "    name = '吴枫'  # 类属性name\n",
    "\n",
    "    def say(self):\n",
    "        print(name + '是中国人')\n",
    "        # 打印出'吴枫是中国人'\n",
    "person = Chinese()\n",
    "person.say()"
   ]
  },
  {
   "cell_type": "code",
   "execution_count": 17,
   "metadata": {},
   "outputs": [
    {
     "name": "stdout",
     "output_type": "stream",
     "text": [
      "吴枫是中国人\n"
     ]
    }
   ],
   "source": [
    "#在方法内部调用类属性\n",
    "#如果想在类的内部调用类属性，而实例又还没创建之前，就需要有个变量先代替实例接收数据，这个变量就是参数self。\n",
    "#在类的外部调用类属性，先创建一个实例，再用实例名.属性的格式可以调用调用\n",
    "class Chinese:\n",
    "    name = '吴枫'  # 类属性name\n",
    "    def say(self):     \n",
    "        print(self.name + '是中国人')#self.name等价于外部的person.name。\n",
    "person = Chinese()   # 创建Chinese的实例person\n",
    "person.say()         # 调用实例方法"
   ]
  },
  {
   "cell_type": "code",
   "execution_count": 21,
   "metadata": {},
   "outputs": [
    {
     "name": "stdout",
     "output_type": "stream",
     "text": [
      "很高兴遇到你\n",
      "我来自中国\n"
     ]
    }
   ],
   "source": [
    "class Chinese:\n",
    "    def greetings(self):\n",
    "        print('很高兴遇到你')\n",
    "    def say(self):\n",
    "        self.greetings()#调用类内部的属性，不要忘记括号\n",
    "        print('我来自中国')\n",
    "youyou=Chinese()\n",
    "youyou.say()#类的实例化，调用一个属性就能同时调出另外一个属性，不要忘记括号"
   ]
  },
  {
   "cell_type": "code",
   "execution_count": null,
   "metadata": {},
   "outputs": [],
   "source": [
    "#summary\n",
    "# self代表的是类的实例本身，方便数据的流转。\n",
    "# 1.只要在类中用def创建方法时，就必须把第一个参数位置留给 self，并在调用方法时忽略它（不用给self传参）。\n",
    "# 2.当在类的方法内部想调用类属性或其他方法时，就要采用self.属性名或self.方法名的格式。"
   ]
  },
  {
   "cell_type": "code",
   "execution_count": 23,
   "metadata": {},
   "outputs": [
    {
     "name": "stdout",
     "output_type": "stream",
     "text": [
      "很高兴遇见你，我是初始化方法\n",
      "很高兴遇见你，我是初始化方法\n"
     ]
    }
   ],
   "source": [
    "# 定义初始化方法的格式是def __init__(self)，是由init加左右两边的【双】下划线组成（ initialize “初始化”的缩写）\n",
    "#下划线打两次__\n",
    "# 当每个实例对象创建时，该方法内的代码无须调用就会自动运行。\n",
    "#sample\n",
    "class Chinese:\n",
    "    def __init__(self): \n",
    "        print('很高兴遇见你，我是初始化方法')\n",
    "\n",
    "person = Chinese()\n",
    "youyou = Chinese()"
   ]
  },
  {
   "cell_type": "code",
   "execution_count": 30,
   "metadata": {},
   "outputs": [
    {
     "name": "stdout",
     "output_type": "stream",
     "text": [
      "我有1张嘴巴\n",
      "我有2只眼睛\n"
     ]
    },
    {
     "data": {
      "text/plain": [
       "1"
      ]
     },
     "execution_count": 30,
     "metadata": {},
     "output_type": "execute_result"
    }
   ],
   "source": [
    "#在编写习惯上，我在初始化方法内部完成类属性的创建，为类属性设置初始值，这样类中的其他方法就能直接、随时调用。\n",
    "class Chinese:\n",
    "    def __init__ (self):\n",
    "        self.mouth = 1  # self.不能丢\n",
    "        self.eye = 2\n",
    "    \n",
    "    def body(self):\n",
    "        print('我有%s张嘴巴' % self.mouth)\n",
    "        print('我有%s只眼睛' % self.eye)\n",
    "\n",
    "person = Chinese()\n",
    "person.body()"
   ]
  },
  {
   "cell_type": "code",
   "execution_count": 35,
   "metadata": {},
   "outputs": [
    {
     "name": "stdout",
     "output_type": "stream",
     "text": [
      "human have 2 eyes\n",
      "human have 1 mouth\n",
      "human have 2 eyes\n",
      "human have 1 mouth\n"
     ]
    }
   ],
   "source": [
    "class Human:\n",
    "    def __init__(self):\n",
    "        self.mouth=1\n",
    "        self.eye=2\n",
    "    def body(self):\n",
    "        print('human have %s eyes'%self.eye)\n",
    "        print('human have %s mouth'%self.mouth)\n",
    "person1=Human()\n",
    "person1.body()\n",
    "person2=Human()\n",
    "person2.body()"
   ]
  },
  {
   "cell_type": "code",
   "execution_count": null,
   "metadata": {},
   "outputs": [],
   "source": [
    "class Chinese:\n",
    "\n",
    "    def __init__(self, name, birth, region):\n",
    "        self.name = name   # self.name = '吴枫' \n",
    "        self.birth = birth  # self.birth = '广东'\n",
    "        self.region = region  # self.region = '深圳'\n",
    "\n",
    "    def born(self):\n",
    "        print(self.name + '出生在' + self.birth)\n",
    "\n",
    "    def live(self):\n",
    "        print(self.name + '居住在' + self.region)    \n",
    "\n",
    "person = Chinese('吴枫','广东','深圳') # 传入初始化方法的参数\n",
    "#当初始化方法有多个参数的时候，在实例化的时候就要传入相应的值，这里'吴枫'传给参数name, '广东'传给birth，'深圳'传给region\n",
    "#实例person创建完成后，初始化方法会自动执行，此时第三行的self.name = name就等价于self.name = '吴枫'\n",
    "#（self.name中的name可以换成其他名称，只是我们习惯上这么写）\n",
    "person.born()\n",
    "person.live()\n"
   ]
  },
  {
   "cell_type": "code",
   "execution_count": null,
   "metadata": {},
   "outputs": [],
   "source": [
    "#不用初始化方式也可以\n",
    "class Chinese:\n",
    "\n",
    "    def born(self, name, birthplace):\n",
    "        print(name + '出生在' + birthplace)\n",
    "\n",
    "    def live(self, name, region):\n",
    "        print(name + '居住在' + region)\n",
    "\n",
    "person = Chinese()\n",
    "person.born('吴枫','广东')#传入参数\n",
    "person.live('吴枫','深圳')#再次传入参数\n",
    "#但是要在调用方法（函数）的时候反复传参数，很麻烦\n",
    "#不如定义属性，在创建实例的时候一次性传入若干个参数"
   ]
  },
  {
   "cell_type": "code",
   "execution_count": 44,
   "metadata": {},
   "outputs": [
    {
     "name": "stdout",
     "output_type": "stream",
     "text": [
      "youyou出生在黑龙江\n",
      "youyou居住在广东\n"
     ]
    }
   ],
   "source": [
    "#mycode\n",
    "class Chinese:\n",
    "    def __init__(self,name,birth,region):#初始化方法，引入参数\n",
    "        self.name=name#定义属性=参数\n",
    "        self.birth=birth#定义属性=参数\n",
    "        self.region=region#定义属性=参数\n",
    "    def born(self):\n",
    "        print('%s出生在%s'%(self.name,self.birth))\n",
    "    def live(self):\n",
    "        print('%s居住在%s'%(self.name,self.region))\n",
    "person1=Chinese('youyou','黑龙江','广东')#创建类实例的时候一次性传入参数\n",
    "person1.born()#无需再传入\n",
    "person1.live()#无需再传入"
   ]
  },
  {
   "cell_type": "code",
   "execution_count": 43,
   "metadata": {},
   "outputs": [
    {
     "name": "stdout",
     "output_type": "stream",
     "text": [
      "吴枫出生在广东\n",
      "吴枫居住在深圳\n"
     ]
    }
   ],
   "source": [
    "#sample\n",
    "class Chinese:\n",
    "\n",
    "    def __init__(self, name, birth, region):\n",
    "        self.name = name   # self.name = '吴枫' \n",
    "        self.birth = birth  # self.birth = '广东'\n",
    "        self.region = region  # self.region = '深圳'\n",
    "\n",
    "    def born(self):\n",
    "        print(self.name + '出生在' + self.birth)\n",
    "\n",
    "    def live(self):\n",
    "        print(self.name + '居住在' + self.region)    \n",
    "\n",
    "person = Chinese('吴枫','广东','深圳') # 传入初始化方法的参数\n",
    "person.born()\n",
    "person.live()"
   ]
  },
  {
   "cell_type": "code",
   "execution_count": 47,
   "metadata": {},
   "outputs": [
    {
     "name": "stdout",
     "output_type": "stream",
     "text": [
      "my name is youyou,I grew up in heilongjiang, I work in tokyo \n"
     ]
    }
   ],
   "source": [
    "class Introducemyself:\n",
    "    def __init__(self,name,birthplace,workplace):\n",
    "        self.name=name\n",
    "        self.birthplace=birthplace\n",
    "        self.workplace=workplace\n",
    "    def introduce(self):\n",
    "        print('My name is %s,I grew up in %s, I work in %s '%(self.name,self.birthplace,self.workplace))\n",
    "youyou=Introducemyself('youyou','heilongjiang','tokyo')\n",
    "youyou.introduce()\n",
    "#调用时候的括号，传参数一定要注意"
   ]
  },
  {
   "cell_type": "code",
   "execution_count": 49,
   "metadata": {},
   "outputs": [
    {
     "name": "stdout",
     "output_type": "stream",
     "text": [
      "wufeng出生在广东。\n"
     ]
    }
   ],
   "source": [
    "#sample\n",
    "class Chinese:\n",
    "    def __init__(self,name,hometown):\n",
    "        self.name=name\n",
    "        self.hometown=hometown\n",
    "\n",
    "    \n",
    "    def born(self):\n",
    "        print('%s出生在%s。' % (self.name,self.hometown))\n",
    "\n",
    "person=Chinese('wufeng','广东')\n",
    "person.born()"
   ]
  },
  {
   "cell_type": "code",
   "execution_count": 50,
   "metadata": {},
   "outputs": [
    {
     "name": "stdout",
     "output_type": "stream",
     "text": [
      "程序持续更新中……\n",
      "我生在广东。\n",
      "我在深圳。\n"
     ]
    }
   ],
   "source": [
    "#sample 把两个类方法进行封装，封装到一个类方法里，然后传参数一次，调用一次\n",
    "class Chinese:\n",
    "\n",
    "    def __init__(self,hometown,region):\n",
    "        self.hometown = hometown\n",
    "        self.region = region\n",
    "        print('程序持续更新中……')\n",
    "\n",
    "    def born(self):\n",
    "        print('我生在%s。'%(self.hometown))\n",
    "\n",
    "    def live(self):\n",
    "        print('我在%s。'%(self.region))\n",
    "    \n",
    "    # 新建方法，调用上面的两个方法（注：方法名可自定义）。\n",
    "    def citys(self):\n",
    "        self.born()\n",
    "        self.live()\n",
    "\n",
    "wufeng = Chinese('广东', '深圳')\n",
    "wufeng.citys()\n",
    "# 调用方法后，程序运行方法中的代码（即依次调用方法`born`和`live`）。"
   ]
  },
  {
   "cell_type": "code",
   "execution_count": 6,
   "metadata": {},
   "outputs": [
    {
     "name": "stdout",
     "output_type": "stream",
     "text": [
      "My name is youyou\n",
      "I grew up in Heilongjiang\n",
      "I live in Tokyo\n"
     ]
    }
   ],
   "source": [
    "#mycode\n",
    "class Introduction:\n",
    "    \n",
    "    def __init__(self,name,birthplace,liveplace):\n",
    "        self.name=name\n",
    "        self.birthplace=birthplace\n",
    "        self.liveplace=liveplace\n",
    "    def callme(self):\n",
    "        print('My name is %s'%self.name)\n",
    "    def born(self):\n",
    "        print('I grew up in %s'%self.birthplace)\n",
    "    def live(self):\n",
    "        print('I live in %s'%self.liveplace)\n",
    "    def summary(self):\n",
    "        self.callme()#封装子类方法不要忘记括号\n",
    "        self.born()#封装子类方法不要忘记括号\n",
    "        self.live()#封装子类方法不要忘记括号\n",
    "kaka = Introduction('youyou','Heilongjiang','Tokyo')#不要忘记传递参数\n",
    "kaka.summary()"
   ]
  },
  {
   "cell_type": "code",
   "execution_count": 56,
   "metadata": {},
   "outputs": [],
   "source": [
    "#summary\n",
    "#面向对象编程相对应的是面向过程编程\n",
    "#面向过程编程：首先分析出解决问题所需要的步骤（即“第一步做什么，第二步做什么，第三步做什么”），然后用函数实现各个步骤，再依次调用。\n",
    "#比如封装函数“采集信息——计算数据——继续采集信息”这个过程封装了三个函数，再依次调用，按规定顺序执行程序。都是面向过程\n",
    "#而面向对象编程，会将程序看作是一组对象的集合（类对象和实例对象）\n",
    "#再以类为模版创建一个实例对象，用这个实例去调用类中定义好的属性和方法即可。"
   ]
  },
  {
   "cell_type": "code",
   "execution_count": 182,
   "metadata": {},
   "outputs": [
    {
     "name": "stdout",
     "output_type": "stream",
     "text": [
      "black\n"
     ]
    }
   ],
   "source": [
    "#在类中被定义的变量被称为类的【属性】。\n",
    "#使用类名.变量名的格式，可以把类中的属性的值提取出来。让我们来试一试：（这里需要用print语句，把取出的数值打印到屏幕上）\n",
    "class Chinese:\n",
    "    eye='black'\n",
    "print(Chinese.eye)"
   ]
  },
  {
   "cell_type": "code",
   "execution_count": 85,
   "metadata": {},
   "outputs": [
    {
     "name": "stdout",
     "output_type": "stream",
     "text": [
      "欢迎使用工作量计算小程序！\n"
     ]
    },
    {
     "name": "stdin",
     "output_type": "stream",
     "text": [
      "请选择计算类型：（1-工时计算，2-人力计算） 1\n",
      "请输入项目大小：（1代表标准大小，请输入小数） 2\n",
      "请输入人力数量：（请输入整数） 3\n"
     ]
    },
    {
     "name": "stdout",
     "output_type": "stream",
     "text": [
      "项目大小为2.0个标准项目，使用3个人力完成，则需要工时数量为：53.3个\n"
     ]
    },
    {
     "name": "stdin",
     "output_type": "stream",
     "text": [
      "是否继续计算？继续请输入y，输入其他键将结束程序。 y\n",
      "请选择计算类型：（1-工时计算，2-人力计算） 2\n",
      "请输入项目大小：（1代表标准大小，请输入小数） 1.5\n",
      "请输入工时数量：（请输入小数） 30\n"
     ]
    },
    {
     "name": "stdout",
     "output_type": "stream",
     "text": [
      "项目大小为1.5个标准项目，如果需要在30.0个工时完成，则需要人力数量为：4人\n"
     ]
    },
    {
     "name": "stdin",
     "output_type": "stream",
     "text": [
      "是否继续计算？继续请输入y，输入其他键将结束程序。 0\n"
     ]
    },
    {
     "name": "stdout",
     "output_type": "stream",
     "text": [
      "感谢使用工作量计算小程序！\n"
     ]
    }
   ],
   "source": [
    "#用面向对象编程的思维进行改编\n",
    "#sample\n",
    "import math\n",
    "class Project:\n",
    "    \n",
    "    def __init__(self):\n",
    "        self.key = 1\n",
    "\n",
    "    def input(self):\n",
    "        choice = input('请选择计算类型：（1-工时计算，2-人力计算）')\n",
    "        if choice == '1':\n",
    "            self.size = float(input('请输入项目大小：（1代表标准大小，请输入小数）'))\n",
    "            self.number = int(input('请输入人力数量：（请输入整数）'))\n",
    "            self.time = None\n",
    "        if choice == '2':\n",
    "            self.size = float(input('请输入项目大小：（1代表标准大小，请输入小数）'))\n",
    "            self.number = None\n",
    "            self.time = float(input('请输入工时数量：（请输入小数）'))\n",
    "\n",
    "    def estimated(self):\n",
    "        # 人力计算\n",
    "        if (self.number == None) and (self.time != None):\n",
    "            self.number = math.ceil(self.size * 80 / self.time)\n",
    "            print('项目大小为%.1f个标准项目，如果需要在%.1f个工时完成，则需要人力数量为：%d人' %(self.size,self.time,self.number)) \n",
    "        # 工时计算\n",
    "        elif (self.number != None) and (self.time == None):\n",
    "            self.time = self.size * 80 / self.number\n",
    "            print('项目大小为%.1f个标准项目，使用%d个人力完成，则需要工时数量为：%.1f个' %(self.size,self.number,self.time))  \n",
    "    \n",
    "    def again(self):\n",
    "        a = input('是否继续计算？继续请输入y，输入其他键将结束程序。')\n",
    "        if a != 'y':\n",
    "            # 如果用户不输入'y'，则把key赋值为0\n",
    "            self.key = 0  \n",
    "\n",
    "    # 主函数\n",
    "    def main(self):\n",
    "        print('欢迎使用工作量计算小程序！')\n",
    "        while self.key == 1:\n",
    "            self.input()\n",
    "            self.estimated()\n",
    "            self.again()\n",
    "        print('感谢使用工作量计算小程序！')\n",
    "\n",
    "project1 = Project()\n",
    "#创建实例\n",
    "project1.main()"
   ]
  },
  {
   "cell_type": "code",
   "execution_count": 95,
   "metadata": {},
   "outputs": [
    {
     "name": "stdout",
     "output_type": "stream",
     "text": [
      "欢迎使用工作量计算小程序！\n"
     ]
    },
    {
     "name": "stdin",
     "output_type": "stream",
     "text": [
      "请选择计算类型：（1-工时计算，2-人力计算） 2\n",
      "1代表标准大小，请输入小数 2\n",
      "请输入工时数量：（请输入小数 60\n"
     ]
    },
    {
     "name": "stdout",
     "output_type": "stream",
     "text": [
      "项目大小为2.0个标准项目，如果需要在60.0个工时完成，则需要人力数量为：3人\n"
     ]
    },
    {
     "name": "stdin",
     "output_type": "stream",
     "text": [
      "是否继续计算？继续请输入y，输入其他键将结束程序 y\n"
     ]
    },
    {
     "name": "stdout",
     "output_type": "stream",
     "text": [
      "欢迎使用工作量计算小程序！\n"
     ]
    },
    {
     "name": "stdin",
     "output_type": "stream",
     "text": [
      "请选择计算类型：（1-工时计算，2-人力计算） 1\n",
      "1代表标准大小，请输入小数 3.5\n",
      "请输入人力数量：（请输入整数) 6\n"
     ]
    },
    {
     "name": "stdout",
     "output_type": "stream",
     "text": [
      "项目大小为3.5标准项目，使用6个人力完成，则需要工时数量为：46.7个\n"
     ]
    },
    {
     "name": "stdin",
     "output_type": "stream",
     "text": [
      "是否继续计算？继续请输入y，输入其他键将结束程序 0\n"
     ]
    },
    {
     "name": "stdout",
     "output_type": "stream",
     "text": [
      "感谢使用工作量计算小程序！\n"
     ]
    }
   ],
   "source": [
    "#mycode\n",
    "#把函数过程编程变成改为对象编程\n",
    "import math\n",
    "class Workcalculation:\n",
    "    def __init__(self):\n",
    "        self.key = 1\n",
    "    def input_infor(self):\n",
    "        print('欢迎使用工作量计算小程序！')\n",
    "        self.type=float(input('请选择计算类型：（1-工时计算，2-人力计算）'))#\n",
    "        self.size=float(input('1代表标准大小，请输入小数'))#\n",
    "    def calculate(self):\n",
    "        if self.type==1:\n",
    "            self.person_num=int(input('请输入人力数量：（请输入整数)'))#\n",
    "            self.worktime=self.size*80/self.person_num\n",
    "            print('项目大小为%.1f标准项目，使用%d个人力完成，则需要工时数量为：%.1f个'%(self.size,self.person_num,self.worktime))\n",
    "        elif self.type==2:\n",
    "            self.worktime=float(input('请输入工时数量：（请输入小数'))#\n",
    "            self.person_num=math.ceil(self.size*80/self.worktime)\n",
    "            print('项目大小为%.1f个标准项目，如果需要在%.1f个工时完成，则需要人力数量为：%d人'%(self.size,self.worktime,self.person_num))\n",
    "    def again(self):\n",
    "        self.askagain=input('是否继续计算？继续请输入y，输入其他键将结束程序')\n",
    "        if self.askagain != 'y':\n",
    "            self.key = 0\n",
    "    def main(self):\n",
    "        while self.key == 1:\n",
    "            self.input_infor()#self\n",
    "            self.calculate()#self\n",
    "            self.again()#self\n",
    "        else:\n",
    "            print('感谢使用工作量计算小程序！')   \n",
    "calcuworktime1=Workcalculation()\n",
    "calcuworktime1.main()\n",
    "\n",
    "#命名属性命名变量self.变量\n",
    "#命名方法 方法(self)\n",
    "#最后封装大类里调用小类，self.method()"
   ]
  },
  {
   "cell_type": "code",
   "execution_count": 96,
   "metadata": {},
   "outputs": [
    {
     "name": "stdout",
     "output_type": "stream",
     "text": [
      "欢迎使用工作量计算小程序！\n"
     ]
    },
    {
     "name": "stdin",
     "output_type": "stream",
     "text": [
      "请选择计算类型：（1-工时计算，2-人力计算） 2\n",
      "1代表标准大小，请输入小数 2.5\n",
      "请输入工时数量：（请输入小数 60\n"
     ]
    },
    {
     "name": "stdout",
     "output_type": "stream",
     "text": [
      "项目大小为2.5个标准项目，如果需要在60.0个工时完成，则需要人力数量为：4人\n"
     ]
    },
    {
     "name": "stdin",
     "output_type": "stream",
     "text": [
      "是否继续计算？继续请输入y，输入其他键将结束程序 y\n"
     ]
    },
    {
     "name": "stdout",
     "output_type": "stream",
     "text": [
      "欢迎使用工作量计算小程序！\n"
     ]
    },
    {
     "name": "stdin",
     "output_type": "stream",
     "text": [
      "请选择计算类型：（1-工时计算，2-人力计算） 1\n",
      "1代表标准大小，请输入小数 3\n",
      "请输入人力数量：（请输入整数) 6\n"
     ]
    },
    {
     "name": "stdout",
     "output_type": "stream",
     "text": [
      "项目大小为3.0标准项目，使用6个人力完成，则需要工时数量为：40.0个\n"
     ]
    },
    {
     "name": "stdin",
     "output_type": "stream",
     "text": [
      "是否继续计算？继续请输入y，输入其他键将结束程序 0\n"
     ]
    },
    {
     "name": "stdout",
     "output_type": "stream",
     "text": [
      "感谢使用工作量计算小程序！\n"
     ]
    }
   ],
   "source": [
    "#mycode\n",
    "#把函数过程编程变成改为对象编程，调整input位置\n",
    "import math\n",
    "class Workcalculation:\n",
    "    def __init__(self):\n",
    "        self.key = 1\n",
    "    def input_infor(self):\n",
    "        print('欢迎使用工作量计算小程序！')\n",
    "        self.type=float(input('请选择计算类型：（1-工时计算，2-人力计算）'))#输入数据类型\n",
    "        self.size=float(input('1代表标准大小，请输入小数'))#输入数据类型\n",
    "        if self.type==1:\n",
    "            self.person_num=int(input('请输入人力数量：（请输入整数)'))#输入数据类型\n",
    "        elif self.type==2:\n",
    "            self.worktime=float(input('请输入工时数量：（请输入小数'))#输入数据类型\n",
    "    def calculate(self):\n",
    "        if self.type==1:\n",
    "            self.worktime=self.size*80/self.person_num\n",
    "            print('项目大小为%.1f标准项目，使用%d个人力完成，则需要工时数量为：%.1f个'%(self.size,self.person_num,self.worktime))\n",
    "        elif self.type==2:\n",
    "            self.person_num=math.ceil(self.size*80/self.worktime)\n",
    "            print('项目大小为%.1f个标准项目，如果需要在%.1f个工时完成，则需要人力数量为：%d人'%(self.size,self.worktime,self.person_num))\n",
    "    def again(self):\n",
    "        self.askagain=input('是否继续计算？继续请输入y，输入其他键将结束程序')\n",
    "        if self.askagain != 'y':\n",
    "            self.key = 0\n",
    "    def main(self):\n",
    "        while self.key == 1:\n",
    "            self.input_infor()#self\n",
    "            self.calculate()#self\n",
    "            self.again()#self\n",
    "        else:\n",
    "            print('感谢使用工作量计算小程序！')   \n",
    "calcuworktime1=Workcalculation()\n",
    "calcuworktime1.main()\n",
    "\n",
    "#命名属性命名变量self.变量\n",
    "#命名方法 方法(self)\n",
    "#最后封装大类里调用小类，self.method()"
   ]
  },
  {
   "cell_type": "code",
   "execution_count": 98,
   "metadata": {},
   "outputs": [
    {
     "name": "stdout",
     "output_type": "stream",
     "text": [
      "欢迎使用工作量计算小程序！\n"
     ]
    },
    {
     "name": "stdin",
     "output_type": "stream",
     "text": [
      "请选择计算类型：（1-工时计算，2-人力计算） 2\n",
      "1代表标准大小，请输入小数 2.5\n",
      "请输入工时数量：（请输入小数 60\n"
     ]
    },
    {
     "name": "stdout",
     "output_type": "stream",
     "text": [
      "项目大小为2.5个标准项目，如果需要在60.0个工时完成，则需要人力数量为：4人\n"
     ]
    },
    {
     "name": "stdin",
     "output_type": "stream",
     "text": [
      "是否继续计算？继续请输入y，输入其他键将结束程序 y\n"
     ]
    },
    {
     "name": "stdout",
     "output_type": "stream",
     "text": [
      "欢迎使用工作量计算小程序！\n"
     ]
    },
    {
     "name": "stdin",
     "output_type": "stream",
     "text": [
      "请选择计算类型：（1-工时计算，2-人力计算） 1\n",
      "1代表标准大小，请输入小数 3\n",
      "请输入人力数量：（请输入整数) 6\n"
     ]
    },
    {
     "name": "stdout",
     "output_type": "stream",
     "text": [
      "项目大小为3.0标准项目，使用6个人力完成，则需要工时数量为：40.0个\n"
     ]
    },
    {
     "name": "stdin",
     "output_type": "stream",
     "text": [
      "是否继续计算？继续请输入y，输入其他键将结束程序 0\n"
     ]
    },
    {
     "name": "stdout",
     "output_type": "stream",
     "text": [
      "感谢使用工作量计算小程序！\n"
     ]
    }
   ],
   "source": [
    "#mycode\n",
    "#把函数过程编程变成改为对象编程，\n",
    "import math\n",
    "class Workcalculation:\n",
    "    def __init__(self):\n",
    "        self.key = 1\n",
    "    def input_infor(self):\n",
    "        print('欢迎使用工作量计算小程序！')\n",
    "        self.type=float(input('请选择计算类型：（1-工时计算，2-人力计算）'))#输入数据类型\n",
    "        self.size=float(input('1代表标准大小，请输入小数'))#输入数据类型\n",
    "        if self.type==1:\n",
    "            self.person_num=int(input('请输入人力数量：（请输入整数)'))#输入数据类型\n",
    "            self.worktime=None\n",
    "        elif self.type==2:\n",
    "            self.worktime=float(input('请输入工时数量：（请输入小数'))#输入数据类型\n",
    "            self.person_num=None\n",
    "    def calculate(self):\n",
    "        if (self.person_num!=None) and (self.worktime==None):\n",
    "            self.worktime=self.size*80/self.person_num\n",
    "            print('项目大小为%.1f标准项目，使用%d个人力完成，则需要工时数量为：%.1f个'%(self.size,self.person_num,self.worktime))\n",
    "        elif (self.person_num==None) and (self.worktime!=None):\n",
    "            self.person_num=math.ceil(self.size*80/self.worktime)\n",
    "            print('项目大小为%.1f个标准项目，如果需要在%.1f个工时完成，则需要人力数量为：%d人'%(self.size,self.worktime,self.person_num))\n",
    "    def again(self):\n",
    "        self.askagain=input('是否继续计算？继续请输入y，输入其他键将结束程序')\n",
    "        if self.askagain != 'y':\n",
    "            self.key = 0\n",
    "    def main(self):\n",
    "        while self.key == 1:\n",
    "            self.input_infor()#self\n",
    "            self.calculate()#self\n",
    "            self.again()#self\n",
    "        else:\n",
    "            print('感谢使用工作量计算小程序！')   \n",
    "calcuworktime1=Workcalculation()\n",
    "calcuworktime1.main()\n",
    "\n",
    "#命名属性命名变量self.变量\n",
    "#命名方法 方法(self)\n",
    "#最后封装大类里调用小类，self.method()"
   ]
  },
  {
   "cell_type": "code",
   "execution_count": null,
   "metadata": {},
   "outputs": [],
   "source": [
    "#面向对象的好处\n",
    "#用类编写一个直观的好处就是参数的传递会比普通函数要省事很多，也不必考虑全局变量和局部变量，因为类中的方法可以直接调用属性。\n",
    "#当项目难度越大，需要的参数越多，用类编写在程序的可拓展性、可读性、维护成本都会更胜一筹。\n",
    "#面向对象编程实际上也是一种对代码的封装。\n",
    "#只不过，类能封装更多的东西，既能包含操作数据的方法，又能包含数据本身。所以，代码的可复用性也更高。\n",
    "#对于需要长期更新的代码而言，面向对象编程写成的代码结构会更清晰。\n",
    "#代码的可读性、可拓展性和可维护性这几个方面都会优于面向过程编程。\n",
    "#面向对象编程，将代码具体的数据和处理方法都封装在类中，让我们不用完全了解过程也可以调用类中的各种方法。\n",
    "#这个优势让我们可以在 Python 中轻松地调用各种标准库、第三方库和自定义模块（可以简单理解成别人写好的类）\n",
    "#将他人封装好的代码为自己所用"
   ]
  },
  {
   "cell_type": "code",
   "execution_count": null,
   "metadata": {},
   "outputs": [],
   "source": [
    "#practice\n",
    "#请用今天学到的知识创建一个机器人，让其具备以下功能：\n",
    "#1.是会让你给ta 起名，也会问你的名字，然后跟你打招呼（如“你好，吴枫。我是瓦力。遇见你，真好。”）；\n",
    "#2.会让你说一个愿望，然后帮你重复三次（因为 ta 觉得重要）。\n",
    "#实现效果如下\n",
    "# <<我现在刚诞生，还没有名字，帮我起一个吧。ab\n",
    "# <<对了，我要怎么称呼你呢？b\n",
    "# <<你好b，我叫ab。很开心，遇见你~\n",
    "# <<告诉一个你的愿望吧：c\n",
    "# <<b的愿望是：\n",
    "# <<c\n",
    "# <<c\n",
    "# <<c"
   ]
  },
  {
   "cell_type": "code",
   "execution_count": 13,
   "metadata": {},
   "outputs": [
    {
     "name": "stdin",
     "output_type": "stream",
     "text": [
      "我现在刚诞生，还没有名字，帮我起一个吧。 youyou\n",
      "对了，我要怎么称呼你呢？ kaka\n"
     ]
    },
    {
     "name": "stdout",
     "output_type": "stream",
     "text": [
      "你好kaka，我叫youyou。很开心，遇见你~\n"
     ]
    },
    {
     "name": "stdin",
     "output_type": "stream",
     "text": [
      "告诉一个你的愿望吧 reading\n"
     ]
    },
    {
     "name": "stdout",
     "output_type": "stream",
     "text": [
      "kaka的愿望是reading\n",
      "kaka的愿望是reading\n",
      "kaka的愿望是reading\n"
     ]
    }
   ],
   "source": [
    "#mycode\n",
    "class Robert:\n",
    "    def __init__(self):#不传参数，用input输入参数\n",
    "        self.robertname=input('我现在刚诞生，还没有名字，帮我起一个吧。')  \n",
    "        self.guestname=input('对了，我要怎么称呼你呢？')  \n",
    "        print('你好%s，我叫%s。很开心，遇见你~'%(self.guestname,self.robertname))\n",
    "    def guestwish(self):\n",
    "        wish = input('告诉一个你的愿望吧')\n",
    "        for i in range(3):\n",
    "            print('%s的愿望是%s'%(self.guestname,wish))\n",
    "\n",
    "rober1=Robert()\n",
    "rober1.guestwish()"
   ]
  },
  {
   "cell_type": "code",
   "execution_count": 8,
   "metadata": {},
   "outputs": [
    {
     "name": "stdin",
     "output_type": "stream",
     "text": [
      "我现在刚诞生，还没有名字，帮我起一个吧。 youyou\n",
      "对了，我要怎么称呼你呢？ kaka\n"
     ]
    },
    {
     "name": "stdout",
     "output_type": "stream",
     "text": [
      "你好kaka，我叫youyou。很开心，遇见你~\n"
     ]
    },
    {
     "name": "stdin",
     "output_type": "stream",
     "text": [
      "告诉一个你的愿望吧： dushu\n"
     ]
    },
    {
     "name": "stdout",
     "output_type": "stream",
     "text": [
      "kaka的愿望是：\n",
      "dushu\n",
      "dushu\n",
      "dushu\n"
     ]
    }
   ],
   "source": [
    "#sample\n",
    "class Robot:\n",
    "    def __init__(self):\n",
    "        self.name = input('我现在刚诞生，还没有名字，帮我起一个吧。')\n",
    "        self.master = input('对了，我要怎么称呼你呢？')\n",
    "        print('你好%s，我叫%s。很开心，遇见你~'%(self.master,self.name))\n",
    "    \n",
    "    def say_wish(self):\n",
    "        wish = input('告诉一个你的愿望吧：')\n",
    "        print(self.master+'的愿望是：')\n",
    "        # 这里也可以用字符串的格式化，不过，用循环语句的话，之后改复述次数会方便些。\n",
    "        for i in range(3):\n",
    "            print(wish)\n",
    "\n",
    "robot1 = Robot()\n",
    "robot1.say_wish()\n"
   ]
  },
  {
   "cell_type": "code",
   "execution_count": 99,
   "metadata": {},
   "outputs": [
    {
     "name": "stdout",
     "output_type": "stream",
     "text": [
      "[9, 1, 3, 7, 4]\n"
     ]
    }
   ],
   "source": [
    "#random.sample\n",
    "#从列表中随机选出几个元素\n",
    "import random\n",
    "num = [1, 2, 3, 4, 5, 6, 7, 8, 9, 10]  \n",
    "choice = random.sample(num, 5) \n",
    "print(choice)"
   ]
  },
  {
   "cell_type": "code",
   "execution_count": 143,
   "metadata": {},
   "outputs": [
    {
     "name": "stdout",
     "output_type": "stream",
     "text": [
      "(146, 50)\n",
      "34\n"
     ]
    }
   ],
   "source": [
    "#列表套元组\n",
    "list1=['【森林箭手】','【格斗大师】','【枪弹专家】']\n",
    "dict1={'【森林箭手】': (146, 50), '【格斗大师】': (105, 34), '【枪弹专家】': (111, 38)}\n",
    "\n",
    "print(dict1[list1[0]])\n",
    "print(dict1[list1[1]][1])\n"
   ]
  },
  {
   "cell_type": "code",
   "execution_count": null,
   "metadata": {},
   "outputs": [],
   "source": [
    "#iter next迭代器\n",
    "#迭代是Python最强大的功能之一，是访问集合元素的一种方式。\n",
    "# 迭代器是一个可以记住遍历的位置的对象。iterator\n",
    "# 迭代器对象从集合的第一个元素开始访问，直到所有的元素被访问完结束。迭代器只能往前不会后退。\n",
    "# 迭代器有两个基本的方法：iter() 和 next()。\n",
    "# 字符串，列表或元组对象都可用于创建迭代器"
   ]
  },
  {
   "cell_type": "code",
   "execution_count": null,
   "metadata": {},
   "outputs": [],
   "source": [
    "#解释\n",
    "#可以被next()函数调用并不断返回下一个值的对象称为迭代器：Iterator。\n",
    "#凡是可作用于next()函数的对象都是Iterator类型，它们表示一个惰性计算的序列；\n",
    "#Python的Iterator对象表示的是一个数据流，\n",
    "#Iterator对象可以被next()函数调用并不断返回下一个数据，直到没有数据时抛出StopIteration错误。\n",
    "#可以把这个数据流看做是一个有序序列，但我们却不能提前知道序列的长度，只能不断通过next()函数实现按需计算下一个数据\n",
    "#Iterator的计算是惰性的，只有在需要返回下一个数据时它才会计算。\n",
    "#Iterator甚至可以表示一个无限大的数据流，例如全体自然数。而使用list是永远不可能存储全体自然数的。\n",
    "#Python的for循环本质上就是通过不断调用next()函数实现的\n",
    "\n",
    "#可以使用isinstance()判断一个对象是否是Iterator对象\n",
    "\n",
    "#生成器都是Iterator对象，但list、dict、str虽然是Iterable，却不是Iterator。\n",
    "#凡是可作用于for循环的对象都是Iterable类型\n",
    "\n",
    "#把list、dict、str等Iterable变成Iterator可以使用iter()函数：\n"
   ]
  },
  {
   "cell_type": "code",
   "execution_count": 26,
   "metadata": {},
   "outputs": [
    {
     "name": "stdout",
     "output_type": "stream",
     "text": [
      "1\n",
      "2\n",
      "3\n",
      "4\n"
     ]
    },
    {
     "ename": "StopIteration",
     "evalue": "",
     "output_type": "error",
     "traceback": [
      "\u001b[0;31m---------------------------------------------------------------------------\u001b[0m",
      "\u001b[0;31mStopIteration\u001b[0m                             Traceback (most recent call last)",
      "\u001b[0;32m<ipython-input-26-bb6ded58e06f>\u001b[0m in \u001b[0;36m<module>\u001b[0;34m\u001b[0m\n\u001b[1;32m      5\u001b[0m \u001b[0mprint\u001b[0m\u001b[0;34m(\u001b[0m\u001b[0mnext\u001b[0m\u001b[0;34m(\u001b[0m\u001b[0mit\u001b[0m\u001b[0;34m)\u001b[0m\u001b[0;34m)\u001b[0m\u001b[0;34m\u001b[0m\u001b[0;34m\u001b[0m\u001b[0m\n\u001b[1;32m      6\u001b[0m \u001b[0mprint\u001b[0m\u001b[0;34m(\u001b[0m\u001b[0mnext\u001b[0m\u001b[0;34m(\u001b[0m\u001b[0mit\u001b[0m\u001b[0;34m)\u001b[0m\u001b[0;34m)\u001b[0m\u001b[0;34m\u001b[0m\u001b[0;34m\u001b[0m\u001b[0m\n\u001b[0;32m----> 7\u001b[0;31m \u001b[0mprint\u001b[0m\u001b[0;34m(\u001b[0m\u001b[0mnext\u001b[0m\u001b[0;34m(\u001b[0m\u001b[0mit\u001b[0m\u001b[0;34m)\u001b[0m\u001b[0;34m)\u001b[0m\u001b[0;34m\u001b[0m\u001b[0;34m\u001b[0m\u001b[0m\n\u001b[0m",
      "\u001b[0;31mStopIteration\u001b[0m: "
     ]
    }
   ],
   "source": [
    "list1=[1,2,3,4]  #list可以迭代，但不是迭代器对象\n",
    "it = iter(list1)    # 创建迭代器对象\n",
    "print(next(it))   # 输出迭代器的下一个元素\n",
    "print(next(it))\n",
    "print(next(it))\n",
    "print(next(it))\n",
    "print(next(it))#error,StopIteration"
   ]
  },
  {
   "cell_type": "code",
   "execution_count": 30,
   "metadata": {},
   "outputs": [
    {
     "name": "stdout",
     "output_type": "stream",
     "text": [
      "1\n",
      "2\n",
      "3\n",
      "4\n"
     ]
    }
   ],
   "source": [
    "#注意和上面比较，单纯for循环遍历\n",
    "list3=[1,2,3,4]\n",
    "for j in list3:\n",
    "    print(j)"
   ]
  },
  {
   "cell_type": "code",
   "execution_count": 29,
   "metadata": {},
   "outputs": [
    {
     "name": "stdout",
     "output_type": "stream",
     "text": [
      "1\n",
      "2\n",
      "3\n",
      "4\n"
     ]
    }
   ],
   "source": [
    "#迭代器对象可以使用常规for语句进行遍历\n",
    "list2=[1,2,3,4]\n",
    "it_2=iter(list2)\n",
    "for i in it_2:\n",
    "    print(i)"
   ]
  },
  {
   "cell_type": "code",
   "execution_count": 32,
   "metadata": {},
   "outputs": [
    {
     "name": "stdout",
     "output_type": "stream",
     "text": [
      "1\n",
      "2\n",
      "3\n",
      "4\n",
      "5\n"
     ]
    }
   ],
   "source": [
    "# 首先获得Iterator对象:\n",
    "it = iter([1, 2, 3, 4, 5])\n",
    "# 循环:\n",
    "while True:\n",
    "    try:\n",
    "        # 获得下一个值:\n",
    "        x = next(it)\n",
    "        print(x)\n",
    "    except StopIteration:\n",
    "        # 遇到StopIteration就退出循环\n",
    "        break"
   ]
  },
  {
   "cell_type": "code",
   "execution_count": 36,
   "metadata": {},
   "outputs": [
    {
     "name": "stdout",
     "output_type": "stream",
     "text": [
      "range(10, 20)\n",
      "<class 'range'>\n"
     ]
    }
   ],
   "source": [
    "#range函数\n",
    "print(range(10,20))\n",
    "print(type(range(10,20)))"
   ]
  },
  {
   "cell_type": "code",
   "execution_count": 37,
   "metadata": {},
   "outputs": [
    {
     "name": "stdout",
     "output_type": "stream",
     "text": [
      "10\n",
      "12\n",
      "14\n",
      "16\n",
      "18\n"
     ]
    },
    {
     "ename": "TypeError",
     "evalue": "'float' object cannot be interpreted as an integer",
     "output_type": "error",
     "traceback": [
      "\u001b[0;31m---------------------------------------------------------------------------\u001b[0m",
      "\u001b[0;31mTypeError\u001b[0m                                 Traceback (most recent call last)",
      "\u001b[0;32m<ipython-input-37-77ecf4b186d7>\u001b[0m in \u001b[0;36m<module>\u001b[0;34m\u001b[0m\n\u001b[1;32m      1\u001b[0m \u001b[0;32mfor\u001b[0m \u001b[0mi\u001b[0m \u001b[0;32min\u001b[0m \u001b[0mrange\u001b[0m\u001b[0;34m(\u001b[0m\u001b[0;36m10\u001b[0m\u001b[0;34m,\u001b[0m\u001b[0;36m20\u001b[0m\u001b[0;34m,\u001b[0m\u001b[0;36m2\u001b[0m\u001b[0;34m)\u001b[0m\u001b[0;34m:\u001b[0m\u001b[0;31m#步长是2没问题\u001b[0m\u001b[0;34m\u001b[0m\u001b[0;34m\u001b[0m\u001b[0m\n\u001b[1;32m      2\u001b[0m     \u001b[0mprint\u001b[0m\u001b[0;34m(\u001b[0m\u001b[0mi\u001b[0m\u001b[0;34m)\u001b[0m\u001b[0;34m\u001b[0m\u001b[0;34m\u001b[0m\u001b[0m\n\u001b[0;32m----> 3\u001b[0;31m \u001b[0;32mfor\u001b[0m \u001b[0mj\u001b[0m \u001b[0;32min\u001b[0m \u001b[0mrange\u001b[0m\u001b[0;34m(\u001b[0m\u001b[0;36m10\u001b[0m\u001b[0;34m,\u001b[0m\u001b[0;36m20\u001b[0m\u001b[0;34m,\u001b[0m\u001b[0;36m0.5\u001b[0m\u001b[0;34m)\u001b[0m\u001b[0;34m:\u001b[0m\u001b[0;31m#浮点数回报错\u001b[0m\u001b[0;34m\u001b[0m\u001b[0;34m\u001b[0m\u001b[0m\n\u001b[0m\u001b[1;32m      4\u001b[0m     \u001b[0mprint\u001b[0m\u001b[0;34m(\u001b[0m\u001b[0mj\u001b[0m\u001b[0;34m)\u001b[0m\u001b[0;34m\u001b[0m\u001b[0;34m\u001b[0m\u001b[0m\n",
      "\u001b[0;31mTypeError\u001b[0m: 'float' object cannot be interpreted as an integer"
     ]
    }
   ],
   "source": [
    "for i in range(10,20,2):#range步长是2没问题,生成一个迭代器\n",
    "    print(i)\n",
    "for j in range(10,20,0.5):#浮点数回报错\n",
    "    print(j)"
   ]
  },
  {
   "cell_type": "code",
   "execution_count": 38,
   "metadata": {},
   "outputs": [
    {
     "name": "stdout",
     "output_type": "stream",
     "text": [
      "10\n",
      "10.5\n",
      "11.0\n",
      "11.5\n",
      "12.0\n",
      "12.5\n",
      "13.0\n",
      "13.5\n",
      "14.0\n",
      "14.5\n"
     ]
    }
   ],
   "source": [
    "#用yield来自定义一个类似于range的函数，步长可以为小数\n",
    "\n",
    "def floatrange(start_num,stop_num,step_num):\n",
    "    x = start_num\n",
    "    while x < stop_num:\n",
    "        yield x\n",
    "        x+=step_num\n",
    "for i in floatrange(10,15,0.5):\n",
    "    print(i)      "
   ]
  },
  {
   "cell_type": "code",
   "execution_count": 47,
   "metadata": {},
   "outputs": [
    {
     "name": "stdout",
     "output_type": "stream",
     "text": [
      "<generator object floatrange1 at 0x10cab7390>\n"
     ]
    }
   ],
   "source": [
    "def floatrange1(start_num,stop_num,step_num):\n",
    "    x = start_num\n",
    "    while x < stop_num:\n",
    "        yield x\n",
    "        x+=step_num\n",
    "print(floatrange1(10,15,0.5))"
   ]
  },
  {
   "cell_type": "code",
   "execution_count": 49,
   "metadata": {},
   "outputs": [
    {
     "name": "stdout",
     "output_type": "stream",
     "text": [
      "<class 'generator'>\n"
     ]
    }
   ],
   "source": [
    "def floatrange2(start_num,stop_num,step_num):\n",
    "    x = start_num\n",
    "    while x < stop_num:\n",
    "        yield x\n",
    "        x+=step_num\n",
    "print(type(floatrange2(10,15,0.5)))#自定义函数返回的是一个生成器"
   ]
  },
  {
   "cell_type": "code",
   "execution_count": 39,
   "metadata": {},
   "outputs": [
    {
     "ename": "TypeError",
     "evalue": "'NoneType' object is not iterable",
     "output_type": "error",
     "traceback": [
      "\u001b[0;31m---------------------------------------------------------------------------\u001b[0m",
      "\u001b[0;31mTypeError\u001b[0m                                 Traceback (most recent call last)",
      "\u001b[0;32m<ipython-input-39-98219e06bf31>\u001b[0m in \u001b[0;36m<module>\u001b[0;34m\u001b[0m\n\u001b[1;32m      2\u001b[0m     \u001b[0;32mwhile\u001b[0m \u001b[0mstart_num\u001b[0m \u001b[0;34m<\u001b[0m \u001b[0mstop_num\u001b[0m\u001b[0;34m:\u001b[0m\u001b[0;34m\u001b[0m\u001b[0;34m\u001b[0m\u001b[0m\n\u001b[1;32m      3\u001b[0m         \u001b[0mstart_num\u001b[0m\u001b[0;34m+=\u001b[0m\u001b[0mstep_num\u001b[0m\u001b[0;34m\u001b[0m\u001b[0;34m\u001b[0m\u001b[0m\n\u001b[0;32m----> 4\u001b[0;31m \u001b[0;32mfor\u001b[0m \u001b[0mi\u001b[0m \u001b[0;32min\u001b[0m \u001b[0mfloatrange\u001b[0m\u001b[0;34m(\u001b[0m\u001b[0;36m10\u001b[0m\u001b[0;34m,\u001b[0m\u001b[0;36m15\u001b[0m\u001b[0;34m,\u001b[0m\u001b[0;36m0.5\u001b[0m\u001b[0;34m)\u001b[0m\u001b[0;34m:\u001b[0m\u001b[0;34m\u001b[0m\u001b[0;34m\u001b[0m\u001b[0m\n\u001b[0m\u001b[1;32m      5\u001b[0m     \u001b[0mprint\u001b[0m\u001b[0;34m(\u001b[0m\u001b[0mi\u001b[0m\u001b[0;34m)\u001b[0m\u001b[0;34m\u001b[0m\u001b[0;34m\u001b[0m\u001b[0m\n",
      "\u001b[0;31mTypeError\u001b[0m: 'NoneType' object is not iterable"
     ]
    }
   ],
   "source": [
    "def floatrange(start_num,stop_num,step_num):\n",
    "    while start_num < stop_num:\n",
    "        start_num+=step_num\n",
    "for i in floatrange(10,15,0.5):\n",
    "    print(i)  #只是返回了各个单独的数，并不能迭代"
   ]
  },
  {
   "cell_type": "code",
   "execution_count": 42,
   "metadata": {},
   "outputs": [
    {
     "name": "stdout",
     "output_type": "stream",
     "text": [
      "10\n",
      "10.5\n",
      "11.0\n",
      "11.5\n",
      "12.0\n",
      "12.5\n",
      "13.0\n",
      "13.5\n",
      "14.0\n",
      "14.5\n"
     ]
    }
   ],
   "source": [
    "start_num=10\n",
    "stop_num=15\n",
    "step_num=0.5\n",
    "while start_num < stop_num:\n",
    "    print(start_num)\n",
    "    start_num+=step_num#生成各个单独的数"
   ]
  },
  {
   "cell_type": "code",
   "execution_count": null,
   "metadata": {},
   "outputs": [],
   "source": [
    "#生成器\n",
    "#在 Python 中，使用了 yield 的函数被称为生成器（generator）。\n",
    "#跟普通函数不同的是，生成器是一个返回迭代器的函数，只能用于迭代操作，更简单点理解生成器就是一个迭代器。\n",
    "#在调用生成器运行的过程中，每次遇到 yield 时函数会暂停并保存当前所有的运行信息，返回 yield 的值, 并在下一次执行 next() 方法时从当前位置继续运行。\n",
    "#调用一个生成器函数，返回的是一个迭代器对象。自定义函数中的每次被保留的值，都是可以迭代"
   ]
  },
  {
   "cell_type": "code",
   "execution_count": null,
   "metadata": {},
   "outputs": [],
   "source": [
    "#以下不太理解？\n",
    "#for循环调用generator时，发现拿不到generator的return语句的返回值。（for i in generator，不会过界）\n",
    "#如果想要拿到返回值，必须捕获StopIteration错误，返回值包含在StopIteration的value中"
   ]
  },
  {
   "cell_type": "code",
   "execution_count": 53,
   "metadata": {},
   "outputs": [
    {
     "name": "stdout",
     "output_type": "stream",
     "text": [
      "[0, 1, 4, 9, 16, 25, 36, 49, 64, 81]\n",
      "<generator object <genexpr> at 0x10cab7390>\n",
      "0\n",
      "1\n"
     ]
    }
   ],
   "source": [
    "#Python中，一边循环一边计算的机制，称为生成器：generator。\n",
    "#要创建一个generator，有很多种方法。\n",
    "#第一种方法很简单，只要把一个列表生成式的[]改成()，就创建了一个generator\n",
    "#第二种方法，如果一个函数定义中包含yield关键字，那么这个函数就不再是一个普通函数，而是一个generator\n",
    "#generator保存的是算法，每次调用next(g)，就计算出g的下一个元素的值，直到计算到最后一个元素\n",
    "#没有更多的元素时，抛出StopIteration的错误。\n",
    "\n",
    "L = [x * x for x in range(10)]\n",
    "print(L)\n",
    "g = (x * x for x in range(10))\n",
    "print(g)#L和g的区别仅在于最外层的[]和()，L是一个list，而g是一个generator。\n",
    "print(next(g))\n",
    "print(next(g))#这种每次调用一个next的方法很啰嗦"
   ]
  },
  {
   "cell_type": "code",
   "execution_count": 54,
   "metadata": {},
   "outputs": [
    {
     "name": "stdout",
     "output_type": "stream",
     "text": [
      "0\n",
      "1\n",
      "4\n",
      "9\n",
      "16\n"
     ]
    }
   ],
   "source": [
    "#创建了一个generator后，基本上永远不会调用next()，而是通过for循环来迭代它，并且不需要关心StopIteration的错误。\n",
    "generator1= (x*x for x in range(5))#创建一个生成器\n",
    "for i in generator1:\n",
    "    print(i)"
   ]
  },
  {
   "cell_type": "code",
   "execution_count": 55,
   "metadata": {},
   "outputs": [
    {
     "name": "stdout",
     "output_type": "stream",
     "text": [
      "0\n",
      "1\n",
      "4\n",
      "9\n",
      "16\n"
     ]
    }
   ],
   "source": [
    "#与上面进行比较\n",
    "list_a = [x*x for x in range(5)]\n",
    "for i in list_a:\n",
    "    print(i)"
   ]
  },
  {
   "cell_type": "code",
   "execution_count": null,
   "metadata": {},
   "outputs": [],
   "source": [
    "#generator和函数的执行流程不一样。函数是顺序执行，遇到return语句或者最后一行函数语句就返回。\n",
    "#变为generator的函数，在每次调用next()的时候执行，遇到yield语句返回，再次执行时从上次返回的yield语句处继续执行。\n",
    "#以下为yield执行的具体分析"
   ]
  },
  {
   "cell_type": "code",
   "execution_count": 61,
   "metadata": {},
   "outputs": [
    {
     "name": "stdout",
     "output_type": "stream",
     "text": [
      "10\n",
      "yield之前\n",
      "执行结果是10.0\n",
      "------\n",
      "10\n",
      "yield之后\n",
      "加了0.5\n",
      "10.5\n",
      "yield之前\n",
      "执行结果是10.5\n",
      "------\n",
      "10.5\n",
      "yield之后\n",
      "加了0.5\n",
      "11.0\n",
      "yield之前\n",
      "执行结果是11.0\n",
      "------\n",
      "11.0\n",
      "yield之后\n",
      "加了0.5\n",
      "11.5\n",
      "yield之前\n",
      "执行结果是11.5\n",
      "------\n",
      "11.5\n",
      "yield之后\n",
      "加了0.5\n",
      "12.0\n",
      "yield之前\n",
      "执行结果是12.0\n",
      "------\n",
      "12.0\n",
      "yield之后\n",
      "加了0.5\n",
      "12.5\n",
      "yield之前\n",
      "执行结果是12.5\n",
      "------\n",
      "12.5\n",
      "yield之后\n",
      "加了0.5\n",
      "13.0\n",
      "yield之前\n",
      "执行结果是13.0\n",
      "------\n",
      "13.0\n",
      "yield之后\n",
      "加了0.5\n",
      "13.5\n",
      "yield之前\n",
      "执行结果是13.5\n",
      "------\n",
      "13.5\n",
      "yield之后\n",
      "加了0.5\n",
      "14.0\n",
      "yield之前\n",
      "执行结果是14.0\n",
      "------\n",
      "14.0\n",
      "yield之后\n",
      "加了0.5\n",
      "14.5\n",
      "yield之前\n",
      "执行结果是14.5\n",
      "------\n",
      "14.5\n",
      "yield之后\n",
      "加了0.5\n"
     ]
    }
   ],
   "source": [
    "#注意以下，yield前后的不同\n",
    "def floatrange2(start_num,stop_num,step_num):\n",
    "    x = start_num\n",
    "    while x < stop_num:\n",
    "        print(x)\n",
    "        print('yield之前')\n",
    "        yield x\n",
    "        print(x)\n",
    "        print('yield之后')\n",
    "        x+=step_num\n",
    "        print('加了0.5')\n",
    "for i in floatrange2(10,15,0.5):\n",
    "    print('执行结果是%.1f'%i)\n",
    "    print('------')\n",
    "\n",
    "#以下为输出结果分析：\n",
    "# 10\n",
    "# yield之前      ## 这之后遇到yield返回，自定义函数不再进行下去\n",
    "# 执行结果是10.0  ## 本次i的取值就是10\n",
    "# ------        ## i的第一次循环\n",
    "# 10            ## 从上次返回处开始执行\n",
    "# yield之后     ## 执行\n",
    "# 加了0.5       ## 执行\n",
    "# 10.5         ## 执行\n",
    "# yield之前    ## 这之后，遇见yield又返回了，不再执行\n",
    "# 执行结果是10.5  #本次 i的取值就是10.5\n",
    "# ------       ## i的第二次循环结束\n",
    "# 10.5\n",
    "# yield之后\n",
    "# 加了0.5\n",
    "# 11.0\n",
    "# yield之前\n",
    "# 执行结果是11.0\n",
    "# ------\n",
    "# 11.0\n",
    "# yield之后\n",
    "# 加了0.5\n",
    "# 11.5\n",
    "# yield之前\n",
    "# 执行结果是11.5\n",
    "# ------\n",
    "# 11.5\n",
    "# yield之后\n",
    "# 加了0.5\n",
    "# 12.0\n",
    "# yield之前\n",
    "# 执行结果是12.0\n",
    "# ------\n",
    "# 12.0\n",
    "# yield之后\n",
    "# 加了0.5\n",
    "# 12.5\n",
    "# yield之前\n",
    "# 执行结果是12.5\n",
    "# ------\n",
    "# 12.5\n",
    "# yield之后\n",
    "# 加了0.5\n",
    "# 13.0\n",
    "# yield之前\n",
    "# 执行结果是13.0\n",
    "# ------\n",
    "# 13.0\n",
    "# yield之后\n",
    "# 加了0.5\n",
    "# 13.5\n",
    "# yield之前\n",
    "# 执行结果是13.5\n",
    "# ------\n",
    "# 13.5\n",
    "# yield之后\n",
    "# 加了0.5\n",
    "# 14.0\n",
    "# yield之前\n",
    "# 执行结果是14.0\n",
    "# ------\n",
    "# 14.0\n",
    "# yield之后\n",
    "# 加了0.5\n",
    "# 14.5\n",
    "# yield之前\n",
    "# 执行结果是14.5\n",
    "# ------\n",
    "# 14.5\n",
    "# yield之后\n",
    "# 加了0.5\n"
   ]
  },
  {
   "cell_type": "code",
   "execution_count": 64,
   "metadata": {},
   "outputs": [
    {
     "name": "stdout",
     "output_type": "stream",
     "text": [
      "step 1\n",
      "step 2\n",
      "step 3\n"
     ]
    },
    {
     "ename": "StopIteration",
     "evalue": "",
     "output_type": "error",
     "traceback": [
      "\u001b[0;31m---------------------------------------------------------------------------\u001b[0m",
      "\u001b[0;31mStopIteration\u001b[0m                             Traceback (most recent call last)",
      "\u001b[0;32m<ipython-input-64-35e8ec08e813>\u001b[0m in \u001b[0;36m<module>\u001b[0;34m\u001b[0m\n\u001b[1;32m     10\u001b[0m \u001b[0mnext\u001b[0m\u001b[0;34m(\u001b[0m\u001b[0mo\u001b[0m\u001b[0;34m)\u001b[0m\u001b[0;34m\u001b[0m\u001b[0;34m\u001b[0m\u001b[0m\n\u001b[1;32m     11\u001b[0m \u001b[0mnext\u001b[0m\u001b[0;34m(\u001b[0m\u001b[0mo\u001b[0m\u001b[0;34m)\u001b[0m\u001b[0;34m\u001b[0m\u001b[0;34m\u001b[0m\u001b[0m\n\u001b[0;32m---> 12\u001b[0;31m \u001b[0mnext\u001b[0m\u001b[0;34m(\u001b[0m\u001b[0mo\u001b[0m\u001b[0;34m)\u001b[0m\u001b[0;34m\u001b[0m\u001b[0;34m\u001b[0m\u001b[0m\n\u001b[0m",
      "\u001b[0;31mStopIteration\u001b[0m: "
     ]
    }
   ],
   "source": [
    "#解释yield的例子（我的理解，感觉像一个break，同时产生一个迭代对象，下次从断掉的地方再执行）\n",
    "def odd():\n",
    "    print('step 1')\n",
    "    yield 1\n",
    "    print('step 2')\n",
    "    yield(3)\n",
    "    print('step 3')\n",
    "    yield(5)\n",
    "o = odd()\n",
    "next(o)\n",
    "next(o)\n",
    "next(o)\n",
    "next(o)"
   ]
  },
  {
   "cell_type": "code",
   "execution_count": 65,
   "metadata": {},
   "outputs": [
    {
     "name": "stdout",
     "output_type": "stream",
     "text": [
      "0 1 1 2 3 5 8 13 21 34 55 "
     ]
    }
   ],
   "source": [
    "#斐波那契\n",
    "def fibonacci(n): # 生成器函数 - 斐波那契\n",
    "    a, b, counter = 0, 1, 0\n",
    "    while True:\n",
    "        if (counter > n): \n",
    "            return\n",
    "        yield a\n",
    "        a, b = b, a + b\n",
    "        counter += 1\n",
    "f = fibonacci(10) # f 是一个迭代器，由生成器返回生成\n",
    " \n",
    "while True:\n",
    "    try:\n",
    "        print (next(f), end=\" \")\n",
    "    except StopIteration:\n",
    "        break"
   ]
  },
  {
   "cell_type": "code",
   "execution_count": null,
   "metadata": {},
   "outputs": [],
   "source": [
    "# 可迭代对象，即可以直接作用于for循环的数据类型有以下几种：\n",
    "# 一类是集合数据类型，如list、tuple、dict、set、str等；\n",
    "# 一类是generator，包括生成器和带yield的generator function。\n",
    "# 这些可以直接作用于for循环的对象统称为可迭代对象：Iterable。"
   ]
  },
  {
   "cell_type": "code",
   "execution_count": null,
   "metadata": {},
   "outputs": [],
   "source": [
    "#可迭代对象可以被变成迭代器，用iter函数\n",
    "#可以使用isinstance()判断一个对象是否是Iterable对象：\n",
    "#无法安装调用collections\n",
    "from collections import Iterable\n",
    "isinstance([], Iterable)#可迭代\n",
    "isinstance({}, Iterable)#可迭代\n",
    "isinstance('abc', Iterable)#可迭代\n",
    "isinstance((x for x in range(10)), Iterable)#可迭代\n",
    "isinstance(100, Iterable)#不可迭代\n"
   ]
  },
  {
   "cell_type": "code",
   "execution_count": 22,
   "metadata": {},
   "outputs": [
    {
     "name": "stderr",
     "output_type": "stream",
     "text": [
      "/Users/youjia/anaconda3/lib/python3.7/site-packages/ipykernel_launcher.py:1: DeprecationWarning: Using or importing the ABCs from 'collections' instead of from 'collections.abc' is deprecated, and in 3.8 it will stop working\n",
      "  \"\"\"Entry point for launching an IPython kernel.\n"
     ]
    },
    {
     "data": {
      "text/plain": [
       "False"
      ]
     },
     "execution_count": 22,
     "metadata": {},
     "output_type": "execute_result"
    }
   ],
   "source": [
    "#可迭代对象不等于迭代器对象\n",
    "#可迭代对象可以用iter函数变为迭代器对象\n",
    "#以下想要查看哪些是迭代器对象\n",
    "#无法安装调用collections\n",
    "from collections import Iterator\n",
    "\n",
    "isinstance((x for x in range(10)), Iterator)#生成器是迭代器对象，最外层是括号，不是列表，而是迭代器\n",
    "isinstance([], Iterator)#列表不是迭代器对象\n",
    "isinstance({}, Iterator)#字典不是迭代器对象\n",
    "isinstance('abc', Iterator)#字符串不是迭代器对象"
   ]
  },
  {
   "cell_type": "code",
   "execution_count": 71,
   "metadata": {},
   "outputs": [
    {
     "name": "stdout",
     "output_type": "stream",
     "text": [
      "[1, 2, 3, 4, 5, 6, 7, 8, 9, 10] 方法1\n",
      "[1, 4, 9, 16, 25, 36, 49, 64, 81, 100] 方法2\n",
      "[1, 4, 9, 16, 25, 36, 49, 64, 81, 100] 方法3\n",
      "[4, 16, 36, 64, 100] 方法3\n",
      "['AX', 'AY', 'AZ', 'BX', 'BY', 'BZ', 'CX', 'CY', 'CZ'] 两层循环生成\n"
     ]
    }
   ],
   "source": [
    "#列表生成器\n",
    "#列表生成式即List Comprehensions，是Python内置的非常简单却强大的可以用来创建list的生成式。\n",
    "#方法1：list（range）\n",
    "L=list(range(1, 11))\n",
    "print(L,'方法1')\n",
    "\n",
    "#方法2:初始化空列表，用循环，加上append逐个添加到列表\n",
    "list_square = []\n",
    "for x in range(1, 11):\n",
    "    list_square.append(x * x)\n",
    "print(list_square,'方法2')\n",
    "\n",
    "#方法3:列表生成式\n",
    "list_square2=[x * x for x in range(1, 11)]\n",
    "print(list_square,'方法3')\n",
    "\n",
    "#用条件从句筛选，仅仅生成偶数的平方\n",
    "list_square_even=[x * x for x in range(1, 11) if x % 2 == 0]\n",
    "print(list_square_even,'方法3')\n",
    "\n",
    "#生成两层循环\n",
    "list_twolevel=[m + n for m in 'ABC' for n in 'XYZ']\n",
    "print(list_twolevel,'两层循环生成')"
   ]
  },
  {
   "cell_type": "code",
   "execution_count": 72,
   "metadata": {},
   "outputs": [
    {
     "name": "stdout",
     "output_type": "stream",
     "text": [
      "x = A\n",
      "y = B\n",
      "z = C\n"
     ]
    }
   ],
   "source": [
    "d = {'x': 'A', 'y': 'B', 'z': 'C' }\n",
    "for k, v in d.items():\n",
    "    print(k, '=', v)#dict的items()可以同时迭代key和value："
   ]
  },
  {
   "cell_type": "code",
   "execution_count": 79,
   "metadata": {},
   "outputs": [
    {
     "name": "stdout",
     "output_type": "stream",
     "text": [
      "['x', 'y', 'z']\n",
      "['A', 'B', 'C']\n"
     ]
    }
   ],
   "source": [
    "#以上改写为列表生成式\n",
    "d = {'x': 'A', 'y': 'B', 'z': 'C' }\n",
    "list_key_value=[k for k,v in d.items()]\n",
    "print(list_key_value)\n",
    "list_key_value=[v for k,v in d.items()]\n",
    "print(list_key_value)"
   ]
  },
  {
   "cell_type": "code",
   "execution_count": 80,
   "metadata": {},
   "outputs": [
    {
     "ename": "SyntaxError",
     "evalue": "invalid syntax (<ipython-input-80-8c252fdace48>, line 2)",
     "output_type": "error",
     "traceback": [
      "\u001b[0;36m  File \u001b[0;32m\"<ipython-input-80-8c252fdace48>\"\u001b[0;36m, line \u001b[0;32m2\u001b[0m\n\u001b[0;31m    list_key_value=[k,v for k,v in d.items()]\u001b[0m\n\u001b[0m                          ^\u001b[0m\n\u001b[0;31mSyntaxError\u001b[0m\u001b[0;31m:\u001b[0m invalid syntax\n"
     ]
    }
   ],
   "source": [
    "#报错，无法同时把两个元素放入\n",
    "d = {'x': 'A', 'y': 'B', 'z': 'C' }\n",
    "list_key_value=[k,v for k,v in d.items()]"
   ]
  },
  {
   "cell_type": "code",
   "execution_count": 179,
   "metadata": {},
   "outputs": [
    {
     "name": "stdout",
     "output_type": "stream",
     "text": [
      "[('x', 'A'), ('y', 'B'), ('z', 'C')]\n"
     ]
    }
   ],
   "source": [
    "d = {'x': 'A', 'y': 'B', 'z': 'C' }\n",
    "list_key_value=[j for j in d.items()]#j是一个元组，把k和v都放进去了\n",
    "print(list_key_value)"
   ]
  },
  {
   "cell_type": "code",
   "execution_count": 75,
   "metadata": {},
   "outputs": [
    {
     "name": "stdout",
     "output_type": "stream",
     "text": [
      "[1, 4, 9, 16, 25, 36, 49, 64, 81, 100] 方法3\n"
     ]
    }
   ],
   "source": [
    "list_square2=[x for x in range(1, 11)]\n",
    "print(list_square,'方法3')"
   ]
  },
  {
   "cell_type": "code",
   "execution_count": 83,
   "metadata": {},
   "outputs": [
    {
     "name": "stdout",
     "output_type": "stream",
     "text": [
      "['emma', 1.68] 第二个元素\n",
      "['dad', 1.89] 第四个元素\n"
     ]
    }
   ],
   "source": [
    "#切片\n",
    "fam2 = [[\"liz\", 1.73], [\"emma\", 1.68], [\"mom\", 1.71], [\"dad\", 1.89]]\n",
    "print(fam2[1],'第二个元素')\n",
    "print(fam2[3],'第四个元素')"
   ]
  },
  {
   "cell_type": "code",
   "execution_count": null,
   "metadata": {},
   "outputs": [],
   "source": [
    "#Adding and removing elements 添加列表元素\n",
    "fam = [\"liz\", 1.73, \"emma\", 1.68, \"mom\", 1.71, \"dad\", 1.89]\n",
    "fam_ext = fam + [\"me\", 1.79]\n",
    "fam_ext"
   ]
  },
  {
   "cell_type": "code",
   "execution_count": 144,
   "metadata": {},
   "outputs": [
    {
     "name": "stdout",
     "output_type": "stream",
     "text": [
      "black\n",
      "吃饭，选择用筷子。\n"
     ]
    }
   ],
   "source": [
    "#类的继承，子类，父类\n",
    "#实例yewen（叶问）是Cantonese（广东人）这个类创建的实例，却拥有Chinese才有的属性和方法。\n",
    "#Cantonese继承了Cantonese\n",
    "class Chinese:\n",
    "    eye = 'black'\n",
    "\n",
    "    def eat(self):\n",
    "        print('吃饭，选择用筷子。')\n",
    "\n",
    "class Cantonese(Chinese):  \n",
    "# 通过继承，Chinese类有的，Cantonese类也有\n",
    "    pass\n",
    "\n",
    "# 验证子类可以继承父类的属性和方法，进而传递给子类创建的实例\n",
    "yewen = Cantonese()  \n",
    "# 子类创建的实例，从子类那间接得到了父类的所有属性和方法\n",
    "print(yewen.eye)  \n",
    "# 子类创建的实例，可调用父类的属性\n",
    "yewen.eat()  \n",
    "# 子类创建的实例，可调用父类的方法\n",
    "\n"
   ]
  },
  {
   "cell_type": "code",
   "execution_count": 147,
   "metadata": {},
   "outputs": [
    {
     "name": "stdout",
     "output_type": "stream",
     "text": [
      "喵喵喵喵喵~\n",
      "True\n"
     ]
    }
   ],
   "source": [
    "#sample\n",
    "class Cat:\n",
    "    tail = True\n",
    "    \n",
    "    def say(self):\n",
    "        print('喵喵喵喵喵~')\n",
    "class Ragdoll(Cat):\n",
    "    pass\n",
    "rag1=Ragdoll()\n",
    "rag1.say()\n",
    "print(rag1.tail)"
   ]
  },
  {
   "cell_type": "code",
   "execution_count": 149,
   "metadata": {},
   "outputs": [
    {
     "name": "stdout",
     "output_type": "stream",
     "text": [
      "\n",
      "验证1：子类创建的实例同时也属于父类\n",
      "True\n",
      "True\n",
      "\n",
      "验证2：父类创建的实例不属于子类。\n",
      "False\n",
      "\n",
      "验证3：类创建的实例都属于根类object。\n",
      "True\n",
      "True\n"
     ]
    }
   ],
   "source": [
    "# 很多类在创建时也不带括号，如class Chinese:\n",
    "# 实际上，class Chinese:在运行时相当于class Chinese(object):。\n",
    "# 而object，是所有类的父类，我们将其称为根类（可理解为类的始祖）。\n",
    "# 函数isinstance()，可以用来判断某个实例是否属于某个类。\n",
    "\n",
    "class Chinese:\n",
    "    pass\n",
    "\n",
    "class Cantonese(Chinese):\n",
    "    pass\n",
    "\n",
    "gonger = Chinese()\n",
    "# 宫二，电影《一代宗师》女主，生于东北\n",
    "yewen = Cantonese()\n",
    "# 叶问，电影《一代宗师》男主，生于广东\n",
    "\n",
    "print('\\n验证1：子类创建的实例同时也属于父类')\n",
    "print(isinstance(gonger,Chinese))  \n",
    "print(isinstance(yewen,Chinese))  \n",
    "\n",
    "print('\\n验证2：父类创建的实例不属于子类。')\n",
    "print(isinstance(gonger,Cantonese))\n",
    "\n",
    "print('\\n验证3：类创建的实例都属于根类object。')\n",
    "print(isinstance(gonger,object))  \n",
    "print(isinstance(yewen,object))\n"
   ]
  },
  {
   "cell_type": "code",
   "execution_count": null,
   "metadata": {},
   "outputs": [],
   "source": [
    "# summary各级实例和各级类间的关系\n",
    "# 1.子类创建的实例，同时属于父类\n",
    "# 2.父类创建的实例，不属于子类\n",
    "# 3.所有实例，都属于根类object。\n",
    "#多层继承\n",
    "#继承不仅可以发生在两个层级之间（即父类-子类），还可以有父类的父类、父类的父类的父类"
   ]
  },
  {
   "cell_type": "code",
   "execution_count": 150,
   "metadata": {},
   "outputs": [
    {
     "name": "stdout",
     "output_type": "stream",
     "text": [
      "2\n",
      "black\n"
     ]
    }
   ],
   "source": [
    "class Earthman:\n",
    "    eye_number = 2\n",
    "\n",
    "# 中国人继承了地球人\n",
    "class Chinese(Earthman):\n",
    "    eye_color = 'black'\n",
    "\n",
    "# 广东人继承了中国人，同时也继承了地球人。\n",
    "class Cantonese(Chinese):\n",
    "    pass\n",
    "\n",
    "yewen = Cantonese()\n",
    "print(yewen.eye_number)#继承父类的父类，即地球人的属性\n",
    "print(yewen.eye_color)#继承父类的属性，即中国人的属性"
   ]
  },
  {
   "cell_type": "code",
   "execution_count": null,
   "metadata": {},
   "outputs": [],
   "source": [
    "#多重继承\n",
    "# 一个类，可以同时继承多个类，语法为class A(B,C,D):。\n",
    "# 假设将“出生在江苏，定居在广东的人”设为一个类Yuesu它的创建语句则为class Yuesu(Yue,Su)。\n",
    "# 括号里Yue和Su的顺序是有讲究的。和子类更相关的父类会放在更左侧。\n",
    "# 我认为“出生在江苏，定居在广东的人”在穿着和饮食等方面会更接近广东人，所以将 Yue 放在 Su 的左侧。\n",
    "# 创建的实例在调用属性和方法时，会先在左侧的父类中找，找不到才会去右侧的父类找。（可理解为“就近原则”\n",
    "# 多重继承有利有弊。过度使用继承容易把事情搞复杂，就像一个人有很多爸爸必定会带来诸多麻烦。\n",
    "#如果不是开发大型项目，不太需要用到太复杂的继承关系"
   ]
  },
  {
   "cell_type": "code",
   "execution_count": 151,
   "metadata": {},
   "outputs": [
    {
     "name": "stdout",
     "output_type": "stream",
     "text": [
      "thin\n",
      "Jiangsu\n",
      "我们吃得清淡。\n"
     ]
    }
   ],
   "source": [
    "# 方法调用，和属性调用一样，也符合就近原则。\n",
    "class Su:\n",
    "    born_city = 'Jiangsu'\n",
    "    wearing = 'thick'\n",
    "\n",
    "    def diet(self):\n",
    "        print('我们爱吃甜。')\n",
    "\n",
    "class Yue:\n",
    "    settle_city = 'Guangdong'\n",
    "    wearing = 'thin'\n",
    "\n",
    "    def diet(self):\n",
    "        print('我们吃得清淡。')\n",
    "\n",
    "class Yuesu(Yue,Su):  \n",
    "    pass\n",
    "\n",
    "xiaoming = Yuesu()\n",
    "# 先在 Yue类找wearing属性，找到了打印出来。\n",
    "print(xiaoming.wearing)\n",
    "# Yue类没有born_city，才去Su类找born_city属性。\n",
    "print(xiaoming.born_city)\n",
    "#先在 Yue类找方法，找到了打印出来\n",
    "xiaoming.diet()"
   ]
  },
  {
   "cell_type": "code",
   "execution_count": 154,
   "metadata": {},
   "outputs": [
    {
     "name": "stdout",
     "output_type": "stream",
     "text": [
      "C3\n",
      "2\n"
     ]
    }
   ],
   "source": [
    "class C0:\n",
    "    name='C0'\n",
    "class C1(C0):\n",
    "    num=1\n",
    "class C2(C0):\n",
    "    num=2\n",
    "class C3(C0):\n",
    "    name='C3'\n",
    "class C4(C2,C1,C3):\n",
    "    pass\n",
    "c4_sample=C4()\n",
    "print(c4_sample.name)\n",
    "print(c4_sample.num)"
   ]
  },
  {
   "cell_type": "code",
   "execution_count": 156,
   "metadata": {},
   "outputs": [
    {
     "name": "stdout",
     "output_type": "stream",
     "text": [
      "C0\n",
      "2\n"
     ]
    }
   ],
   "source": [
    "class C0:\n",
    "    name = 'C0'\n",
    "\n",
    "class C2(C0):\n",
    "    num = 2\n",
    "\n",
    "class C1:\n",
    "    num = 1\n",
    "\n",
    "class C3:\n",
    "    name = 'C3'\n",
    "\n",
    "class C4(C2,C1,C3):\n",
    "    pass\n",
    "\n",
    "ins = C4()\n",
    "print(ins.name) # 打印出C0\n",
    "print(ins.num) # 打印出1"
   ]
  },
  {
   "cell_type": "code",
   "execution_count": null,
   "metadata": {},
   "outputs": [],
   "source": [
    "#定制\n",
    "#1.新增代码：在子类下新建属性或方法，让子类可以用上父类所没有的属性或方法。\n",
    "#2.重写代码：是在子类中，对父类代码的修改。"
   ]
  },
  {
   "cell_type": "code",
   "execution_count": 157,
   "metadata": {},
   "outputs": [
    {
     "name": "stdout",
     "output_type": "stream",
     "text": [
      "black\n",
      "guangdong\n",
      "吃饭，选择用筷子。\n",
      "我们会讲广东话。\n"
     ]
    }
   ],
   "source": [
    "#新增代码\n",
    "class Chinese:\n",
    "    eye = 'black'\n",
    "\n",
    "    def eat(self):\n",
    "        print('吃饭，选择用筷子。')\n",
    "\n",
    "class Cantonese(Chinese):  # 类的继承\n",
    "    native_place = 'guangdong'  # 类的定制\n",
    "\n",
    "    def dialect(self):  # 类的定制\n",
    "        print('我们会讲广东话。')\n",
    "\n",
    "yewen = Cantonese()\n",
    "print(yewen.eye)\n",
    "# 父类的属性能用\n",
    "print(yewen.native_place)\n",
    "# 子类的定制属性也能用\n",
    "yewen.eat()\n",
    "# 父类的方法能用\n",
    "yewen.dialect()\n",
    "# 子类的定制方法也能用"
   ]
  },
  {
   "cell_type": "code",
   "execution_count": 158,
   "metadata": {},
   "outputs": [
    {
     "name": "stdout",
     "output_type": "stream",
     "text": [
      "我们居住的地方，陆地面积是960万平方公里左右。\n",
      "我们居住的地方，陆地面积是18万平方公里左右。\n"
     ]
    }
   ],
   "source": [
    "#重写\n",
    "#但直接重写并不优雅（有点类似洗去了旧方法，然后补上新方法）。\n",
    "class Chinese:\n",
    "    def land_area(self,area):\n",
    "        print('我们居住的地方，陆地面积是%d万平方公里左右。'% area)\n",
    "\n",
    "class Cantonese(Chinese):\n",
    "    # 直接对方法进行重写，叫同一个函数名称，其实并没有改变父类的属性\n",
    "    def land_area(self,area):\n",
    "        print('我们居住的地方，陆地面积是%d万平方公里左右。'% int(area*0.0188))\n",
    "\n",
    "gonger = Chinese()\n",
    "yewen = Cantonese()\n",
    "gonger.land_area(960)\n",
    "yewen.land_area(960)"
   ]
  },
  {
   "cell_type": "code",
   "execution_count": 236,
   "metadata": {},
   "outputs": [
    {
     "name": "stdout",
     "output_type": "stream",
     "text": [
      "主人，求抱抱！\n",
      "主人，每次想到怎么欺负你的时候，就感觉自己全身biubiubiu散发着智慧的光芒！\n"
     ]
    }
   ],
   "source": [
    "#这个例子很奇怪，感觉像错的\n",
    "#子类除了可以定制新的类方法，还能直接覆盖父类的方法，只要使用相同的类方法名称就能做到这一点。\n",
    "class Basicrobert():\n",
    "    def __init__(self,name):\n",
    "        self.name = name\n",
    "    def introduce(self):\n",
    "        print('我是' + self.name + '！')     \n",
    "    def cute(self):\n",
    "        print('主人，求抱抱！')\n",
    "class Advancedrobert(Basicrobert):\n",
    "    def cute(self):  # 这里使用了相同的类方法名称“cute”，这样可以让子类方法覆盖父类方法????\n",
    "        print('主人，每次想到怎么欺负你的时候，就感觉自己全身biubiubiu散发着智慧的光芒！')\n",
    "rb1 =  Basicrobert('鲁宾')\n",
    "rb1.cute()#其实父类的实例，方法依然没有变\n",
    "rb2 = Advancedrobert('鲁lu')\n",
    "rb2.cute()#但子类是优先调用自己同名的方法，而不去调用相同名字的父类方法"
   ]
  },
  {
   "cell_type": "code",
   "execution_count": 238,
   "metadata": {},
   "outputs": [
    {
     "name": "stdout",
     "output_type": "stream",
     "text": [
      "我是lulu！\n",
      "主人，求抱抱！\n",
      "以上是基础机器人，以下开始高级机器人\n",
      "我是高级机器人lili！智商高达280！\n",
      "主人，每次想到怎么欺负你的时候，就感觉自己全身biubiubiu散发着智慧的光芒！\n"
     ]
    }
   ],
   "source": [
    "#用子类重新定制属性\n",
    "class BasicR():\n",
    "    def __init__(self,name):\n",
    "        self.name = name\n",
    "    def introduce(self):\n",
    "        print('我是' + self.name + '！')     \n",
    "    def cute(self):\n",
    "        print('主人，求抱抱！')\n",
    "\n",
    "class AdvancedR(BasicR):\n",
    "    def __init__(self,name,iq):#重写初始化函数__init__，可以给子类的实例和父类不一样的传参\n",
    "        self.name = name\n",
    "        self.iq = iq\n",
    "    def introduce(self):#重写方法\n",
    "        print('我是高级机器人' + self.name + '！' + '智商高达' + str(self.iq) + '！' ) \n",
    "    def cute(self):  # 重写方法\n",
    "        print('主人，每次想到怎么欺负你的时候，就感觉自己全身biubiubiu散发着智慧的光芒！')\n",
    "basic_r1=BasicR('lulu')\n",
    "basic_r1.introduce()\n",
    "basic_r1.cute()\n",
    "print('以上是基础机器人，以下开始高级机器人')\n",
    "advanced_r1=AdvancedR('lili',280)\n",
    "advanced_r1.introduce()\n",
    "advanced_r1.cute()"
   ]
  },
  {
   "cell_type": "code",
   "execution_count": 254,
   "metadata": {},
   "outputs": [
    {
     "name": "stdout",
     "output_type": "stream",
     "text": [
      "主人，求抱抱！\n"
     ]
    },
    {
     "ename": "AttributeError",
     "evalue": "type object 'BasicR' has no attribute 'newcute'",
     "output_type": "error",
     "traceback": [
      "\u001b[0;31m---------------------------------------------------------------------------\u001b[0m",
      "\u001b[0;31mAttributeError\u001b[0m                            Traceback (most recent call last)",
      "\u001b[0;32m<ipython-input-254-f4ae83e22444>\u001b[0m in \u001b[0;36m<module>\u001b[0;34m\u001b[0m\n\u001b[1;32m     10\u001b[0m \u001b[0mBr_sample\u001b[0m\u001b[0;34m=\u001b[0m\u001b[0mBasicR\u001b[0m\u001b[0;34m(\u001b[0m\u001b[0;34m'youyou'\u001b[0m\u001b[0;34m)\u001b[0m\u001b[0;34m\u001b[0m\u001b[0;34m\u001b[0m\u001b[0m\n\u001b[1;32m     11\u001b[0m \u001b[0mBr_sample\u001b[0m\u001b[0;34m.\u001b[0m\u001b[0mcute\u001b[0m\u001b[0;34m(\u001b[0m\u001b[0;34m)\u001b[0m\u001b[0;34m\u001b[0m\u001b[0;34m\u001b[0m\u001b[0m\n\u001b[0;32m---> 12\u001b[0;31m \u001b[0mBasicR\u001b[0m\u001b[0;34m.\u001b[0m\u001b[0mcute\u001b[0m\u001b[0;34m=\u001b[0m\u001b[0mBasicR\u001b[0m\u001b[0;34m.\u001b[0m\u001b[0mnewcute\u001b[0m\u001b[0;34m\u001b[0m\u001b[0;34m\u001b[0m\u001b[0m\n\u001b[0m\u001b[1;32m     13\u001b[0m \u001b[0mBr_sample\u001b[0m\u001b[0;34m.\u001b[0m\u001b[0mcute\u001b[0m\u001b[0;34m(\u001b[0m\u001b[0;34m)\u001b[0m\u001b[0;34m\u001b[0m\u001b[0;34m\u001b[0m\u001b[0m\n",
      "\u001b[0;31mAttributeError\u001b[0m: type object 'BasicR' has no attribute 'newcute'"
     ]
    }
   ],
   "source": [
    "#直接修改类方法\n",
    "class BasicR:\n",
    "    def __init__(self,name):\n",
    "        self.name = name\n",
    "    def introduce(self):\n",
    "        print('我是' + self.name + '！')     \n",
    "    def cute(self):\n",
    "        print('主人，求抱抱！')\n",
    "def newcute(self):\n",
    "    print('haohaohaohao')\n",
    "Br_sample=BasicR('youyou')\n",
    "Br_sample.cute()\n",
    "BasicR.cute=BasicR.newcute#此处替换类的原始方法（函数）出现错误，newcute和Basic.R没有任何关系，不应该\n",
    "Br_sample.cute()"
   ]
  },
  {
   "cell_type": "code",
   "execution_count": 257,
   "metadata": {},
   "outputs": [
    {
     "name": "stdout",
     "output_type": "stream",
     "text": [
      "我是原始函数！\n",
      "我是重写后的新函数!\n"
     ]
    }
   ],
   "source": [
    "class BasicR():\n",
    "    def cute(self):\n",
    "        print('我是原始函数！')\n",
    "def newcute(self):\n",
    "    print('我是重写后的新函数!')\n",
    "br_sample = BasicR()  # 实例化\n",
    "br_sample.cute()#调用旧函数\n",
    "# 用新函数代替原始函数，也就是【重写类方法】\n",
    "BasicR.cute = newcute #注意此处不是调用函数，所以新旧都没有（），旧的直接写函数名称就可以，替换掉了\n",
    "# 现在原始函数已经被替换了\n",
    "br_sample.cute()#再次调用旧函数\n",
    "#可以通过重写类方法，让实例方法发生变化，但不能重写实例方法"
   ]
  },
  {
   "cell_type": "code",
   "execution_count": 260,
   "metadata": {},
   "outputs": [
    {
     "name": "stdout",
     "output_type": "stream",
     "text": [
      "我是youyou！\n",
      "------修改属性后-------\n",
      "我是kaka！\n"
     ]
    }
   ],
   "source": [
    "#修改属性,通过重新写一个函数，给self.变量 重新赋值\n",
    "class BasicR:\n",
    "    def __init__(self,name):\n",
    "        self.name = name\n",
    "    def introduce(self):\n",
    "        print('我是' + self.name + '！')     \n",
    "    def cute(self):\n",
    "        print('主人，求抱抱！')\n",
    "    def newname(self,newname):\n",
    "        self.name=newname#修改了类的属性\n",
    "Br_2=BasicR('youyou')\n",
    "Br_2.introduce()\n",
    "print('------修改属性后-------')\n",
    "Br_2.newname('kaka')\n",
    "Br_2.introduce()"
   ]
  },
  {
   "cell_type": "code",
   "execution_count": null,
   "metadata": {},
   "outputs": [],
   "source": []
  },
  {
   "cell_type": "code",
   "execution_count": null,
   "metadata": {},
   "outputs": [],
   "source": [
    "# 重写\n",
    "#引入新的参数\n",
    "class Chinese:\n",
    "\n",
    "    def land_area(self,area):\n",
    "        print('我们居住的地方，陆地面积是%d万平方公里左右。' % area)\n",
    "\n",
    "class Cantonese(Chinese):\n",
    "    # 为参数 area 设置默认值。\n",
    "    def land_area(self, area = 960, rate = 0.0188):#在本来应该全部重写的地方，引入默认参数\n",
    "        Chinese.land_area(self, area * rate)#调用父类方法，传递参数\n",
    "\n",
    "yewen = Cantonese()\n",
    "yewen.land_area()\n",
    "# 两个参数都有默认值，所以可以这么调用。"
   ]
  },
  {
   "cell_type": "code",
   "execution_count": 165,
   "metadata": {},
   "outputs": [
    {
     "ename": "IndentationError",
     "evalue": "expected an indented block (<ipython-input-165-dbf5f688ac84>, line 11)",
     "output_type": "error",
     "traceback": [
      "\u001b[0;36m  File \u001b[0;32m\"<ipython-input-165-dbf5f688ac84>\"\u001b[0;36m, line \u001b[0;32m11\u001b[0m\n\u001b[0;31m    catong1=Cantonese()\u001b[0m\n\u001b[0m                       ^\u001b[0m\n\u001b[0;31mIndentationError\u001b[0m\u001b[0;31m:\u001b[0m expected an indented block\n"
     ]
    }
   ],
   "source": [
    "class Chinese:\n",
    "    def __init__(self, greeting='你好', place='中国'):\n",
    "        self.greeting = greeting\n",
    "        self.place = place\n",
    "def greet(self):\n",
    "        print('%s！欢迎来到%s。' % (self.greeting, self.place))\n",
    "\n",
    "# 请为子类完成定制，代码量：两行。\n",
    "class Cantonese(Chinese):\n",
    "    def __init__(self,greeting='雷好',place='广东'):\n",
    "        #此处应该调用父类的属性的初始化，无需self\n",
    "catong1=Cantonese()\n",
    "catong1.greet()"
   ]
  },
  {
   "cell_type": "code",
   "execution_count": 166,
   "metadata": {},
   "outputs": [
    {
     "name": "stdout",
     "output_type": "stream",
     "text": [
      "雷猴！欢迎来到广东。\n"
     ]
    }
   ],
   "source": [
    "#sample\n",
    "class Chinese:\n",
    "\n",
    "    def __init__(self, greeting = '你好', place = '中国'):\n",
    "        self.greeting = greeting\n",
    "        self.place = place\n",
    "\n",
    "    def greet(self):\n",
    "        print('%s！欢迎来到%s。' % (self.greeting, self.place))\n",
    "\n",
    "class Cantonese(Chinese):\n",
    "\n",
    "    def __init__(self, greeting = '雷猴', place = '广东'):#重写初始化参数\n",
    "        Chinese.__init__(self, greeting, place)#调用了父类的初始化属性，参数为位置参数了\n",
    "    \n",
    "yewen = Cantonese()\n",
    "yewen.greet()"
   ]
  },
  {
   "cell_type": "code",
   "execution_count": 239,
   "metadata": {},
   "outputs": [
    {
     "name": "stdout",
     "output_type": "stream",
     "text": [
      "雷猴！欢迎来到广东。\n"
     ]
    }
   ],
   "source": [
    "#mycode\n",
    "class Chinese:\n",
    "\n",
    "    def __init__(self, greeting = '你好', place = '中国'):\n",
    "        self.greeting = greeting\n",
    "        self.place = place\n",
    "\n",
    "    def greet(self):\n",
    "        print('%s！欢迎来到%s。' % (self.greeting, self.place))\n",
    "\n",
    "class Cantonese(Chinese):\n",
    "\n",
    "    def __init__(self, greeting = '雷猴', place = '广东'):\n",
    "        self.greeting=greeting\n",
    "        self.place=place\n",
    "    \n",
    "yewen = Cantonese()\n",
    "yewen.greet()"
   ]
  },
  {
   "cell_type": "code",
   "execution_count": 169,
   "metadata": {},
   "outputs": [
    {
     "name": "stdout",
     "output_type": "stream",
     "text": [
      "serious\n",
      "gentle\n"
     ]
    }
   ],
   "source": [
    "class Teacher:\n",
    "    face='serious'\n",
    "    job='teahcer'\n",
    "class Father:\n",
    "    face='sweet'\n",
    "    parenthood='dad'\n",
    "class Teachermore(Teacher,Father):\n",
    "    pass\n",
    "class Fathermore(Father,Teacher):\n",
    "    face='gentle'\n",
    "time3 = Teachermore()\n",
    "time4 = Fathermore()\n",
    "print(time3.face)\n",
    "print(time4.face)"
   ]
  },
  {
   "cell_type": "code",
   "execution_count": null,
   "metadata": {},
   "outputs": [],
   "source": [
    "# 练习会先提供一个类，用以记录学生学习 Python 的投入时间和有效时间。\n",
    "# 需要你创建一个子类，为某一类学生提供定制化的记录方案。\n",
    "# 假设：编程开发人员学 Python 的话，学习效率很高，默认为1。\n",
    "# 而且，job 的属性为 programmer。\n",
    "# 请你补全右侧的代码，将其升级。"
   ]
  },
  {
   "cell_type": "code",
   "execution_count": 170,
   "metadata": {},
   "outputs": [
    {
     "name": "stdout",
     "output_type": "stream",
     "text": [
      "None\n",
      "programmer\n",
      "8.0\n",
      "10.0\n"
     ]
    }
   ],
   "source": [
    "#sample\n",
    "class Student:\n",
    "    def __init__(self, name, job=None, time=0.00, time_effective=0.00): \n",
    "        self.name = name\n",
    "        self.job = job\n",
    "        self.time = time\n",
    "        self.time_effective = time_effective\n",
    "\n",
    "    def count_time(self, hour, rate):\n",
    "        self.time += hour\n",
    "        self.time_effective += hour * rate\n",
    "\n",
    "class Programmer(Student):\n",
    "    def __init__(self, name):\n",
    "        Student.__init__(self, name, job='programmer', time=0.00, time_effective=0.00)\n",
    "\n",
    "    def count_time(self, hour, rate=1):\n",
    "        Student.count_time(self, hour, rate)#注意此处是直接调用父类的方法，进行传参\n",
    "\n",
    "student1 = Student('韩梅梅')\n",
    "student2 = Programmer('李雷')\n",
    "print(student1.job)\n",
    "print(student2.job)\n",
    "student1.count_time(10, 0.8)\n",
    "student2.count_time(10)\n",
    "print(student1.time_effective)\n",
    "print(student2.time_effective)"
   ]
  },
  {
   "cell_type": "code",
   "execution_count": 172,
   "metadata": {},
   "outputs": [
    {
     "name": "stdout",
     "output_type": "stream",
     "text": [
      "None\n",
      "Programmer\n",
      "8.0\n",
      "10.0\n"
     ]
    }
   ],
   "source": [
    "class Student:\n",
    "    def __init__(self, name, job=None, time=0.00, time_effective=0.00): \n",
    "        self.name = name\n",
    "        self.job = job\n",
    "        self.time = time\n",
    "        self.time_effective = time_effective\n",
    "\n",
    "    def count_time(self, hour, rate):\n",
    "        self.time += hour\n",
    "        self.time_effective += hour * rate\n",
    "class Programmer(Student):\n",
    "    def __init__(self,name,job='Programmer',time=0.00,time_effective=0.00):\n",
    "        Student.__init__(self,name,job='Programmer',time=0.00,time_effective=0.00)#没修改的参数其实可以省略\n",
    "    def count_time(self,hour,rate=1):\n",
    "        Student.count_time(self,hour,rate)\n",
    "student1 = Student('韩梅梅')\n",
    "student2 = Programmer('李雷')\n",
    "print(student1.job)\n",
    "print(student2.job)\n",
    "student1.count_time(10, 0.8)\n",
    "student2.count_time(10)\n",
    "print(student1.time_effective)\n",
    "print(student2.time_effective)"
   ]
  },
  {
   "cell_type": "code",
   "execution_count": 176,
   "metadata": {},
   "outputs": [
    {
     "name": "stdout",
     "output_type": "stream",
     "text": [
      "None\n",
      "Programmer\n",
      "8.0\n",
      "10.0\n"
     ]
    }
   ],
   "source": [
    "class Student:\n",
    "    def __init__(self, name, job=None, time=0.00, time_effective=0.00): \n",
    "        self.name = name\n",
    "        self.job = job\n",
    "        self.time = time\n",
    "        self.time_effective = time_effective\n",
    "\n",
    "    def count_time(self, hour, rate):\n",
    "        self.time += hour\n",
    "        self.time_effective += hour * rate\n",
    "class Programmer(Student):\n",
    "    def __init__(self,name,job='Programmer'):\n",
    "        Student.__init__(self,name,job='Programmer')#没修改的默认参数其实可以省略，但是位置参数不可以\n",
    "    def count_time(self,hour,rate=1):\n",
    "        Student.count_time(self,hour,rate)\n",
    "student1 = Student('韩梅梅')#创建实例的时候要传入属性所需要参数\n",
    "student2 = Programmer('李雷')#创建实例的时候要传入属性所需要参数\n",
    "print(student1.job)\n",
    "print(student2.job)\n",
    "student1.count_time(10, 0.8)#创建时，要传入方法所需要的参数\n",
    "student2.count_time(10)#因为是子类，在创建子类时有了默认参数，所以子类的实例只需要传入一个参数即可\n",
    "print(student1.time_effective)\n",
    "print(student2.time_effective)\n",
    "\n",
    "#设置默认参数，不需要赋值很多变量，而且默认参数可以改变相当于变量可以更改"
   ]
  },
  {
   "cell_type": "code",
   "execution_count": 177,
   "metadata": {},
   "outputs": [
    {
     "name": "stdout",
     "output_type": "stream",
     "text": [
      "None\n",
      "Programmer\n",
      "8.0\n",
      "10.0\n"
     ]
    }
   ],
   "source": [
    "class Student:\n",
    "    def __init__(self, name, job=None, time=0.00, time_effective=0.00): \n",
    "        self.name = name\n",
    "        self.job = job\n",
    "        self.time = time\n",
    "        self.time_effective = time_effective\n",
    "\n",
    "    def count_time(self, hour, rate):\n",
    "        self.time += hour\n",
    "        self.time_effective += hour * rate\n",
    "class Programmer(Student):\n",
    "    def __init__(self,name,job='Programmer'):\n",
    "        Student.__init__(self,name,job)#只需写上父类的位置参数即可，job的默认参数上一行已经更改\n",
    "    def count_time(self,hour,rate=1):\n",
    "        Student.count_time(self,hour,rate)\n",
    "student1 = Student('韩梅梅')#创建实例的时候要传入属性所需要参数\n",
    "student2 = Programmer('李雷')#创建实例的时候要传入属性所需要参数\n",
    "print(student1.job)\n",
    "print(student2.job)\n",
    "student1.count_time(10, 0.8)#创建时，要传入方法所需要的参数\n",
    "student2.count_time(10)#因为有了默认参数，只需要传入一个参数即可\n",
    "print(student1.time_effective)\n",
    "print(student2.time_effective)\n",
    "\n",
    "#设置默认参数，不需要赋值很多变量，而且默认参数可以改变相当于变量可以更改"
   ]
  },
  {
   "cell_type": "code",
   "execution_count": 181,
   "metadata": {},
   "outputs": [
    {
     "name": "stdout",
     "output_type": "stream",
     "text": [
      "3\n",
      "2\n"
     ]
    }
   ],
   "source": [
    "#lambda 表达式\n",
    "# python 使用 lambda 来创建匿名函数。\n",
    "# lambda只是一个表达式，函数体比def简单很多。\n",
    "# lambda的主体是一个表达式，而不是一个代码块。仅仅能在lambda表达式中封装有限的逻辑进去。\n",
    "# lambda函数拥有自己的命名空间，且不能访问自有参数列表之外或全局命名空间里的参数。\n",
    "# 虽然lambda函数看起来只能写一行，却不等同于C或C++的内联函数，后者的目的是调用小函数时不占用栈内存从而增加运行效率。\n",
    "# lambda [arg1 [,arg2,.....argn]]:expression\n",
    "num_1=lambda a,b:a+b\n",
    "num_2=lambda a,b:a*b\n",
    "print(num_1(1,2))\n",
    "print(num_2(1,2))"
   ]
  },
  {
   "cell_type": "code",
   "execution_count": 184,
   "metadata": {},
   "outputs": [
    {
     "name": "stdout",
     "output_type": "stream",
     "text": [
      "《卜算子》\n",
      "我住长江头，\n",
      "君住长江尾。\n",
      "日日思君不见君，\n",
      "共饮长江水。\n"
     ]
    }
   ],
   "source": [
    "#直接使用类\n",
    "listpoem = ['《卜算子》','我住长江头，','君住长江尾。','日日思君不见君，','共饮长江水。']\n",
    "\n",
    "def Poem(p):\n",
    "    for i in p:#方法里并没有调用属性（变量），所以不需要self，会出错\n",
    "        print(i)\n",
    "\n",
    "Poem(listpoem)#外部传参数"
   ]
  },
  {
   "cell_type": "code",
   "execution_count": 192,
   "metadata": {},
   "outputs": [
    {
     "ename": "TypeError",
     "evalue": "read() missing 1 required positional argument: 'listp'",
     "output_type": "error",
     "traceback": [
      "\u001b[0;31m---------------------------------------------------------------------------\u001b[0m",
      "\u001b[0;31mTypeError\u001b[0m                                 Traceback (most recent call last)",
      "\u001b[0;32m<ipython-input-192-cd2e83f89966>\u001b[0m in \u001b[0;36m<module>\u001b[0;34m\u001b[0m\n\u001b[1;32m      5\u001b[0m         \u001b[0;32mfor\u001b[0m \u001b[0mi\u001b[0m \u001b[0;32min\u001b[0m \u001b[0mlistp\u001b[0m\u001b[0;34m:\u001b[0m\u001b[0;34m\u001b[0m\u001b[0;34m\u001b[0m\u001b[0m\n\u001b[1;32m      6\u001b[0m             \u001b[0mprint\u001b[0m\u001b[0;34m(\u001b[0m\u001b[0mi\u001b[0m\u001b[0;34m)\u001b[0m\u001b[0;34m\u001b[0m\u001b[0;34m\u001b[0m\u001b[0m\n\u001b[0;32m----> 7\u001b[0;31m \u001b[0mReadpoem\u001b[0m\u001b[0;34m.\u001b[0m\u001b[0mread\u001b[0m\u001b[0;34m(\u001b[0m\u001b[0mlistpoem\u001b[0m\u001b[0;34m)\u001b[0m\u001b[0;34m\u001b[0m\u001b[0;34m\u001b[0m\u001b[0m\n\u001b[0m",
      "\u001b[0;31mTypeError\u001b[0m: read() missing 1 required positional argument: 'listp'"
     ]
    }
   ],
   "source": [
    "listpoem = ['《卜算子》','我住长江头，','君住长江尾。','日日思君不见君，','共饮长江水。']\n",
    "\n",
    "class Readpoem:\n",
    "    def read(self,listp):#方法里并没有调用属性（变量），所以不需要self，会出错，而且此处也没有实例化\n",
    "        for i in listp:\n",
    "            print(i)\n",
    "Readpoem.read(listpoem)"
   ]
  },
  {
   "cell_type": "code",
   "execution_count": 198,
   "metadata": {},
   "outputs": [
    {
     "name": "stdout",
     "output_type": "stream",
     "text": [
      "《卜算子》\n",
      "我住长江头，\n",
      "君住长江尾。\n",
      "日日思君不见君，\n",
      "共饮长江水。\n"
     ]
    }
   ],
   "source": [
    "listpoem = ['《卜算子》','我住长江头，','君住长江尾。','日日思君不见君，','共饮长江水。']#变量在外部\n",
    "\n",
    "class Readpoem:\n",
    "    def read(listp):\n",
    "        for i in listp:\n",
    "            print(i)\n",
    "Readpoem.read(listpoem)#外部传参数"
   ]
  },
  {
   "cell_type": "code",
   "execution_count": 217,
   "metadata": {},
   "outputs": [
    {
     "name": "stdout",
     "output_type": "stream",
     "text": [
      "《卜算子》\n",
      "我住长江头，\n",
      "君住长江尾。\n",
      "日日思君不见君，\n",
      "共饮长江水。\n"
     ]
    }
   ],
   "source": [
    "listpoem = ['《卜算子》','我住长江头，','君住长江尾。','日日思君不见君，','共饮长江水。']#变量在外部\n",
    "\n",
    "class Readpoem:\n",
    "    @classmethod\n",
    "    def read(cls,listp):#声明类方法，允许调用属性\n",
    "        for i in listp:\n",
    "            print(i)\n",
    "Readpoem.read(listpoem)#外部传参数"
   ]
  },
  {
   "cell_type": "code",
   "execution_count": 216,
   "metadata": {},
   "outputs": [
    {
     "name": "stdout",
     "output_type": "stream",
     "text": [
      "《卜算子》\n",
      "我住长江头，\n",
      "君住长江尾。\n",
      "日日思君不见君，\n",
      "共饮长江水。\n"
     ]
    }
   ],
   "source": [
    "class Readpoem:\n",
    "    listpoem = ['《卜算子》','我住长江头，','君住长江尾。','日日思君不见君，','共饮长江水。']\n",
    "    @classmethod\n",
    "    def read(cls):#声明类方法，允许调用属性\n",
    "        for i in cls.listpoem:#内部传参\n",
    "            print(i)\n",
    "Readpoem.read()#内部传参"
   ]
  },
  {
   "cell_type": "code",
   "execution_count": 193,
   "metadata": {},
   "outputs": [
    {
     "name": "stdout",
     "output_type": "stream",
     "text": [
      "100\n",
      "200\n"
     ]
    }
   ],
   "source": [
    "class CA():\n",
    "    a = 100\n",
    "    b = 200\n",
    "    @classmethod\n",
    "    def func1(cls):\n",
    "        print(cls.a)\n",
    "        print(cls.b)\n",
    "\n",
    "CA.func1()\n",
    "#@classmethod的中文意思就是“类方法”，@classmethod声明了func1是类方法，这样才能允许func1使用类属性中的数据。\n",
    "#cls的意思是class的缩写。类方法func1想使用类属性（也就是类中的变量），\n",
    "#就要写上cls为函数1的第一个参数，也就是把这个类作为参数传给自己，这样就能被允许使用类中的数据。\n",
    "#第三个格式是cls.a,cls.b。类方法想使用类属性的时候，需要在这些变量名称前加上cls."
   ]
  },
  {
   "cell_type": "code",
   "execution_count": 215,
   "metadata": {},
   "outputs": [
    {
     "name": "stdout",
     "output_type": "stream",
     "text": [
      "100\n",
      "200\n"
     ]
    }
   ],
   "source": [
    "class CA:\n",
    "    a = 100\n",
    "    b = 200\n",
    "    @classmethod\n",
    "    def func1(cls):\n",
    "        print(cls.a)\n",
    "        print(cls.b)\n",
    "\n",
    "CA.func1()"
   ]
  },
  {
   "cell_type": "code",
   "execution_count": 205,
   "metadata": {},
   "outputs": [
    {
     "ename": "TypeError",
     "evalue": "func1() missing 1 required positional argument: 'self'",
     "output_type": "error",
     "traceback": [
      "\u001b[0;31m---------------------------------------------------------------------------\u001b[0m",
      "\u001b[0;31mTypeError\u001b[0m                                 Traceback (most recent call last)",
      "\u001b[0;32m<ipython-input-205-e19cfa43ba4d>\u001b[0m in \u001b[0;36m<module>\u001b[0;34m\u001b[0m\n\u001b[1;32m      7\u001b[0m         \u001b[0mprint\u001b[0m\u001b[0;34m(\u001b[0m\u001b[0mself\u001b[0m\u001b[0;34m.\u001b[0m\u001b[0mb\u001b[0m\u001b[0;34m)\u001b[0m\u001b[0;34m\u001b[0m\u001b[0;34m\u001b[0m\u001b[0m\n\u001b[1;32m      8\u001b[0m \u001b[0;34m\u001b[0m\u001b[0m\n\u001b[0;32m----> 9\u001b[0;31m \u001b[0mCA\u001b[0m\u001b[0;34m.\u001b[0m\u001b[0mfunc1\u001b[0m\u001b[0;34m(\u001b[0m\u001b[0;34m)\u001b[0m\u001b[0;34m\u001b[0m\u001b[0;34m\u001b[0m\u001b[0m\n\u001b[0m",
      "\u001b[0;31mTypeError\u001b[0m: func1() missing 1 required positional argument: 'self'"
     ]
    }
   ],
   "source": [
    "class CA:\n",
    "    def __init__(self,a=100,b=100):\n",
    "        self.a=a\n",
    "        self.b=b\n",
    "    def func1(self):\n",
    "        print(self.a)\n",
    "        print(self.b)\n",
    "\n",
    "CA.func1()#把实例化和初始化与调用类方法混用了，实例化以后没法调用类方法"
   ]
  },
  {
   "cell_type": "code",
   "execution_count": 227,
   "metadata": {},
   "outputs": [
    {
     "name": "stdout",
     "output_type": "stream",
     "text": [
      "100\n",
      "100\n"
     ]
    }
   ],
   "source": [
    "class CA:\n",
    "    def __init__(self,a=100,b=100):\n",
    "        self.a=a\n",
    "        self.b=b\n",
    "    def func1(self):\n",
    "        print(self.a)\n",
    "        print(self.b)\n",
    "ca1=CA()\n",
    "ca1.func1()"
   ]
  },
  {
   "cell_type": "code",
   "execution_count": 208,
   "metadata": {},
   "outputs": [
    {
     "name": "stdout",
     "output_type": "stream",
     "text": [
      "计算结果如下：\n",
      "101\n"
     ]
    }
   ],
   "source": [
    "#定义加100函数\n",
    "def add_100(num):\n",
    "    sum = num + 100\n",
    "    print('计算结果如下：')\n",
    "    print(sum)\n",
    "\n",
    "\n",
    "add_100(1)"
   ]
  },
  {
   "cell_type": "code",
   "execution_count": 207,
   "metadata": {},
   "outputs": [
    {
     "name": "stdout",
     "output_type": "stream",
     "text": [
      "计算结果如下：\n",
      "101\n"
     ]
    }
   ],
   "source": [
    "#定义加和类\n",
    "class Addsum:\n",
    "    def add_100(num):\n",
    "        sum=num+100\n",
    "        print('计算结果如下：')\n",
    "        print(sum)\n",
    "Addsum.add_100(1)"
   ]
  },
  {
   "cell_type": "code",
   "execution_count": 210,
   "metadata": {},
   "outputs": [
    {
     "name": "stdout",
     "output_type": "stream",
     "text": [
      "100\n"
     ]
    }
   ],
   "source": [
    "#从外部直接增加/修改类属性\n",
    "class CH:\n",
    "    pass\n",
    "CH.a=100\n",
    "print(CH.a)"
   ]
  },
  {
   "cell_type": "code",
   "execution_count": 214,
   "metadata": {},
   "outputs": [
    {
     "name": "stdin",
     "output_type": "stream",
     "text": [
      "please input 123\n"
     ]
    },
    {
     "name": "stdout",
     "output_type": "stream",
     "text": [
      "123\n"
     ]
    }
   ],
   "source": [
    "#从外部直接增加类属性\n",
    "class CT:\n",
    "    @classmethod\n",
    "    def attri(cls):#允许引用类属性\n",
    "        print(cls.var1)#打印类属性（变量）\n",
    "CT.var1=input('please input')#从外部input进去\n",
    "CT.attri()#调用类方法"
   ]
  },
  {
   "cell_type": "code",
   "execution_count": null,
   "metadata": {},
   "outputs": [],
   "source": [
    "#cls代表“类”的意思，self代表“实例”的意思，这样写是编码规范（程序员们的共识），但不是强制要求。\n",
    "#理论上只要写个变量名占位，写什么都行，比如把self写成bbb\n",
    "#当类支持实例化的时候，self是所有类方法位于首位、默认的特殊参数。\n",
    "#实例化后，只要你在类中用了def语句，那么就必须在其后的括号里把第一个位置留给self\n",
    "#当类支持实例化的时候，就不能再直接使用类方法了，如果运行以下代码将会报错"
   ]
  },
  {
   "cell_type": "code",
   "execution_count": 219,
   "metadata": {},
   "outputs": [
    {
     "name": "stdout",
     "output_type": "stream",
     "text": [
      "100\n",
      "200\n"
     ]
    }
   ],
   "source": [
    "#实例属性和类属性完全相等。\n",
    "#类属性如果修改了，实例属性也会修改\n",
    "class CR:\n",
    "    a=100\n",
    "cr1=CR()#实例化\n",
    "print(cr1.a)#实例属性和类属性相等\n",
    "CR.a=200#修改类属性\n",
    "print(cr1.a)#实例属性也变化了"
   ]
  },
  {
   "cell_type": "code",
   "execution_count": 220,
   "metadata": {},
   "outputs": [
    {
     "name": "stdout",
     "output_type": "stream",
     "text": [
      "100\n",
      "100\n",
      "200\n",
      "100\n"
     ]
    }
   ],
   "source": [
    "#修改实例属性，不会影响到其他实例，也不会影响到类。因为每个实例都是独立的个体\n",
    "class CR:\n",
    "    a=100\n",
    "cr2=CR()\n",
    "cr3=CR()\n",
    "print(cr2.a)\n",
    "print(cr3.a)\n",
    "cr2.a=200\n",
    "print(cr2.a)\n",
    "print(cr3.a)"
   ]
  },
  {
   "cell_type": "code",
   "execution_count": 221,
   "metadata": {},
   "outputs": [
    {
     "name": "stdout",
     "output_type": "stream",
     "text": [
      "我是原始函数！\n",
      "我是重写后的新函数!\n"
     ]
    }
   ],
   "source": [
    "class CF():\n",
    "    def funcold(self):\n",
    "        print('我是原始函数！')\n",
    "def funcnew(self):\n",
    "    print('我是重写后的新函数!')\n",
    "cf1 = CF()  # 实例化\n",
    "cf1.funcold()#调用旧函数\n",
    "# 用新函数代替原始函数，也就是【重写类方法】\n",
    "CF.funcold = funcnew #注意此处不是调用函数，所以新旧都没有（）\n",
    "# 现在原始函数已经被替换了\n",
    "cf1.funcold()#再次调用旧函数\n",
    "#可以通过重写类方法，让实例方法发生变化，但不能重写实例方法"
   ]
  },
  {
   "cell_type": "code",
   "execution_count": 228,
   "metadata": {},
   "outputs": [
    {
     "name": "stdout",
     "output_type": "stream",
     "text": [
      "初始化成功\n",
      "实例可以调用这个类方法\n"
     ]
    }
   ],
   "source": [
    "#def __init__(self) 初始化函数的意思是，当你创建一个实例的时候，这个函数就会被调用\n",
    "#初始化函数的写法是固定的格式：中间是“init”，这个单词的中文意思是“初始化”，然后前后都要有【两个下划线】\n",
    "#__init__()的括号中，第一个参数一定要写上self，不然会报错。\n",
    "#这个初始化函数照样可以传递参数\n",
    "class CD:\n",
    "    def __init__(self):\n",
    "        print('初始化成功')\n",
    "    def output(self):\n",
    "        print('实例可以调用这个类方法')\n",
    "cd1=CD()\n",
    "cd1.output()#在执行实例化语句时，就自动调用了__init__(self)函数。\n",
    "#CD.output() 实例化以后无法调用类方法,会报错"
   ]
  },
  {
   "cell_type": "code",
   "execution_count": 229,
   "metadata": {},
   "outputs": [
    {
     "name": "stdout",
     "output_type": "stream",
     "text": [
      "张三的成绩单如下：\n",
      "语文成绩：99\n",
      "数学成绩：88\n",
      "李四的成绩单如下：\n",
      "语文成绩：64\n",
      "数学成绩：73\n",
      "王五的成绩单如下：\n",
      "语文成绩：33\n",
      "数学成绩：22\n"
     ]
    }
   ],
   "source": [
    "#用实例传参数，实例化后调用类方法（函数）\n",
    "class Grade:\n",
    "    def __init__(self,name,chinese,math):#初始化，实例要有三个位置参数，可以传进来\n",
    "        self.name = name #传进来的参数成为属性\n",
    "        self.chinese = chinese\n",
    "        self.math = math\n",
    "\n",
    "    def printgrade(self):\n",
    "        print(self.name + '的成绩单如下：')#调用属性，即可以调用传进来的参数\n",
    "        print('语文成绩：'+ str(self.chinese))\n",
    "        print('数学成绩：'+ str(self.math))\n",
    "\n",
    "\n",
    "grade1 = Grade('张三',99,88)\n",
    "grade2 = Grade('李四',64,73)\n",
    "grade3 = Grade('王五',33,22)\n",
    "\n",
    "grade1.printgrade()\n",
    "grade2.printgrade()\n",
    "grade3.printgrade()"
   ]
  },
  {
   "cell_type": "code",
   "execution_count": 231,
   "metadata": {},
   "outputs": [
    {
     "name": "stdout",
     "output_type": "stream",
     "text": [
      "1 X 1 = 1    \n",
      "2 X 1 = 2  2 X 2 = 4    \n",
      "3 X 1 = 3  3 X 2 = 6  3 X 3 = 9    \n",
      "----------------------分界线-----------------------------\n",
      "1 X 1 = 1    \n",
      "2 X 1 = 2  2 X 2 = 4    \n",
      "3 X 1 = 3  3 X 2 = 6  3 X 3 = 9    \n",
      "4 X 1 = 4  4 X 2 = 8  4 X 3 = 12  4 X 4 = 16    \n",
      "5 X 1 = 5  5 X 2 = 10  5 X 3 = 15  5 X 4 = 20  5 X 5 = 25    \n"
     ]
    }
   ],
   "source": [
    "class Mulsheet():\n",
    "    def __init__(self,n):#可以传参数，到底是要三三乘法表，还是九九乘法表的函数\n",
    "        self.n = n\n",
    "    def printmul(self):#打印乘法表的方法（函数）\n",
    "        for i in range(1,self.n + 1):\n",
    "            for x in range(1,i+1):\n",
    "                print( '%d X %d = %d' % (i ,x ,i*x) ,end = '  ' )\n",
    "            print('  ')\n",
    "\n",
    "threemul = Mulsheet(3)\n",
    "threemul.printmul()\n",
    "print('----------------------分界线-----------------------------')\n",
    "fivemul = Mulsheet(5)\n",
    "fivemul.printmul()"
   ]
  },
  {
   "cell_type": "code",
   "execution_count": null,
   "metadata": {},
   "outputs": [],
   "source": [
    "#自己总结函数编程和对象编程\n",
    "#函数过程，就是先编写各个子函数，然后有各种返回值和全局变量可以被其他子函数使用，然后一起封装为主体函数，调用主体函数（分-总）\n",
    "#对象，就是建立完类，类里初始化属性设定可以给传参数，然后建立各个函数（方法），类写好后，实例化同时传参数，调用类函数（总-分）"
   ]
  }
 ],
 "metadata": {
  "kernelspec": {
   "display_name": "Python 3",
   "language": "python",
   "name": "python3"
  },
  "language_info": {
   "codemirror_mode": {
    "name": "ipython",
    "version": 3
   },
   "file_extension": ".py",
   "mimetype": "text/x-python",
   "name": "python",
   "nbconvert_exporter": "python",
   "pygments_lexer": "ipython3",
   "version": "3.7.3"
  }
 },
 "nbformat": 4,
 "nbformat_minor": 2
}
