{
 "cells": [
  {
   "cell_type": "code",
   "execution_count": null,
   "metadata": {},
   "outputs": [],
   "source": [
    "#index\n",
    "#make a easy game by using functions and random&time module"
   ]
  },
  {
   "cell_type": "code",
   "execution_count": 1,
   "metadata": {},
   "outputs": [
    {
     "name": "stdout",
     "output_type": "stream",
     "text": [
      "----------------- 角色信息 -----------------\n",
      "你的人物：\n",
      "【狂血战士】  血量：165  攻击：31\n",
      "【光明骑士】  血量：176  攻击：44\n",
      "【格斗大师】  血量：158  攻击：33\n",
      "--------------------------------------------\n",
      "电脑敌人：\n",
      "【嗜血刀客】  血量：102  攻击：36\n",
      "【黑暗弩手】  血量：118  攻击：35\n",
      "【暗夜骑士】  血量：156  攻击：39\n",
      "--------------------------------------------\n"
     ]
    },
    {
     "name": "stdin",
     "output_type": "stream",
     "text": [
      "请按回车键继续。\n",
      " \n",
      "你想将 【狂血战士】 放在第几个上场？(输入数字1~3) 1\n",
      "你想将 【光明骑士】 放在第几个上场？(输入数字1~3) 2\n",
      "你想将 【格斗大师】 放在第几个上场？(输入数字1~3) 3\n"
     ]
    },
    {
     "name": "stdout",
     "output_type": "stream",
     "text": [
      "\n",
      "我方角色的出场顺序是：【狂血战士】、【光明骑士】、【格斗大师】\n",
      "敌方角色的出场顺序是：【嗜血刀客】、【黑暗弩手】、【暗夜骑士】\n",
      "\n",
      "----------------- 【第1局】 -----------------\n",
      "玩家角色：【狂血战士】 vs 敌方角色：【嗜血刀客】 \n",
      "【狂血战士】 血量：165  攻击：31\n",
      "【嗜血刀客】 血量：102  攻击：36\n",
      "--------------------------------------------\n"
     ]
    },
    {
     "name": "stdin",
     "output_type": "stream",
     "text": [
      "请按回车键继续。\n",
      " \n"
     ]
    },
    {
     "name": "stdout",
     "output_type": "stream",
     "text": [
      "【狂血战士】发起了攻击，【嗜血刀客】剩余血量71\n",
      "【嗜血刀客】发起了攻击，【狂血战士】剩余血量129\n",
      "--------------------------------------------\n",
      "【狂血战士】发起了攻击，【嗜血刀客】剩余血量40\n",
      "【嗜血刀客】发起了攻击，【狂血战士】剩余血量93\n",
      "--------------------------------------------\n",
      "【狂血战士】发起了攻击，【嗜血刀客】剩余血量9\n",
      "【嗜血刀客】发起了攻击，【狂血战士】剩余血量57\n",
      "--------------------------------------------\n",
      "【狂血战士】发起了攻击，【嗜血刀客】剩余血量-22\n",
      "【嗜血刀客】发起了攻击，【狂血战士】剩余血量21\n",
      "--------------------------------------------\n",
      "\n",
      "敌人死翘翘了，你赢了！\n",
      "\n",
      "----------------- 【第2局】 -----------------\n",
      "玩家角色：【光明骑士】 vs 敌方角色：【黑暗弩手】 \n",
      "【光明骑士】 血量：176  攻击：44\n",
      "【黑暗弩手】 血量：118  攻击：35\n",
      "--------------------------------------------\n"
     ]
    },
    {
     "name": "stdin",
     "output_type": "stream",
     "text": [
      "请按回车键继续。\n",
      " \n"
     ]
    },
    {
     "name": "stdout",
     "output_type": "stream",
     "text": [
      "【光明骑士】发起了攻击，【黑暗弩手】剩余血量74\n",
      "【黑暗弩手】发起了攻击，【光明骑士】剩余血量141\n",
      "--------------------------------------------\n",
      "【光明骑士】发起了攻击，【黑暗弩手】剩余血量30\n",
      "【黑暗弩手】发起了攻击，【光明骑士】剩余血量106\n",
      "--------------------------------------------\n",
      "【光明骑士】发起了攻击，【黑暗弩手】剩余血量-14\n",
      "【黑暗弩手】发起了攻击，【光明骑士】剩余血量71\n",
      "--------------------------------------------\n",
      "\n",
      "敌人死翘翘了，你赢了！\n",
      "\n",
      "----------------- 【第3局】 -----------------\n",
      "玩家角色：【格斗大师】 vs 敌方角色：【暗夜骑士】 \n",
      "【格斗大师】 血量：158  攻击：33\n",
      "【暗夜骑士】 血量：156  攻击：39\n",
      "--------------------------------------------\n"
     ]
    },
    {
     "name": "stdin",
     "output_type": "stream",
     "text": [
      "请按回车键继续。\n",
      " \n"
     ]
    },
    {
     "name": "stdout",
     "output_type": "stream",
     "text": [
      "【格斗大师】发起了攻击，【暗夜骑士】剩余血量123\n",
      "【暗夜骑士】发起了攻击，【格斗大师】剩余血量119\n",
      "--------------------------------------------\n",
      "【格斗大师】发起了攻击，【暗夜骑士】剩余血量90\n",
      "【暗夜骑士】发起了攻击，【格斗大师】剩余血量80\n",
      "--------------------------------------------\n",
      "【格斗大师】发起了攻击，【暗夜骑士】剩余血量57\n",
      "【暗夜骑士】发起了攻击，【格斗大师】剩余血量41\n",
      "--------------------------------------------\n",
      "【格斗大师】发起了攻击，【暗夜骑士】剩余血量24\n",
      "【暗夜骑士】发起了攻击，【格斗大师】剩余血量2\n",
      "--------------------------------------------\n",
      "【格斗大师】发起了攻击，【暗夜骑士】剩余血量-9\n",
      "【暗夜骑士】发起了攻击，【格斗大师】剩余血量-37\n",
      "--------------------------------------------\n",
      "\n",
      "哎呀，你和敌人同归于尽了！\n"
     ]
    },
    {
     "name": "stdin",
     "output_type": "stream",
     "text": [
      "\n",
      "点击回车，查看比赛的最终结果\n",
      " \n"
     ]
    },
    {
     "name": "stdout",
     "output_type": "stream",
     "text": [
      "【最终结果：你赢了！】\n",
      "\n"
     ]
    }
   ],
   "source": [
    "#格斗游戏 sample\n",
    "import time,random\n",
    "\n",
    "# 需要的数据和变量放在开头\n",
    "player_list =  ['【狂血战士】','【森林箭手】','【光明骑士】','【独行剑客】','【格斗大师】','【枪弹专家】']\n",
    "enemy_list = ['【暗黑战士】','【黑暗弩手】','【暗夜骑士】','【嗜血刀客】','【首席刺客】','【陷阱之王】']\n",
    "players = random.sample(player_list,3)  \n",
    "enemies = random.sample(enemy_list,3)\n",
    "player_info = {}\n",
    "enemy_info = {}\n",
    "\n",
    "# 随机生成角色的属性\n",
    "def born_role():\n",
    "    life = random.randint(100,180)\n",
    "    attack = random.randint(30,50)\n",
    "    return life,attack\n",
    "\n",
    "# 生成和展示角色信息\n",
    "def show_role():\n",
    "    for i in range(3):\n",
    "        player_info[players[i]] = born_role()\n",
    "        enemy_info[enemies[i]] = born_role()\n",
    "    \n",
    "    # 展示我方的3个角色\n",
    "    print('----------------- 角色信息 -----------------')\n",
    "    print('你的人物：')\n",
    "    for i in range(3):\n",
    "        print('%s  血量：%d  攻击：%d' \n",
    "        %(players[i],player_info[players[i]][0],player_info[players[i]][1]))\n",
    "    print('--------------------------------------------')\n",
    "    print('电脑敌人：')\n",
    "    \n",
    "    # 展示敌方的3个角色\n",
    "    for i in range(3):\n",
    "        print('%s  血量：%d  攻击：%d' \n",
    "        %(enemies[i],enemy_info[enemies[i]][0],enemy_info[enemies[i]][1]))\n",
    "    print('--------------------------------------------')\n",
    "    input('请按回车键继续。\\n')  # 为了让玩家更有控制感，可以插入类似的代码来切分游戏进程。\n",
    "\n",
    "# 角色排序，选择出场顺序。\n",
    "def order_role(): \n",
    "    global players\n",
    "    order_dict = {}\n",
    "    for i in range(3):\n",
    "        order = int(input('你想将 %s 放在第几个上场？(输入数字1~3)'% players[i]))\n",
    "        order_dict[order] = players[i]  \n",
    "\n",
    "    players = []\n",
    "    for i in range(1,4):\n",
    "        players.append(order_dict[i]) \n",
    "    \n",
    "    print('\\n我方角色的出场顺序是：%s、%s、%s' %(players[0],players[1],players[2]))\n",
    "    print('敌方角色的出场顺序是：%s、%s、%s' %(enemies[0],enemies[1],enemies[2]))\n",
    "\n",
    "# 角色PK\n",
    "def pk_role(): \n",
    "    round = 1  \n",
    "    score = 0\n",
    "    for i in range(3):  # 一共要打三局\n",
    "        player_name = players[i]  \n",
    "        enemy_name = enemies[i] \n",
    "        player_life = player_info[players[i]][0]\n",
    "        player_attack = player_info[players[i]][1]\n",
    "        enemy_life = enemy_info[enemies[i]][0]\n",
    "        enemy_attack = enemy_info[enemies[i]][1]\n",
    "\n",
    "        # 每一局开战前展示战斗信息\n",
    "        print('\\n----------------- 【第%d局】 -----------------' % round)\n",
    "        print('玩家角色：%s vs 敌方角色：%s ' %(player_name,enemy_name))\n",
    "        print('%s 血量：%d  攻击：%d' %(player_name,player_life,player_attack))\n",
    "        print('%s 血量：%d  攻击：%d' %(enemy_name,enemy_life,enemy_attack))\n",
    "        print('--------------------------------------------')\n",
    "        input('请按回车键继续。\\n')\n",
    "\n",
    "        # 开始判断血量是否都大于零，然后互扣血量。\n",
    "        while player_life > 0 and enemy_life > 0:\n",
    "            enemy_life = enemy_life - player_attack\n",
    "            player_life = player_life - enemy_attack\n",
    "            print('%s发起了攻击，%s剩余血量%d' % (player_name,enemy_name,enemy_life))\n",
    "            print('%s发起了攻击，%s剩余血量%d' % (enemy_name,player_name,player_life))\n",
    "            print('--------------------------------------------')\n",
    "            time.sleep(1)\n",
    "        else:  # 每局的战果展示，以及分数score和局数的变化。\n",
    "            # 调用show_result()函数，打印返回元组中的result。\n",
    "            print(show_result(player_life,enemy_life)[1])\n",
    "            # 调用show_result()函数，完成计分变动。\n",
    "            score += int(show_result(player_life,enemy_life)[0])\n",
    "            round += 1\n",
    "    input('\\n点击回车，查看比赛的最终结果\\n')\n",
    "\n",
    "    if score > 0:\n",
    "        print('【最终结果：你赢了！】\\n')\n",
    "    elif score < 0:\n",
    "        print('【最终结果：你输了！】\\n')\n",
    "    else:\n",
    "        print('【最终结果：平局！】\\n')\n",
    "\n",
    "# 返回单局战果和计分法所加分数。\n",
    "def show_result(player_life,enemy_life):  # 注意：该函数要设定参数，才能判断单局战果。\n",
    "    if player_life > 0 and enemy_life <= 0:\n",
    "        result = '\\n敌人死翘翘了，你赢了！'\n",
    "        return 1,result  # 返回元组(1,'\\n敌人死翘翘了，你赢了！')，类似角色属性的传递。\n",
    "    elif player_life <= 0 and enemy_life > 0:        \n",
    "        result = '\\n悲催，敌人把你干掉了！'\n",
    "        return -1,result\n",
    "    else :\n",
    "        result = '\\n哎呀，你和敌人同归于尽了！'\n",
    "        return 0,result\n",
    "\n",
    "# （主函数）展开战斗流程\n",
    "def main():\n",
    "    show_role()\n",
    "    order_role()\n",
    "    pk_role()\n",
    "\n",
    "# 启动程序（即调用主函数）\n",
    "main()"
   ]
  },
  {
   "cell_type": "code",
   "execution_count": 56,
   "metadata": {},
   "outputs": [
    {
     "name": "stdout",
     "output_type": "stream",
     "text": [
      "----------------- 角色信息 -----------------\n",
      "你的人物：\n",
      "【格斗大师】  血量: 124 攻击: 39\n",
      "【森林箭手】  血量: 162 攻击: 40\n",
      "【枪弹专家】  血量: 152 攻击: 38\n",
      "-------------------------------------------\n",
      "电脑敌人：\n",
      "【嗜血刀客】  血量: 171 攻击: 45\n",
      "【首席刺客】  血量: 180 攻击: 43\n",
      "【陷阱之王】  血量: 132 攻击: 39\n"
     ]
    },
    {
     "name": "stdin",
     "output_type": "stream",
     "text": [
      "请按回车键继续。\n",
      " \n",
      "你想将【格斗大师】放在第几个上场？(输入数字1~3)  2\n",
      "你想将【森林箭手】放在第几个上场？(输入数字1~3)  1\n",
      "你想将【枪弹专家】放在第几个上场？(输入数字1~3)  3\n",
      "请按回车键继续。\n",
      " \n"
     ]
    },
    {
     "name": "stdout",
     "output_type": "stream",
     "text": [
      "----------------- 【第1局】 -----------------\n",
      "玩家角色：【森林箭手】 vs 敌方角色：【嗜血刀客】 \n",
      "【森林箭手】 血量:162  攻击:40 \n",
      "【嗜血刀客】 血量:171  攻击:45 \n"
     ]
    },
    {
     "name": "stdin",
     "output_type": "stream",
     "text": [
      "请按回车键开始战斗。\n",
      " \n"
     ]
    },
    {
     "name": "stdout",
     "output_type": "stream",
     "text": [
      "【森林箭手】发起了攻击，【嗜血刀客】剩余血量131\n",
      "【嗜血刀客】发起了攻击，【森林箭手】剩余血量117\n",
      "-------------------------------------------\n",
      "【森林箭手】发起了攻击，【嗜血刀客】剩余血量91\n",
      "【嗜血刀客】发起了攻击，【森林箭手】剩余血量72\n",
      "-------------------------------------------\n",
      "【森林箭手】发起了攻击，【嗜血刀客】剩余血量51\n",
      "【嗜血刀客】发起了攻击，【森林箭手】剩余血量27\n",
      "-------------------------------------------\n",
      "【森林箭手】发起了攻击，【嗜血刀客】剩余血量11\n",
      "【嗜血刀客】发起了攻击，【森林箭手】剩余血量-18\n",
      "-------------------------------------------\n",
      "悲催，敌人把你干掉了！\n",
      "----------------- 【第2局】 -----------------\n",
      "玩家角色：【格斗大师】 vs 敌方角色：【陷阱之王】 \n",
      "【格斗大师】 血量:124  攻击:39 \n",
      "【陷阱之王】 血量:132  攻击:39 \n"
     ]
    },
    {
     "name": "stdin",
     "output_type": "stream",
     "text": [
      "请按回车键开始战斗。\n",
      " \n"
     ]
    },
    {
     "name": "stdout",
     "output_type": "stream",
     "text": [
      "【格斗大师】发起了攻击，【陷阱之王】剩余血量93\n",
      "【陷阱之王】发起了攻击，【格斗大师】剩余血量85\n",
      "-------------------------------------------\n",
      "【格斗大师】发起了攻击，【陷阱之王】剩余血量54\n",
      "【陷阱之王】发起了攻击，【格斗大师】剩余血量46\n",
      "-------------------------------------------\n",
      "【格斗大师】发起了攻击，【陷阱之王】剩余血量15\n",
      "【陷阱之王】发起了攻击，【格斗大师】剩余血量7\n",
      "-------------------------------------------\n",
      "【格斗大师】发起了攻击，【陷阱之王】剩余血量-24\n",
      "【陷阱之王】发起了攻击，【格斗大师】剩余血量-32\n",
      "-------------------------------------------\n",
      "哎呀，你和敌人同归于尽了！\n",
      "----------------- 【第3局】 -----------------\n",
      "玩家角色：【枪弹专家】 vs 敌方角色：【首席刺客】 \n",
      "【枪弹专家】 血量:152  攻击:38 \n",
      "【首席刺客】 血量:180  攻击:43 \n"
     ]
    },
    {
     "name": "stdin",
     "output_type": "stream",
     "text": [
      "请按回车键开始战斗。\n",
      " \n"
     ]
    },
    {
     "name": "stdout",
     "output_type": "stream",
     "text": [
      "【枪弹专家】发起了攻击，【首席刺客】剩余血量142\n",
      "【首席刺客】发起了攻击，【枪弹专家】剩余血量109\n",
      "-------------------------------------------\n",
      "【枪弹专家】发起了攻击，【首席刺客】剩余血量104\n",
      "【首席刺客】发起了攻击，【枪弹专家】剩余血量66\n",
      "-------------------------------------------\n",
      "【枪弹专家】发起了攻击，【首席刺客】剩余血量66\n",
      "【首席刺客】发起了攻击，【枪弹专家】剩余血量23\n",
      "-------------------------------------------\n",
      "【枪弹专家】发起了攻击，【首席刺客】剩余血量28\n",
      "【首席刺客】发起了攻击，【枪弹专家】剩余血量-20\n",
      "-------------------------------------------\n",
      "悲催，敌人把你干掉了！\n",
      "-----------------最终结果-----------------\n",
      "你的得分: 0 敌人得分: 2\n",
      "你输了\n",
      "Game Over\n"
     ]
    },
    {
     "name": "stdin",
     "output_type": "stream",
     "text": [
      "是否要再玩儿一次？是请输入y，输入其他按键退出游戏 y\n"
     ]
    },
    {
     "name": "stdout",
     "output_type": "stream",
     "text": [
      "----------------- 角色信息 -----------------\n",
      "你的人物：\n",
      "【森林箭手】  血量: 137 攻击: 43\n",
      "【格斗大师】  血量: 136 攻击: 34\n",
      "【枪弹专家】  血量: 149 攻击: 39\n",
      "-------------------------------------------\n",
      "电脑敌人：\n",
      "【嗜血刀客】  血量: 127 攻击: 41\n",
      "【陷阱之王】  血量: 109 攻击: 38\n",
      "【首席刺客】  血量: 146 攻击: 36\n"
     ]
    },
    {
     "name": "stdin",
     "output_type": "stream",
     "text": [
      "请按回车键继续。\n",
      " \n",
      "你想将【森林箭手】放在第几个上场？(输入数字1~3)  1\n",
      "你想将【格斗大师】放在第几个上场？(输入数字1~3)  3\n",
      "你想将【枪弹专家】放在第几个上场？(输入数字1~3)  2\n",
      "请按回车键继续。\n",
      " \n"
     ]
    },
    {
     "name": "stdout",
     "output_type": "stream",
     "text": [
      "----------------- 【第1局】 -----------------\n",
      "玩家角色：【森林箭手】 vs 敌方角色：【首席刺客】 \n",
      "【森林箭手】 血量:137  攻击:43 \n",
      "【首席刺客】 血量:146  攻击:36 \n"
     ]
    },
    {
     "name": "stdin",
     "output_type": "stream",
     "text": [
      "请按回车键开始战斗。\n",
      " \n"
     ]
    },
    {
     "name": "stdout",
     "output_type": "stream",
     "text": [
      "【森林箭手】发起了攻击，【首席刺客】剩余血量103\n",
      "【首席刺客】发起了攻击，【森林箭手】剩余血量101\n",
      "-------------------------------------------\n",
      "【森林箭手】发起了攻击，【首席刺客】剩余血量60\n",
      "【首席刺客】发起了攻击，【森林箭手】剩余血量65\n",
      "-------------------------------------------\n",
      "【森林箭手】发起了攻击，【首席刺客】剩余血量17\n",
      "【首席刺客】发起了攻击，【森林箭手】剩余血量29\n",
      "-------------------------------------------\n",
      "【森林箭手】发起了攻击，【首席刺客】剩余血量-26\n",
      "【首席刺客】发起了攻击，【森林箭手】剩余血量-7\n",
      "-------------------------------------------\n",
      "哎呀，你和敌人同归于尽了！\n",
      "----------------- 【第2局】 -----------------\n",
      "玩家角色：【枪弹专家】 vs 敌方角色：【嗜血刀客】 \n",
      "【枪弹专家】 血量:149  攻击:39 \n",
      "【嗜血刀客】 血量:127  攻击:41 \n"
     ]
    },
    {
     "name": "stdin",
     "output_type": "stream",
     "text": [
      "请按回车键开始战斗。\n",
      " \n"
     ]
    },
    {
     "name": "stdout",
     "output_type": "stream",
     "text": [
      "【枪弹专家】发起了攻击，【嗜血刀客】剩余血量88\n",
      "【嗜血刀客】发起了攻击，【枪弹专家】剩余血量108\n",
      "-------------------------------------------\n",
      "【枪弹专家】发起了攻击，【嗜血刀客】剩余血量49\n",
      "【嗜血刀客】发起了攻击，【枪弹专家】剩余血量67\n",
      "-------------------------------------------\n",
      "【枪弹专家】发起了攻击，【嗜血刀客】剩余血量10\n",
      "【嗜血刀客】发起了攻击，【枪弹专家】剩余血量26\n",
      "-------------------------------------------\n",
      "【枪弹专家】发起了攻击，【嗜血刀客】剩余血量-29\n",
      "【嗜血刀客】发起了攻击，【枪弹专家】剩余血量-15\n",
      "-------------------------------------------\n",
      "哎呀，你和敌人同归于尽了！\n",
      "----------------- 【第3局】 -----------------\n",
      "玩家角色：【格斗大师】 vs 敌方角色：【陷阱之王】 \n",
      "【格斗大师】 血量:136  攻击:34 \n",
      "【陷阱之王】 血量:109  攻击:38 \n"
     ]
    },
    {
     "name": "stdin",
     "output_type": "stream",
     "text": [
      "请按回车键开始战斗。\n",
      " \n"
     ]
    },
    {
     "name": "stdout",
     "output_type": "stream",
     "text": [
      "【格斗大师】发起了攻击，【陷阱之王】剩余血量75\n",
      "【陷阱之王】发起了攻击，【格斗大师】剩余血量98\n",
      "-------------------------------------------\n",
      "【格斗大师】发起了攻击，【陷阱之王】剩余血量41\n",
      "【陷阱之王】发起了攻击，【格斗大师】剩余血量60\n",
      "-------------------------------------------\n",
      "【格斗大师】发起了攻击，【陷阱之王】剩余血量7\n",
      "【陷阱之王】发起了攻击，【格斗大师】剩余血量22\n",
      "-------------------------------------------\n",
      "【格斗大师】发起了攻击，【陷阱之王】剩余血量-27\n",
      "【陷阱之王】发起了攻击，【格斗大师】剩余血量-16\n",
      "-------------------------------------------\n",
      "哎呀，你和敌人同归于尽了！\n",
      "-----------------最终结果-----------------\n",
      "你的得分: 0 敌人得分: 0\n",
      "打成平局\n",
      "Game Over\n"
     ]
    },
    {
     "name": "stdin",
     "output_type": "stream",
     "text": [
      "是否要再玩儿一次？是请输入y，输入其他按键退出游戏 0\n"
     ]
    },
    {
     "name": "stdout",
     "output_type": "stream",
     "text": [
      "Exit\n"
     ]
    }
   ],
   "source": [
    "#mycode\n",
    "#函数过程\n",
    "import random,time\n",
    "player_list=['【狂血战士】','【森林箭手】','【光明骑士】','【独行剑客】','【格斗大师】','【枪弹专家】']\n",
    "enemy_list=['【暗黑战士】','【黑暗弩手】','【暗夜骑士】','【嗜血刀客】','【首席刺客】','【陷阱之王】']\n",
    "yourplayer=random.sample(player_list,3)#list,\n",
    "enemyplayer=random.sample(enemy_list,3)#list,\n",
    "key=1\n",
    "def lifeattack():\n",
    "    life = random.randint(100,180)\n",
    "    attack = random.randint(30,50)\n",
    "    return life,attack\n",
    "def playerinfor():\n",
    "    global yourplayer_info,enemyplayer_info\n",
    "    yourplayer_info={}\n",
    "    enemyplayer_info={}\n",
    "    for i in range(3):\n",
    "        yourplayer_info[yourplayer[i]]=lifeattack()\n",
    "        enemyplayer_info[enemyplayer[i]]=lifeattack()\n",
    "    #print(yourplayer_info)\n",
    "    #print(enemyplayer_info)\n",
    "def showrole():\n",
    "    print('----------------- 角色信息 -----------------')\n",
    "    time.sleep(1)\n",
    "    print('你的人物：')\n",
    "    for i in range(3):\n",
    "        print('%s  血量: %s 攻击: %s'\n",
    "              %(yourplayer[i],yourplayer_info[yourplayer[i]][0],yourplayer_info[yourplayer[i]][1]))\n",
    "        time.sleep(1)\n",
    "    print('-------------------------------------------')\n",
    "    time.sleep(1)\n",
    "    print('电脑敌人：')\n",
    "    for i in range(3):\n",
    "        print('%s  血量: %s 攻击: %s'\n",
    "              %(enemyplayer[i],enemyplayer_info[enemyplayer[i]][0],enemyplayer_info[enemyplayer[i]][1]))\n",
    "        time.sleep(1)\n",
    "    input('请按回车键继续。\\n') \n",
    "\n",
    "def playerorder():\n",
    "    global yourplayer\n",
    "    yourorder={}\n",
    "    for i in range(3):\n",
    "        askorder=int(input('你想将%s放在第几个上场？(输入数字1~3) '%yourplayer[i]))\n",
    "        yourorder[askorder]=yourplayer[i]\n",
    "    input('请按回车键继续。\\n') \n",
    "    #print(yourorder)\n",
    "    yourplayer=[]\n",
    "    for i in range(1,4):\n",
    "        yourplayer.append(yourorder[i])#按照用户要求重新安排玩儿家角色顺序\n",
    "    random.shuffle(enemyplayer)#打乱敌人出场顺序 \n",
    "\n",
    "def battle():\n",
    "    playerscore=0\n",
    "    enemyscore=0\n",
    "    for i in range(3):\n",
    "        print('----------------- 【第%s局】 -----------------'%(i+1))\n",
    "        time.sleep(1)\n",
    "        playername=yourplayer[i]\n",
    "        playerlife=yourplayer_info[playername][0]\n",
    "        playerattack=yourplayer_info[playername][1]\n",
    "        enemyname=enemyplayer[i]\n",
    "        enemylife=enemyplayer_info[enemyname][0]\n",
    "        enemyattack=enemyplayer_info[enemyname][1]\n",
    "        print('玩家角色：%s vs 敌方角色：%s '%(playername,enemyname))\n",
    "        time.sleep(1)\n",
    "        print('%s 血量:%s  攻击:%s '%(playername,playerlife,playerattack))\n",
    "        time.sleep(1)\n",
    "        print('%s 血量:%s  攻击:%s '%(enemyname,enemylife,enemyattack))\n",
    "        input('请按回车键开始战斗。\\n') \n",
    "        while enemylife>0 and playerlife >0:\n",
    "            playerlife=playerlife-enemyattack\n",
    "            enemylife=enemylife-playerattack\n",
    "            print('%s发起了攻击，%s剩余血量%s'%(playername,enemyname,enemylife))\n",
    "            time.sleep(1.5)\n",
    "            print('%s发起了攻击，%s剩余血量%s'%(enemyname,playername,playerlife))\n",
    "            print('-------------------------------------------')\n",
    "            time.sleep(1.5) \n",
    "        else:\n",
    "            if playerlife<0 and enemylife<0:\n",
    "                print('哎呀，你和敌人同归于尽了！')\n",
    "            elif playerlife>0 and enemylife<0:\n",
    "                print('敌人死翘翘了，你赢了！')\n",
    "                playerscore+=1\n",
    "            else:\n",
    "                enemyscore+=1\n",
    "                print('悲催，敌人把你干掉了！')\n",
    "            time.sleep(1)\n",
    "    print('-----------------最终结果-----------------')\n",
    "    time.sleep(1)\n",
    "    print('你的得分: %s 敌人得分: %s'%(playerscore,enemyscore))\n",
    "    time.sleep(1)\n",
    "    if playerscore > enemyscore:\n",
    "        print('你赢了')\n",
    "    elif playerscore < enemyscore:\n",
    "        print('你输了')\n",
    "    else:\n",
    "        print('打成平局')\n",
    "    time.sleep(1)\n",
    "    print('Game Over')\n",
    "\n",
    "def again():\n",
    "    global key\n",
    "    askagain=input('是否要再玩儿一次？是请输入y，输入其他按键退出游戏')\n",
    "    if askagain=='y':\n",
    "        key=1\n",
    "    else:\n",
    "        key=0\n",
    "    \n",
    "\n",
    "def main():\n",
    "    while key==1:\n",
    "        lifeattack()\n",
    "        playerinfor()\n",
    "        showrole()\n",
    "        playerorder()\n",
    "        battle()\n",
    "        again()\n",
    "    else:\n",
    "        print('Exit')\n",
    "\n",
    "# lifeattack()\n",
    "# playerinfor()\n",
    "# showrole()\n",
    "# playerorder()\n",
    "# battle()\n",
    "\n",
    "main()\n",
    "\n"
   ]
  },
  {
   "cell_type": "code",
   "execution_count": 10,
   "metadata": {},
   "outputs": [
    {
     "name": "stdout",
     "output_type": "stream",
     "text": [
      "----------------- 角色信息 -----------------\n",
      "你的人物：\n",
      "【独行剑客】  血量：151  攻击：42\n",
      "--------------------------------------------\n",
      "【枪弹专家】  血量：170  攻击：35\n",
      "--------------------------------------------\n",
      "【森林箭手】  血量：120  攻击：49\n",
      "--------------------------------------------\n"
     ]
    }
   ],
   "source": [
    "#格斗游戏，角色随机生成\n",
    "#sample\n",
    "import random\n",
    "\n",
    "player_list =  ['【狂血战士】','【森林箭手】','【光明骑士】','【独行剑客】','【格斗大师】','【枪弹专家】']\n",
    "players = random.sample(player_list,3)  # 从列表里随机选取三个元素\n",
    "player_life = {}  # 建立空字典，存放我方角色的血量。\n",
    "player_attack = {}  # 建立空字典，存放我方角色的攻击。\n",
    "\n",
    "#循环三次\n",
    "for i in range(3):\n",
    "    # 生成角色的属性\n",
    "    life = random.randint(100,180) \n",
    "    attack = random.randint(30,50) \n",
    "    player_life[players[i]] = life # 给空字典添加键值对，角色列表players的第0个元素为键，变量life为值\n",
    "    player_attack[players[i]] = attack # 给空字典添加键值对，角色列表players的第0个元素为键，变量attack为值\n",
    "\n",
    "    # 展示我方的角色信息\n",
    "print('----------------- 角色信息 -----------------')\n",
    "print('你的人物：')\n",
    "\n",
    "for i in range(3):\n",
    "    print('%s  血量：%d  攻击：%d' \n",
    "    %(players[i],player_life[players[i]],player_attack[players[i]]))\n",
    "    print('--------------------------------------------')"
   ]
  },
  {
   "cell_type": "code",
   "execution_count": 114,
   "metadata": {},
   "outputs": [
    {
     "name": "stdout",
     "output_type": "stream",
     "text": [
      "----------------- 角色信息 -----------------\n",
      "你的人物：\n",
      "【森林箭手】  血量：155  攻击：38\n",
      "【枪弹专家】  血量：136  攻击：39\n",
      "【光明骑士】  血量：146  攻击：46\n",
      "--------------------------------------------\n"
     ]
    }
   ],
   "source": [
    "#sample 用元组和函数来整合玩儿家信息\n",
    "import random\n",
    "\n",
    "player_list =  ['【狂血战士】','【森林箭手】','【光明骑士】','【独行剑客】','【格斗大师】','【枪弹专家】']\n",
    "players = random.sample(player_list,3)  \n",
    "player_info = {}\n",
    "\n",
    "# 随机生成属性，并用return语句保存属性信息\n",
    "def born_role():\n",
    "    life = random.randint(100,180)\n",
    "    attack = random.randint(30,50)\n",
    "    return life,attack \n",
    "    \n",
    "# 给角色生成随机属性，并展示角色信息。\n",
    "def show_role():\n",
    "    for i in range(3):\n",
    "        player_info[players[i]] = born_role()\n",
    "\n",
    "    # 展示我方的3个角色\n",
    "    print('----------------- 角色信息 -----------------')\n",
    "    print('你的人物：')\n",
    "    for i in range(3):\n",
    "        print('%s  血量：%d  攻击：%d' \n",
    "        %(players[i],player_info[players[i]][0],player_info[players[i]][1]))\n",
    "    print('--------------------------------------------')\n",
    "\n",
    "show_role()"
   ]
  },
  {
   "cell_type": "code",
   "execution_count": 136,
   "metadata": {},
   "outputs": [
    {
     "name": "stdout",
     "output_type": "stream",
     "text": [
      "----------------- 角色信息 -----------------\n",
      "你的人物：\n",
      "{'【森林箭手】': (146, 50), '【格斗大师】': (105, 34), '【枪弹专家】': (111, 38)}\n",
      "【森林箭手】 血量：146 攻击：50\n",
      "【格斗大师】 血量：105 攻击：34\n",
      "【枪弹专家】 血量：111 攻击：38\n"
     ]
    }
   ],
   "source": [
    "#mycode\n",
    "import random\n",
    "\n",
    "player_list =  ['【狂血战士】','【森林箭手】','【光明骑士】','【独行剑客】','【格斗大师】','【枪弹专家】']\n",
    "players = random.sample(player_list,3)  \n",
    "player_info = {}\n",
    "\n",
    "def playerattri():\n",
    "    life=random.randint(100,180)\n",
    "    attack=random.randint(30,50)\n",
    "    return life,attack\n",
    "def showrole():\n",
    "    for i in range(3):\n",
    "        player_info[players[i]]=playerattri()\n",
    "    print('----------------- 角色信息 -----------------')\n",
    "    print('你的人物：')\n",
    "    #print(player_info)\n",
    "    for i in range(3):\n",
    "        print('%s 血量：%s 攻击：%s'\n",
    "              %(players[i],player_info[players[i]][0],player_info[players[i]][1]))\n",
    "showrole()\n",
    "#print多层嵌套，括号问题\n",
    "#字典套元组的索引问题，中括号位置"
   ]
  },
  {
   "cell_type": "code",
   "execution_count": 113,
   "metadata": {},
   "outputs": [
    {
     "name": "stdout",
     "output_type": "stream",
     "text": [
      "[[135, 50], [180, 44], [162, 32]]\n",
      "{'【独行剑客】': [135, 50], '【狂血战士】': [180, 44], '【枪弹专家】': [162, 32]}\n"
     ]
    }
   ],
   "source": [
    "#my code\n",
    "#把玩儿家信息整合到一个大的字典里\n",
    "import random\n",
    "playerlist=['【狂血战士】','【森林箭手】','【光明骑士】','【独行剑客】','【格斗大师】','【枪弹专家】']\n",
    "players=random.sample(playerlist,3)\n",
    "#print(type(players))\n",
    "\n",
    "\n",
    "players_attri=[]\n",
    "for i in range(3):\n",
    "    life=random.randint(100,180)\n",
    "    attack=random.randint(30,50)\n",
    "    players_power=[life,attack]\n",
    "    players_attri.append(players_power)\n",
    "print(players_attri)\n",
    "players_infor={}\n",
    "for i in range(3):\n",
    "    players_infor[players[i]]=players_attri[i]\n",
    "\n",
    "print(players_infor)\n",
    "    "
   ]
  },
  {
   "cell_type": "code",
   "execution_count": 107,
   "metadata": {},
   "outputs": [
    {
     "name": "stdout",
     "output_type": "stream",
     "text": [
      "----------------- 角色信息 -----------------\n",
      "你的人物：\n",
      "【狂血战士】 血量：166  攻击：48 \n",
      "【格斗大师】 血量：160  攻击：31 \n",
      "【光明骑士】 血量：106  攻击：39 \n"
     ]
    }
   ],
   "source": [
    "#mycode\n",
    "#玩儿家信息整合到两个字典里\n",
    "import random\n",
    "playerlist=['【狂血战士】','【森林箭手】','【光明骑士】','【独行剑客】','【格斗大师】','【枪弹专家】']\n",
    "players=random.sample(playerlist,3)\n",
    "#print(type(players))\n",
    "\n",
    "playerslife={}\n",
    "playersattack={}\n",
    "for i in range(3):\n",
    "    player_life[players[i]]=random.randint(100,180)\n",
    "    player_attack[players[i]]=random.randint(30,50)\n",
    "print('----------------- 角色信息 -----------------')\n",
    "print('你的人物：')\n",
    "for i in range(3):\n",
    "    print('%s 血量：%s  攻击：%s '%(players[i],player_life[players[i]],player_attack[players[i]]))\n",
    "    "
   ]
  },
  {
   "cell_type": "code",
   "execution_count": 143,
   "metadata": {},
   "outputs": [
    {
     "name": "stdout",
     "output_type": "stream",
     "text": [
      "(146, 50)\n",
      "34\n"
     ]
    }
   ],
   "source": [
    "#列表套元组\n",
    "list1=['【森林箭手】','【格斗大师】','【枪弹专家】']\n",
    "dict1={'【森林箭手】': (146, 50), '【格斗大师】': (105, 34), '【枪弹专家】': (111, 38)}\n",
    "\n",
    "print(dict1[list1[0]])\n",
    "print(dict1[list1[1]][1])\n"
   ]
  }
 ],
 "metadata": {
  "kernelspec": {
   "display_name": "Python 3",
   "language": "python",
   "name": "python3"
  },
  "language_info": {
   "codemirror_mode": {
    "name": "ipython",
    "version": 3
   },
   "file_extension": ".py",
   "mimetype": "text/x-python",
   "name": "python",
   "nbconvert_exporter": "python",
   "pygments_lexer": "ipython3",
   "version": "3.7.3"
  }
 },
 "nbformat": 4,
 "nbformat_minor": 2
}
