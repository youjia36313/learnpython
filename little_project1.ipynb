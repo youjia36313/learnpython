{
 "cells": [
  {
   "cell_type": "code",
   "execution_count": null,
   "metadata": {},
   "outputs": [],
   "source": [
    "#index\n",
    "#create little games by using loop(while and if),print"
   ]
  },
  {
   "cell_type": "code",
   "execution_count": 2,
   "metadata": {},
   "outputs": [
    {
     "name": "stdout",
     "output_type": "stream",
     "text": [
      "千寻你好，人们叫我'无脸男'\n",
      "这个世界的人都选择无视我\n",
      "只有你看到了我并和我打招呼\n",
      "我感到很孤单，很孤单\n",
      "你愿意和我成为朋友吗？\n"
     ]
    }
   ],
   "source": [
    "print(\"千寻你好，人们叫我'无脸男'\\n这个世界的人都选择无视我\\n只有你看到了我并和我打招呼\\n我感到很孤单，很孤单\\n你愿意和我成为朋友吗？\")"
   ]
  },
  {
   "cell_type": "code",
   "execution_count": 9,
   "metadata": {},
   "outputs": [
    {
     "name": "stdout",
     "output_type": "stream",
     "text": [
      "100\n"
     ]
    }
   ],
   "source": [
    "scores={\n",
    "    '第一组':{'小明':95,'小红':90,'小刚':100,'小美':85},\n",
    "    '第二组':{'小强':99,'小兰':89,'小伟':93,'小芳':88}}\n",
    "print(scores['第一组']['小刚'])"
   ]
  },
  {
   "cell_type": "code",
   "execution_count": 16,
   "metadata": {},
   "outputs": [
    {
     "name": "stdout",
     "output_type": "stream",
     "text": [
      "小刚\n",
      "100\n"
     ]
    }
   ],
   "source": [
    "students={\n",
    "    '第一组':['小明','小红','小刚','小美'],\n",
    "    '第二组':['小强','小兰','小伟','小芳']}\n",
    "\n",
    "scores=[{'小明':95,'小红':90,'小刚':100,'小美':85},\n",
    "    {'小强':99,'小兰':89,'小伟':93,'小芳':88}]\n",
    "    \n",
    "print(students['第一组'][2])\n",
    "print(scores[0]['小刚'])"
   ]
  },
  {
   "cell_type": "code",
   "execution_count": 17,
   "metadata": {},
   "outputs": [
    {
     "name": "stdout",
     "output_type": "stream",
     "text": [
      "love\n"
     ]
    }
   ],
   "source": [
    "list1 = [{'嫉妒':'envy'},{'恨':'hatred'},{'爱':'love'}]\n",
    "print(list1[2]['爱'])"
   ]
  },
  {
   "cell_type": "code",
   "execution_count": 18,
   "metadata": {},
   "outputs": [
    {
     "name": "stdout",
     "output_type": "stream",
     "text": [
      "love\n"
     ]
    }
   ],
   "source": [
    "dict1 = {1:['cake','scone','puff'],2:['London','Bristol','Bath'],3:['love','hatred','envy']}\n",
    "print(dict1[3][0])"
   ]
  },
  {
   "cell_type": "code",
   "execution_count": 21,
   "metadata": {},
   "outputs": [
    {
     "name": "stdout",
     "output_type": "stream",
     "text": [
      "A\n",
      "D\n"
     ]
    }
   ],
   "source": [
    "tuple1 = ('A','B')\n",
    "list2 = [('A','B'),('C','D'),('E','F')]\n",
    "print(tuple1[0])\n",
    "\n",
    "print(list2[1][1])"
   ]
  },
  {
   "cell_type": "code",
   "execution_count": 22,
   "metadata": {},
   "outputs": [
    {
     "name": "stdout",
     "output_type": "stream",
     "text": [
      "狼\n"
     ]
    }
   ],
   "source": [
    "townee = [\n",
    "    {'海底王国':['小美人鱼''海之王''小美人鱼的祖母''五位姐姐'],'上层世界':['王子','邻国公主']},\n",
    "    '丑小鸭','坚定的锡兵','睡美人','青蛙王子',\n",
    "    [{'主角':'小红帽','配角1':'外婆','配角2':'猎人'},{'反面角色':'狼'}]\n",
    "    ]\n",
    "print(townee[5][1]['反面角色'])"
   ]
  },
  {
   "cell_type": "code",
   "execution_count": 23,
   "metadata": {},
   "outputs": [
    {
     "name": "stdout",
     "output_type": "stream",
     "text": [
      "I love you\n",
      "I love you\n",
      "I love you\n",
      "I love you\n"
     ]
    }
   ],
   "source": [
    "for i in range(4):\n",
    "    print('I love you')"
   ]
  },
  {
   "cell_type": "code",
   "execution_count": 27,
   "metadata": {},
   "outputs": [
    {
     "name": "stdout",
     "output_type": "stream",
     "text": [
      "书桓走的第1天，想他\n",
      "书桓走的第2天，想他\n",
      "书桓走的第3天，想他\n",
      "书桓走的第4天，想他\n",
      "书桓走的第5天，想他\n",
      "书桓走的第6天，想他\n",
      "书桓走的第7天，想他\n",
      "书桓走的第8天，想他\n",
      "书桓走的第9天，想他\n",
      "书桓走的第10天，想他\n"
     ]
    }
   ],
   "source": [
    "for i in range(1,11):\n",
    "    print('书桓走的第'+str(i)+'天，想他')"
   ]
  },
  {
   "cell_type": "code",
   "execution_count": 29,
   "metadata": {},
   "outputs": [
    {
     "name": "stdout",
     "output_type": "stream",
     "text": [
      "书桓走的第1天，想他\n",
      "书桓走的第2天，想他\n",
      "书桓走的第3天，想他\n",
      "书桓走的第4天，想他\n",
      "书桓走的第5天，想他\n",
      "书桓走的第6天，想他\n",
      "书桓走的第7天，想他\n",
      "书桓走的第8天，想他\n",
      "书桓走的第9天，想他\n",
      "书桓走的第10天，想他\n"
     ]
    }
   ],
   "source": [
    "for i in range(1,11):\n",
    "    print('书桓走的第%d天，想他'%i)"
   ]
  },
  {
   "cell_type": "code",
   "execution_count": 31,
   "metadata": {},
   "outputs": [
    {
     "name": "stdout",
     "output_type": "stream",
     "text": [
      "5\n",
      "10\n",
      "15\n",
      "20\n",
      "25\n",
      "30\n",
      "35\n",
      "40\n",
      "45\n",
      "50\n",
      "55\n",
      "60\n",
      "65\n",
      "70\n",
      "75\n",
      "80\n",
      "85\n",
      "90\n",
      "95\n",
      "100\n",
      "105\n",
      "110\n",
      "115\n",
      "120\n",
      "125\n",
      "130\n",
      "135\n",
      "140\n",
      "145\n",
      "150\n",
      "155\n",
      "160\n",
      "165\n",
      "170\n",
      "175\n",
      "180\n",
      "185\n",
      "190\n",
      "195\n",
      "200\n",
      "205\n",
      "210\n",
      "215\n",
      "220\n",
      "225\n",
      "230\n",
      "235\n",
      "240\n",
      "245\n",
      "250\n",
      "255\n",
      "260\n",
      "265\n",
      "270\n",
      "275\n",
      "280\n",
      "285\n",
      "290\n",
      "295\n",
      "300\n",
      "305\n",
      "310\n",
      "315\n",
      "320\n",
      "325\n",
      "330\n",
      "335\n",
      "340\n",
      "345\n",
      "350\n",
      "355\n",
      "360\n",
      "365\n",
      "370\n",
      "375\n",
      "380\n",
      "385\n",
      "390\n",
      "395\n",
      "400\n",
      "405\n",
      "410\n",
      "415\n",
      "420\n",
      "425\n",
      "430\n",
      "435\n",
      "440\n",
      "445\n",
      "450\n",
      "455\n",
      "460\n",
      "465\n",
      "470\n",
      "475\n",
      "480\n",
      "485\n",
      "490\n",
      "495\n",
      "500\n"
     ]
    }
   ],
   "source": [
    "for i in range(1,101):\n",
    "    print(i*5)"
   ]
  },
  {
   "cell_type": "code",
   "execution_count": 37,
   "metadata": {},
   "outputs": [
    {
     "name": "stdout",
     "output_type": "stream",
     "text": [
      "醋\n",
      "油\n",
      "盐\n",
      "米\n"
     ]
    }
   ],
   "source": [
    "d={'小明':'醋','小红':'油','小白':'盐','小张':'米'}\n",
    "for m in d:\n",
    "    print(d[m])"
   ]
  },
  {
   "cell_type": "code",
   "execution_count": 34,
   "metadata": {},
   "outputs": [
    {
     "name": "stdout",
     "output_type": "stream",
     "text": [
      "日本\n",
      "英国\n",
      "法国\n"
     ]
    }
   ],
   "source": [
    "dict1 = {'日本':'东京','英国':'伦敦','法国':'巴黎'}\n",
    "\n",
    "for i in dict1:\n",
    "    print(i)"
   ]
  },
  {
   "cell_type": "code",
   "execution_count": 6,
   "metadata": {},
   "outputs": [
    {
     "name": "stdin",
     "output_type": "stream",
     "text": [
      "请输入三位数字密码 234\n",
      "请输入三位数字密码 816\n"
     ]
    },
    {
     "name": "stdout",
     "output_type": "stream",
     "text": [
      "欢迎回家\n"
     ]
    }
   ],
   "source": [
    "password=''\n",
    "while password!=str(816):\n",
    "        password = input('请输入三位数字密码')\n",
    "print('欢迎回家')\n"
   ]
  },
  {
   "cell_type": "code",
   "execution_count": 7,
   "metadata": {},
   "outputs": [
    {
     "name": "stdin",
     "output_type": "stream",
     "text": [
      "请输入三位数字密码 234\n",
      "请输入三位数字密码 816\n"
     ]
    },
    {
     "name": "stdout",
     "output_type": "stream",
     "text": [
      "欢迎回家\n"
     ]
    }
   ],
   "source": [
    "password = 0\n",
    "while password != 816:\n",
    "    password = int(input('请输入三位数字密码'))\n",
    "print('欢迎回家')\n"
   ]
  },
  {
   "cell_type": "code",
   "execution_count": 8,
   "metadata": {},
   "outputs": [
    {
     "name": "stdout",
     "output_type": "stream",
     "text": [
      "1\n",
      "2\n",
      "3\n",
      "4\n",
      "5\n"
     ]
    }
   ],
   "source": [
    "a = 0\n",
    "while a <5:\n",
    "    a+=1\n",
    "    print(a)"
   ]
  },
  {
   "cell_type": "code",
   "execution_count": 9,
   "metadata": {},
   "outputs": [
    {
     "name": "stdout",
     "output_type": "stream",
     "text": [
      "5\n"
     ]
    }
   ],
   "source": [
    "a = 0\n",
    "while a <5:\n",
    "    a+=1\n",
    "print(a)"
   ]
  },
  {
   "cell_type": "code",
   "execution_count": 13,
   "metadata": {},
   "outputs": [
    {
     "name": "stdout",
     "output_type": "stream",
     "text": [
      "5\n",
      "10\n",
      "15\n",
      "20\n",
      "25\n",
      "30\n",
      "35\n",
      "40\n",
      "45\n",
      "50\n",
      "55\n",
      "60\n",
      "65\n",
      "70\n",
      "75\n",
      "80\n",
      "85\n",
      "90\n",
      "95\n",
      "100\n",
      "105\n",
      "110\n",
      "115\n",
      "120\n",
      "125\n",
      "130\n",
      "135\n",
      "140\n",
      "145\n",
      "150\n",
      "155\n",
      "160\n",
      "165\n",
      "170\n",
      "175\n",
      "180\n",
      "185\n",
      "190\n",
      "195\n",
      "200\n",
      "205\n",
      "210\n",
      "215\n",
      "220\n",
      "225\n",
      "230\n",
      "235\n",
      "240\n",
      "245\n",
      "250\n",
      "255\n",
      "260\n",
      "265\n",
      "270\n",
      "275\n",
      "280\n",
      "285\n",
      "290\n",
      "295\n",
      "300\n",
      "305\n",
      "310\n",
      "315\n",
      "320\n",
      "325\n",
      "330\n",
      "335\n",
      "340\n",
      "345\n",
      "350\n",
      "355\n",
      "360\n",
      "365\n",
      "370\n",
      "375\n",
      "380\n",
      "385\n",
      "390\n",
      "395\n",
      "400\n",
      "405\n",
      "410\n",
      "415\n",
      "420\n",
      "425\n",
      "430\n",
      "435\n",
      "440\n",
      "445\n",
      "450\n",
      "455\n",
      "460\n",
      "465\n",
      "470\n",
      "475\n",
      "480\n",
      "485\n",
      "490\n",
      "495\n",
      "500\n",
      "done\n"
     ]
    }
   ],
   "source": [
    "a=1\n",
    "while  a <101:\n",
    "    print(a*5)\n",
    "    a+=1\n",
    "print('done')"
   ]
  },
  {
   "cell_type": "code",
   "execution_count": 19,
   "metadata": {},
   "outputs": [
    {
     "name": "stdout",
     "output_type": "stream",
     "text": [
      "1\n",
      "2\n",
      "3\n",
      "5\n",
      "6\n",
      "7\n"
     ]
    }
   ],
   "source": [
    "list1=range(1,8)\n",
    "for i in list1:\n",
    "    if i!= 4:\n",
    "        print(i)"
   ]
  },
  {
   "cell_type": "code",
   "execution_count": null,
   "metadata": {},
   "outputs": [],
   "source": [
    "i = 1\n",
    "while i <8:\n",
    "    print(i)\n",
    "    i+=1    "
   ]
  },
  {
   "cell_type": "code",
   "execution_count": null,
   "metadata": {},
   "outputs": [],
   "source": [
    "i = 1\n",
    "while i <8:\n",
    "    print(i)\n",
    "    i+=1 "
   ]
  },
  {
   "cell_type": "code",
   "execution_count": 2,
   "metadata": {},
   "outputs": [
    {
     "name": "stdout",
     "output_type": "stream",
     "text": [
      "['小红', '小刚', '小明']\n",
      "['小刚', '小明', '小红']\n",
      "['小明', '小红', '小刚']\n"
     ]
    }
   ],
   "source": [
    "students = ['小明','小红','小刚']\n",
    "for i in range(3):\n",
    "    student1 = students.pop(0)\n",
    "    #print(student1)\n",
    "    students.append(student1)\n",
    "    print(students)"
   ]
  },
  {
   "cell_type": "code",
   "execution_count": 3,
   "metadata": {},
   "outputs": [
    {
     "name": "stdout",
     "output_type": "stream",
     "text": [
      "1\n",
      "2\n",
      "3\n",
      "5\n",
      "6\n",
      "7\n"
     ]
    }
   ],
   "source": [
    "for i in range(1,8):\n",
    "    if i != 4:\n",
    "        print(i)"
   ]
  },
  {
   "cell_type": "code",
   "execution_count": null,
   "metadata": {},
   "outputs": [],
   "source": [
    "i = 1\n",
    "while i < 8:\n",
    "    if i==4:\n",
    "        pass\n",
    "    else:\n",
    "        print(i)\n",
    "    i=i+1"
   ]
  },
  {
   "cell_type": "code",
   "execution_count": null,
   "metadata": {},
   "outputs": [],
   "source": [
    "i = 0\n",
    "while i<5:\n",
    "    print('明日复明日')\n",
    "    i = i+1\n",
    "    if i==3:  # 当i等于3的时候触发\n",
    "        continue # 回到循环开头\n",
    "    print('这句话在i等于3的时候打印不出来')"
   ]
  },
  {
   "cell_type": "code",
   "execution_count": null,
   "metadata": {},
   "outputs": [],
   "source": [
    "while True:\n",
    "    q1 = input('第一问：你一生之中，在什么地方最是快乐逍遥？')\n",
    "    if q1 != '黑暗的冰窖':\n",
    "        continue\n",
    "    print('答对了，下面是第二问：')\n",
    "    q2 = input('你生平最爱之人，叫什么名字？')\n",
    "    if q2 != '梦姑':\n",
    "        continue\n",
    "    print('答对了，下面是第三问：')\n",
    "    q3 = input('你最爱的这个人相貌如何？')\n",
    "    if q3 = '不知道':\n",
    "        break\n",
    "print('都答对了，你是虚竹。')"
   ]
  },
  {
   "cell_type": "code",
   "execution_count": 3,
   "metadata": {},
   "outputs": [
    {
     "name": "stdin",
     "output_type": "stream",
     "text": [
      "第一问：你一生之中，在什么地方最是快乐逍遥？ 黑暗的冰窖\n"
     ]
    },
    {
     "name": "stdout",
     "output_type": "stream",
     "text": [
      "答对了，下面是第二问：\n"
     ]
    },
    {
     "name": "stdin",
     "output_type": "stream",
     "text": [
      "你生平最爱之人，叫什么名字？ 梦姑\n"
     ]
    },
    {
     "name": "stdout",
     "output_type": "stream",
     "text": [
      "答对了，下面是第三问：\n"
     ]
    },
    {
     "name": "stdin",
     "output_type": "stream",
     "text": [
      "你最爱的这个人相貌如何？ 不知道\n"
     ]
    },
    {
     "name": "stdout",
     "output_type": "stream",
     "text": [
      "都答对了，你是虚竹。\n"
     ]
    }
   ],
   "source": [
    "while True:\n",
    "    q1 = input('第一问：你一生之中，在什么地方最是快乐逍遥？')\n",
    "    if q1 != '黑暗的冰窖':\n",
    "        continue\n",
    "    print('答对了，下面是第二问：')\n",
    "    q2 = input('你生平最爱之人，叫什么名字？')\n",
    "    if q2 != '梦姑':\n",
    "        continue\n",
    "    print('答对了，下面是第三问：')\n",
    "    q3 = input('你最爱的这个人相貌如何？')\n",
    "    if q3 == '不知道':\n",
    "        break\n",
    "print('都答对了，你是虚竹。')"
   ]
  },
  {
   "cell_type": "code",
   "execution_count": 2,
   "metadata": {},
   "outputs": [
    {
     "name": "stdin",
     "output_type": "stream",
     "text": [
      "请输入0结束循环，你有5次机会: 1\n",
      "请输入0结束循环，你有5次机会: 3\n",
      "请输入0结束循环，你有5次机会: 4\n",
      "请输入0结束循环，你有5次机会: 7\n",
      "请输入0结束循环，你有5次机会: 6\n"
     ]
    },
    {
     "name": "stdout",
     "output_type": "stream",
     "text": [
      "5次循环你都错过了，else语句生效了。\n"
     ]
    }
   ],
   "source": [
    "i = 0\n",
    "while i <5:\n",
    "    a = int(input('请输入0结束循环，你有5次机会:'))\n",
    "    i +=1\n",
    "    if a == 0:\n",
    "        print('你触发了break语句，导致else语句不会生效。')\n",
    "        break\n",
    "else:\n",
    "    print('5次循环你都错过了，else语句生效了。')"
   ]
  },
  {
   "cell_type": "code",
   "execution_count": 4,
   "metadata": {},
   "outputs": [
    {
     "name": "stdin",
     "output_type": "stream",
     "text": [
      "请输入0结束循环，你有5次机会: 0\n"
     ]
    },
    {
     "name": "stdout",
     "output_type": "stream",
     "text": [
      "你触发了break语句，导致else语句不会生效。\n"
     ]
    }
   ],
   "source": [
    "for i in range(6):\n",
    "    a = int(input('请输入0结束循环，你有5次机会:'))\n",
    "    i+=1\n",
    "    if a == 0:\n",
    "        print('你触发了break语句，导致else语句不会生效。')\n",
    "        break\n",
    "else:\n",
    "    print('5次循环你都错过了，else语句生效了。')\n",
    "    "
   ]
  },
  {
   "cell_type": "code",
   "execution_count": 5,
   "metadata": {},
   "outputs": [
    {
     "name": "stdin",
     "output_type": "stream",
     "text": [
      "请输入一个数字 23\n"
     ]
    },
    {
     "name": "stdout",
     "output_type": "stream",
     "text": [
      "太小了\n"
     ]
    },
    {
     "name": "stdin",
     "output_type": "stream",
     "text": [
      "请输入一个数字 21\n"
     ]
    },
    {
     "name": "stdout",
     "output_type": "stream",
     "text": [
      "太小了\n"
     ]
    },
    {
     "name": "stdin",
     "output_type": "stream",
     "text": [
      "请输入一个数字 89\n"
     ]
    },
    {
     "name": "stdout",
     "output_type": "stream",
     "text": [
      "太大了\n",
      "你用光了三次机会\n"
     ]
    }
   ],
   "source": [
    "i = 1\n",
    "a = 24\n",
    "while i < 4:\n",
    "    b = int(input('请输入一个数字'))\n",
    "    if b == a:\n",
    "        print('答对了')\n",
    "        break\n",
    "    elif b >= a:\n",
    "        print('太大了')\n",
    "    elif b <= a:\n",
    "        print('太小了')\n",
    "    i = i+1\n",
    "else:\n",
    "    print('你用光了三次机会')"
   ]
  },
  {
   "cell_type": "code",
   "execution_count": 9,
   "metadata": {},
   "outputs": [
    {
     "name": "stdin",
     "output_type": "stream",
     "text": [
      "guess which number is my secret? 21\n"
     ]
    },
    {
     "name": "stdout",
     "output_type": "stream",
     "text": [
      "It's too small\n"
     ]
    },
    {
     "name": "stdin",
     "output_type": "stream",
     "text": [
      "guess which number is my secret? 45\n"
     ]
    },
    {
     "name": "stdout",
     "output_type": "stream",
     "text": [
      "It's too big\n"
     ]
    },
    {
     "name": "stdin",
     "output_type": "stream",
     "text": [
      "guess which number is my secret? 56\n"
     ]
    },
    {
     "name": "stdout",
     "output_type": "stream",
     "text": [
      "It's too big\n",
      "you have run out of 3 times\n"
     ]
    }
   ],
   "source": [
    "secret = 24\n",
    "for i in range(3):\n",
    "    guess = input('guess which number is my secret?')\n",
    "    if int(guess) == secret:\n",
    "        print('well done, you are right!')\n",
    "        break\n",
    "    elif int(guess) > secret:\n",
    "        print('It\\'s too big')\n",
    "    elif int(guess) < secret:\n",
    "              print('It\\'s too small')\n",
    "else:\n",
    "              print('you have run out of 3 times')"
   ]
  },
  {
   "cell_type": "code",
   "execution_count": 13,
   "metadata": {},
   "outputs": [
    {
     "name": "stdin",
     "output_type": "stream",
     "text": [
      "A认罪吗 不认罪\n",
      "B认罪吗 不认罪\n"
     ]
    },
    {
     "name": "stdout",
     "output_type": "stream",
     "text": [
      "各判3年\n",
      "审判结束\n"
     ]
    }
   ],
   "source": [
    "while True:\n",
    "    ask1 = input('A认罪吗')\n",
    "    ask2 = input('B认罪吗')\n",
    "    if ask1 == '认罪' and ask2 =='认罪':\n",
    "        print('各判10年')\n",
    "        break\n",
    "    elif ask1 == '不认罪' and ask2 =='认罪':\n",
    "        print('A判1年,B判20年')\n",
    "        break\n",
    "    elif ask1 == '认罪' and ask2 == '不认罪':\n",
    "        print('A判20年,B判1年')\n",
    "        break\n",
    "    elif ask1 =='不认罪' and ask2 == '不认罪':\n",
    "        print('各判3年')\n",
    "        break\n",
    "print('审判结束')"
   ]
  },
  {
   "cell_type": "code",
   "execution_count": 34,
   "metadata": {},
   "outputs": [
    {
     "name": "stdin",
     "output_type": "stream",
     "text": [
      "A认罪吗 认罪\n",
      "B认罪吗 认罪\n"
     ]
    },
    {
     "name": "stdout",
     "output_type": "stream",
     "text": [
      "各判10年\n"
     ]
    },
    {
     "name": "stdin",
     "output_type": "stream",
     "text": [
      "A认罪吗 认罪\n",
      "B认罪吗 认罪\n"
     ]
    },
    {
     "name": "stdout",
     "output_type": "stream",
     "text": [
      "各判10年\n"
     ]
    },
    {
     "name": "stdin",
     "output_type": "stream",
     "text": [
      "A认罪吗 不认罪\n",
      "B认罪吗 认罪\n"
     ]
    },
    {
     "name": "stdout",
     "output_type": "stream",
     "text": [
      "A判1年,B判20年\n"
     ]
    },
    {
     "name": "stdin",
     "output_type": "stream",
     "text": [
      "A认罪吗 认罪\n",
      "B认罪吗 不认罪\n"
     ]
    },
    {
     "name": "stdout",
     "output_type": "stream",
     "text": [
      "A判20年,B判1年\n"
     ]
    },
    {
     "name": "stdin",
     "output_type": "stream",
     "text": [
      "A认罪吗 不认罪\n",
      "B认罪吗 不认罪\n"
     ]
    },
    {
     "name": "stdout",
     "output_type": "stream",
     "text": [
      "都判3年，太棒了\n",
      "第1组是: ['A认罪', 'B认罪']\n",
      "第2组是: ['A认罪', 'B认罪']\n",
      "第3组是: ['A不认罪', 'B认罪']\n",
      "第4组是: ['A认罪', 'B不认罪']\n",
      "第5组是: ['A不认罪', 'B不认罪']\n",
      "第5组是最优解\n"
     ]
    }
   ],
   "source": [
    "i=0\n",
    "dict1={}\n",
    "\n",
    "while True:\n",
    "    ask1 = input('A认罪吗')\n",
    "    ask2 = input('B认罪吗')\n",
    "    dict1['第'+str(i+1)+'组']=['A'+ask1,'B'+ask2]\n",
    "    i = i+1\n",
    "    if ask1 == '认罪' and ask2 =='认罪':\n",
    "        print('各判10年')\n",
    "    elif ask1 == '不认罪' and ask2 =='认罪':\n",
    "        print('A判1年,B判20年')\n",
    "    elif ask1 == '认罪' and ask2 == '不认罪':\n",
    "        print('A判20年,B判1年')\n",
    "    else:\n",
    "        print('都判3年，太棒了')\n",
    "        break\n",
    "for m in range(i):\n",
    "    print('第'+str(m+1)+'组是:',dict1['第'+str(m+1)+'组'])\n",
    "print('第'+str(i)+'组是最优解')"
   ]
  },
  {
   "cell_type": "code",
   "execution_count": 21,
   "metadata": {},
   "outputs": [
    {
     "name": "stdin",
     "output_type": "stream",
     "text": [
      "A认罪吗 认罪\n",
      "B认罪吗 认罪\n"
     ]
    },
    {
     "name": "stdout",
     "output_type": "stream",
     "text": [
      "各判10年\n"
     ]
    },
    {
     "name": "stdin",
     "output_type": "stream",
     "text": [
      "A认罪吗 不认罪\n",
      "B认罪吗 认罪\n"
     ]
    },
    {
     "name": "stdout",
     "output_type": "stream",
     "text": [
      "A判1年,B判20年\n"
     ]
    },
    {
     "name": "stdin",
     "output_type": "stream",
     "text": [
      "A认罪吗 认罪\n",
      "B认罪吗 不认罪\n"
     ]
    },
    {
     "name": "stdout",
     "output_type": "stream",
     "text": [
      "A判20年,B判1年\n"
     ]
    },
    {
     "name": "stdin",
     "output_type": "stream",
     "text": [
      "A认罪吗 不认罪\n",
      "B认罪吗 不认罪\n"
     ]
    },
    {
     "name": "stdout",
     "output_type": "stream",
     "text": [
      "都判3年，太棒了\n",
      "第4对实验者选了最优解。\n",
      "第1对实验者的选择是:['认罪', '认罪']\n",
      "第2对实验者的选择是:['不认罪', '认罪']\n",
      "第3对实验者的选择是:['认罪', '不认罪']\n",
      "第4对实验者的选择是:['不认罪', '不认罪']\n"
     ]
    }
   ],
   "source": [
    "n = 0\n",
    "list_answer =[]\n",
    "\n",
    "while True:\n",
    "    n+=1\n",
    "    ask1 = input('A认罪吗')\n",
    "    ask2 = input('B认罪吗')\n",
    "    list_answer.append([ask1,ask2])\n",
    "    if ask1 == '认罪' and ask2 =='认罪':\n",
    "        print('各判10年')\n",
    "    elif ask1 == '不认罪' and ask2 =='认罪':\n",
    "        print('A判1年,B判20年')\n",
    "    elif ask1 == '认罪' and ask2 == '不认罪':\n",
    "        print('A判20年,B判1年')\n",
    "    else:\n",
    "        print('都判3年，太棒了')\n",
    "        break\n",
    "print('第'+str(n)+'对实验者选了最优解。')\n",
    "for i in range(n):\n",
    "    print('第' + str(i+1) + '对实验者的选择是:' + str(list_answer[i]))"
   ]
  },
  {
   "cell_type": "code",
   "execution_count": 23,
   "metadata": {},
   "outputs": [
    {
     "name": "stdout",
     "output_type": "stream",
     "text": [
      "妖猫传\n",
      "无问西东\n",
      "超时空同居\n",
      "['黄轩', '染谷将太', '章子怡', '王力宏', '祖峰', '雷佳音', '佟丽娅']\n",
      "['妖猫传', '无问西东', '超时空同居']\n"
     ]
    }
   ],
   "source": [
    "#没解出来\n",
    "movies = {\n",
    "'妖猫传':['黄轩','染谷将太'],\n",
    "'无问西东':['章子怡','王力宏','祖峰'],\n",
    "'超时空同居':['雷佳音','佟丽娅'],\n",
    "}\n",
    "list1=[]\n",
    "list2=[]\n",
    "for movie in movies:\n",
    "    actors=movies[movie]\n",
    "    #print(actors)\n",
    "    #print(len(actors))\n",
    "    list1=list1+actors[0:len(actors)]\n",
    "    print(movie)\n",
    "    list2.append(movie)\n",
    "print(list1)\n",
    "print(list2)"
   ]
  },
  {
   "cell_type": "code",
   "execution_count": 28,
   "metadata": {},
   "outputs": [
    {
     "name": "stdin",
     "output_type": "stream",
     "text": [
      "你想查询哪个演员? 章子怡\n"
     ]
    },
    {
     "name": "stdout",
     "output_type": "stream",
     "text": [
      "章子怡出演了电影无问西东\n"
     ]
    }
   ],
   "source": [
    "#sample\n",
    "movies = {\n",
    "'妖猫传':['黄轩','染谷将太'],\n",
    "'无问西东':['章子怡','王力宏','祖峰'],\n",
    "'超时空同居':['雷佳音','佟丽娅'],\n",
    "}\n",
    "\n",
    "actor = input('你想查询哪个演员?')\n",
    "for movie in movies:\n",
    "    actors = movies[movie]\n",
    "    #print(actors)\n",
    "    if actor in actors:\n",
    "        print(actor+'出演了电影'+movie)\n",
    "        "
   ]
  },
  {
   "cell_type": "code",
   "execution_count": 8,
   "metadata": {},
   "outputs": [
    {
     "name": "stdout",
     "output_type": "stream",
     "text": [
      "-------------Round1-------------\n",
      "【玩家】\n",
      "血量：100 \n",
      "攻击：50\n",
      "--------------------------------\n",
      "【敌人】\n",
      "血量：100 \n",
      "攻击：30\n",
      "--------------------------------\n",
      "你发起了攻击，【敌人】剩余血量50\n",
      "敌人向你发起了攻击，【玩家】剩余血量70\n",
      "--------------------------------\n",
      "你发起了攻击，【敌人】剩余血量0\n",
      "敌人向你发起了攻击，【玩家】剩余血量40\n",
      "--------------------------------\n",
      "敌人死翘翘了，你赢了！\n"
     ]
    }
   ],
   "source": [
    "#Project1 人机游戏 version1 手动计算\n",
    "import time\n",
    "\n",
    "print('-------------Round1-------------')\n",
    "print('【玩家】\\n血量：100 \\n攻击：50')\n",
    "print('--------------------------------')\n",
    "time.sleep(1.5)\n",
    "print('【敌人】\\n血量：100 \\n攻击：30')\n",
    "print('--------------------------------')\n",
    "time.sleep(1.5)\n",
    "print('你发起了攻击，【敌人】剩余血量50')\n",
    "print('敌人向你发起了攻击，【玩家】剩余血量70')\n",
    "print('--------------------------------')\n",
    "time.sleep(1.5)\n",
    "print('你发起了攻击，【敌人】剩余血量0')\n",
    "print('敌人向你发起了攻击，【玩家】剩余血量40')\n",
    "print('--------------------------------')\n",
    "time.sleep(1.5)\n",
    "print('敌人死翘翘了，你赢了！')"
   ]
  },
  {
   "cell_type": "code",
   "execution_count": 12,
   "metadata": {},
   "outputs": [
    {
     "name": "stdout",
     "output_type": "stream",
     "text": [
      "46\n"
     ]
    }
   ],
   "source": [
    "import random\n",
    "a = random.randint(1,100)\n",
    "print(a)"
   ]
  },
  {
   "cell_type": "code",
   "execution_count": 19,
   "metadata": {},
   "outputs": [
    {
     "name": "stdout",
     "output_type": "stream",
     "text": [
      "-------------Round1-------------\n",
      "【玩家】\n",
      "血量：109\n",
      "攻击：47\n",
      "--------------------------------\n",
      "【敌人】\n",
      "血量：141\n",
      "攻击：34\n",
      "--------------------------------\n",
      "75\n",
      "94\n"
     ]
    }
   ],
   "source": [
    "#Project1 人机游戏 version2 生成随机的血量和攻击值\n",
    "import random\n",
    "playerblood = random.randint(100,150)\n",
    "playerattack = random.randint(30,50)\n",
    "enemyblood = random.randint(100,150)\n",
    "enemyattack = random.randint(30,50)\n",
    "print('-------------Round1-------------')\n",
    "print('【玩家】\\n血量：'+str(playerblood)+'\\n攻击：'+str(playerattack))\n",
    "print('--------------------------------')\n",
    "time.sleep(1.5)\n",
    "print('【敌人】\\n血量：'+str(enemyblood)+'\\n攻击：'+str(enemyattack))\n",
    "print('--------------------------------')\n",
    "time.sleep(1.5)\n",
    "playerremain = playerblood-enemyattack\n",
    "enemyremain= enemyblood-playerattack\n",
    "print(playerremain)\n",
    "print(enemyremain)"
   ]
  },
  {
   "cell_type": "code",
   "execution_count": 29,
   "metadata": {},
   "outputs": [
    {
     "name": "stdout",
     "output_type": "stream",
     "text": [
      "-------------Round1-------------\n",
      "【玩家】\n",
      "血量：125\n",
      "攻击：47\n",
      "--------------------------------\n",
      "【敌人】\n",
      "血量：130\n",
      "攻击：49\n",
      "--------------------------------\n",
      "你发起了攻击，【敌人】剩余血量83\n",
      "敌人向你发起了攻击，【玩家】剩余血量76\n",
      "--------------------------------\n",
      "你发起了攻击，【敌人】剩余血量36\n",
      "敌人向你发起了攻击，【玩家】剩余血量27\n",
      "--------------------------------\n",
      "你发起了攻击，【敌人】剩余血量-11\n",
      "敌人向你发起了攻击，【玩家】剩余血量-22\n",
      "--------------------------------\n",
      "平局\n"
     ]
    }
   ],
   "source": [
    "#Project1 人机游戏 version2 生成随机的血量和攻击值,自动计算输赢\n",
    "import random,time\n",
    "playerblood = random.randint(100,150)\n",
    "playerattack = random.randint(30,50)\n",
    "enemyblood = random.randint(100,150)\n",
    "enemyattack = random.randint(30,50)\n",
    "print('-------------Round1-------------')\n",
    "print('【玩家】\\n血量：'+str(playerblood)+'\\n攻击：'+str(playerattack))\n",
    "print('--------------------------------')\n",
    "time.sleep(1)\n",
    "print('【敌人】\\n血量：'+str(enemyblood)+'\\n攻击：'+str(enemyattack))\n",
    "print('--------------------------------')\n",
    "time.sleep(1)\n",
    "\n",
    "\n",
    "while (playerblood > 0 and enemyblood > 0):\n",
    "    playerblood = playerblood - enemyattack\n",
    "    enemyblood = enemyblood - playerattack\n",
    "    print('你发起了攻击，【敌人】剩余血量'+str(enemyblood))\n",
    "    print('敌人向你发起了攻击，【玩家】剩余血量'+str(playerblood))\n",
    "    print('--------------------------------')\n",
    "    time.sleep(1.5)\n",
    "\n",
    "if playerblood > 0 and enemyblood < 0:\n",
    "            print('敌人死翘翘了，你赢了！')\n",
    "elif playerblood < 0 and enemyblood > 0:\n",
    "            print('悲催，敌人把你干掉了！')\n",
    "else:\n",
    "    print('哎呀，你和敌人同归于尽了！')"
   ]
  },
  {
   "cell_type": "code",
   "execution_count": null,
   "metadata": {},
   "outputs": [],
   "source": [
    "#Project1 人机游戏 version2 生成随机的血量和攻击值,自动计算输赢\n",
    "import random,time\n",
    "playerblood = random.randint(100,150)\n",
    "playerattack = random.randint(30,50)\n",
    "enemyblood = random.randint(100,150)\n",
    "enemyattack = random.randint(30,50)\n",
    "print('-------------Round1-------------')\n",
    "print('【玩家】\\n血量：'+str(playerblood)+'\\n攻击：'+str(playerattack))\n",
    "print('--------------------------------')\n",
    "time.sleep(1)\n",
    "print('【敌人】\\n血量：'+str(enemyblood)+'\\n攻击：'+str(enemyattack))\n",
    "print('--------------------------------')\n",
    "time.sleep(1)\n",
    "\n",
    "\n",
    "while (playerblood > 0 and enemyblood > 0):\n",
    "    playerblood = playerblood - enemyattack\n",
    "    enemyblood = enemyblood - playerattack\n",
    "    print('你发起了攻击，【敌人】剩余血量'+str(enemyblood))\n",
    "    print('敌人向你发起了攻击，【玩家】剩余血量'+str(playerblood))\n",
    "    print('--------------------------------')\n",
    "    time.sleep(1.5)\n",
    "\n",
    "if playerblood > enemyblood:\n",
    "            print('敌人死翘翘了，你赢了！')\n",
    "else:\n",
    "            print('你死翘翘了，敌人赢了！')\n",
    "time.sleep(1.5)\n",
    "print('--------------Round2------------------')\n",
    "playerblood2 = random.randint(100,150)\n",
    "playerattack2 = random.randint(30,50)\n",
    "enemyblood2 = random.randint(100,150)\n",
    "enemyattack2 = random.randint(30,50)\n",
    "print('【玩家】\\n血量：'+str(playerblood2)+'\\n攻击：'+str(playerattack2))\n",
    "print('--------------------------------')\n",
    "time.sleep(1)\n",
    "print('【敌人】\\n血量：'+str(enemyblood2)+'\\n攻击：'+str(enemyattack2))\n",
    "print('--------------------------------')\n",
    "time.sleep(1)\n"
   ]
  },
  {
   "cell_type": "code",
   "execution_count": 32,
   "metadata": {},
   "outputs": [
    {
     "name": "stdout",
     "output_type": "stream",
     "text": [
      "-------------Round1-------------\n",
      "【玩家】\n",
      "血量：138\n",
      "攻击：40\n",
      "--------------------------------\n",
      "【敌人】\n",
      "血量：116\n",
      "攻击：47\n",
      "--------------------------------\n",
      "你发起了攻击，【敌人】剩余血量76\n",
      "敌人向你发起了攻击，【玩家】剩余血量91\n",
      "--------------------------------\n",
      "你发起了攻击，【敌人】剩余血量36\n",
      "敌人向你发起了攻击，【玩家】剩余血量44\n",
      "--------------------------------\n",
      "你发起了攻击，【敌人】剩余血量-4\n",
      "敌人向你发起了攻击，【玩家】剩余血量-3\n",
      "--------------------------------\n",
      "哎呀，你和敌人同归于尽了！\n",
      "-------------Round2-------------\n",
      "【玩家】\n",
      "血量：127\n",
      "攻击：40\n",
      "--------------------------------\n",
      "【敌人】\n",
      "血量：117\n",
      "攻击：40\n",
      "--------------------------------\n",
      "你发起了攻击，【敌人】剩余血量77\n",
      "敌人向你发起了攻击，【玩家】剩余血量87\n",
      "--------------------------------\n",
      "你发起了攻击，【敌人】剩余血量37\n",
      "敌人向你发起了攻击，【玩家】剩余血量47\n",
      "--------------------------------\n",
      "你发起了攻击，【敌人】剩余血量-3\n",
      "敌人向你发起了攻击，【玩家】剩余血量7\n",
      "--------------------------------\n",
      "敌人死翘翘了，你赢了！\n",
      "-------------Round3-------------\n",
      "【玩家】\n",
      "血量：101\n",
      "攻击：34\n",
      "--------------------------------\n",
      "【敌人】\n",
      "血量：134\n",
      "攻击：36\n",
      "--------------------------------\n",
      "你发起了攻击，【敌人】剩余血量100\n",
      "敌人向你发起了攻击，【玩家】剩余血量65\n",
      "--------------------------------\n",
      "你发起了攻击，【敌人】剩余血量66\n",
      "敌人向你发起了攻击，【玩家】剩余血量29\n",
      "--------------------------------\n",
      "你发起了攻击，【敌人】剩余血量32\n",
      "敌人向你发起了攻击，【玩家】剩余血量-7\n",
      "--------------------------------\n",
      "悲催，敌人把你干掉了！\n",
      "----------Game Over--------------------\n"
     ]
    }
   ],
   "source": [
    "#Project1 人机游戏 version3 循环三局\n",
    "import random,time\n",
    "for i in range(1,4):\n",
    "    time.sleep(1.5)\n",
    "    print('-------------Round'+str(i)+'-------------')\n",
    "    playerblood = random.randint(100,150)\n",
    "    playerattack = random.randint(30,50)\n",
    "    enemyblood = random.randint(100,150)\n",
    "    enemyattack = random.randint(30,50)\n",
    "    print('【玩家】\\n血量：'+str(playerblood)+'\\n攻击：'+str(playerattack))\n",
    "    print('--------------------------------')\n",
    "    time.sleep(1)\n",
    "    print('【敌人】\\n血量：'+str(enemyblood)+'\\n攻击：'+str(enemyattack))\n",
    "    print('--------------------------------')\n",
    "    time.sleep(1)\n",
    "\n",
    "\n",
    "    while (playerblood > 0 and enemyblood > 0):\n",
    "        playerblood = playerblood - enemyattack\n",
    "        enemyblood = enemyblood - playerattack\n",
    "        print('你发起了攻击，【敌人】剩余血量'+str(enemyblood))\n",
    "        print('敌人向你发起了攻击，【玩家】剩余血量'+str(playerblood))\n",
    "        print('--------------------------------')\n",
    "        time.sleep(1.5)\n",
    "\n",
    "    if playerblood > 0 and enemyblood < 0:\n",
    "        print('敌人死翘翘了，你赢了！')\n",
    "    elif playerblood < 0 and enemyblood > 0:\n",
    "        print('悲催，敌人把你干掉了！')\n",
    "    else:\n",
    "        print('哎呀，你和敌人同归于尽了！')\n",
    "    time.sleep(1.5)\n",
    "else:\n",
    "    print('----------Game Over-----------------')\n",
    "    "
   ]
  },
  {
   "cell_type": "code",
   "execution_count": 38,
   "metadata": {},
   "outputs": [
    {
     "name": "stdout",
     "output_type": "stream",
     "text": [
      "-------------Round1-------------\n",
      "【玩家】\n",
      "血量：102\n",
      "攻击：33\n",
      "--------------------------------\n",
      "【敌人】\n",
      "血量：122\n",
      "攻击：34\n",
      "--------------------------------\n",
      "你发起了攻击，【敌人】剩余血量89\n",
      "敌人向你发起了攻击，【玩家】剩余血量68\n",
      "--------------------------------\n",
      "你发起了攻击，【敌人】剩余血量56\n",
      "敌人向你发起了攻击，【玩家】剩余血量34\n",
      "--------------------------------\n",
      "你发起了攻击，【敌人】剩余血量23\n",
      "敌人向你发起了攻击，【玩家】剩余血量0\n",
      "--------------------------------\n",
      "悲催，敌人把你干掉了！\n",
      "-------------Round2-------------\n",
      "【玩家】\n",
      "血量：117\n",
      "攻击：46\n",
      "--------------------------------\n",
      "【敌人】\n",
      "血量：145\n",
      "攻击：42\n",
      "--------------------------------\n",
      "你发起了攻击，【敌人】剩余血量99\n",
      "敌人向你发起了攻击，【玩家】剩余血量75\n",
      "--------------------------------\n",
      "你发起了攻击，【敌人】剩余血量53\n",
      "敌人向你发起了攻击，【玩家】剩余血量33\n",
      "--------------------------------\n",
      "你发起了攻击，【敌人】剩余血量7\n",
      "敌人向你发起了攻击，【玩家】剩余血量-9\n",
      "--------------------------------\n",
      "悲催，敌人把你干掉了！\n",
      "-------------Round3-------------\n",
      "【玩家】\n",
      "血量：120\n",
      "攻击：48\n",
      "--------------------------------\n",
      "【敌人】\n",
      "血量：108\n",
      "攻击：34\n",
      "--------------------------------\n",
      "你发起了攻击，【敌人】剩余血量60\n",
      "敌人向你发起了攻击，【玩家】剩余血量86\n",
      "--------------------------------\n",
      "你发起了攻击，【敌人】剩余血量12\n",
      "敌人向你发起了攻击，【玩家】剩余血量52\n",
      "--------------------------------\n",
      "你发起了攻击，【敌人】剩余血量-36\n",
      "敌人向你发起了攻击，【玩家】剩余血量18\n",
      "--------------------------------\n",
      "敌人死翘翘了，你赢了！\n",
      "----------Game Over-----------------\n",
      "你的分数1\n",
      "敌人分数2\n",
      "最终结果:你输了\n"
     ]
    }
   ],
   "source": [
    "#Project1 人机游戏 version3 循环三局\n",
    "import random,time\n",
    "playervictory = 0\n",
    "enemyvictory = 0\n",
    "for i in range(1,4):\n",
    "    time.sleep(1.5)\n",
    "    print('-------------Round'+str(i)+'-------------')\n",
    "    playerblood = random.randint(100,150)\n",
    "    playerattack = random.randint(30,50)\n",
    "    enemyblood = random.randint(100,150)\n",
    "    enemyattack = random.randint(30,50)\n",
    "    print('【玩家】\\n血量：'+str(playerblood)+'\\n攻击：'+str(playerattack))\n",
    "    print('--------------------------------')\n",
    "    time.sleep(1)\n",
    "    print('【敌人】\\n血量：'+str(enemyblood)+'\\n攻击：'+str(enemyattack))\n",
    "    print('--------------------------------')\n",
    "    time.sleep(1)\n",
    "\n",
    "\n",
    "    while (playerblood > 0) and (enemyblood > 0):\n",
    "        playerblood = playerblood - enemyattack\n",
    "        enemyblood = enemyblood - playerattack\n",
    "        print('你发起了攻击，【敌人】剩余血量'+str(enemyblood))\n",
    "        print('敌人向你发起了攻击，【玩家】剩余血量'+str(playerblood))\n",
    "        print('--------------------------------')\n",
    "        time.sleep(1.5)\n",
    "\n",
    "    if playerblood > 0 and enemyblood <= 0:\n",
    "        print('敌人死翘翘了，你赢了！')\n",
    "        playervictory += 1\n",
    "    elif playerblood <= 0 and enemyblood > 0:\n",
    "        print('悲催，敌人把你干掉了！')\n",
    "        enemyvictory += 1\n",
    "    else:\n",
    "        print('哎呀，你和敌人同归于尽了！')\n",
    "    time.sleep(1.5)\n",
    "\n",
    "print('----------Game Over--------------')\n",
    "print('你的分数'+str(playervictory))\n",
    "print('敌人分数'+str(enemyvictory))\n",
    "if playervictory > enemyvictory:\n",
    "    time.sleep(1)\n",
    "    print('最终结果:你赢了')\n",
    "elif playervictory < enemyvictory:\n",
    "    time.sleep(1)\n",
    "    print('最终结果:你输了')\n",
    "else:\n",
    "    time.sleep(1)\n",
    "    print('最终结果:平局')\n",
    "    "
   ]
  },
  {
   "cell_type": "code",
   "execution_count": 39,
   "metadata": {},
   "outputs": [
    {
     "name": "stdout",
     "output_type": "stream",
     "text": [
      "血量：100 攻击：50\n"
     ]
    }
   ],
   "source": [
    "print('血量：%s 攻击：%s' % (100,50))"
   ]
  },
  {
   "cell_type": "code",
   "execution_count": 41,
   "metadata": {},
   "outputs": [
    {
     "name": "stdout",
     "output_type": "stream",
     "text": [
      "血量：100 攻击：50\n"
     ]
    }
   ],
   "source": [
    "print('血量：%d 攻击：%d' % (100,50))"
   ]
  },
  {
   "cell_type": "code",
   "execution_count": 43,
   "metadata": {},
   "outputs": [
    {
     "name": "stdout",
     "output_type": "stream",
     "text": [
      "-------------Round 1 --------------\n",
      "【玩家】\n",
      "血量：132\n",
      "攻击：33\n",
      "--------------------------------\n",
      "【敌人】\n",
      "血量：140\n",
      "攻击：30\n",
      "--------------------------------\n",
      "你发起了攻击，【敌人】剩余血量107\n",
      "敌人向你发起了攻击，【玩家】剩余血量102\n",
      "--------------------------------\n",
      "你发起了攻击，【敌人】剩余血量74\n",
      "敌人向你发起了攻击，【玩家】剩余血量72\n",
      "--------------------------------\n",
      "你发起了攻击，【敌人】剩余血量41\n",
      "敌人向你发起了攻击，【玩家】剩余血量42\n",
      "--------------------------------\n",
      "你发起了攻击，【敌人】剩余血量8\n",
      "敌人向你发起了攻击，【玩家】剩余血量12\n",
      "--------------------------------\n",
      "你发起了攻击，【敌人】剩余血量-25\n",
      "敌人向你发起了攻击，【玩家】剩余血量-18\n",
      "--------------------------------\n",
      "哎呀，你和敌人同归于尽了！\n",
      "-------------Round 2 --------------\n",
      "【玩家】\n",
      "血量：116\n",
      "攻击：40\n",
      "--------------------------------\n",
      "【敌人】\n",
      "血量：135\n",
      "攻击：35\n",
      "--------------------------------\n",
      "你发起了攻击，【敌人】剩余血量95\n",
      "敌人向你发起了攻击，【玩家】剩余血量81\n",
      "--------------------------------\n",
      "你发起了攻击，【敌人】剩余血量55\n",
      "敌人向你发起了攻击，【玩家】剩余血量46\n",
      "--------------------------------\n",
      "你发起了攻击，【敌人】剩余血量15\n",
      "敌人向你发起了攻击，【玩家】剩余血量11\n",
      "--------------------------------\n",
      "你发起了攻击，【敌人】剩余血量-25\n",
      "敌人向你发起了攻击，【玩家】剩余血量-24\n",
      "--------------------------------\n",
      "哎呀，你和敌人同归于尽了！\n",
      "-------------Round 3 --------------\n",
      "【玩家】\n",
      "血量：121\n",
      "攻击：39\n",
      "--------------------------------\n",
      "【敌人】\n",
      "血量：112\n",
      "攻击：35\n",
      "--------------------------------\n",
      "你发起了攻击，【敌人】剩余血量73\n",
      "敌人向你发起了攻击，【玩家】剩余血量86\n",
      "--------------------------------\n",
      "你发起了攻击，【敌人】剩余血量34\n",
      "敌人向你发起了攻击，【玩家】剩余血量51\n",
      "--------------------------------\n",
      "你发起了攻击，【敌人】剩余血量-5\n",
      "敌人向你发起了攻击，【玩家】剩余血量16\n",
      "--------------------------------\n",
      "敌人死翘翘了，你赢了！\n",
      "----------Game Over--------------\n",
      "你的得分1\n",
      "敌人得分0\n",
      "最终结果:你赢了\n"
     ]
    }
   ],
   "source": [
    "#Project1 人机游戏 version3 循环三局\n",
    "import random,time\n",
    "playervictory = 0\n",
    "enemyvictory = 0\n",
    "for i in range(1,4):\n",
    "    time.sleep(1.5)\n",
    "    print('-------------Round %s --------------'%i)\n",
    "    playerblood = random.randint(100,150)\n",
    "    playerattack = random.randint(30,50)\n",
    "    enemyblood = random.randint(100,150)\n",
    "    enemyattack = random.randint(30,50)\n",
    "    print('【玩家】\\n血量：%s\\n攻击：%s'%(playerblood,playerattack))\n",
    "    print('--------------------------------')\n",
    "    time.sleep(1)\n",
    "    print('【敌人】\\n血量：%s\\n攻击：%s'%(enemyblood,enemyattack))\n",
    "    print('--------------------------------')\n",
    "    time.sleep(1)\n",
    "\n",
    "\n",
    "    while (playerblood > 0 and enemyblood > 0):\n",
    "        playerblood = playerblood - enemyattack\n",
    "        enemyblood = enemyblood - playerattack\n",
    "        print('你发起了攻击，【敌人】剩余血量%s'%enemyblood)\n",
    "        print('敌人向你发起了攻击，【玩家】剩余血量%s'%playerblood)\n",
    "        print('--------------------------------')\n",
    "        time.sleep(1.5)\n",
    "\n",
    "    if playerblood > 0 and enemyblood <= 0:\n",
    "        print('敌人死翘翘了，你赢了！')\n",
    "        playervictory += 1\n",
    "    elif playerblood <= 0 and enemyblood > 0:\n",
    "        print('悲催，敌人把你干掉了！')\n",
    "        enemyvictory += 1\n",
    "    else:\n",
    "        print('哎呀，你和敌人同归于尽了！')\n",
    "    time.sleep(1.5)\n",
    "\n",
    "print('----------Game Over--------------')\n",
    "print('你的得分'+str(playervictory))\n",
    "print('敌人得分'+str(enemyvictory))\n",
    "if playervictory > enemyvictory:\n",
    "    time.sleep(1)\n",
    "    print('最终结果:你赢了')\n",
    "elif playervictory < enemyvictory:\n",
    "    time.sleep(1)\n",
    "    print('最终结果:你输了')\n",
    "else:\n",
    "    time.sleep(1)\n",
    "    print('最终结果:平局')"
   ]
  },
  {
   "cell_type": "code",
   "execution_count": 45,
   "metadata": {},
   "outputs": [
    {
     "name": "stdout",
     "output_type": "stream",
     "text": [
      "-------------Round 1 --------------\n",
      "【玩家】\n",
      "血量：125\n",
      "攻击：42\n",
      "--------------------------------\n",
      "【敌人】\n",
      "血量：109\n",
      "攻击：32\n",
      "--------------------------------\n",
      "你发起了攻击，【敌人】剩余血量67\n",
      "敌人向你发起了攻击，【玩家】剩余血量93\n",
      "--------------------------------\n",
      "你发起了攻击，【敌人】剩余血量25\n",
      "敌人向你发起了攻击，【玩家】剩余血量61\n",
      "--------------------------------\n",
      "你发起了攻击，【敌人】剩余血量-17\n",
      "敌人向你发起了攻击，【玩家】剩余血量29\n",
      "--------------------------------\n",
      "敌人死翘翘了，你赢了！\n",
      "-------------Round 2 --------------\n",
      "【玩家】\n",
      "血量：104\n",
      "攻击：47\n",
      "--------------------------------\n",
      "【敌人】\n",
      "血量：104\n",
      "攻击：48\n",
      "--------------------------------\n",
      "你发起了攻击，【敌人】剩余血量57\n",
      "敌人向你发起了攻击，【玩家】剩余血量56\n",
      "--------------------------------\n",
      "你发起了攻击，【敌人】剩余血量10\n",
      "敌人向你发起了攻击，【玩家】剩余血量8\n",
      "--------------------------------\n",
      "你发起了攻击，【敌人】剩余血量-37\n",
      "敌人向你发起了攻击，【玩家】剩余血量-40\n",
      "--------------------------------\n",
      "哎呀，你和敌人同归于尽了！\n",
      "-------------Round 3 --------------\n",
      "【玩家】\n",
      "血量：133\n",
      "攻击：44\n",
      "--------------------------------\n",
      "【敌人】\n",
      "血量：134\n",
      "攻击：50\n",
      "--------------------------------\n",
      "你发起了攻击，【敌人】剩余血量90\n",
      "敌人向你发起了攻击，【玩家】剩余血量83\n",
      "--------------------------------\n",
      "你发起了攻击，【敌人】剩余血量46\n",
      "敌人向你发起了攻击，【玩家】剩余血量33\n",
      "--------------------------------\n",
      "你发起了攻击，【敌人】剩余血量2\n",
      "敌人向你发起了攻击，【玩家】剩余血量-17\n",
      "--------------------------------\n",
      "悲催，敌人把你干掉了！\n",
      "----------Game Over--------------\n",
      "你的得分1\n",
      "敌人得分1\n",
      "最终结果:平局\n"
     ]
    },
    {
     "name": "stdin",
     "output_type": "stream",
     "text": [
      "是否再来一盘，请回答是或不是 不是\n"
     ]
    },
    {
     "name": "stdout",
     "output_type": "stream",
     "text": [
      "Exit Game\n"
     ]
    }
   ],
   "source": [
    "import random,time\n",
    "while True:\n",
    "    playervictory = 0\n",
    "    enemyvictory = 0\n",
    "    for i in range(1,4):\n",
    "        time.sleep(1.5)\n",
    "        print('-------------Round %s --------------'%i)\n",
    "        playerblood = random.randint(100,150)\n",
    "        playerattack = random.randint(30,50)\n",
    "        enemyblood = random.randint(100,150)\n",
    "        enemyattack = random.randint(30,50)\n",
    "        print('【玩家】\\n血量：%s\\n攻击：%s'%(playerblood,playerattack))\n",
    "        print('--------------------------------')\n",
    "        time.sleep(1)\n",
    "        print('【敌人】\\n血量：%s\\n攻击：%s'%(enemyblood,enemyattack))\n",
    "        print('--------------------------------')\n",
    "        time.sleep(1)\n",
    "\n",
    "\n",
    "        while (playerblood > 0 and enemyblood > 0):\n",
    "            playerblood = playerblood - enemyattack\n",
    "            enemyblood = enemyblood - playerattack\n",
    "            print('你发起了攻击，【敌人】剩余血量%s'%enemyblood)\n",
    "            print('敌人向你发起了攻击，【玩家】剩余血量%s'%playerblood)\n",
    "            print('--------------------------------')\n",
    "            time.sleep(1.5)\n",
    "\n",
    "        if playerblood > 0 and enemyblood <= 0:\n",
    "            print('敌人死翘翘了，你赢了！')\n",
    "            playervictory += 1\n",
    "        elif playerblood <= 0 and enemyblood > 0:\n",
    "            print('悲催，敌人把你干掉了！')\n",
    "            enemyvictory += 1\n",
    "        else:\n",
    "            print('哎呀，你和敌人同归于尽了！')\n",
    "        time.sleep(1.5)\n",
    "\n",
    "    print('----------Game Over--------------')\n",
    "    print('你的得分'+str(playervictory))\n",
    "    print('敌人得分'+str(enemyvictory))\n",
    "    if playervictory > enemyvictory:\n",
    "        time.sleep(1)\n",
    "        print('最终结果:你赢了')\n",
    "    elif playervictory < enemyvictory:\n",
    "        time.sleep(1)\n",
    "        print('最终结果:你输了')\n",
    "    else:\n",
    "        time.sleep(1)\n",
    "        print('最终结果:平局')\n",
    "    ask1 = input('是否再来一盘，请回答是或否')\n",
    "    if ask1 == '是':\n",
    "        continue\n",
    "    else:\n",
    "        break\n",
    "print('退出游戏')\n",
    "    "
   ]
  },
  {
   "cell_type": "code",
   "execution_count": null,
   "metadata": {},
   "outputs": [],
   "source": [
    "#sample:\n",
    "import time\n",
    "import random\n",
    "\n",
    "player_victory = 0\n",
    "enemy_victory = 0\n",
    "\n",
    "while True:\n",
    "    for i in range(1,4):\n",
    "        time.sleep(1.5)\n",
    "        print('  \\n——————现在是第 {} 局——————'.format(i))\n",
    "        player_life = random.randint(100,150)\n",
    "        player_attack = random.randint(30,50)\n",
    "        enemy_life = random.randint(100,150)\n",
    "        enemy_attack = random.randint(30,50)\n",
    "\n",
    "        print('【玩家】\\n血量：{}\\n攻击：{}'.format(player_life,player_attack))\n",
    "        print('------------------------')\n",
    "        time.sleep(1)\n",
    "        print('【敌人】\\n血量：{}\\n攻击：{}'.format(enemy_life,enemy_attack))\n",
    "        print('-----------------------')\n",
    "        time.sleep(1)\n",
    "\n",
    "        while player_life > 0 and enemy_life > 0:\n",
    "            player_life = player_life - enemy_attack \n",
    "            enemy_life = enemy_life - player_attack\n",
    "            print('敌人发起了攻击，【玩家】剩余血量{}'.format(player_life))\n",
    "            print('你发起了攻击，【敌人】的血量剩余{}'.format(enemy_life))\n",
    "            print('-----------------------')\n",
    "            time.sleep(1.2)\n",
    "\n",
    "        if player_life > 0 and enemy_life <= 0:\n",
    "            player_victory += 1\n",
    "            print('敌人死翘翘了，你赢了！')\n",
    "        elif player_life <= 0 and enemy_life > 0:\n",
    "            enemy_victory += 1\n",
    "            print('悲催，敌人把你干掉了！')\n",
    "        else:\n",
    "            print('哎呀，你和敌人同归于尽了！')\n",
    "\n",
    "    if player_victory > enemy_victory :\n",
    "        time.sleep(1)\n",
    "        print('\\n【最终结果：你赢了！】')\n",
    "    elif enemy_victory > player_victory:\n",
    "        print('\\n【最终结果：你输了！】')\n",
    "    else: \n",
    "        print('\\n【最终结果：平局！】')\n",
    "\n",
    "    a1 = input('要继续游戏吗，请输入n退出，输入其他继续：')\n",
    "    if a1 == 'n':\n",
    "        break"
   ]
  },
  {
   "cell_type": "code",
   "execution_count": 52,
   "metadata": {},
   "outputs": [
    {
     "name": "stdout",
     "output_type": "stream",
     "text": [
      "1*2=2 2*2=4 \n",
      "1*3=4 2*3=4 3*3=4 \n"
     ]
    }
   ],
   "source": [
    "#打印乘法表\n",
    "for i in range(1,3):\n",
    "    a=i*2\n",
    "    print('%s*%s=%s'%(i,2,a),end=' ')\n",
    "print('')\n",
    "for i in range(1,4):\n",
    "    b=i*3\n",
    "    print('%s*%s=%s'%(i,3,a),end=' ')\n",
    "print('')"
   ]
  },
  {
   "cell_type": "code",
   "execution_count": 56,
   "metadata": {},
   "outputs": [
    {
     "name": "stdout",
     "output_type": "stream",
     "text": [
      "1*1=1 \n",
      "1*2=2 2*2=4 \n",
      "1*3=3 2*3=6 3*3=9 \n",
      "1*4=4 2*4=8 3*4=12 4*4=16 \n",
      "1*5=5 2*5=10 3*5=15 4*5=20 5*5=25 \n",
      "1*6=6 2*6=12 3*6=18 4*6=24 5*6=30 6*6=36 \n",
      "1*7=7 2*7=14 3*7=21 4*7=28 5*7=35 6*7=42 7*7=49 \n",
      "1*8=8 2*8=16 3*8=24 4*8=32 5*8=40 6*8=48 7*8=56 8*8=64 \n",
      "1*9=9 2*9=18 3*9=27 4*9=36 5*9=45 6*9=54 7*9=63 8*9=72 9*9=81 \n"
     ]
    }
   ],
   "source": [
    "for m in range(1,10):\n",
    "    for i in range(1,m+1):\n",
    "        a=i*m\n",
    "        print('%s*%s=%s'%(i,m,a),end=' ')\n",
    "    print('')"
   ]
  },
  {
   "cell_type": "code",
   "execution_count": 57,
   "metadata": {},
   "outputs": [
    {
     "name": "stdout",
     "output_type": "stream",
     "text": [
      "1 X 1 = 1  \n",
      "1 X 2 = 2  2 X 2 = 4  \n",
      "1 X 3 = 3  2 X 3 = 6  3 X 3 = 9  \n",
      "1 X 4 = 4  2 X 4 = 8  3 X 4 = 12  4 X 4 = 16  \n",
      "1 X 5 = 5  2 X 5 = 10  3 X 5 = 15  4 X 5 = 20  5 X 5 = 25  \n",
      "1 X 6 = 6  2 X 6 = 12  3 X 6 = 18  4 X 6 = 24  5 X 6 = 30  6 X 6 = 36  \n",
      "1 X 7 = 7  2 X 7 = 14  3 X 7 = 21  4 X 7 = 28  5 X 7 = 35  6 X 7 = 42  7 X 7 = 49  \n",
      "1 X 8 = 8  2 X 8 = 16  3 X 8 = 24  4 X 8 = 32  5 X 8 = 40  6 X 8 = 48  7 X 8 = 56  8 X 8 = 64  \n",
      "1 X 9 = 9  2 X 9 = 18  3 X 9 = 27  4 X 9 = 36  5 X 9 = 45  6 X 9 = 54  7 X 9 = 63  8 X 9 = 72  9 X 9 = 81  \n"
     ]
    }
   ],
   "source": [
    "for i in range (1,10):\n",
    "    for j in range(1,10):\n",
    "        print('%d X %d = %d' % (j,i,i*j),end = '  ')\n",
    "        if i==j:\n",
    "            print('')\n",
    "            break"
   ]
  },
  {
   "cell_type": "code",
   "execution_count": 58,
   "metadata": {},
   "outputs": [
    {
     "name": "stdout",
     "output_type": "stream",
     "text": [
      "1 X 1 = 1  \n",
      "1 X 2 = 2  2 X 2 = 4  \n",
      "1 X 3 = 3  2 X 3 = 6  3 X 3 = 9  \n",
      "1 X 4 = 4  2 X 4 = 8  3 X 4 = 12  4 X 4 = 16  \n",
      "1 X 5 = 5  2 X 5 = 10  3 X 5 = 15  4 X 5 = 20  5 X 5 = 25  \n",
      "1 X 6 = 6  2 X 6 = 12  3 X 6 = 18  4 X 6 = 24  5 X 6 = 30  6 X 6 = 36  \n",
      "1 X 7 = 7  2 X 7 = 14  3 X 7 = 21  4 X 7 = 28  5 X 7 = 35  6 X 7 = 42  7 X 7 = 49  \n",
      "1 X 8 = 8  2 X 8 = 16  3 X 8 = 24  4 X 8 = 32  5 X 8 = 40  6 X 8 = 48  7 X 8 = 56  8 X 8 = 64  \n",
      "1 X 9 = 9  2 X 9 = 18  3 X 9 = 27  4 X 9 = 36  5 X 9 = 45  6 X 9 = 54  7 X 9 = 63  8 X 9 = 72  9 X 9 = 81  \n"
     ]
    }
   ],
   "source": [
    "i = 1\n",
    "while i <= 9:\n",
    "    j = 1\n",
    "    while j <= i:\n",
    "        print('%d X %d = %d' % (j,i,i*j),end = '  ') \n",
    "        j += 1\n",
    "    print('')\n",
    "    i += 1"
   ]
  },
  {
   "cell_type": "code",
   "execution_count": 68,
   "metadata": {},
   "outputs": [
    {
     "name": "stdout",
     "output_type": "stream",
     "text": [
      "[91, 95, 97, 99]\n",
      "[91, 95, 97, 99, 92, 93, 96, 98]\n"
     ]
    },
    {
     "data": {
      "text/plain": [
       "[91, 92, 93, 95, 96, 97, 98, 99]"
      ]
     },
     "execution_count": 68,
     "metadata": {},
     "output_type": "execute_result"
    }
   ],
   "source": [
    "A=[91, 95, 97, 99]\n",
    "B=[92, 93, 96, 98]\n",
    "list1=[]\n",
    "for i in A:\n",
    "    list1.append(i)\n",
    "print(list1)\n",
    "for j in B:\n",
    "    list1.append(j)\n",
    "print(list1)\n",
    "sorted(list1)\n",
    "    "
   ]
  },
  {
   "cell_type": "code",
   "execution_count": 67,
   "metadata": {},
   "outputs": [
    {
     "name": "stdout",
     "output_type": "stream",
     "text": [
      "[91, 95, 97, 99, 92, 93, 96, 98]\n"
     ]
    },
    {
     "data": {
      "text/plain": [
       "[91, 92, 93, 95, 96, 97, 98, 99]"
      ]
     },
     "execution_count": 67,
     "metadata": {},
     "output_type": "execute_result"
    }
   ],
   "source": [
    "listA=[91, 95, 97, 99]\n",
    "listB=[92, 93, 96, 98]\n",
    "listsum=listA+listB\n",
    "print(listsum)\n",
    "sorted(listsum)"
   ]
  },
  {
   "cell_type": "code",
   "execution_count": 69,
   "metadata": {},
   "outputs": [
    {
     "name": "stdout",
     "output_type": "stream",
     "text": [
      "[91, 95, 97, 99, 92, 93, 96, 98]\n",
      "[91, 92, 93, 95, 96, 97, 98, 99]\n"
     ]
    }
   ],
   "source": [
    "list1 =  [91, 95, 97, 99]  \n",
    "list2 =  [92, 93, 96, 98]\n",
    "# 把 A 组成绩赋值给一个新列表，用来存合并的成绩——这个细节要注意！\n",
    "list3 =list1\n",
    "list3.extend(list2)\n",
    "print(list3)\n",
    "list3.sort()\n",
    "print(list3)"
   ]
  },
  {
   "cell_type": "code",
   "execution_count": 76,
   "metadata": {},
   "outputs": [
    {
     "name": "stdout",
     "output_type": "stream",
     "text": [
      "the average of list1 is  95.5\n",
      "the average of list2 is  94.75\n",
      "第一组低于平均值的是 [91, 95]\n",
      "第二组低于平均值的是 [92, 93]\n"
     ]
    }
   ],
   "source": [
    "import numpy as np\n",
    "\n",
    "list1 =  [91, 95, 97, 99] \n",
    "list2 =  [92, 93, 96, 98]\n",
    "\n",
    "average1=np.mean(list1)\n",
    "average2=np.mean(list2)\n",
    "print('the average of list1 is ',average1)\n",
    "print('the average of list2 is ',average2)\n",
    "list1low=[]\n",
    "for i in list1:\n",
    "    if i < average1:\n",
    "        list1low.append(i)\n",
    "print('第一组低于平均值的是',list1low)\n",
    "list2low=[]\n",
    "for j in list2:\n",
    "    if j < average2:\n",
    "        list2low.append(j)\n",
    "print('第二组低于平均值的是',list2low)"
   ]
  },
  {
   "cell_type": "code",
   "execution_count": 77,
   "metadata": {},
   "outputs": [
    {
     "name": "stdout",
     "output_type": "stream",
     "text": [
      "低于平均值的是 [91, 92, 93, 95]\n"
     ]
    }
   ],
   "source": [
    "import numpy as np\n",
    "scores=[91, 92, 93, 95, 96, 97, 98, 99]\n",
    "average=np.mean(scores)\n",
    "listlow=[]\n",
    "for score in scores:\n",
    "    if score<average:\n",
    "        listlow.append(score)\n",
    "print('低于平均值的是',listlow)"
   ]
  },
  {
   "cell_type": "code",
   "execution_count": 78,
   "metadata": {},
   "outputs": [
    {
     "name": "stdout",
     "output_type": "stream",
     "text": [
      "平均成绩是：95.125\n",
      " 低于平均成绩的有：[91, 95, 92, 93]\n"
     ]
    }
   ],
   "source": [
    "import numpy as np  # 导入 numpy库，下面出现的 np 即 numpy库\n",
    "scores1 =  [91, 95, 97, 99, 92, 93, 96, 98]  \n",
    "scores2 = []\n",
    "average = np.mean(scores1)  # 一行解决。\n",
    "print('平均成绩是：{}'.format(average))\n",
    "for score in scores1:\n",
    "    if score < average:\n",
    "        scores2.append(score)\n",
    "        continue  # 少于平均分的成绩放到新建的空列表中，然后继续判断。\n",
    "print(' 低于平均成绩的有：{}'.format(scores2))  # 上个关卡选做题的知识。\n",
    "# 下面展示一种NumPy数组的操作，感兴趣的同学可以自行去学习哈。\n",
    "#socres3 = np.array(scores1)\n",
    "#print(' 低于平均成绩的有：{}'.format(socres3[socres3<average]))"
   ]
  },
  {
   "cell_type": "code",
   "execution_count": null,
   "metadata": {},
   "outputs": [],
   "source": []
  }
 ],
 "metadata": {
  "kernelspec": {
   "display_name": "Python 3",
   "language": "python",
   "name": "python3"
  },
  "language_info": {
   "codemirror_mode": {
    "name": "ipython",
    "version": 3
   },
   "file_extension": ".py",
   "mimetype": "text/x-python",
   "name": "python",
   "nbconvert_exporter": "python",
   "pygments_lexer": "ipython3",
   "version": "3.7.3"
  }
 },
 "nbformat": 4,
 "nbformat_minor": 2
}
