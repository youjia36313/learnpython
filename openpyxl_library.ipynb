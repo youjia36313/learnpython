{
 "cells": [
  {
   "cell_type": "code",
   "execution_count": null,
   "metadata": {},
   "outputs": [],
   "source": [
    "#index\n",
    "\n",
    "#产品思维”的思维工具：流程图。\n",
    "#设计产品的四个步骤\n",
    "#滚动广告牌\n",
    "#自动录入信息到excel，csv模块读写，大字典套小字典，取全部key值，取所有key和key值\n",
    "#writerow（list），一个单层列表写一行\n",
    "\n",
    "#把录入的模版，复制给其他，生成新的key，把原有的key值取出来赋给新的key值（利用模版的key）\n",
    "#大字典套小字典，取全部key值，取所有key和key值\n",
    "#把录入的所有的元素，作为列表的一个元素，每个循环里取出的key，和key值，和写入表格writerow，（每次循环取出一个，写一行）"
   ]
  },
  {
   "cell_type": "code",
   "execution_count": null,
   "metadata": {},
   "outputs": [],
   "source": [
    "# 设计产品的四个步骤\n",
    "# 积累生活经验\n",
    "# 提出产品需求\n",
    "# 形成技术方案\n",
    "# 完成程序代码"
   ]
  },
  {
   "cell_type": "code",
   "execution_count": null,
   "metadata": {},
   "outputs": [],
   "source": [
    "#流程图\n",
    "#顺序结构，条件结构，循环结构\n",
    "\n",
    "#条件结构\n",
    "#当一件事情是按顺序进行的时候，我们就用顺序结构。\n",
    "#连接线：流转方向，线上加备注，将各个元素连接起来\n",
    "#开始/结束（按钮形状）流程的开始和结束\n",
    "#流程和节点（矩形），一个动作（业务动作，功能动作），页面状态\n",
    "#比如：进入淘宝网（开始）→搜索商品（流程）→加入购物车结账→（结束）\n",
    "#比如求圆的面积：开始→输入半径（流程）→求面基pir**2（流程）→输出面积（流程）→结束"
   ]
  },
  {
   "cell_type": "code",
   "execution_count": 3,
   "metadata": {},
   "outputs": [
    {
     "name": "stdin",
     "output_type": "stream",
     "text": [
      "请输入半径 3\n"
     ]
    },
    {
     "data": {
      "text/plain": [
       "'面积是28.26'"
      ]
     },
     "execution_count": 3,
     "metadata": {},
     "output_type": "execute_result"
    }
   ],
   "source": [
    "import math\n",
    "def roundarea():\n",
    "    r=int(input('请输入半径'))\n",
    "    s1=3.14*r**2\n",
    "    return '面积是%s'%s1\n",
    "roundarea()"
   ]
  },
  {
   "cell_type": "code",
   "execution_count": null,
   "metadata": {},
   "outputs": [],
   "source": [
    "#条件结构\n",
    "#判定（菱形），逻辑判断，会连接yes或no两条分支流程\n",
    "#循环结构\n",
    "#是用来描述在指定情况下，按某种重复的逻辑行事。\n",
    "#A流程之后触发某条件，又返回开头"
   ]
  },
  {
   "cell_type": "code",
   "execution_count": null,
   "metadata": {},
   "outputs": [],
   "source": [
    "#练习，推荐吃什么菜\n",
    "#产品的三个功能：判断，随机推荐，特定选项中的随机推荐。\n",
    "#判断： 判断语句+input，随机推荐：random模块+循环+判断，特定选项的随机选项：列表添加+random模块+循环+判断"
   ]
  },
  {
   "cell_type": "code",
   "execution_count": 25,
   "metadata": {},
   "outputs": [
    {
     "name": "stdin",
     "output_type": "stream",
     "text": [
      "你不知道吃什么的原因是：1.完全不知道吃什么；2.在几家店之间徘徊（请输入1或2） 2\n",
      "请输入让你犹豫的店名（注：一家一家输，完成后输入y）： 日本料理\n",
      "请输入让你犹豫的店名（注：一家一家输，完成后输入y）： 韩国烤肉\n",
      "请输入让你犹豫的店名（注：一家一家输，完成后输入y）： 东北饺子\n",
      "请输入让你犹豫的店名（注：一家一家输，完成后输入y）： y\n",
      "去吃日本料理好不好啊？同意的话输入y，不想吃直接回车即可。 \n",
      "去吃韩国烤肉好不好啊？同意的话输入y，不想吃直接回车即可。 \n",
      "去吃韩国烤肉好不好啊？同意的话输入y，不想吃直接回车即可。 \n",
      "去吃韩国烤肉好不好啊？同意的话输入y，不想吃直接回车即可。 \n",
      "去吃东北饺子好不好啊？同意的话输入y，不想吃直接回车即可。 y\n"
     ]
    },
    {
     "name": "stdout",
     "output_type": "stream",
     "text": [
      "吃东北饺子！就这么愉快地决定啦\n"
     ]
    }
   ],
   "source": [
    "#mycode version1\n",
    "import random\n",
    "answer=int(input('你不知道吃什么的原因是：1.完全不知道吃什么；2.在几家店之间徘徊（请输入1或2）'))\n",
    "res_known=['KFC', '蒸菜馆', '楼下快餐店', '桂林米粉', '东北饺子', '金牌猪脚饭', '三及第汤饭']\n",
    "res_input=[]\n",
    "while True:\n",
    "    if answer==1:\n",
    "        recomm_res()\n",
    "        break\n",
    "    elif answer==2:\n",
    "        input_res()\n",
    "        break\n",
    "    else:\n",
    "        answer=int(input('输入格式有误，请重新选择数字1或2'))\n",
    "def recomm_res():\n",
    "    selection='n'\n",
    "    while selection!='y':\n",
    "        choice=random.choice(res_known)\n",
    "        selection=input('去吃%s好不好啊？同意的话输入y，不想吃直接回车即可。'%choice)\n",
    "    else:\n",
    "        print('吃%s！就这么愉快地决定啦'%choice)\n",
    "def input_res():\n",
    "    while True:\n",
    "        choice_input1=input('请输入让你犹豫的店名（注：一家一家输，完成后输入y）：')\n",
    "        if choice_input1=='y':\n",
    "            print('至少要输入一家你徘徊的饭店哦')\n",
    "        else:\n",
    "            res_input.append(choice_input1)\n",
    "            break\n",
    "    while True:\n",
    "        choice_input=input('请输入让你犹豫的店名（注：一家一家输，完成后输入y）：')\n",
    "        if choice_input!='y':\n",
    "            res_input.append(choice_input)\n",
    "        else:\n",
    "            break\n",
    "    selection='n'\n",
    "    while selection!='y':\n",
    "        choice=random.choice(res_input)\n",
    "        selection=input('去吃%s好不好啊？同意的话输入y，不想吃直接回车即可。'%choice)\n",
    "    else:\n",
    "        print('吃%s！就这么愉快地决定啦'%choice)"
   ]
  },
  {
   "cell_type": "code",
   "execution_count": null,
   "metadata": {},
   "outputs": [],
   "source": [
    "#sample\n",
    "import random\n",
    "\n",
    "# 将需要用到的表格和变量放在开头\n",
    "list_food = ['KFC', '蒸菜馆', '楼下快餐店', '桂林米粉', '东北饺子', '金牌猪脚饭', '三及第汤饭']  # 备选菜单，可自定义。\n",
    "list_choice = []\n",
    "\n",
    "# 由于两个原因都包含判断过程，所以，为了让代码更简洁，可将其封装成函数。\n",
    "def choose(list):\n",
    "    while True:\n",
    "        food = random.choice(list)\n",
    "        judgement = input('去吃【%s】好不好啊？同意的话输入y，不想吃直接回车即可。'%(food))\n",
    "        if judgement == 'y':\n",
    "            print('去吃【%s】！就这么愉快地决定啦！'%(food)) \n",
    "            break\n",
    "\n",
    "# 判断环节\n",
    "reason = int(input('你不知道吃什么的原因是：1.完全不知道吃什么；2.在几家店之间徘徊（请输入1或2）：'))\n",
    "if reason == 1:\n",
    "    choose(list_food)\n",
    "elif reason == 2:\n",
    "    add = True\n",
    "    while add:\n",
    "        choice = input('请输入让你犹豫的店名（注：一家一家输，完成后输入y）：')\n",
    "        if choice != 'y':  # 这个判断语句，是为了不将 y 也添加到菜单里。\n",
    "            list_choice.append(choice)\n",
    "        if choice == 'y':\n",
    "            add = False\n",
    "    choose(list_choice)          \n",
    "else:\n",
    "    print('抱歉，目前还不支持第三种情况——不过，你可以加代码哦。')\n"
   ]
  },
  {
   "cell_type": "code",
   "execution_count": 36,
   "metadata": {},
   "outputs": [
    {
     "name": "stdin",
     "output_type": "stream",
     "text": [
      "你不知道吃什么的原因是：1.完全不知道吃什么；2.在几家店之间徘徊（请输入1或2） 3\n",
      "输入格式有误，请重新选择数字1或2 1\n",
      "去吃桂林米粉好不好啊？同意的话输入y，不想吃直接回车即可。 y\n"
     ]
    },
    {
     "name": "stdout",
     "output_type": "stream",
     "text": [
      "吃桂林米粉！就这么愉快地决定啦\n"
     ]
    }
   ],
   "source": [
    "#mycode version2\n",
    "#注意顺序，把要调用的函数先写好，然后再调用\n",
    "import random\n",
    "\n",
    "res_known=['KFC', '蒸菜馆', '楼下快餐店', '桂林米粉', '东北饺子', '金牌猪脚饭', '三及第汤饭']\n",
    "res_input=[]\n",
    "def select_res(rest):#传参\n",
    "    selection='n'\n",
    "    while selection!='y':\n",
    "        choice=random.choice(rest)\n",
    "        selection=input('去吃%s好不好啊？同意的话输入y，不想吃直接回车即可。'%choice)\n",
    "    else:\n",
    "        print('吃%s！就这么愉快地决定啦'%choice)\n",
    "        \n",
    "def input_res():\n",
    "    while True:\n",
    "        choice_input1=input('请输入让你犹豫的店名（注：一家一家输，完成后输入y）：')\n",
    "        if choice_input1=='y':\n",
    "            print('至少要输入一家你徘徊的饭店哦')\n",
    "        else:\n",
    "            res_input.append(choice_input1)\n",
    "            break\n",
    "    while True:\n",
    "        choice_input=input('请输入让你犹豫的店名（注：一家一家输，完成后输入y）：')\n",
    "        if choice_input!='y':\n",
    "            res_input.append(choice_input)\n",
    "        else:\n",
    "            break\n",
    "    select_res(res_input)#调用之前写好的函数，传参\n",
    "\n",
    "answer=int(input('你不知道吃什么的原因是：1.完全不知道吃什么；2.在几家店之间徘徊（请输入1或2）'))\n",
    "while True:\n",
    "    if answer==1:\n",
    "        select_res(res_known)\n",
    "        break\n",
    "    elif answer==2:\n",
    "        input_res()\n",
    "        break\n",
    "    else:\n",
    "        answer=int(input('输入格式有误，请重新选择数字1或2'))"
   ]
  },
  {
   "cell_type": "code",
   "execution_count": 31,
   "metadata": {},
   "outputs": [
    {
     "name": "stdout",
     "output_type": "stream",
     "text": [
      "[1, 2, 3, 4, 5]\n"
     ]
    }
   ],
   "source": [
    "#函数参数类型，可以是列表，传参后调用\n",
    "list1=[1,2,3,4,5]\n",
    "def rr(list2):\n",
    "    print(list2)\n",
    "rr(list1)"
   ]
  },
  {
   "cell_type": "code",
   "execution_count": null,
   "metadata": {},
   "outputs": [],
   "source": [
    "#练习滚动的广告牌\n",
    "#用Python代码模拟单行的滚动广告。\n",
    "#初步形成的技术方案是：print+字符串+循环+time模块（控制滚动速度）。"
   ]
  },
  {
   "cell_type": "code",
   "execution_count": 38,
   "metadata": {},
   "outputs": [
    {
     "name": "stdout",
     "output_type": "stream",
     "text": [
      "0\n",
      "1\n",
      "2\n",
      "3\n",
      "4\n",
      "5\n",
      "6\n",
      "7\n",
      "8\n",
      "9\n"
     ]
    }
   ],
   "source": [
    "#sample\n",
    "#清屏\n",
    "import os, time\n",
    "\n",
    "for i in range(10):\n",
    "    os.system('clear')  # linux/os x系统；windows 系统中，这个命令是 os.system('cls')，效果：清屏。\n",
    "    print(i)\n",
    "    time.sleep(1)"
   ]
  },
  {
   "cell_type": "code",
   "execution_count": 40,
   "metadata": {},
   "outputs": [
    {
     "name": "stdout",
     "output_type": "stream",
     "text": [
      "钻石恒久远，一颗永钻石恒久远，一颗永钻石恒久远，一颗永钻石恒久远，一颗永钻石恒久远，一颗永钻石恒久远，一颗永钻石恒久远，一颗永钻石恒久远，一颗永钻石恒久远，一颗永钻石恒久远，一颗永钻石恒久远，一颗永钻石恒久远，一颗永钻石恒久远，一颗永钻石恒久远，一颗永钻石恒久远，一颗永钻石恒久远，一颗永钻石恒久远，一颗永钻石恒久远，一颗永钻石恒久远，一颗永钻石恒久远，一颗永"
     ]
    }
   ],
   "source": [
    "import os, time\n",
    "plate_str='钻石恒久远，一颗永流传'\n",
    "i=0\n",
    "while i<20:\n",
    "    os.system('clear')\n",
    "    print(plate_str,end=\"\")\n",
    "    print(\"\\b\"*(len(plate_str)*2),end=\"\",flush=True)\n",
    "    time.sleep(1)\n",
    "    i+=1"
   ]
  },
  {
   "cell_type": "code",
   "execution_count": 42,
   "metadata": {},
   "outputs": [
    {
     "name": "stdout",
     "output_type": "stream",
     "text": [
      "风变编程，陪你一起学Python\n",
      "变编程，陪你一起学Python风\n",
      "编程，陪你一起学Python风变\n",
      "程，陪你一起学Python风变编\n",
      "，陪你一起学Python风变编程\n",
      "陪你一起学Python风变编程，\n",
      "你一起学Python风变编程，陪\n",
      "一起学Python风变编程，陪你\n",
      "起学Python风变编程，陪你一\n",
      "学Python风变编程，陪你一起\n",
      "Python风变编程，陪你一起学\n",
      "ython风变编程，陪你一起学P\n",
      "thon风变编程，陪你一起学Py\n",
      "hon风变编程，陪你一起学Pyt\n",
      "on风变编程，陪你一起学Pyth\n"
     ]
    }
   ],
   "source": [
    "import os, time \n",
    "def main():\n",
    "    content = '风变编程，陪你一起学Python' # 广告词可自定义\n",
    "    i=0\n",
    "    while i<15:\n",
    "        os.system('clear')\n",
    "        print(content)\n",
    "        content = content[1:] + content[0]\n",
    "        time.sleep(2)\n",
    "        i+=1\n",
    "if __name__ == '__main__': # 类里面学到的检测方法，在函数中其实也可以用。\n",
    "    main()"
   ]
  },
  {
   "cell_type": "code",
   "execution_count": null,
   "metadata": {},
   "outputs": [],
   "source": [
    "#自动录入信息到excel\n",
    "# 1单元: 2户室面积100南北朝向\n",
    "# 2单元: 2户室面积80南北朝向\n",
    "# 3单元: 4户室①②:面积70南北朝向 ③④ :面积80东西朝向\n",
    "# 4单元: 2户室面积100东西朝向\n",
    "# 拆解成三个版本\n",
    "# 版本1.0:输入固定表头，确定模版数据\n",
    "# 版本2.0:获取模版数据，复用模版数据\n",
    "# 版本3.0:写入csv文件，单元间循环"
   ]
  },
  {
   "cell_type": "code",
   "execution_count": 43,
   "metadata": {},
   "outputs": [],
   "source": [
    "import csv\n",
    "\n",
    "with open('excel_v1.csv','w',newline='') as csv_file:\n",
    "    writer=csv.writer(csv_file,dialect='excel')\n",
    "    header=['小区名称','地址', '建筑时间','楼栋', '单元',  '门牌', '朝向', '面积']\n",
    "#dialect，编码风格，默认为excel的风格，也就是用逗号（,）分隔，\n",
    "#dialect方式也支持自定义，通过调用register_dialect方法来注册\n",
    "    writer.writerow(header)\n",
    "#注意csv模块是writerow，写入一个列表\n",
    "#python本身的读写是writelines"
   ]
  },
  {
   "cell_type": "code",
   "execution_count": 44,
   "metadata": {},
   "outputs": [
    {
     "name": "stdout",
     "output_type": "stream",
     "text": [
      "['小区名称', '地址', '建筑时间', '楼栋', '单元', '门牌', '朝向', '面积']\n"
     ]
    }
   ],
   "source": [
    "#验证表头是否写入正确\n",
    "with open('excel_v1.csv','r',newline='') as csv_file:\n",
    "    reader=csv.reader(csv_file)\n",
    "    for line in reader:\n",
    "        print(line)\n",
    "#Mac电脑，当你直接用excel打开csv文件可能会显示乱码，这是因为Mac电脑打开excel是默认用GBK编码处理中文的，\n",
    "#而Python默认是UTF-8编码，所以导致加载出来是乱码。\n",
    "#解决方案是Mac用户要在open()函数里加上参数'encoding='GBK'（如果选择用Numbers打开就不需要）\n",
    "#with open('excel_v1.csv', 'a', newline='',encoding='GBK') as csvfile:"
   ]
  },
  {
   "cell_type": "code",
   "execution_count": null,
   "metadata": {},
   "outputs": [],
   "source": [
    "#分析\n",
    "#确定好表头之后，要确定以哪些数据为模版数据，也就是哪些数据只需输入一次便可重复利用，写入循环。\n",
    "#模版数据是一个单元下某一层楼的数据，\n",
    "#也就是说我们只要拿到起始楼层的每个户室的数据（朝向和面积），这个单元内其他楼层的户室都可以套用。\n",
    "#户室号一般是由楼层+后两位序号（以下我会简称为尾号）组成的，如201，202，203，204；301，302，303，304\n",
    "#尾号是统一的，变的只是前面的楼层数（每层加一），所以户室号拆成两部分处理会方便我们后续的操作。\n",
    "#需要拿到的是起始楼层每一个户室的朝向和面积，我们可以判断出朝向和面积是并列关系，它是从属于户室的\n"
   ]
  },
  {
   "cell_type": "code",
   "execution_count": 46,
   "metadata": {},
   "outputs": [
    {
     "name": "stdin",
     "output_type": "stream",
     "text": [
      "请输入起始楼层： 2\n",
      "请输入终止楼层： 7\n",
      "请输入起始楼层户室的尾号:（如01，02） 01\n",
      "请输入 201 的朝向(南北朝向输入1，东西朝向输入2)： 1\n",
      "请输入 201 的面积，单位 ㎡ ： 140\n"
     ]
    },
    {
     "name": "stdout",
     "output_type": "stream",
     "text": [
      "{201: [1, 140]}\n"
     ]
    }
   ],
   "source": [
    "#mycode 输入单户信息\n",
    "start_floor = input('请输入起始楼层：')\n",
    "end_floor = input('请输入终止楼层：')\n",
    "last_number = input('请输入起始楼层户室的尾号:（如01，02）')\n",
    "\n",
    "start_floor_rooms={}\n",
    "floor_last_number=[]\n",
    "floor_last_number.append(last_number)\n",
    "room_number = int(start_floor + last_number)\n",
    "direction = int(input('请输入 %d 的朝向(南北朝向输入1，东西朝向输入2)：' %room_number))\n",
    "area = int(input('请输入 %d 的面积，单位 ㎡ ：' % room_number))\n",
    "start_floor_rooms[room_number] = [direction,area]\n",
    "print(start_floor_rooms)"
   ]
  },
  {
   "cell_type": "code",
   "execution_count": null,
   "metadata": {},
   "outputs": [],
   "source": [
    "#sample 输入单户信息\n",
    "start_floor = input('请输入起始楼层：')\n",
    "end_floor = input('请输入终止楼层：')\n",
    "#确定每一单元有几层楼\n",
    "\n",
    "start_floor_rooms = {}\n",
    "#创建字典，存放起始楼层所有户室的信息\n",
    "floor_last_number = []\n",
    "#创建列表，存放户室的尾号如['01','02','03']，后续楼层可复用\n",
    "\n",
    "last_number = input('请输入起始楼层户室的尾号:（如01，02）')\n",
    "\n",
    "floor_last_number.append(last_number)\n",
    "#将元素添加到存放户室尾号的列表里，如floor_last_number = ['01']\n",
    "\n",
    "room_number = int(start_floor + last_number)\n",
    "#户室名为room_number,由楼层start_floor和尾号last_number组成,如'301'\n",
    "\n",
    "direction = int(input('请输入 %d 的朝向(南北朝向输入1，东西朝向输入2)：' % room_number ))\n",
    "#输入中文比输入数字要麻烦许多，我们可以先用1和2代替\n",
    "\n",
    "area = int(input('请输入 %d 的面积，单位 ㎡ ：' % room_number))\n",
    "\n",
    "start_floor_rooms[room_number] = [direction,area]\n",
    "# 户室号为键，朝向和面积组成的列表为值，添加到字典里，如start_floor_rooms = {301:[1,70]}\n",
    "\n",
    "print(start_floor_rooms)"
   ]
  },
  {
   "cell_type": "code",
   "execution_count": 49,
   "metadata": {},
   "outputs": [
    {
     "name": "stdin",
     "output_type": "stream",
     "text": [
      "请输入起始楼层： 2\n",
      "请输入终止楼层： 8\n",
      "2层共有几个住户（请输入整数：1户输入1，2户输入2) 4\n",
      "请输入2层第1户室的尾号:（如01，02） 01\n",
      "请输入 201 的朝向(南北朝向输入1，东西朝向输入2)： 1\n",
      "请输入 201 的面积，单位 ㎡ ： 70\n"
     ]
    },
    {
     "name": "stdout",
     "output_type": "stream",
     "text": [
      "{201: [1, 70]}\n"
     ]
    },
    {
     "name": "stdin",
     "output_type": "stream",
     "text": [
      "请输入2层第2户室的尾号:（如01，02） 02\n",
      "请输入 202 的朝向(南北朝向输入1，东西朝向输入2)： 1\n",
      "请输入 202 的面积，单位 ㎡ ： 80\n"
     ]
    },
    {
     "name": "stdout",
     "output_type": "stream",
     "text": [
      "{201: [1, 70], 202: [1, 80]}\n"
     ]
    },
    {
     "name": "stdin",
     "output_type": "stream",
     "text": [
      "请输入2层第3户室的尾号:（如01，02） 03\n",
      "请输入 203 的朝向(南北朝向输入1，东西朝向输入2)： 1\n",
      "请输入 203 的面积，单位 ㎡ ： 140\n"
     ]
    },
    {
     "name": "stdout",
     "output_type": "stream",
     "text": [
      "{201: [1, 70], 202: [1, 80], 203: [1, 140]}\n"
     ]
    },
    {
     "name": "stdin",
     "output_type": "stream",
     "text": [
      "请输入2层第4户室的尾号:（如01，02） 04\n",
      "请输入 204 的朝向(南北朝向输入1，东西朝向输入2)： 140\n",
      "请输入 204 的面积，单位 ㎡ ： 140\n"
     ]
    },
    {
     "name": "stdout",
     "output_type": "stream",
     "text": [
      "{201: [1, 70], 202: [1, 80], 203: [1, 140], 204: [140, 140]}\n"
     ]
    }
   ],
   "source": [
    "#mycode 输入每层所有住户信息，录入模板\n",
    "#测试单层循环\n",
    "start_floor = input('请输入起始楼层：')\n",
    "end_floor = input('请输入终止楼层：')\n",
    "start_floor_rooms={}\n",
    "floor_last_number=[]\n",
    "f1_room_num=input('%s层共有几个住户（请输入整数：1户输入1，2户输入2)'%start_floor)\n",
    "for j in range(int(f1_room_num)):\n",
    "        last_number = input('请输入%s层第%s户室的尾号:（如01，02）'%(start_floor,j+1))\n",
    "        floor_last_number.append(last_number)\n",
    "        room_number = int(start_floor + last_number)\n",
    "        direction = int(input('请输入 %d 的朝向(南北朝向输入1，东西朝向输入2)：' %room_number))\n",
    "        area = int(input('请输入 %d 的面积，单位 ㎡ ：' % room_number))\n",
    "        start_floor_rooms[room_number] = [direction,area]\n",
    "print(start_floor_rooms)"
   ]
  },
  {
   "cell_type": "code",
   "execution_count": 48,
   "metadata": {},
   "outputs": [
    {
     "name": "stdin",
     "output_type": "stream",
     "text": [
      "请输入起始楼层： 2\n",
      "请输入终止楼层： 7\n",
      "接下来请依次输入起始层每个房间的户室尾号、南北朝向及面积，按任意键继续 \n",
      "请输入起始楼层户室的尾号:（如01，02） 01\n",
      "请输入 201 的朝向(南北朝向输入1，东西朝向输入2)： 1\n",
      "请输入 201 的面积，单位 ㎡ ： 140\n",
      "是否需要输入下一个尾号？按 n 停止输入，按其他任意键继续： 02\n",
      "请输入起始楼层户室的尾号:（如01，02） 02\n",
      "请输入 202 的朝向(南北朝向输入1，东西朝向输入2)： 2\n",
      "请输入 202 的面积，单位 ㎡ ： 70\n",
      "是否需要输入下一个尾号？按 n 停止输入，按其他任意键继续： n\n"
     ]
    },
    {
     "name": "stdout",
     "output_type": "stream",
     "text": [
      "{201: [1, 140], 202: [2, 70]}\n"
     ]
    }
   ],
   "source": [
    "#sample 录入模版信息\n",
    "start_floor = input('请输入起始楼层：')\n",
    "end_floor = input('请输入终止楼层：')\n",
    "\n",
    "input('接下来请依次输入起始层每个房间的户室尾号、南北朝向及面积，按任意键继续')\n",
    "\n",
    "start_floor_rooms = {}\n",
    "floor_last_number = []\n",
    "# 收集起始层的房间信息\n",
    "\n",
    "# 定义循环控制量\n",
    "room_loop = True\n",
    "while room_loop:\n",
    "    last_number = input('请输入起始楼层户室的尾号:（如01，02）')\n",
    "    floor_last_number.append(last_number)\n",
    "    #将尾号用append()添加列表里，如floor_last_number = ['01','02']\n",
    "    room_number = int(start_floor + last_number)\n",
    "    #户室号为room_number,由楼层start_floor和尾号last_number组成,如301\n",
    "\n",
    "    direction = int(input('请输入 %d 的朝向(南北朝向输入1，东西朝向输入2)：' % room_number ))\n",
    "    area = int(input('请输入 %d 的面积，单位 ㎡ ：' % room_number))\n",
    "    start_floor_rooms[room_number] = [direction,area]\n",
    "    # 户室号为键，朝向和面积组成的列表为值，添加到字典里，如start_floor_rooms = {301:[1,70]}\n",
    "\n",
    "    continued= input('是否需要输入下一个尾号？按 n 停止输入，按其他任意键继续：')\n",
    "    #加入打破循环的条件\n",
    "    if continued == 'n':\n",
    "        room_loop = False\n",
    "    else:\n",
    "        room_loop = True\n",
    "print(start_floor_rooms)"
   ]
  },
  {
   "cell_type": "code",
   "execution_count": null,
   "metadata": {},
   "outputs": [],
   "source": [
    "#把数据迁移复制\n",
    "#把一个单元内所有楼层的数据放在一块会更方便我们的处理，也就是说将每一个楼层的字典统一放在一个存放单元级的字典里\n",
    "#格式如下\n",
    "star_floor = 3\n",
    "end_floor = 5\n",
    "#为了举例，假设这个单元只有3-5楼\n",
    "\n",
    "start_floor_rooms = {301:[1,80],302:[1,80],303:[2,90],304:[2,90]}\n",
    "#初始楼层的模版数据\n",
    "\n",
    "unit_rooms={ 3:{301:[1,80],302:[1,80],303:[2,90],304:[2,90]},\n",
    "             4:{401:[1,80],402:[1,80],403:[2,90],404:[2,90]},\n",
    "             5:{501:[1,80],502:[1,80],503:[2,90],504:[2,90]}\n",
    "            }\n",
    "#存放了该单元所有楼层数据的字典，键是楼层数，值是每一楼层所有户室的信息，也是一个字典。\n",
    "#unit_rooms是字典嵌套字典的情况。（为了方便讲解，把最外层的字典称为大字典，里层的字典称为小字典）"
   ]
  },
  {
   "cell_type": "code",
   "execution_count": null,
   "metadata": {},
   "outputs": [],
   "source": [
    "#sample 数据迁移到其他楼层，假设只有3层和4层\n",
    "start_floor = '3'\n",
    "end_floor = '4'\n",
    "floor_last_number = ['01','02','03']\n",
    "# 之前input()输入的数据为str类型\n",
    "\n",
    "start_floor_rooms = {301:[1,80], 302:[1,80], 303:[2,90]}\n",
    "#初始楼层的模版数据\n",
    "\n",
    "unit_rooms = {}\n",
    "#创建一个字典，存储所有楼层的数据\n",
    "unit_rooms[int(start_floor)] = start_floor_rooms\n",
    "#unit_rooms = {3: {301: [1, 80], 302: [1, 80], 303: [2, 90]}}\n",
    "\n",
    "floor_rooms = {}\n",
    "#给4楼创建一个字典\n",
    "for i in range(len(start_floor_rooms)):\n",
    "    #遍历每层有多少个房间，这里是3，即执行for i in range 3 的循环\n",
    "    number = '4' + floor_last_number[i]\n",
    "    #字符串拼接, number = ['401','402','403']\n",
    "    info = start_floor_rooms[int(start_floor + floor_last_number[i])]\n",
    "    # 依次取出字典start_floor_rooms键对应的值，即面积和朝向组成的列表\n",
    "    # int(start_floor + floor_last_number[0])= 301 \n",
    "    # info = [1,80]\n",
    "\n",
    "    floor_rooms[int(number)] = info\n",
    "    #给字典floor_rooms添加键值对，floor_rooms = {401:[1,80]}\n",
    "    #循环三次，所以floor_rooms = {401:[1,80], 402:[1,80], 403:[2,90]}\n",
    "\n",
    "unit_rooms[4] = floor_rooms\n",
    "#以4为键，floor_rooms为值，给字典unit_rooms添加键值对\n",
    "print(unit_rooms)\n",
    "#unit_rooms = {3: {301: [1, 80], 302: [1, 80], 303: [2, 90]}, 4: {401: [1, 80], 402: [1, 80], 403: [2, 90]}}"
   ]
  },
  {
   "cell_type": "code",
   "execution_count": 76,
   "metadata": {},
   "outputs": [
    {
     "name": "stdin",
     "output_type": "stream",
     "text": [
      "请输入起始楼层： 2\n",
      "请输入终止楼层： 5\n",
      "2层共有几个住户（请输入整数：1户输入1，2户输入2) 2\n",
      "请输入2层第1户室的尾号:（如01，02） 01\n",
      "请输入 201 的朝向(南北朝向输入1，东西朝向输入2)： 1\n",
      "请输入 201 的面积，单位 ㎡ ： 140\n",
      "请输入2层第2户室的尾号:（如01，02） 02\n",
      "请输入 202 的朝向(南北朝向输入1，东西朝向输入2)： 2\n",
      "请输入 202 的面积，单位 ㎡ ： 70\n"
     ]
    },
    {
     "name": "stdout",
     "output_type": "stream",
     "text": [
      "{201: [1, 140], 202: [2, 70]}\n",
      "['01', '02']\n",
      "{2: {201: [1, 140], 202: [2, 70]}, 3: {'301': [1, 140], '302': [2, 70], '601': [1, 140], '602': [2, 70]}, 6: {'301': [1, 140], '302': [2, 70], '601': [1, 140], '602': [2, 70]}}\n"
     ]
    }
   ],
   "source": [
    "#mycode\n",
    "start_floor = input('请输入起始楼层：')\n",
    "end_floor = input('请输入终止楼层：')\n",
    "start_floor_rooms={}\n",
    "floor_last_number=[]\n",
    "f1_room_num=input('%s层共有几个住户（请输入整数：1户输入1，2户输入2)'%start_floor)\n",
    "for j in range(int(f1_room_num)):\n",
    "        last_number = input('请输入%s层第%s户室的尾号:（如01，02）'%(start_floor,j+1))\n",
    "        floor_last_number.append(last_number)\n",
    "        room_number = int(start_floor + last_number)\n",
    "        direction = int(input('请输入 %d 的朝向(南北朝向输入1，东西朝向输入2)：' %room_number))\n",
    "        area = int(input('请输入 %d 的面积，单位 ㎡ ：' % room_number))\n",
    "        start_floor_rooms[room_number] = [direction,area]\n",
    "# print(start_floor_rooms)\n",
    "# print(floor_last_number)\n",
    "unit_rooms={}\n",
    "unit_rooms[int(start_floor)]=start_floor_rooms\n",
    "new_start_floor_rooms={}\n",
    "for i in (int(start_floor)+1,int(end_floor)+1):\n",
    "    for k in range(len(start_floor_rooms)):\n",
    "        number=str(i)+floor_last_number[k]\n",
    "        infor=start_floor_rooms[int(start_floor+floor_last_number[k])]\n",
    "        new_start_floor_rooms[number]=infor\n",
    "    unit_rooms[i]=new_start_floor_rooms\n",
    "print(unit_rooms)            "
   ]
  },
  {
   "cell_type": "code",
   "execution_count": 74,
   "metadata": {},
   "outputs": [
    {
     "name": "stdout",
     "output_type": "stream",
     "text": [
      "01\n",
      "3\n",
      "301\n",
      "201\n",
      "<class 'str'>\n",
      "[1, 140]\n"
     ]
    },
    {
     "ename": "KeyError",
     "evalue": "'201'",
     "output_type": "error",
     "traceback": [
      "\u001b[0;31m---------------------------------------------------------------------------\u001b[0m",
      "\u001b[0;31mKeyError\u001b[0m                                  Traceback (most recent call last)",
      "\u001b[0;32m<ipython-input-74-0524c4bbab63>\u001b[0m in \u001b[0;36m<module>\u001b[0;34m\u001b[0m\n\u001b[1;32m     10\u001b[0m         \u001b[0mprint\u001b[0m\u001b[0;34m(\u001b[0m\u001b[0mtype\u001b[0m\u001b[0;34m(\u001b[0m\u001b[0mstart_floor\u001b[0m\u001b[0;34m+\u001b[0m\u001b[0mfloor_last_number\u001b[0m\u001b[0;34m[\u001b[0m\u001b[0mk\u001b[0m\u001b[0;34m]\u001b[0m\u001b[0;34m)\u001b[0m\u001b[0;34m)\u001b[0m\u001b[0;34m\u001b[0m\u001b[0;34m\u001b[0m\u001b[0m\n\u001b[1;32m     11\u001b[0m         \u001b[0mprint\u001b[0m\u001b[0;34m(\u001b[0m\u001b[0mstart_floor_rooms\u001b[0m\u001b[0;34m[\u001b[0m\u001b[0;36m201\u001b[0m\u001b[0;34m]\u001b[0m\u001b[0;34m)\u001b[0m\u001b[0;34m\u001b[0m\u001b[0;34m\u001b[0m\u001b[0m\n\u001b[0;32m---> 12\u001b[0;31m         \u001b[0minfor\u001b[0m\u001b[0;34m=\u001b[0m\u001b[0mstart_floor_rooms\u001b[0m\u001b[0;34m[\u001b[0m\u001b[0mstart_floor\u001b[0m\u001b[0;34m+\u001b[0m\u001b[0mfloor_last_number\u001b[0m\u001b[0;34m[\u001b[0m\u001b[0mk\u001b[0m\u001b[0;34m]\u001b[0m\u001b[0;34m]\u001b[0m\u001b[0;34m\u001b[0m\u001b[0;34m\u001b[0m\u001b[0m\n\u001b[0m\u001b[1;32m     13\u001b[0m \u001b[0;34m\u001b[0m\u001b[0m\n\u001b[1;32m     14\u001b[0m         \u001b[0mnew_start_floor_rooms\u001b[0m\u001b[0;34m[\u001b[0m\u001b[0mnumber\u001b[0m\u001b[0;34m]\u001b[0m\u001b[0;34m=\u001b[0m\u001b[0minfor\u001b[0m\u001b[0;34m\u001b[0m\u001b[0;34m\u001b[0m\u001b[0m\n",
      "\u001b[0;31mKeyError\u001b[0m: '201'"
     ]
    }
   ],
   "source": [
    "#调试用\n",
    "new_start_floor_rooms={}\n",
    "\n",
    "for i in (int(start_floor)+1,int(end_floor)+1):\n",
    "    for k in range(len(start_floor_rooms)):\n",
    "        print(floor_last_number[k])\n",
    "        print(str(i))\n",
    "        number=str(i)+floor_last_number[k]\n",
    "        print(number)\n",
    "        print(start_floor+floor_last_number[k])\n",
    "        print(type(start_floor+floor_last_number[k]))\n",
    "        print(start_floor_rooms[201])\n",
    "        infor=start_floor_rooms[start_floor+floor_last_number[k]]\n",
    "        \n",
    "        new_start_floor_rooms[number]=infor\n",
    "    unit_rooms[i]=new_start_floor_rooms\n",
    "print(unit_rooms) "
   ]
  },
  {
   "cell_type": "code",
   "execution_count": null,
   "metadata": {},
   "outputs": [],
   "source": [
    "#sample加入循环，复制到所有楼层\n",
    "start_floor = '3'\n",
    "end_floor = '7'\n",
    "floor_last_number = ['01','02','03']\n",
    "start_floor_rooms = {301:[1,80],302:[1,80],303:[2,90]}\n",
    "#初始楼层的模版数据\n",
    "unit_rooms = {}\n",
    "#新建一个存放所有楼层的字典\n",
    "unit_rooms[int(start_floor)] = start_floor_rooms\n",
    "\n",
    "for floor in range(int(start_floor) + 1, int(end_floor) + 1):\n",
    "        #遍历除初始楼层外的其他楼层\n",
    "        floor_rooms = {}\n",
    "        #每个楼层都建立一个字典\n",
    "        for i in range(len(start_floor_rooms)):\n",
    "        #遍历每层有多少个房间，这里是3，即执行for i in range 3 的循环\n",
    "            number = str(floor) + floor_last_number[i]\n",
    "            info = start_floor_rooms[int(start_floor + floor_last_number[i])]\n",
    "            # 依次取出字典start_floor_rooms键对应的值，即面积和朝向组成的列表\n",
    "            floor_rooms[int(number)] = info\n",
    "            #给字典floor_rooms添加键值对，floor_rooms = {401:[1,80]}\n",
    "        unit_rooms[floor] = floor_rooms\n",
    "print(unit_rooms)"
   ]
  },
  {
   "cell_type": "code",
   "execution_count": 88,
   "metadata": {},
   "outputs": [
    {
     "name": "stdin",
     "output_type": "stream",
     "text": [
      "请输入小区名称： 锡林郭勒\n",
      "请输入小区地址： 梅利斯\n",
      "请输入小区建造年份： 2001\n",
      "请输入楼栋号： 1\n",
      "请输入单元号： 1\n",
      "请输入起始楼层： 2\n",
      "请输入终止楼层： 7\n",
      "2层共有几个住户（请输入整数：1户输入1，2户输入2) 3\n",
      "请输入2层第1户室的尾号:（如01，02） 01\n",
      "请输入 201 的朝向(南北朝向输入1，南北朝向输入2)： 1\n",
      "请输入 201 的面积，单位 ㎡ ： 70\n",
      "请输入2层第2户室的尾号:（如01，02） 02\n",
      "请输入 202 的朝向(南北朝向输入1，南北朝向输入2)： 2\n",
      "请输入 202 的面积，单位 ㎡ ： 140\n",
      "请输入2层第3户室的尾号:（如01，02） 03\n",
      "请输入 203 的朝向(南北朝向输入1，南北朝向输入2)： 1\n",
      "请输入 203 的面积，单位 ㎡ ： 50\n"
     ]
    },
    {
     "name": "stdout",
     "output_type": "stream",
     "text": [
      "{2: {201: [1, 70], 202: [2, 140], 203: [1, 50]}, 3: {'301': [1, 70], '302': [2, 140], '303': [1, 50], '801': [1, 70], '802': [2, 140], '803': [1, 50]}, 8: {'301': [1, 70], '302': [2, 140], '303': [1, 50], '801': [1, 70], '802': [2, 140], '803': [1, 50]}}\n"
     ]
    }
   ],
   "source": [
    "#mycode 写入文件\n",
    "\n",
    "title=input('请输入小区名称：')\n",
    "address = input('请输入小区地址：')\n",
    "year = input('请输入小区建造年份：')\n",
    "block = input('请输入楼栋号：')\n",
    "unit=input('请输入单元号：')\n",
    "\n",
    "\n",
    "start_floor = input('请输入起始楼层：')\n",
    "end_floor = input('请输入终止楼层：')\n",
    "start_floor_rooms={}\n",
    "floor_last_number=[]\n",
    "f1_room_num=input('%s层共有几个住户（请输入整数：1户输入1，2户输入2)'%start_floor)\n",
    "for j in range(int(f1_room_num)):\n",
    "        last_number = input('请输入%s层第%s户室的尾号:（如01，02）'%(start_floor,j+1))\n",
    "        floor_last_number.append(last_number)\n",
    "        room_number = int(start_floor + last_number)\n",
    "        direction = int(input('请输入 %d 的朝向(南北朝向输入1，南北朝向输入2)：' %room_number))\n",
    "        area = int(input('请输入 %d 的面积，单位 ㎡ ：' % room_number))\n",
    "        start_floor_rooms[room_number] = [direction,area]\n",
    "# print(start_floor_rooms)\n",
    "# print(floor_last_number)\n",
    "unit_rooms={}\n",
    "unit_rooms[int(start_floor)]=start_floor_rooms\n",
    "new_start_floor_rooms={}\n",
    "for i in (int(start_floor)+1,int(end_floor)+1):\n",
    "    for k in range(len(start_floor_rooms)):\n",
    "        number=str(i)+floor_last_number[k]\n",
    "        infor=start_floor_rooms[int(start_floor+floor_last_number[k])]\n",
    "        new_start_floor_rooms[number]=infor\n",
    "    unit_rooms[i]=new_start_floor_rooms\n",
    "print(unit_rooms) \n",
    "\n",
    "#以下写入\n",
    "with open('excel_v1.csv','a',newline='') as csv_file:\n",
    "    writer=csv.writer(csv_file,dialect='excel')\n",
    "    for sub_dict in unit_rooms.values():\n",
    "        for room,inform in sub_dict.items():\n",
    "            dire=['','南北','南北']\n",
    "            writer.writerow([title,address,year,block,unit,room,dire[inform[0]],inform[1]])"
   ]
  },
  {
   "cell_type": "code",
   "execution_count": 89,
   "metadata": {},
   "outputs": [
    {
     "name": "stdout",
     "output_type": "stream",
     "text": [
      "['小区名称', '地址', '建筑时间', '楼栋', '单元', '门牌', '朝向', '面积']\n",
      "['锡林郭勒', '梅利斯', '2001', '1', '1', '201', '南北', '70']\n",
      "['锡林郭勒', '梅利斯', '2001', '1', '1', '202', '南北', '140']\n",
      "['锡林郭勒', '梅利斯', '2001', '1', '1', '203', '南北', '50']\n",
      "['锡林郭勒', '梅利斯', '2001', '1', '1', '301', '南北', '70']\n",
      "['锡林郭勒', '梅利斯', '2001', '1', '1', '302', '南北', '140']\n",
      "['锡林郭勒', '梅利斯', '2001', '1', '1', '303', '南北', '50']\n",
      "['锡林郭勒', '梅利斯', '2001', '1', '1', '801', '南北', '70']\n",
      "['锡林郭勒', '梅利斯', '2001', '1', '1', '802', '南北', '140']\n",
      "['锡林郭勒', '梅利斯', '2001', '1', '1', '803', '南北', '50']\n",
      "['锡林郭勒', '梅利斯', '2001', '1', '1', '301', '南北', '70']\n",
      "['锡林郭勒', '梅利斯', '2001', '1', '1', '302', '南北', '140']\n",
      "['锡林郭勒', '梅利斯', '2001', '1', '1', '303', '南北', '50']\n",
      "['锡林郭勒', '梅利斯', '2001', '1', '1', '801', '南北', '70']\n",
      "['锡林郭勒', '梅利斯', '2001', '1', '1', '802', '南北', '140']\n",
      "['锡林郭勒', '梅利斯', '2001', '1', '1', '803', '南北', '50']\n"
     ]
    }
   ],
   "source": [
    "#验证\n",
    "with open('excel_v1.csv','r',newline='') as csv_file:\n",
    "    reader=csv.reader(csv_file)\n",
    "    for line in reader:\n",
    "        print(line)"
   ]
  },
  {
   "cell_type": "code",
   "execution_count": null,
   "metadata": {},
   "outputs": [],
   "source": [
    "#sample 写入文件\n",
    "title = input('请输入小区名称')\n",
    "address = input('请输入小区地址：')\n",
    "year = input('请输入小区建造年份：')\n",
    "block = input('请输入楼栋号：')\n",
    "unit = input('请输入单元号：')"
   ]
  },
  {
   "cell_type": "code",
   "execution_count": 81,
   "metadata": {},
   "outputs": [
    {
     "name": "stdout",
     "output_type": "stream",
     "text": [
      "{301: [1, 80], 302: [1, 80], 303: [2, 90], 304: [2, 90]}\n",
      "{401: [1, 80], 402: [1, 80], 403: [2, 90], 404: [2, 90]}\n",
      "{501: [1, 80], 502: [1, 80], 503: [2, 90], 504: [2, 90]}\n"
     ]
    }
   ],
   "source": [
    "#sample 写入文件\n",
    "#取出key值\n",
    "#方法1\n",
    "unit_rooms_1={3:{301:[1,80],302:[1,80],303:[2,90],304:[2,90]},4:{401:[1,80],402:[1,80],403:[2,90],404:[2,90]},5:{501:[1,80],502:[1,80],503:[2,90],504:[2,90]}}\n",
    "for m in range(3,6):\n",
    "    sub_dict = unit_rooms_1[m]\n",
    "    print(sub_dict) \n"
   ]
  },
  {
   "cell_type": "code",
   "execution_count": 82,
   "metadata": {},
   "outputs": [
    {
     "name": "stdout",
     "output_type": "stream",
     "text": [
      "{301: [1, 80], 302: [1, 80], 303: [2, 90], 304: [2, 90]}\n",
      "{401: [1, 80], 402: [1, 80], 403: [2, 90], 404: [2, 90]}\n",
      "{501: [1, 80], 502: [1, 80], 503: [2, 90], 504: [2, 90]}\n"
     ]
    }
   ],
   "source": [
    "#sample 写入文件\n",
    "#取出key值\n",
    "#方法2\n",
    "# for value in DictName.values():\n",
    "# value的名字可以自行另取\n",
    "# DictName是要遍历的字典的名称\n",
    "# .values():是固定的用法\n",
    "unit_rooms_2 = {3:{301:[1,80],302:[1,80],303:[2,90],304:[2,90]},\n",
    "             4:{401:[1,80],402:[1,80],403:[2,90],404:[2,90]},\n",
    "             5:{501:[1,80],502:[1,80],503:[2,90],504:[2,90]}\n",
    "            }\n",
    "for sub_dict_1 in unit_rooms_2.values():\n",
    "    print(sub_dict_1)"
   ]
  },
  {
   "cell_type": "code",
   "execution_count": 83,
   "metadata": {},
   "outputs": [
    {
     "name": "stdout",
     "output_type": "stream",
     "text": [
      "芒果台是湖南卫视\n",
      "荔枝台是江苏卫视\n",
      "番茄台是东方卫视\n"
     ]
    }
   ],
   "source": [
    "#sample\n",
    "#遍历小字典sub_dict的键和值，这里老师也介绍一种新的语法。\n",
    "# for k,v in DictName.items():\n",
    "#遍历字典的键值对，k对应键，v对应值\n",
    "#k,v 的名字可以自己取，DictName是字典名\n",
    "tv_dict = {'芒果台':'湖南卫视', '荔枝台':'江苏卫视', '番茄台':'东方卫视'}    \n",
    "for logo,name in tv_dict.items():\n",
    "    print(logo + '是' + name)"
   ]
  },
  {
   "cell_type": "code",
   "execution_count": 84,
   "metadata": {},
   "outputs": [
    {
     "name": "stdout",
     "output_type": "stream",
     "text": [
      "户室号：301 朝向 1 面积：80\n",
      "户室号：302 朝向 1 面积：80\n",
      "户室号：303 朝向 2 面积：90\n",
      "户室号：304 朝向 2 面积：90\n",
      "户室号：401 朝向 1 面积：80\n",
      "户室号：402 朝向 1 面积：80\n",
      "户室号：403 朝向 2 面积：90\n",
      "户室号：404 朝向 2 面积：90\n",
      "户室号：501 朝向 1 面积：80\n",
      "户室号：502 朝向 1 面积：80\n",
      "户室号：503 朝向 2 面积：90\n",
      "户室号：504 朝向 2 面积：90\n"
     ]
    }
   ],
   "source": [
    "#sample\n",
    "unit_rooms_3 = {3:{301:[1,80],302:[1,80],303:[2,90],304:[2,90]},\n",
    "             4:{401:[1,80],402:[1,80],403:[2,90],404:[2,90]},\n",
    "             5:{501:[1,80],502:[1,80],503:[2,90],504:[2,90]}\n",
    "             }\n",
    "for sub_dict_2 in unit_rooms_3.values():\n",
    "    for room_1,info_1 in sub_dict_2.items():\n",
    "    #room对应的是键，即户室号；info对应的是sub_dict的值，是一个列表\n",
    "        print('户室号：%d 朝向 %d 面积：%d' % (room_1,info_1[0],info_1[1]))\n",
    "        #info[0]对应的是朝向，info[1]对应的是面积"
   ]
  },
  {
   "cell_type": "code",
   "execution_count": 86,
   "metadata": {},
   "outputs": [
    {
     "name": "stdout",
     "output_type": "stream",
     "text": [
      "{501: ['南北', 80], 502: ['南北', 80], 503: ['东西', 90], 504: ['东西', 90]}\n"
     ]
    }
   ],
   "source": [
    "#把朝向替换掉\n",
    "for sub_dict_2 in unit_rooms_3.values():\n",
    "    for room_1,info_1 in sub_dict_2.items():\n",
    "        if info_1[0] == 1:\n",
    "            info_1[0] = '南北'\n",
    "        elif info_1[0] == 2:\n",
    "            info_1[0] = '东西'\n",
    "print(sub_dict_2)"
   ]
  },
  {
   "cell_type": "code",
   "execution_count": null,
   "metadata": {},
   "outputs": [],
   "source": [
    "#把朝向替换掉\n",
    "unit_rooms = {3:{301:[1,80],302:[1,80],303:[2,90],304:[2,90]},\n",
    "             4:{401:[1,80],402:[1,80],403:[2,90],404:[2,90]},\n",
    "             5:{501:[1,80],502:[1,80],503:[2,90],504:[2,90]}\n",
    "             }\n",
    "for sub_dict in unit_rooms.values():\n",
    "    for room,info in sub_dict.items():\n",
    "        dire = ['', '南北', '东西']\n",
    "        #建立一个列表，第0个元素为空，第1个元素为'南北'，第2个元素为'东西'\n",
    "        print(dire[info[0]])"
   ]
  },
  {
   "cell_type": "code",
   "execution_count": null,
   "metadata": {},
   "outputs": [],
   "source": [
    "#sample 加上写入\n",
    "import csv\n",
    "#调用csv模块\n",
    "with open('assets.csv', 'a', newline='') as csvfile:\n",
    "#调用open()函数打开csv文件，传入参数：文件名“assets.csv”、追加模式“a”、newline=''。\n",
    "    writer = csv.writer(csvfile, dialect='excel')\n",
    "    # 用csv.writer()函数创建一个writer对象。\n",
    "    header=['小区名称', '地址', '建筑年份', '楼栋', '单元', '户室', '朝向', '面积']\n",
    "    writer.writerow(header)\n",
    "\n",
    "title=input('请输入小区名称：')\n",
    "address = input('请输入小区地址：')\n",
    "year = input('请输入小区建造年份：')\n",
    "block = input('请输入楼栋号：')\n",
    "unit=input('请输入单元号：')\n",
    "\n",
    "start_floor = input('请输入起始楼层：')\n",
    "end_floor = input('请输入终止楼层：')\n",
    "\n",
    "# 开始输入模板数据\n",
    "input('接下来请输入起始层每个房间的门牌号、南北朝向及面积，按任意键继续')\n",
    "\n",
    "start_floor_rooms = {}\n",
    "floor_last_number = []\n",
    "# 收集起始层的房间信息\n",
    "\n",
    "# 定义循环控制量\n",
    "room_loop = True\n",
    "while room_loop:\n",
    "    last_number = input('请输入起始楼层户室的尾号:（如01，02）')\n",
    "    floor_last_number.append(last_number)\n",
    "    #将尾号用append()添加列表里，如floor_last_number = ['01','02']\n",
    "    room_number = int(start_floor + last_number)\n",
    "    #户室号为room_number,由楼层start_floor和尾号last_number组成,如301\n",
    "\n",
    "    direction = int(input('请输入 %d 的朝向(南北朝向输入1，东西朝向输入2)：' % room_number ))\n",
    "    area = int(input('请输入 %d 的面积，单位 ㎡ ：' % room_number))\n",
    "    start_floor_rooms[room_number] = [direction,area]\n",
    "    # 户室号为键，朝向和面积组成的列表为值，添加到字典里，如start_floor_rooms = {301:[1,70]}\n",
    "\n",
    "    continued= input('是否需要输入下一个尾号？按 n 停止输入，按其他任意键继续：')\n",
    "    #加入打破循环的条件\n",
    "    if continued == 'n':\n",
    "        room_loop = False\n",
    "    else:\n",
    "        room_loop = True       \n",
    "\n",
    "unit_rooms = {}\n",
    "#新建一个放单元所有户室数据的字典\n",
    "unit_rooms[start_floor] = start_floor_rooms\n",
    "#unit_rooms={3:{301:[1,80],302:[1,80],303:[2,90],304:[2,90]}}\n",
    "for floor in range(int(start_floor) + 1, int(end_floor) + 1):\n",
    "        #遍历除初始楼层外的其他楼层\n",
    "        floor_rooms = {}\n",
    "        #每个楼层都建立一个字典\n",
    "        for i in range(len(start_floor_rooms)):\n",
    "        #遍历每层有多少个房间，这里是3，即执行for i in range 3 的循环\n",
    "            number = str(floor) + floor_last_number[i]\n",
    "            info = start_floor_rooms[int(start_floor + floor_last_number[i])]\n",
    "            # 依次取出字典start_floor_rooms键对应的值，即面积和朝向组成的列表\n",
    "            floor_rooms[int(number)] = info\n",
    "            #给字典floor_rooms添加键值对，floor_rooms = {401:[1,80]}\n",
    "        unit_rooms[floor] = floor_rooms\n",
    "    \n",
    "with open('assets.csv', 'a', newline='')as csvfile:\n",
    "    writer = csv.writer(csvfile, dialect='excel')\n",
    "    for sub_dict in unit_rooms.values():\n",
    "        for room,info in sub_dict.items():\n",
    "            dire = ['', '南北', '东西']\n",
    "            writer.writerow([title,address,year,block,unit,room,dire[info[0]],info[1]])"
   ]
  },
  {
   "cell_type": "code",
   "execution_count": null,
   "metadata": {},
   "outputs": [],
   "source": [
    "#sample 最终 加上单元\n",
    "import csv\n",
    "#调用csv模块\n",
    "with open('assets.csv', 'a', newline='') as csvfile:\n",
    "#调用open()函数打开csv文件，传入参数：文件名“assets.csv”、追加模式“a”、newline=''。\n",
    "    writer = csv.writer(csvfile, dialect='excel')\n",
    "    # 用csv.writer()函数创建一个writer对象。\n",
    "    header=['小区名称', '地址', '建筑年份', '楼栋', '单元', '户室', '朝向', '面积']\n",
    "    writer.writerow(header)\n",
    "\n",
    "title=input('请输入小区名称：')\n",
    "address = input('请输入小区地址：')\n",
    "year = input('请输入小区建造年份：')\n",
    "block = input('请输入楼栋号：')\n",
    "\n",
    "\n",
    "unit_loop = True\n",
    "while unit_loop:\n",
    "    unit=input('请输入单元号：')\n",
    "    start_floor = input('请输入起始楼层：')\n",
    "    end_floor = input('请输入终止楼层：')\n",
    "\n",
    "    # 开始输入模板数据\n",
    "    input('接下来请输入起始层每个房间的门牌号、南北朝向及面积，按任意键继续')\n",
    "\n",
    "    start_floor_rooms = {}\n",
    "    floor_last_number = []\n",
    "    # 收集起始层的房间信息\n",
    "\n",
    "    # 定义循环控制量\n",
    "    room_loop = True\n",
    "    while room_loop:\n",
    "        last_number = input('请输入起始楼层户室的尾号:（如01，02）')\n",
    "        floor_last_number.append(last_number)\n",
    "        #将尾号用append()添加列表里，如floor_last_number = ['01','02']\n",
    "        room_number = int(start_floor + last_number)\n",
    "        #户室号为room_number,由楼层start_floor和尾号last_number组成,如301\n",
    "\n",
    "        direction = int(input('请输入 %d 的朝向(南北朝向输入1，东西朝向输入2)：' % room_number ))\n",
    "        area = int(input('请输入 %d 的面积，单位 ㎡ ：' % room_number))\n",
    "        start_floor_rooms[room_number] = [direction,area]\n",
    "        # 户室号为键，朝向和面积组成的列表为值，添加到字典里，如start_floor_rooms = {301:[1,70]}\n",
    "\n",
    "        continued= input('是否需要输入下一个尾号？按 n 停止输入，按其他任意键继续：')\n",
    "        #加入打破循环的条件\n",
    "        if continued == 'n':\n",
    "            room_loop = False\n",
    "        else:\n",
    "            room_loop = True       \n",
    "\n",
    "    unit_rooms = {}\n",
    "    #新建一个放单元所有户室数据的字典\n",
    "    unit_rooms[start_floor] = start_floor_rooms\n",
    "    #unit_rooms={3:{301:[1,80],302:[1,80],303:[2,90],304:[2,90]}}\n",
    "    for floor in range(int(start_floor) + 1, int(end_floor) + 1):\n",
    "    #遍历除初始楼层外的其他楼层\n",
    "        floor_rooms = {}\n",
    "        #每个楼层都建立一个字典\n",
    "        for i in range(len(start_floor_rooms)):\n",
    "        #遍历每层有多少个房间，这里是3，即执行for i in range 3 的循环\n",
    "            number = str(floor) + floor_last_number[i]\n",
    "            info = start_floor_rooms[int(start_floor + floor_last_number[i])]\n",
    "            # 依次取出字典start_floor_rooms键对应的值，即面积和朝向组成的列表\n",
    "            floor_rooms[int(number)] = info\n",
    "            #给字典floor_rooms添加键值对，floor_rooms = {401:[1,80]}\n",
    "        unit_rooms[floor] = floor_rooms\n",
    "    \n",
    "    with open('assets.csv', 'a', newline='')as csvfile:\n",
    "    #Mac用户要加多一个参数 encoding = 'GBK'\n",
    "        writer = csv.writer(csvfile, dialect='excel')\n",
    "        for sub_dict in unit_rooms.values():\n",
    "            for room,info in sub_dict.items():\n",
    "                dire = ['', '南北', '东西']\n",
    "                writer.writerow([title,address,year,block,unit,room,dire[info[0]],info[1]])   \n",
    "\n",
    "    unit_continue = input('是否需要输入下一个单元？按 n 停止单元输入，按其他任意键继续：')\n",
    "    if unit_continue == 'n':\n",
    "        unit_loop = False\n",
    "    else:\n",
    "        unit_loop = True\n",
    "\n",
    "print('恭喜你，资产录入工作完成！')     "
   ]
  }
 ],
 "metadata": {
  "kernelspec": {
   "display_name": "Python 3",
   "language": "python",
   "name": "python3"
  },
  "language_info": {
   "codemirror_mode": {
    "name": "ipython",
    "version": 3
   },
   "file_extension": ".py",
   "mimetype": "text/x-python",
   "name": "python",
   "nbconvert_exporter": "python",
   "pygments_lexer": "ipython3",
   "version": "3.7.3"
  }
 },
 "nbformat": 4,
 "nbformat_minor": 2
}
