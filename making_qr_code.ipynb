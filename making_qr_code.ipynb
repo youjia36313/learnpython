{
 "cells": [
  {
   "cell_type": "code",
   "execution_count": null,
   "metadata": {},
   "outputs": [],
   "source": [
    "#make an QR code\n",
    "#制作一个动态二维码\n",
    "#MyQR模块"
   ]
  },
  {
   "cell_type": "code",
   "execution_count": 4,
   "metadata": {},
   "outputs": [
    {
     "name": "stdout",
     "output_type": "stream",
     "text": [
      "Collecting myqr\n",
      "  Downloading https://files.pythonhosted.org/packages/ec/ce/5ff57cde76feaa193978a28097edbb1c649e1f439182649eb9ecc7b86a03/MyQR-2.3.1.zip\n",
      "Requirement already satisfied: imageio>=1.5 in ./anaconda3/lib/python3.7/site-packages (from myqr) (2.5.0)\n",
      "Requirement already satisfied: numpy>=1.11.1 in ./anaconda3/lib/python3.7/site-packages (from myqr) (1.16.2)\n",
      "Requirement already satisfied: Pillow>=3.3.1 in ./anaconda3/lib/python3.7/site-packages (from myqr) (5.4.1)\n",
      "Building wheels for collected packages: myqr\n",
      "  Building wheel for myqr (setup.py) ... \u001b[?25ldone\n",
      "\u001b[?25h  Stored in directory: /Users/youjia/Library/Caches/pip/wheels/f2/34/a5/bcee822e19e5cc5adaac1f11c7c4c266d2ac762e61440b0b62\n",
      "Successfully built myqr\n",
      "Installing collected packages: myqr\n",
      "Successfully installed myqr-2.3.1\n"
     ]
    }
   ],
   "source": [
    "!pip install myqr"
   ]
  },
  {
   "cell_type": "code",
   "execution_count": 11,
   "metadata": {},
   "outputs": [
    {
     "name": "stdout",
     "output_type": "stream",
     "text": [
      "line 16: mode: byte\n"
     ]
    },
    {
     "data": {
      "text/plain": [
       "(2, 'H', '/Users/youjia/test.gif')"
      ]
     },
     "execution_count": 11,
     "metadata": {},
     "output_type": "execute_result"
    }
   ],
   "source": [
    "from MyQR import myqr\n",
    "import os\n",
    "myqr.run(words='Hello world',version=1,level='H',picture='/Users/youjia/Downloads/she.gif',colorized=True,contrast=1.0,brightness=1.0,save_name='test.gif',save_dir=os.getcwd())"
   ]
  },
  {
   "cell_type": "code",
   "execution_count": null,
   "metadata": {},
   "outputs": [],
   "source": [
    "from MyQR import myqr\n",
    "import os\n",
    "myqr.run(\n",
    "    words='Hello world',                  #在命令后输入链接或者句子作为参数，然后在程序的当前目录中产生相应的二维码图片文件，默认命名为” qrcode.png“\n",
    "    version=1,                     #设置容错率为最高默认边长是取决于你输入的信息的长度和使用的纠错等级；而默认纠错等级是最高级的H\n",
    "    level='H',                   #控制纠错水平，范围是L、M、Q、H，从左到右依次升高\n",
    "    picture='/Users/youjia/Downloads/she.gif', #用来将QR二维码图像与一张同目录下的图片相结合，产生一张黑白图片\n",
    "    colorized=True,              #可以使产生的图片由黑白(False)变为彩色(True)的\n",
    "    contrast=1.0,                #用以调节图片的对比度，1.0 表示原始图片，更小的值表示更低对比度，更大反之。默认为1.0。\n",
    "    brightness=1.0,              #用来调节图片的亮度，其余用法和取值与 -con 相同\n",
    "    save_name='test.png',        #控制文件名，格式可以是 .jpg， .png ，.bmp ，.gif ；\n",
    "    save_dir=os.getcwd()         #控制位置。\n",
    ")"
   ]
  },
  {
   "cell_type": "code",
   "execution_count": 13,
   "metadata": {},
   "outputs": [
    {
     "name": "stdout",
     "output_type": "stream",
     "text": [
      "line 16: mode: byte\n"
     ]
    },
    {
     "data": {
      "text/plain": [
       "(5, 'H', '/Users/youjia/Python.gif')"
      ]
     },
     "execution_count": 13,
     "metadata": {},
     "output_type": "execute_result"
    }
   ],
   "source": [
    "from MyQR import myqr\n",
    "\n",
    "myqr.run(\n",
    "    words='http://weixin.qq.com/r/kzlje9TEE4lsrZAY92yB',\n",
    "    # 扫描二维码后，显示的内容，或是跳转的链接\n",
    "    version=5,  # 设置容错率\n",
    "    level='H',  # 控制纠错水平，范围是L、M、Q、H，从左到右依次升高\n",
    "    picture='/Users/youjia/Downloads/she.gif',  # 图片所在目录，可以是动图\n",
    "    colorized=True,  # 黑白(False)还是彩色(True)\n",
    "    contrast=1.0,  # 用以调节图片的对比度，1.0 表示原始图片。默认为1.0。\n",
    "    brightness=1.0,  # 用来调节图片的亮度，用法同上。\n",
    "    save_name='Python.gif',  # 控制输出文件名，格式可以是 .jpg， .png ，.bmp ，.gif\n",
    "    )"
   ]
  },
  {
   "cell_type": "code",
   "execution_count": 5,
   "metadata": {},
   "outputs": [
    {
     "name": "stdout",
     "output_type": "stream",
     "text": [
      "line 16: mode: byte\n"
     ]
    },
    {
     "data": {
      "text/plain": [
       "(5, 'H', '/Users/youjia/xinxin-v1.png')"
      ]
     },
     "execution_count": 5,
     "metadata": {},
     "output_type": "execute_result"
    }
   ],
   "source": [
    "from MyQR import myqr\n",
    "import os\n",
    "myqr.run(words='I am Xinxin',version=5,level='H',picture='/Users/youjia/Downloads/mao2.png',colorized=True,contrast=1.0,brightness=1.0,save_name='xinxin-v1.png',save_dir=os.getcwd())"
   ]
  },
  {
   "cell_type": "code",
   "execution_count": 6,
   "metadata": {},
   "outputs": [
    {
     "name": "stdout",
     "output_type": "stream",
     "text": [
      "Collecting qrcode\n",
      "  Downloading https://files.pythonhosted.org/packages/42/87/4a3a77e59ab7493d64da1f69bf1c2e899a4cf81e51b2baa855e8cc8115be/qrcode-6.1-py2.py3-none-any.whl\n",
      "Requirement already satisfied: six in ./anaconda3/lib/python3.7/site-packages (from qrcode) (1.12.0)\n",
      "Installing collected packages: qrcode\n",
      "Successfully installed qrcode-6.1\n"
     ]
    }
   ],
   "source": [
    "!pip install qrcode"
   ]
  },
  {
   "cell_type": "code",
   "execution_count": 9,
   "metadata": {},
   "outputs": [],
   "source": [
    "import qrcode\n",
    " \n",
    "text = '我是小鑫鑫呀'\n",
    "img =qrcode.make(text)\n",
    "img.get_image().show()\n",
    "img.save('xinxin-v2.png')\n"
   ]
  },
  {
   "cell_type": "code",
   "execution_count": null,
   "metadata": {},
   "outputs": [],
   "source": []
  }
 ],
 "metadata": {
  "kernelspec": {
   "display_name": "Python 3",
   "language": "python",
   "name": "python3"
  },
  "language_info": {
   "codemirror_mode": {
    "name": "ipython",
    "version": 3
   },
   "file_extension": ".py",
   "mimetype": "text/x-python",
   "name": "python",
   "nbconvert_exporter": "python",
   "pygments_lexer": "ipython3",
   "version": "3.7.3"
  }
 },
 "nbformat": 4,
 "nbformat_minor": 2
}
